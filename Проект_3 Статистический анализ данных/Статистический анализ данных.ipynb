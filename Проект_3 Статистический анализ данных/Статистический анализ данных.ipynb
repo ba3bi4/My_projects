{
 "cells": [
  {
   "cell_type": "markdown",
   "id": "6d3d4f86",
   "metadata": {},
   "source": [
    "# Статистический анализ данных"
   ]
  },
  {
   "cell_type": "markdown",
   "id": "3b3399db",
   "metadata": {},
   "source": [
    "**Мы аналитики популярного сервиса аренды самокатов GoFast. Нам передали данные о некоторых пользователях из нескольких городов, а также об их поездках. Нужно проанализировать данные и проверить некоторые гипотезы, которые могут помочь бизнесу вырасти.**"
   ]
  },
  {
   "cell_type": "markdown",
   "id": "9b71774e",
   "metadata": {},
   "source": [
    "**План работы.**\n",
    "1. Изучить общую информацию о каждом датафрейме.\n",
    "2. Проверить наличие пропущенных значений и дубликатов в датафреймах. Обработать их, если такие значения присутствуют.\n",
    "3. Описать и визуализировать общую информацию о пользователях и поездках:\n",
    "  1. частота встречаемости городов;\n",
    "  2. соотношение пользователей с подпиской и без подписки;\n",
    "  3. возраст пользователей;\n",
    "  4. расстояние, которое пользователь преодолел за одну поездку;\n",
    "  5. продолжительность поездок.\n",
    "4. Объединение данных\n",
    "5. Подсчёт выручки\n",
    "6. Проверка гипотез"
   ]
  },
  {
   "cell_type": "code",
   "execution_count": 1,
   "id": "72576667",
   "metadata": {},
   "outputs": [],
   "source": [
    "import pandas as pd\n",
    "import numpy as np\n",
    "from scipy import stats as st\n",
    "from matplotlib import pyplot as plt\n",
    "from math import factorial"
   ]
  },
  {
   "cell_type": "markdown",
   "id": "c42cbe00",
   "metadata": {},
   "source": [
    "#### Шаг 1. Загрузка данных"
   ]
  },
  {
   "cell_type": "code",
   "execution_count": 2,
   "id": "eff9f206",
   "metadata": {},
   "outputs": [],
   "source": [
    "users = pd.read_csv('/datasets/users_go.csv')\n",
    "rides = pd.read_csv('/datasets/rides_go.csv')\n",
    "subscriptions = pd.read_csv('/datasets/subscriptions_go.csv')"
   ]
  },
  {
   "cell_type": "code",
   "execution_count": 3,
   "id": "6b17b2d8",
   "metadata": {},
   "outputs": [
    {
     "name": "stdout",
     "output_type": "stream",
     "text": [
      "<class 'pandas.core.frame.DataFrame'>\n",
      "RangeIndex: 1565 entries, 0 to 1564\n",
      "Data columns (total 5 columns):\n",
      " #   Column             Non-Null Count  Dtype \n",
      "---  ------             --------------  ----- \n",
      " 0   user_id            1565 non-null   int64 \n",
      " 1   name               1565 non-null   object\n",
      " 2   age                1565 non-null   int64 \n",
      " 3   city               1565 non-null   object\n",
      " 4   subscription_type  1565 non-null   object\n",
      "dtypes: int64(2), object(3)\n",
      "memory usage: 61.3+ KB\n"
     ]
    },
    {
     "data": {
      "text/html": [
       "<div>\n",
       "<style scoped>\n",
       "    .dataframe tbody tr th:only-of-type {\n",
       "        vertical-align: middle;\n",
       "    }\n",
       "\n",
       "    .dataframe tbody tr th {\n",
       "        vertical-align: top;\n",
       "    }\n",
       "\n",
       "    .dataframe thead th {\n",
       "        text-align: right;\n",
       "    }\n",
       "</style>\n",
       "<table border=\"1\" class=\"dataframe\">\n",
       "  <thead>\n",
       "    <tr style=\"text-align: right;\">\n",
       "      <th></th>\n",
       "      <th>user_id</th>\n",
       "      <th>name</th>\n",
       "      <th>age</th>\n",
       "      <th>city</th>\n",
       "      <th>subscription_type</th>\n",
       "    </tr>\n",
       "  </thead>\n",
       "  <tbody>\n",
       "    <tr>\n",
       "      <th>0</th>\n",
       "      <td>1</td>\n",
       "      <td>Кира</td>\n",
       "      <td>22</td>\n",
       "      <td>Тюмень</td>\n",
       "      <td>ultra</td>\n",
       "    </tr>\n",
       "    <tr>\n",
       "      <th>1</th>\n",
       "      <td>2</td>\n",
       "      <td>Станислав</td>\n",
       "      <td>31</td>\n",
       "      <td>Омск</td>\n",
       "      <td>ultra</td>\n",
       "    </tr>\n",
       "    <tr>\n",
       "      <th>2</th>\n",
       "      <td>3</td>\n",
       "      <td>Алексей</td>\n",
       "      <td>20</td>\n",
       "      <td>Москва</td>\n",
       "      <td>ultra</td>\n",
       "    </tr>\n",
       "    <tr>\n",
       "      <th>3</th>\n",
       "      <td>4</td>\n",
       "      <td>Константин</td>\n",
       "      <td>26</td>\n",
       "      <td>Ростов-на-Дону</td>\n",
       "      <td>ultra</td>\n",
       "    </tr>\n",
       "    <tr>\n",
       "      <th>4</th>\n",
       "      <td>5</td>\n",
       "      <td>Адель</td>\n",
       "      <td>28</td>\n",
       "      <td>Омск</td>\n",
       "      <td>ultra</td>\n",
       "    </tr>\n",
       "    <tr>\n",
       "      <th>5</th>\n",
       "      <td>6</td>\n",
       "      <td>Регина</td>\n",
       "      <td>25</td>\n",
       "      <td>Краснодар</td>\n",
       "      <td>ultra</td>\n",
       "    </tr>\n",
       "    <tr>\n",
       "      <th>6</th>\n",
       "      <td>7</td>\n",
       "      <td>Игорь</td>\n",
       "      <td>23</td>\n",
       "      <td>Омск</td>\n",
       "      <td>ultra</td>\n",
       "    </tr>\n",
       "    <tr>\n",
       "      <th>7</th>\n",
       "      <td>8</td>\n",
       "      <td>Юрий</td>\n",
       "      <td>23</td>\n",
       "      <td>Краснодар</td>\n",
       "      <td>ultra</td>\n",
       "    </tr>\n",
       "    <tr>\n",
       "      <th>8</th>\n",
       "      <td>9</td>\n",
       "      <td>Ян</td>\n",
       "      <td>21</td>\n",
       "      <td>Пятигорск</td>\n",
       "      <td>ultra</td>\n",
       "    </tr>\n",
       "    <tr>\n",
       "      <th>9</th>\n",
       "      <td>10</td>\n",
       "      <td>Валерий</td>\n",
       "      <td>18</td>\n",
       "      <td>Екатеринбург</td>\n",
       "      <td>ultra</td>\n",
       "    </tr>\n",
       "    <tr>\n",
       "      <th>10</th>\n",
       "      <td>11</td>\n",
       "      <td>Агата</td>\n",
       "      <td>31</td>\n",
       "      <td>Краснодар</td>\n",
       "      <td>ultra</td>\n",
       "    </tr>\n",
       "    <tr>\n",
       "      <th>11</th>\n",
       "      <td>12</td>\n",
       "      <td>Марк</td>\n",
       "      <td>27</td>\n",
       "      <td>Тюмень</td>\n",
       "      <td>ultra</td>\n",
       "    </tr>\n",
       "    <tr>\n",
       "      <th>12</th>\n",
       "      <td>13</td>\n",
       "      <td>Ева</td>\n",
       "      <td>24</td>\n",
       "      <td>Краснодар</td>\n",
       "      <td>ultra</td>\n",
       "    </tr>\n",
       "    <tr>\n",
       "      <th>13</th>\n",
       "      <td>14</td>\n",
       "      <td>Антонина</td>\n",
       "      <td>18</td>\n",
       "      <td>Пятигорск</td>\n",
       "      <td>ultra</td>\n",
       "    </tr>\n",
       "    <tr>\n",
       "      <th>14</th>\n",
       "      <td>15</td>\n",
       "      <td>Валерия</td>\n",
       "      <td>24</td>\n",
       "      <td>Тюмень</td>\n",
       "      <td>ultra</td>\n",
       "    </tr>\n",
       "    <tr>\n",
       "      <th>15</th>\n",
       "      <td>16</td>\n",
       "      <td>Амалия</td>\n",
       "      <td>27</td>\n",
       "      <td>Краснодар</td>\n",
       "      <td>ultra</td>\n",
       "    </tr>\n",
       "    <tr>\n",
       "      <th>16</th>\n",
       "      <td>17</td>\n",
       "      <td>Даниил</td>\n",
       "      <td>29</td>\n",
       "      <td>Москва</td>\n",
       "      <td>ultra</td>\n",
       "    </tr>\n",
       "    <tr>\n",
       "      <th>17</th>\n",
       "      <td>18</td>\n",
       "      <td>Аделина</td>\n",
       "      <td>24</td>\n",
       "      <td>Сочи</td>\n",
       "      <td>ultra</td>\n",
       "    </tr>\n",
       "    <tr>\n",
       "      <th>18</th>\n",
       "      <td>19</td>\n",
       "      <td>Регина</td>\n",
       "      <td>32</td>\n",
       "      <td>Тюмень</td>\n",
       "      <td>ultra</td>\n",
       "    </tr>\n",
       "    <tr>\n",
       "      <th>19</th>\n",
       "      <td>20</td>\n",
       "      <td>Игорь</td>\n",
       "      <td>23</td>\n",
       "      <td>Омск</td>\n",
       "      <td>ultra</td>\n",
       "    </tr>\n",
       "  </tbody>\n",
       "</table>\n",
       "</div>"
      ],
      "text/plain": [
       "    user_id        name  age            city subscription_type\n",
       "0         1        Кира   22          Тюмень             ultra\n",
       "1         2   Станислав   31            Омск             ultra\n",
       "2         3     Алексей   20          Москва             ultra\n",
       "3         4  Константин   26  Ростов-на-Дону             ultra\n",
       "4         5       Адель   28            Омск             ultra\n",
       "5         6      Регина   25       Краснодар             ultra\n",
       "6         7       Игорь   23            Омск             ultra\n",
       "7         8        Юрий   23       Краснодар             ultra\n",
       "8         9          Ян   21       Пятигорск             ultra\n",
       "9        10     Валерий   18    Екатеринбург             ultra\n",
       "10       11       Агата   31       Краснодар             ultra\n",
       "11       12        Марк   27          Тюмень             ultra\n",
       "12       13         Ева   24       Краснодар             ultra\n",
       "13       14    Антонина   18       Пятигорск             ultra\n",
       "14       15     Валерия   24          Тюмень             ultra\n",
       "15       16      Амалия   27       Краснодар             ultra\n",
       "16       17      Даниил   29          Москва             ultra\n",
       "17       18     Аделина   24            Сочи             ultra\n",
       "18       19      Регина   32          Тюмень             ultra\n",
       "19       20       Игорь   23            Омск             ultra"
      ]
     },
     "execution_count": 3,
     "metadata": {},
     "output_type": "execute_result"
    }
   ],
   "source": [
    "users.info()\n",
    "users.head(20)"
   ]
  },
  {
   "cell_type": "markdown",
   "id": "4845d037",
   "metadata": {},
   "source": [
    "**Пропусков нет, поля заполнены, типы в порядке, идем дальше.**"
   ]
  },
  {
   "cell_type": "code",
   "execution_count": 4,
   "id": "89d034c4",
   "metadata": {},
   "outputs": [
    {
     "name": "stdout",
     "output_type": "stream",
     "text": [
      "   user_id     distance   duration        date\n",
      "0        1  4409.919140  25.599769  2021-01-01\n",
      "1        1  2617.592153  15.816871  2021-01-18\n",
      "2        1   754.159807   6.232113  2021-04-20\n",
      "3        1  2694.783254  18.511000  2021-08-11\n",
      "4        1  4028.687306  26.265803  2021-08-28\n",
      "5        1  2770.890808  16.650138  2021-10-09\n",
      "6        1  3039.020292  14.927879  2021-10-19\n",
      "7        1  2842.118050  23.117468  2021-11-06\n",
      "8        1  3412.690668  15.238072  2021-11-14\n",
      "9        1   748.690645  15.041884  2021-11-22\n",
      "<class 'pandas.core.frame.DataFrame'>\n",
      "RangeIndex: 18068 entries, 0 to 18067\n",
      "Data columns (total 4 columns):\n",
      " #   Column    Non-Null Count  Dtype  \n",
      "---  ------    --------------  -----  \n",
      " 0   user_id   18068 non-null  int64  \n",
      " 1   distance  18068 non-null  float64\n",
      " 2   duration  18068 non-null  float64\n",
      " 3   date      18068 non-null  object \n",
      "dtypes: float64(2), int64(1), object(1)\n",
      "memory usage: 564.8+ KB\n"
     ]
    }
   ],
   "source": [
    "print(rides.head(10))\n",
    "rides.info()"
   ]
  },
  {
   "cell_type": "markdown",
   "id": "5f4ac56b",
   "metadata": {},
   "source": [
    "**Пропусков тоже нет. Поле `date` имеет тип object, поменяем на тип datetime на шаге предобработки данных.**"
   ]
  },
  {
   "cell_type": "code",
   "execution_count": 5,
   "id": "976118f5",
   "metadata": {},
   "outputs": [
    {
     "name": "stdout",
     "output_type": "stream",
     "text": [
      "  subscription_type  minute_price  start_ride_price  subscription_fee\n",
      "0              free             8                50                 0\n",
      "1             ultra             6                 0               199\n"
     ]
    }
   ],
   "source": [
    "print(subscriptions)"
   ]
  },
  {
   "cell_type": "markdown",
   "id": "d63d2ab6",
   "metadata": {},
   "source": [
    "**Тут все хорошо.**"
   ]
  },
  {
   "cell_type": "markdown",
   "id": "e95ebca7",
   "metadata": {},
   "source": [
    "#### Шаг 2. Предобработка данных"
   ]
  },
  {
   "cell_type": "markdown",
   "id": "d7d090f5",
   "metadata": {},
   "source": [
    "**Поменяем типы данных в столбце `date`, проверим датасеты на наличие дубликатов.**"
   ]
  },
  {
   "cell_type": "code",
   "execution_count": 6,
   "id": "af6d202c",
   "metadata": {},
   "outputs": [
    {
     "data": {
      "text/html": [
       "<div>\n",
       "<style scoped>\n",
       "    .dataframe tbody tr th:only-of-type {\n",
       "        vertical-align: middle;\n",
       "    }\n",
       "\n",
       "    .dataframe tbody tr th {\n",
       "        vertical-align: top;\n",
       "    }\n",
       "\n",
       "    .dataframe thead th {\n",
       "        text-align: right;\n",
       "    }\n",
       "</style>\n",
       "<table border=\"1\" class=\"dataframe\">\n",
       "  <thead>\n",
       "    <tr style=\"text-align: right;\">\n",
       "      <th></th>\n",
       "      <th>user_id</th>\n",
       "      <th>distance</th>\n",
       "      <th>duration</th>\n",
       "      <th>date</th>\n",
       "      <th>month</th>\n",
       "    </tr>\n",
       "  </thead>\n",
       "  <tbody>\n",
       "    <tr>\n",
       "      <th>0</th>\n",
       "      <td>1</td>\n",
       "      <td>4409.919140</td>\n",
       "      <td>25.599769</td>\n",
       "      <td>2021-01-01</td>\n",
       "      <td>1</td>\n",
       "    </tr>\n",
       "    <tr>\n",
       "      <th>1</th>\n",
       "      <td>1</td>\n",
       "      <td>2617.592153</td>\n",
       "      <td>15.816871</td>\n",
       "      <td>2021-01-18</td>\n",
       "      <td>1</td>\n",
       "    </tr>\n",
       "    <tr>\n",
       "      <th>2</th>\n",
       "      <td>1</td>\n",
       "      <td>754.159807</td>\n",
       "      <td>6.232113</td>\n",
       "      <td>2021-04-20</td>\n",
       "      <td>4</td>\n",
       "    </tr>\n",
       "    <tr>\n",
       "      <th>3</th>\n",
       "      <td>1</td>\n",
       "      <td>2694.783254</td>\n",
       "      <td>18.511000</td>\n",
       "      <td>2021-08-11</td>\n",
       "      <td>8</td>\n",
       "    </tr>\n",
       "    <tr>\n",
       "      <th>4</th>\n",
       "      <td>1</td>\n",
       "      <td>4028.687306</td>\n",
       "      <td>26.265803</td>\n",
       "      <td>2021-08-28</td>\n",
       "      <td>8</td>\n",
       "    </tr>\n",
       "  </tbody>\n",
       "</table>\n",
       "</div>"
      ],
      "text/plain": [
       "   user_id     distance   duration       date  month\n",
       "0        1  4409.919140  25.599769 2021-01-01      1\n",
       "1        1  2617.592153  15.816871 2021-01-18      1\n",
       "2        1   754.159807   6.232113 2021-04-20      4\n",
       "3        1  2694.783254  18.511000 2021-08-11      8\n",
       "4        1  4028.687306  26.265803 2021-08-28      8"
      ]
     },
     "execution_count": 6,
     "metadata": {},
     "output_type": "execute_result"
    }
   ],
   "source": [
    "rides['date'] = pd.to_datetime(rides['date'], format='%Y-%m-%d')\n",
    "rides['month'] = rides['date'].dt.month\n",
    "rides.head()"
   ]
  },
  {
   "cell_type": "markdown",
   "id": "4331e32c",
   "metadata": {},
   "source": [
    "**Считаем дубликаты.**"
   ]
  },
  {
   "cell_type": "code",
   "execution_count": 7,
   "id": "97dbd714",
   "metadata": {},
   "outputs": [
    {
     "name": "stdout",
     "output_type": "stream",
     "text": [
      "0\n",
      "31\n"
     ]
    }
   ],
   "source": [
    "print(rides.duplicated().sum())\n",
    "print(users.duplicated().sum())"
   ]
  },
  {
   "cell_type": "code",
   "execution_count": 8,
   "id": "81db6d16",
   "metadata": {},
   "outputs": [
    {
     "name": "stdout",
     "output_type": "stream",
     "text": [
      "      user_id    name  age          city subscription_type\n",
      "15         16  Амалия   27     Краснодар             ultra\n",
      "439       440  Амалия   20        Тюмень             ultra\n",
      "787       788  Амалия   34     Пятигорск              free\n",
      "976       977  Амалия   22        Москва              free\n",
      "1248     1249  Амалия   28        Тюмень              free\n",
      "1262     1263  Амалия   27  Екатеринбург              free\n",
      "1324     1325  Амалия   36          Сочи              free\n",
      "1535       16  Амалия   27     Краснодар             ultra\n"
     ]
    }
   ],
   "source": [
    "df_duplicated = users[users.duplicated()].sort_values(by='user_id', ascending=True)\n",
    "print(users[users['name'] == 'Амалия'])"
   ]
  },
  {
   "cell_type": "code",
   "execution_count": 9,
   "id": "52ca1bb5",
   "metadata": {},
   "outputs": [
    {
     "data": {
      "text/plain": [
       "0"
      ]
     },
     "execution_count": 9,
     "metadata": {},
     "output_type": "execute_result"
    }
   ],
   "source": [
    "users = users.drop_duplicates().reset_index(drop=True)\n",
    "users.duplicated().sum()"
   ]
  },
  {
   "cell_type": "markdown",
   "id": "05abc6fe",
   "metadata": {},
   "source": [
    "**Типы поменял, дубликаты выявил и почистил, двигаемся дальше.**"
   ]
  },
  {
   "cell_type": "markdown",
   "id": "212593c7",
   "metadata": {},
   "source": [
    "#### Шаг 3. Исследовательский анализ данных"
   ]
  },
  {
   "cell_type": "code",
   "execution_count": 10,
   "id": "e3a4274c",
   "metadata": {},
   "outputs": [
    {
     "data": {
      "text/plain": [
       "Пятигорск         219\n",
       "Екатеринбург      204\n",
       "Ростов-на-Дону    198\n",
       "Краснодар         193\n",
       "Сочи              189\n",
       "Омск              183\n",
       "Тюмень            180\n",
       "Москва            168\n",
       "Name: city, dtype: int64"
      ]
     },
     "execution_count": 10,
     "metadata": {},
     "output_type": "execute_result"
    },
    {
     "data": {
      "image/png": "[encoded data removed]",
      "text/plain": [
       "<Figure size 864x432 with 1 Axes>"
      ]
     },
     "metadata": {
      "needs_background": "light"
     },
     "output_type": "display_data"
    }
   ],
   "source": [
    "users['city'].hist(bins=16, figsize=(12, 6))\n",
    "plt.xlabel('Населенный пункт')\n",
    "plt.ylabel('Количество клиентов')\n",
    "plt.title('Распределение клиентов по населенным пунктам.')\n",
    "users['city'].value_counts()"
   ]
  },
  {
   "cell_type": "markdown",
   "id": "465ad7f4",
   "metadata": {},
   "source": [
    "**В предложенной выборке прокат самокатов представлен в 8 городах и эти города распределены примерно одинаково. от 168 в Москве, до 219 в Пятигорске.**"
   ]
  },
  {
   "cell_type": "code",
   "execution_count": 11,
   "id": "2302de3c",
   "metadata": {},
   "outputs": [
    {
     "data": {
      "text/plain": [
       "<AxesSubplot:ylabel='subscription_type'>"
      ]
     },
     "execution_count": 11,
     "metadata": {},
     "output_type": "execute_result"
    },
    {
     "data": {
      "image/png": "[encoded data removed]",
      "text/plain": [
       "<Figure size 360x360 with 1 Axes>"
      ]
     },
     "metadata": {},
     "output_type": "display_data"
    }
   ],
   "source": [
    "users['subscription_type'].value_counts().plot(kind='pie', figsize=(5, 5), autopct = '%1.1f%%', explode = (0.1, 0), shadow=True)"
   ]
  },
  {
   "cell_type": "markdown",
   "id": "77c11f14",
   "metadata": {},
   "source": [
    "**Соотношение пользователей с подпиской и без примерно 45% на 55% соответственно.**"
   ]
  },
  {
   "cell_type": "code",
   "execution_count": 12,
   "id": "ca0e81ae",
   "metadata": {},
   "outputs": [
    {
     "name": "stdout",
     "output_type": "stream",
     "text": [
      "Среднее значение: 24.9 , Медиана: 25.0\n"
     ]
    },
    {
     "data": {
      "image/png": "[encoded data removed]",
      "text/plain": [
       "<Figure size 1440x720 with 1 Axes>"
      ]
     },
     "metadata": {
      "needs_background": "light"
     },
     "output_type": "display_data"
    }
   ],
   "source": [
    "users['age'].hist(bins=50, figsize=(20, 10), grid=True)\n",
    "plt.xlabel('Возраст клиента')\n",
    "plt.ylabel('Количество клиентов')\n",
    "plt.title('График распределения возраста пользователей.')\n",
    "print('Среднее значение:', round(users['age'].mean(), 1), ',', 'Медиана:', users['age'].median())"
   ]
  },
  {
   "cell_type": "code",
   "execution_count": 13,
   "id": "49220852",
   "metadata": {},
   "outputs": [
    {
     "name": "stdout",
     "output_type": "stream",
     "text": [
      "Среднее значение: 3070.7 , Медиана: 3133.6\n"
     ]
    },
    {
     "data": {
      "image/png": "[encoded data removed]",
      "text/plain": [
       "<Figure size 1440x720 with 1 Axes>"
      ]
     },
     "metadata": {
      "needs_background": "light"
     },
     "output_type": "display_data"
    }
   ],
   "source": [
    "rides['distance'].hist(bins=50, figsize=(20, 10), grid=True)\n",
    "plt.xlabel('Преодоленный путь за одну поездку, м.')\n",
    "plt.ylabel('Количество поездок.')\n",
    "plt.title('Расстояние, преодоленное за одну поездку.')\n",
    "print('Среднее значение:', round(rides['distance'].mean(), 1), ',', 'Медиана:', round(rides['distance'].median(), 1))"
   ]
  },
  {
   "cell_type": "markdown",
   "id": "5e2746dc",
   "metadata": {},
   "source": [
    "**В среднем за поездку пользователь проезжает около 3 км. Встречаются поездки протяженностью более 6 км, а есть около 100 поездок, протяженностью близкой к нулю. Надеюсь, это не связано с разрядкой батареи или неисправностью самоката. Я бы расстроился =)**"
   ]
  },
  {
   "cell_type": "code",
   "execution_count": 14,
   "id": "e4806e2c",
   "metadata": {},
   "outputs": [
    {
     "name": "stdout",
     "output_type": "stream",
     "text": [
      "Среднее значение: 17.8 , Медиана: 17.7\n"
     ]
    },
    {
     "data": {
      "image/png": "[encoded data removed]",
      "text/plain": [
       "<Figure size 1440x720 with 1 Axes>"
      ]
     },
     "metadata": {
      "needs_background": "light"
     },
     "output_type": "display_data"
    }
   ],
   "source": [
    "rides['duration'].hist(bins=50, figsize=(20, 10), grid=True)\n",
    "plt.xlabel('Время поездки, мин.')\n",
    "plt.ylabel('Количество поездок.')\n",
    "plt.title('График распределения времени одной поездки.')\n",
    "print('Среднее значение:', round(rides['duration'].mean(), 1), ',', 'Медиана:', round(rides['duration'].median(), 1))"
   ]
  },
  {
   "cell_type": "code",
   "execution_count": 15,
   "id": "46facda7",
   "metadata": {},
   "outputs": [
    {
     "data": {
      "text/html": [
       "<div>\n",
       "<style scoped>\n",
       "    .dataframe tbody tr th:only-of-type {\n",
       "        vertical-align: middle;\n",
       "    }\n",
       "\n",
       "    .dataframe tbody tr th {\n",
       "        vertical-align: top;\n",
       "    }\n",
       "\n",
       "    .dataframe thead th {\n",
       "        text-align: right;\n",
       "    }\n",
       "</style>\n",
       "<table border=\"1\" class=\"dataframe\">\n",
       "  <thead>\n",
       "    <tr style=\"text-align: right;\">\n",
       "      <th></th>\n",
       "      <th>user_id</th>\n",
       "      <th>distance</th>\n",
       "      <th>duration</th>\n",
       "      <th>date</th>\n",
       "      <th>month</th>\n",
       "    </tr>\n",
       "  </thead>\n",
       "  <tbody>\n",
       "    <tr>\n",
       "      <th>6531</th>\n",
       "      <td>701</td>\n",
       "      <td>4196.445201</td>\n",
       "      <td>0.5</td>\n",
       "      <td>2021-08-31</td>\n",
       "      <td>8</td>\n",
       "    </tr>\n",
       "    <tr>\n",
       "      <th>6570</th>\n",
       "      <td>704</td>\n",
       "      <td>4830.824371</td>\n",
       "      <td>0.5</td>\n",
       "      <td>2021-10-14</td>\n",
       "      <td>10</td>\n",
       "    </tr>\n",
       "    <tr>\n",
       "      <th>6680</th>\n",
       "      <td>712</td>\n",
       "      <td>4684.004397</td>\n",
       "      <td>0.5</td>\n",
       "      <td>2021-03-04</td>\n",
       "      <td>3</td>\n",
       "    </tr>\n",
       "    <tr>\n",
       "      <th>6695</th>\n",
       "      <td>713</td>\n",
       "      <td>5215.642710</td>\n",
       "      <td>0.5</td>\n",
       "      <td>2021-02-25</td>\n",
       "      <td>2</td>\n",
       "    </tr>\n",
       "    <tr>\n",
       "      <th>6768</th>\n",
       "      <td>718</td>\n",
       "      <td>5197.436649</td>\n",
       "      <td>0.5</td>\n",
       "      <td>2021-02-11</td>\n",
       "      <td>2</td>\n",
       "    </tr>\n",
       "    <tr>\n",
       "      <th>...</th>\n",
       "      <td>...</td>\n",
       "      <td>...</td>\n",
       "      <td>...</td>\n",
       "      <td>...</td>\n",
       "      <td>...</td>\n",
       "    </tr>\n",
       "    <tr>\n",
       "      <th>17004</th>\n",
       "      <td>1460</td>\n",
       "      <td>5531.335845</td>\n",
       "      <td>0.5</td>\n",
       "      <td>2021-01-19</td>\n",
       "      <td>1</td>\n",
       "    </tr>\n",
       "    <tr>\n",
       "      <th>17242</th>\n",
       "      <td>1477</td>\n",
       "      <td>6724.932981</td>\n",
       "      <td>0.5</td>\n",
       "      <td>2021-01-12</td>\n",
       "      <td>1</td>\n",
       "    </tr>\n",
       "    <tr>\n",
       "      <th>17314</th>\n",
       "      <td>1483</td>\n",
       "      <td>4445.481070</td>\n",
       "      <td>0.5</td>\n",
       "      <td>2021-03-06</td>\n",
       "      <td>3</td>\n",
       "    </tr>\n",
       "    <tr>\n",
       "      <th>17505</th>\n",
       "      <td>1496</td>\n",
       "      <td>5722.551787</td>\n",
       "      <td>0.5</td>\n",
       "      <td>2021-02-14</td>\n",
       "      <td>2</td>\n",
       "    </tr>\n",
       "    <tr>\n",
       "      <th>17909</th>\n",
       "      <td>1524</td>\n",
       "      <td>4103.998874</td>\n",
       "      <td>0.5</td>\n",
       "      <td>2021-06-18</td>\n",
       "      <td>6</td>\n",
       "    </tr>\n",
       "  </tbody>\n",
       "</table>\n",
       "<p>95 rows × 5 columns</p>\n",
       "</div>"
      ],
      "text/plain": [
       "       user_id     distance  duration       date  month\n",
       "6531       701  4196.445201       0.5 2021-08-31      8\n",
       "6570       704  4830.824371       0.5 2021-10-14     10\n",
       "6680       712  4684.004397       0.5 2021-03-04      3\n",
       "6695       713  5215.642710       0.5 2021-02-25      2\n",
       "6768       718  5197.436649       0.5 2021-02-11      2\n",
       "...        ...          ...       ...        ...    ...\n",
       "17004     1460  5531.335845       0.5 2021-01-19      1\n",
       "17242     1477  6724.932981       0.5 2021-01-12      1\n",
       "17314     1483  4445.481070       0.5 2021-03-06      3\n",
       "17505     1496  5722.551787       0.5 2021-02-14      2\n",
       "17909     1524  4103.998874       0.5 2021-06-18      6\n",
       "\n",
       "[95 rows x 5 columns]"
      ]
     },
     "execution_count": 15,
     "metadata": {},
     "output_type": "execute_result"
    }
   ],
   "source": [
    "rides[rides['duration'] < 1]"
   ]
  },
  {
   "cell_type": "markdown",
   "id": "41e18711",
   "metadata": {},
   "source": [
    "**В среднем поездки продолжаются около 17 минут. Есть более продолжительные, для более дальних поездок и наоборот. Все логично. Выявлено 95 аномальных поездок: 6 км за 30 сек. Скажите, где купить такой самокат?**"
   ]
  },
  {
   "cell_type": "markdown",
   "id": "4ef51331",
   "metadata": {},
   "source": [
    "#### Шаг 4. Объединение данных"
   ]
  },
  {
   "cell_type": "code",
   "execution_count": 16,
   "id": "6bf288b5",
   "metadata": {},
   "outputs": [
    {
     "data": {
      "text/html": [
       "<div>\n",
       "<style scoped>\n",
       "    .dataframe tbody tr th:only-of-type {\n",
       "        vertical-align: middle;\n",
       "    }\n",
       "\n",
       "    .dataframe tbody tr th {\n",
       "        vertical-align: top;\n",
       "    }\n",
       "\n",
       "    .dataframe thead th {\n",
       "        text-align: right;\n",
       "    }\n",
       "</style>\n",
       "<table border=\"1\" class=\"dataframe\">\n",
       "  <thead>\n",
       "    <tr style=\"text-align: right;\">\n",
       "      <th></th>\n",
       "      <th>user_id</th>\n",
       "      <th>name</th>\n",
       "      <th>age</th>\n",
       "      <th>city</th>\n",
       "      <th>subscription_type</th>\n",
       "      <th>distance</th>\n",
       "      <th>duration</th>\n",
       "      <th>date</th>\n",
       "      <th>month</th>\n",
       "      <th>minute_price</th>\n",
       "      <th>start_ride_price</th>\n",
       "      <th>subscription_fee</th>\n",
       "    </tr>\n",
       "  </thead>\n",
       "  <tbody>\n",
       "    <tr>\n",
       "      <th>0</th>\n",
       "      <td>1</td>\n",
       "      <td>Кира</td>\n",
       "      <td>22</td>\n",
       "      <td>Тюмень</td>\n",
       "      <td>ultra</td>\n",
       "      <td>4409.919140</td>\n",
       "      <td>26</td>\n",
       "      <td>2021-01-01</td>\n",
       "      <td>1</td>\n",
       "      <td>6</td>\n",
       "      <td>0</td>\n",
       "      <td>199</td>\n",
       "    </tr>\n",
       "    <tr>\n",
       "      <th>1</th>\n",
       "      <td>1</td>\n",
       "      <td>Кира</td>\n",
       "      <td>22</td>\n",
       "      <td>Тюмень</td>\n",
       "      <td>ultra</td>\n",
       "      <td>2617.592153</td>\n",
       "      <td>16</td>\n",
       "      <td>2021-01-18</td>\n",
       "      <td>1</td>\n",
       "      <td>6</td>\n",
       "      <td>0</td>\n",
       "      <td>199</td>\n",
       "    </tr>\n",
       "    <tr>\n",
       "      <th>2</th>\n",
       "      <td>1</td>\n",
       "      <td>Кира</td>\n",
       "      <td>22</td>\n",
       "      <td>Тюмень</td>\n",
       "      <td>ultra</td>\n",
       "      <td>754.159807</td>\n",
       "      <td>7</td>\n",
       "      <td>2021-04-20</td>\n",
       "      <td>4</td>\n",
       "      <td>6</td>\n",
       "      <td>0</td>\n",
       "      <td>199</td>\n",
       "    </tr>\n",
       "    <tr>\n",
       "      <th>3</th>\n",
       "      <td>1</td>\n",
       "      <td>Кира</td>\n",
       "      <td>22</td>\n",
       "      <td>Тюмень</td>\n",
       "      <td>ultra</td>\n",
       "      <td>2694.783254</td>\n",
       "      <td>19</td>\n",
       "      <td>2021-08-11</td>\n",
       "      <td>8</td>\n",
       "      <td>6</td>\n",
       "      <td>0</td>\n",
       "      <td>199</td>\n",
       "    </tr>\n",
       "    <tr>\n",
       "      <th>4</th>\n",
       "      <td>1</td>\n",
       "      <td>Кира</td>\n",
       "      <td>22</td>\n",
       "      <td>Тюмень</td>\n",
       "      <td>ultra</td>\n",
       "      <td>4028.687306</td>\n",
       "      <td>27</td>\n",
       "      <td>2021-08-28</td>\n",
       "      <td>8</td>\n",
       "      <td>6</td>\n",
       "      <td>0</td>\n",
       "      <td>199</td>\n",
       "    </tr>\n",
       "    <tr>\n",
       "      <th>5</th>\n",
       "      <td>1</td>\n",
       "      <td>Кира</td>\n",
       "      <td>22</td>\n",
       "      <td>Тюмень</td>\n",
       "      <td>ultra</td>\n",
       "      <td>2770.890808</td>\n",
       "      <td>17</td>\n",
       "      <td>2021-10-09</td>\n",
       "      <td>10</td>\n",
       "      <td>6</td>\n",
       "      <td>0</td>\n",
       "      <td>199</td>\n",
       "    </tr>\n",
       "    <tr>\n",
       "      <th>6</th>\n",
       "      <td>1</td>\n",
       "      <td>Кира</td>\n",
       "      <td>22</td>\n",
       "      <td>Тюмень</td>\n",
       "      <td>ultra</td>\n",
       "      <td>3039.020292</td>\n",
       "      <td>15</td>\n",
       "      <td>2021-10-19</td>\n",
       "      <td>10</td>\n",
       "      <td>6</td>\n",
       "      <td>0</td>\n",
       "      <td>199</td>\n",
       "    </tr>\n",
       "    <tr>\n",
       "      <th>7</th>\n",
       "      <td>1</td>\n",
       "      <td>Кира</td>\n",
       "      <td>22</td>\n",
       "      <td>Тюмень</td>\n",
       "      <td>ultra</td>\n",
       "      <td>2842.118050</td>\n",
       "      <td>24</td>\n",
       "      <td>2021-11-06</td>\n",
       "      <td>11</td>\n",
       "      <td>6</td>\n",
       "      <td>0</td>\n",
       "      <td>199</td>\n",
       "    </tr>\n",
       "    <tr>\n",
       "      <th>8</th>\n",
       "      <td>1</td>\n",
       "      <td>Кира</td>\n",
       "      <td>22</td>\n",
       "      <td>Тюмень</td>\n",
       "      <td>ultra</td>\n",
       "      <td>3412.690668</td>\n",
       "      <td>16</td>\n",
       "      <td>2021-11-14</td>\n",
       "      <td>11</td>\n",
       "      <td>6</td>\n",
       "      <td>0</td>\n",
       "      <td>199</td>\n",
       "    </tr>\n",
       "    <tr>\n",
       "      <th>9</th>\n",
       "      <td>1</td>\n",
       "      <td>Кира</td>\n",
       "      <td>22</td>\n",
       "      <td>Тюмень</td>\n",
       "      <td>ultra</td>\n",
       "      <td>748.690645</td>\n",
       "      <td>16</td>\n",
       "      <td>2021-11-22</td>\n",
       "      <td>11</td>\n",
       "      <td>6</td>\n",
       "      <td>0</td>\n",
       "      <td>199</td>\n",
       "    </tr>\n",
       "    <tr>\n",
       "      <th>10</th>\n",
       "      <td>1</td>\n",
       "      <td>Кира</td>\n",
       "      <td>22</td>\n",
       "      <td>Тюмень</td>\n",
       "      <td>ultra</td>\n",
       "      <td>4031.020195</td>\n",
       "      <td>18</td>\n",
       "      <td>2021-12-14</td>\n",
       "      <td>12</td>\n",
       "      <td>6</td>\n",
       "      <td>0</td>\n",
       "      <td>199</td>\n",
       "    </tr>\n",
       "    <tr>\n",
       "      <th>11</th>\n",
       "      <td>1</td>\n",
       "      <td>Кира</td>\n",
       "      <td>22</td>\n",
       "      <td>Тюмень</td>\n",
       "      <td>ultra</td>\n",
       "      <td>2720.609748</td>\n",
       "      <td>10</td>\n",
       "      <td>2021-12-22</td>\n",
       "      <td>12</td>\n",
       "      <td>6</td>\n",
       "      <td>0</td>\n",
       "      <td>199</td>\n",
       "    </tr>\n",
       "    <tr>\n",
       "      <th>12</th>\n",
       "      <td>2</td>\n",
       "      <td>Станислав</td>\n",
       "      <td>31</td>\n",
       "      <td>Омск</td>\n",
       "      <td>ultra</td>\n",
       "      <td>3105.086678</td>\n",
       "      <td>25</td>\n",
       "      <td>2021-03-15</td>\n",
       "      <td>3</td>\n",
       "      <td>6</td>\n",
       "      <td>0</td>\n",
       "      <td>199</td>\n",
       "    </tr>\n",
       "    <tr>\n",
       "      <th>13</th>\n",
       "      <td>2</td>\n",
       "      <td>Станислав</td>\n",
       "      <td>31</td>\n",
       "      <td>Омск</td>\n",
       "      <td>ultra</td>\n",
       "      <td>3053.519401</td>\n",
       "      <td>12</td>\n",
       "      <td>2021-03-18</td>\n",
       "      <td>3</td>\n",
       "      <td>6</td>\n",
       "      <td>0</td>\n",
       "      <td>199</td>\n",
       "    </tr>\n",
       "    <tr>\n",
       "      <th>14</th>\n",
       "      <td>2</td>\n",
       "      <td>Станислав</td>\n",
       "      <td>31</td>\n",
       "      <td>Омск</td>\n",
       "      <td>ultra</td>\n",
       "      <td>4029.116927</td>\n",
       "      <td>26</td>\n",
       "      <td>2021-03-23</td>\n",
       "      <td>3</td>\n",
       "      <td>6</td>\n",
       "      <td>0</td>\n",
       "      <td>199</td>\n",
       "    </tr>\n",
       "    <tr>\n",
       "      <th>15</th>\n",
       "      <td>2</td>\n",
       "      <td>Станислав</td>\n",
       "      <td>31</td>\n",
       "      <td>Омск</td>\n",
       "      <td>ultra</td>\n",
       "      <td>2805.786329</td>\n",
       "      <td>21</td>\n",
       "      <td>2021-04-08</td>\n",
       "      <td>4</td>\n",
       "      <td>6</td>\n",
       "      <td>0</td>\n",
       "      <td>199</td>\n",
       "    </tr>\n",
       "    <tr>\n",
       "      <th>16</th>\n",
       "      <td>2</td>\n",
       "      <td>Станислав</td>\n",
       "      <td>31</td>\n",
       "      <td>Омск</td>\n",
       "      <td>ultra</td>\n",
       "      <td>3358.595495</td>\n",
       "      <td>19</td>\n",
       "      <td>2021-04-13</td>\n",
       "      <td>4</td>\n",
       "      <td>6</td>\n",
       "      <td>0</td>\n",
       "      <td>199</td>\n",
       "    </tr>\n",
       "    <tr>\n",
       "      <th>17</th>\n",
       "      <td>2</td>\n",
       "      <td>Станислав</td>\n",
       "      <td>31</td>\n",
       "      <td>Омск</td>\n",
       "      <td>ultra</td>\n",
       "      <td>3255.338202</td>\n",
       "      <td>14</td>\n",
       "      <td>2021-06-20</td>\n",
       "      <td>6</td>\n",
       "      <td>6</td>\n",
       "      <td>0</td>\n",
       "      <td>199</td>\n",
       "    </tr>\n",
       "    <tr>\n",
       "      <th>18</th>\n",
       "      <td>2</td>\n",
       "      <td>Станислав</td>\n",
       "      <td>31</td>\n",
       "      <td>Омск</td>\n",
       "      <td>ultra</td>\n",
       "      <td>3942.817648</td>\n",
       "      <td>21</td>\n",
       "      <td>2021-07-02</td>\n",
       "      <td>7</td>\n",
       "      <td>6</td>\n",
       "      <td>0</td>\n",
       "      <td>199</td>\n",
       "    </tr>\n",
       "    <tr>\n",
       "      <th>19</th>\n",
       "      <td>2</td>\n",
       "      <td>Станислав</td>\n",
       "      <td>31</td>\n",
       "      <td>Омск</td>\n",
       "      <td>ultra</td>\n",
       "      <td>2837.905316</td>\n",
       "      <td>27</td>\n",
       "      <td>2021-07-18</td>\n",
       "      <td>7</td>\n",
       "      <td>6</td>\n",
       "      <td>0</td>\n",
       "      <td>199</td>\n",
       "    </tr>\n",
       "  </tbody>\n",
       "</table>\n",
       "</div>"
      ],
      "text/plain": [
       "    user_id       name  age    city subscription_type     distance  duration  \\\n",
       "0         1       Кира   22  Тюмень             ultra  4409.919140        26   \n",
       "1         1       Кира   22  Тюмень             ultra  2617.592153        16   \n",
       "2         1       Кира   22  Тюмень             ultra   754.159807         7   \n",
       "3         1       Кира   22  Тюмень             ultra  2694.783254        19   \n",
       "4         1       Кира   22  Тюмень             ultra  4028.687306        27   \n",
       "5         1       Кира   22  Тюмень             ultra  2770.890808        17   \n",
       "6         1       Кира   22  Тюмень             ultra  3039.020292        15   \n",
       "7         1       Кира   22  Тюмень             ultra  2842.118050        24   \n",
       "8         1       Кира   22  Тюмень             ultra  3412.690668        16   \n",
       "9         1       Кира   22  Тюмень             ultra   748.690645        16   \n",
       "10        1       Кира   22  Тюмень             ultra  4031.020195        18   \n",
       "11        1       Кира   22  Тюмень             ultra  2720.609748        10   \n",
       "12        2  Станислав   31    Омск             ultra  3105.086678        25   \n",
       "13        2  Станислав   31    Омск             ultra  3053.519401        12   \n",
       "14        2  Станислав   31    Омск             ultra  4029.116927        26   \n",
       "15        2  Станислав   31    Омск             ultra  2805.786329        21   \n",
       "16        2  Станислав   31    Омск             ultra  3358.595495        19   \n",
       "17        2  Станислав   31    Омск             ultra  3255.338202        14   \n",
       "18        2  Станислав   31    Омск             ultra  3942.817648        21   \n",
       "19        2  Станислав   31    Омск             ultra  2837.905316        27   \n",
       "\n",
       "         date  month  minute_price  start_ride_price  subscription_fee  \n",
       "0  2021-01-01      1             6                 0               199  \n",
       "1  2021-01-18      1             6                 0               199  \n",
       "2  2021-04-20      4             6                 0               199  \n",
       "3  2021-08-11      8             6                 0               199  \n",
       "4  2021-08-28      8             6                 0               199  \n",
       "5  2021-10-09     10             6                 0               199  \n",
       "6  2021-10-19     10             6                 0               199  \n",
       "7  2021-11-06     11             6                 0               199  \n",
       "8  2021-11-14     11             6                 0               199  \n",
       "9  2021-11-22     11             6                 0               199  \n",
       "10 2021-12-14     12             6                 0               199  \n",
       "11 2021-12-22     12             6                 0               199  \n",
       "12 2021-03-15      3             6                 0               199  \n",
       "13 2021-03-18      3             6                 0               199  \n",
       "14 2021-03-23      3             6                 0               199  \n",
       "15 2021-04-08      4             6                 0               199  \n",
       "16 2021-04-13      4             6                 0               199  \n",
       "17 2021-06-20      6             6                 0               199  \n",
       "18 2021-07-02      7             6                 0               199  \n",
       "19 2021-07-18      7             6                 0               199  "
      ]
     },
     "execution_count": 16,
     "metadata": {},
     "output_type": "execute_result"
    }
   ],
   "source": [
    "users_merge = users.merge(rides, on='user_id', how='left')\n",
    "total_merge = users_merge.merge(subscriptions, on='subscription_type', how='left')\n",
    "total_merge['duration'] = np.ceil(total_merge['duration']).astype('int')\n",
    "total_merge.head(20)"
   ]
  },
  {
   "cell_type": "code",
   "execution_count": 17,
   "id": "7296c54e",
   "metadata": {},
   "outputs": [
    {
     "name": "stdout",
     "output_type": "stream",
     "text": [
      "<class 'pandas.core.frame.DataFrame'>\n",
      "Int64Index: 11568 entries, 6500 to 18067\n",
      "Data columns (total 12 columns):\n",
      " #   Column             Non-Null Count  Dtype         \n",
      "---  ------             --------------  -----         \n",
      " 0   user_id            11568 non-null  int64         \n",
      " 1   name               11568 non-null  object        \n",
      " 2   age                11568 non-null  int64         \n",
      " 3   city               11568 non-null  object        \n",
      " 4   subscription_type  11568 non-null  object        \n",
      " 5   distance           11568 non-null  float64       \n",
      " 6   duration           11568 non-null  int64         \n",
      " 7   date               11568 non-null  datetime64[ns]\n",
      " 8   month              11568 non-null  int64         \n",
      " 9   minute_price       11568 non-null  int64         \n",
      " 10  start_ride_price   11568 non-null  int64         \n",
      " 11  subscription_fee   11568 non-null  int64         \n",
      "dtypes: datetime64[ns](1), float64(1), int64(7), object(3)\n",
      "memory usage: 1.1+ MB\n"
     ]
    }
   ],
   "source": [
    "users_free = total_merge[total_merge['subscription_type'] == 'free']\n",
    "users_free.info()"
   ]
  },
  {
   "cell_type": "code",
   "execution_count": 18,
   "id": "7e831edd",
   "metadata": {},
   "outputs": [
    {
     "name": "stdout",
     "output_type": "stream",
     "text": [
      "<class 'pandas.core.frame.DataFrame'>\n",
      "Int64Index: 6500 entries, 0 to 6499\n",
      "Data columns (total 12 columns):\n",
      " #   Column             Non-Null Count  Dtype         \n",
      "---  ------             --------------  -----         \n",
      " 0   user_id            6500 non-null   int64         \n",
      " 1   name               6500 non-null   object        \n",
      " 2   age                6500 non-null   int64         \n",
      " 3   city               6500 non-null   object        \n",
      " 4   subscription_type  6500 non-null   object        \n",
      " 5   distance           6500 non-null   float64       \n",
      " 6   duration           6500 non-null   int64         \n",
      " 7   date               6500 non-null   datetime64[ns]\n",
      " 8   month              6500 non-null   int64         \n",
      " 9   minute_price       6500 non-null   int64         \n",
      " 10  start_ride_price   6500 non-null   int64         \n",
      " 11  subscription_fee   6500 non-null   int64         \n",
      "dtypes: datetime64[ns](1), float64(1), int64(7), object(3)\n",
      "memory usage: 660.2+ KB\n"
     ]
    }
   ],
   "source": [
    "users_ultra = total_merge[total_merge['subscription_type'] == 'ultra']\n",
    "users_ultra.info()"
   ]
  },
  {
   "cell_type": "code",
   "execution_count": 19,
   "id": "b218e07b",
   "metadata": {},
   "outputs": [
    {
     "name": "stdout",
     "output_type": "stream",
     "text": [
      "Среднее расстояние у пользователей без подписки: 3045.5 , Медиана: 3114.6\n",
      "Среднее расстояние у пользователей с подпиской: 3115.4 , Медиана: 3148.6\n"
     ]
    },
    {
     "data": {
      "text/plain": [
       "<matplotlib.legend.Legend at 0x7f9488f1da90>"
      ]
     },
     "execution_count": 19,
     "metadata": {},
     "output_type": "execute_result"
    },
    {
     "data": {
      "image/png": "[encoded data removed]",
      "text/plain": [
       "<Figure size 1440x720 with 1 Axes>"
      ]
     },
     "metadata": {
      "needs_background": "light"
     },
     "output_type": "display_data"
    }
   ],
   "source": [
    "print('Среднее расстояние у пользователей без подписки:', round(users_free['distance'].mean(), 1), ',', 'Медиана:', round(users_free['distance'].median(), 1))\n",
    "print('Среднее расстояние у пользователей с подпиской:', round(users_ultra['distance'].mean(), 1), ',', 'Медиана:', round(users_ultra['distance'].median(), 1))\n",
    "plt.figure(figsize=(20, 10))\n",
    "plt.hist(users_free['distance'], 50, label='Расстояние одной поездки клиентов без подписки')\n",
    "plt.hist(users_ultra['distance'], 50, label='Расстояние одной поездки клиентов с подпиской', alpha=0.7)\n",
    "plt.axvline (x=np.nanmean(users_free['distance']), color='red', linestyle='--', linewidth=3 , label='Среднее расстояние поездки клиентов без подписки')\n",
    "plt.axvline (x=np.nanmean(users_ultra['distance']), color='purple', linestyle='--', linewidth=3 , label='Среднее расстояние поездки клиентов с подпиской')\n",
    "plt.xlabel('Расстояние за одну поездку, м')\n",
    "plt.ylabel('Количество поездок')\n",
    "plt.title('Расстояние одной поездки для клиентов обеих категорий.')\n",
    "plt.legend()"
   ]
  },
  {
   "cell_type": "markdown",
   "id": "cae9359b",
   "metadata": {},
   "source": [
    "**В среднем пользователи обеих категорий проезжают около 3 км в течение одной поездки. Пользователи без подписки пользуются самокатами почти в 2 раза чаще**"
   ]
  },
  {
   "cell_type": "code",
   "execution_count": 20,
   "id": "5e887e95",
   "metadata": {},
   "outputs": [
    {
     "name": "stdout",
     "output_type": "stream",
     "text": [
      "Среднее время поездки пользователей без подписки: 17.9 , Медиана: 18.0\n",
      "Среднее время поездки пользователей с подпиской: 19.0 , Медиана: 19.0\n"
     ]
    },
    {
     "data": {
      "text/plain": [
       "<matplotlib.legend.Legend at 0x7f9488ad9880>"
      ]
     },
     "execution_count": 20,
     "metadata": {},
     "output_type": "execute_result"
    },
    {
     "data": {
      "image/png": "[encoded data removed]",
      "text/plain": [
       "<Figure size 1440x720 with 1 Axes>"
      ]
     },
     "metadata": {
      "needs_background": "light"
     },
     "output_type": "display_data"
    }
   ],
   "source": [
    "print('Среднее время поездки пользователей без подписки:', \n",
    "      round(users_free['duration'].mean(), 1), ',', 'Медиана:', round(users_free['duration'].median(), 1))\n",
    "print('Среднее время поездки пользователей с подпиской:', \n",
    "      round(users_ultra['duration'].mean(), 1), ',', 'Медиана:', round(users_ultra['duration'].median(), 1))\n",
    "plt.figure(figsize=(20, 10))\n",
    "plt.hist(users_free['duration'], 50, label='Время поездки клиентов без подписки')\n",
    "plt.hist(users_ultra['duration'], 50, label='Время поездки клиентов с подпиской', alpha=0.7)\n",
    "plt.axvline (x=np.nanmean(users_free['duration']), color='red', linestyle='--', linewidth=3 , label='Среднее время поездки клиентов без подписки')\n",
    "plt.axvline (x=np.nanmean(users_ultra['duration']), color='purple', linestyle='--', linewidth=3 , label='Среднее время поездки клиентов с подпиской')\n",
    "plt.xlabel('Время поездки, мин')\n",
    "plt.ylabel('Количество поездок')\n",
    "plt.title('Время одной поездки для клиентов обеих категорий.')\n",
    "plt.legend()"
   ]
  },
  {
   "cell_type": "markdown",
   "id": "a792dc82",
   "metadata": {},
   "source": [
    "**Время поездки у пользователей примерно одинаковый.**"
   ]
  },
  {
   "cell_type": "markdown",
   "id": "402d620f",
   "metadata": {},
   "source": [
    "#### Шаг 5. Подсчёт выручки"
   ]
  },
  {
   "cell_type": "code",
   "execution_count": 21,
   "id": "53049e0a",
   "metadata": {},
   "outputs": [
    {
     "data": {
      "text/html": [
       "<div>\n",
       "<style scoped>\n",
       "    .dataframe tbody tr th:only-of-type {\n",
       "        vertical-align: middle;\n",
       "    }\n",
       "\n",
       "    .dataframe tbody tr th {\n",
       "        vertical-align: top;\n",
       "    }\n",
       "\n",
       "    .dataframe thead th {\n",
       "        text-align: right;\n",
       "    }\n",
       "</style>\n",
       "<table border=\"1\" class=\"dataframe\">\n",
       "  <thead>\n",
       "    <tr style=\"text-align: right;\">\n",
       "      <th></th>\n",
       "      <th>user_id</th>\n",
       "      <th>month</th>\n",
       "      <th>total_distance</th>\n",
       "      <th>total_duration</th>\n",
       "      <th>minute_price</th>\n",
       "      <th>count_ride</th>\n",
       "      <th>start_ride_price</th>\n",
       "      <th>subscription_fee</th>\n",
       "      <th>subscription_type</th>\n",
       "      <th>total_price</th>\n",
       "    </tr>\n",
       "  </thead>\n",
       "  <tbody>\n",
       "    <tr>\n",
       "      <th>0</th>\n",
       "      <td>700</td>\n",
       "      <td>1</td>\n",
       "      <td>2515.690719</td>\n",
       "      <td>15</td>\n",
       "      <td>8</td>\n",
       "      <td>1</td>\n",
       "      <td>50</td>\n",
       "      <td>0</td>\n",
       "      <td>free</td>\n",
       "      <td>170</td>\n",
       "    </tr>\n",
       "    <tr>\n",
       "      <th>1</th>\n",
       "      <td>700</td>\n",
       "      <td>2</td>\n",
       "      <td>13446.659764</td>\n",
       "      <td>89</td>\n",
       "      <td>8</td>\n",
       "      <td>5</td>\n",
       "      <td>50</td>\n",
       "      <td>0</td>\n",
       "      <td>free</td>\n",
       "      <td>962</td>\n",
       "    </tr>\n",
       "    <tr>\n",
       "      <th>2</th>\n",
       "      <td>700</td>\n",
       "      <td>3</td>\n",
       "      <td>3798.334905</td>\n",
       "      <td>19</td>\n",
       "      <td>8</td>\n",
       "      <td>1</td>\n",
       "      <td>50</td>\n",
       "      <td>0</td>\n",
       "      <td>free</td>\n",
       "      <td>202</td>\n",
       "    </tr>\n",
       "    <tr>\n",
       "      <th>3</th>\n",
       "      <td>700</td>\n",
       "      <td>4</td>\n",
       "      <td>2984.551206</td>\n",
       "      <td>16</td>\n",
       "      <td>8</td>\n",
       "      <td>1</td>\n",
       "      <td>50</td>\n",
       "      <td>0</td>\n",
       "      <td>free</td>\n",
       "      <td>178</td>\n",
       "    </tr>\n",
       "    <tr>\n",
       "      <th>4</th>\n",
       "      <td>700</td>\n",
       "      <td>6</td>\n",
       "      <td>5927.650988</td>\n",
       "      <td>29</td>\n",
       "      <td>8</td>\n",
       "      <td>2</td>\n",
       "      <td>50</td>\n",
       "      <td>0</td>\n",
       "      <td>free</td>\n",
       "      <td>332</td>\n",
       "    </tr>\n",
       "  </tbody>\n",
       "</table>\n",
       "</div>"
      ],
      "text/plain": [
       "   user_id  month  total_distance  total_duration  minute_price  count_ride  \\\n",
       "0      700      1     2515.690719              15             8           1   \n",
       "1      700      2    13446.659764              89             8           5   \n",
       "2      700      3     3798.334905              19             8           1   \n",
       "3      700      4     2984.551206              16             8           1   \n",
       "4      700      6     5927.650988              29             8           2   \n",
       "\n",
       "   start_ride_price  subscription_fee subscription_type  total_price  \n",
       "0                50                 0              free          170  \n",
       "1                50                 0              free          962  \n",
       "2                50                 0              free          202  \n",
       "3                50                 0              free          178  \n",
       "4                50                 0              free          332  "
      ]
     },
     "execution_count": 21,
     "metadata": {},
     "output_type": "execute_result"
    }
   ],
   "source": [
    "free = (\n",
    "    users_free\n",
    "    .pivot_table(\n",
    "    index = ['user_id', 'month'], \n",
    "    values = ['distance', 'name', \n",
    "              'duration', 'subscription_type', \n",
    "              'minute_price', 'start_ride_price', 'subscription_fee'], \n",
    "    aggfunc = {'distance':'sum', \n",
    "               'name':'count', \n",
    "               'duration':'sum', \n",
    "               'subscription_type': 'max', \n",
    "               'minute_price':'mean', \n",
    "               'start_ride_price':'mean', \n",
    "               'subscription_fee':'mean'})\n",
    "    .reset_index()\n",
    "    .rename(columns={'name':'count_ride', 'duration':'total_duration', 'distance': 'total_distance'})\n",
    ")\n",
    "free['total_price'] = (free['start_ride_price'] * free['count_ride']) + (free['minute_price'] * free['total_duration'] \\\n",
    "                                                                         + free['subscription_fee'])\n",
    "free.head()"
   ]
  },
  {
   "cell_type": "markdown",
   "id": "d7297161",
   "metadata": {},
   "source": [
    "Помесячная выручка считается по формуле: стоимость старта поездки ×  количество поездок + стоимость одной минуты поездки \n",
    "× общая продолжительность всех поездок в минутах + стоимость подписки."
   ]
  },
  {
   "cell_type": "code",
   "execution_count": 22,
   "id": "dbbd9379",
   "metadata": {},
   "outputs": [
    {
     "data": {
      "text/html": [
       "<div>\n",
       "<style scoped>\n",
       "    .dataframe tbody tr th:only-of-type {\n",
       "        vertical-align: middle;\n",
       "    }\n",
       "\n",
       "    .dataframe tbody tr th {\n",
       "        vertical-align: top;\n",
       "    }\n",
       "\n",
       "    .dataframe thead th {\n",
       "        text-align: right;\n",
       "    }\n",
       "</style>\n",
       "<table border=\"1\" class=\"dataframe\">\n",
       "  <thead>\n",
       "    <tr style=\"text-align: right;\">\n",
       "      <th></th>\n",
       "      <th>user_id</th>\n",
       "      <th>month</th>\n",
       "      <th>total_distance</th>\n",
       "      <th>total_duration</th>\n",
       "      <th>minute_price</th>\n",
       "      <th>count_ride</th>\n",
       "      <th>start_ride_price</th>\n",
       "      <th>subscription_fee</th>\n",
       "      <th>subscription_type</th>\n",
       "      <th>total_price</th>\n",
       "    </tr>\n",
       "  </thead>\n",
       "  <tbody>\n",
       "    <tr>\n",
       "      <th>0</th>\n",
       "      <td>1</td>\n",
       "      <td>1</td>\n",
       "      <td>7027.511294</td>\n",
       "      <td>42</td>\n",
       "      <td>6</td>\n",
       "      <td>2</td>\n",
       "      <td>0</td>\n",
       "      <td>199</td>\n",
       "      <td>ultra</td>\n",
       "      <td>451</td>\n",
       "    </tr>\n",
       "    <tr>\n",
       "      <th>1</th>\n",
       "      <td>1</td>\n",
       "      <td>4</td>\n",
       "      <td>754.159807</td>\n",
       "      <td>7</td>\n",
       "      <td>6</td>\n",
       "      <td>1</td>\n",
       "      <td>0</td>\n",
       "      <td>199</td>\n",
       "      <td>ultra</td>\n",
       "      <td>241</td>\n",
       "    </tr>\n",
       "    <tr>\n",
       "      <th>2</th>\n",
       "      <td>1</td>\n",
       "      <td>8</td>\n",
       "      <td>6723.470560</td>\n",
       "      <td>46</td>\n",
       "      <td>6</td>\n",
       "      <td>2</td>\n",
       "      <td>0</td>\n",
       "      <td>199</td>\n",
       "      <td>ultra</td>\n",
       "      <td>475</td>\n",
       "    </tr>\n",
       "    <tr>\n",
       "      <th>3</th>\n",
       "      <td>1</td>\n",
       "      <td>10</td>\n",
       "      <td>5809.911100</td>\n",
       "      <td>32</td>\n",
       "      <td>6</td>\n",
       "      <td>2</td>\n",
       "      <td>0</td>\n",
       "      <td>199</td>\n",
       "      <td>ultra</td>\n",
       "      <td>391</td>\n",
       "    </tr>\n",
       "    <tr>\n",
       "      <th>4</th>\n",
       "      <td>1</td>\n",
       "      <td>11</td>\n",
       "      <td>7003.499363</td>\n",
       "      <td>56</td>\n",
       "      <td>6</td>\n",
       "      <td>3</td>\n",
       "      <td>0</td>\n",
       "      <td>199</td>\n",
       "      <td>ultra</td>\n",
       "      <td>535</td>\n",
       "    </tr>\n",
       "  </tbody>\n",
       "</table>\n",
       "</div>"
      ],
      "text/plain": [
       "   user_id  month  total_distance  total_duration  minute_price  count_ride  \\\n",
       "0        1      1     7027.511294              42             6           2   \n",
       "1        1      4      754.159807               7             6           1   \n",
       "2        1      8     6723.470560              46             6           2   \n",
       "3        1     10     5809.911100              32             6           2   \n",
       "4        1     11     7003.499363              56             6           3   \n",
       "\n",
       "   start_ride_price  subscription_fee subscription_type  total_price  \n",
       "0                 0               199             ultra          451  \n",
       "1                 0               199             ultra          241  \n",
       "2                 0               199             ultra          475  \n",
       "3                 0               199             ultra          391  \n",
       "4                 0               199             ultra          535  "
      ]
     },
     "execution_count": 22,
     "metadata": {},
     "output_type": "execute_result"
    }
   ],
   "source": [
    "ultra = (\n",
    "    users_ultra\n",
    "    .pivot_table(\n",
    "    index = ['user_id', 'month'], \n",
    "    values = ['distance', 'name', 'duration', 'subscription_type', 'minute_price', 'start_ride_price', 'subscription_fee'], \n",
    "    aggfunc = {'distance':'sum', \n",
    "               'name':'count', \n",
    "               'duration':'sum', \n",
    "               'subscription_type': 'max', \n",
    "               'minute_price':'mean', \n",
    "               'start_ride_price':'mean', \n",
    "               'subscription_fee':'mean'})\n",
    "    .reset_index()\n",
    "    .rename(columns={'name':'count_ride', 'duration':'total_duration', 'distance': 'total_distance'})\n",
    ")\n",
    "ultra['total_price'] = (ultra['start_ride_price'] * ultra['count_ride']) + (ultra['minute_price'] * ultra['total_duration'] \\\n",
    "                                                                             + ultra['subscription_fee'])\n",
    "ultra.head()"
   ]
  },
  {
   "cell_type": "markdown",
   "id": "56391eb3",
   "metadata": {},
   "source": [
    "**Посчитаем как изменится месячная выручка пользователей без подписки, если бы у них была подписка.**"
   ]
  },
  {
   "cell_type": "code",
   "execution_count": 23,
   "id": "ebfd735c",
   "metadata": {},
   "outputs": [
    {
     "name": "stdout",
     "output_type": "stream",
     "text": [
      "Возможная средняя месячная выручка: 328.64\n"
     ]
    },
    {
     "data": {
      "text/html": [
       "<div>\n",
       "<style scoped>\n",
       "    .dataframe tbody tr th:only-of-type {\n",
       "        vertical-align: middle;\n",
       "    }\n",
       "\n",
       "    .dataframe tbody tr th {\n",
       "        vertical-align: top;\n",
       "    }\n",
       "\n",
       "    .dataframe thead th {\n",
       "        text-align: right;\n",
       "    }\n",
       "</style>\n",
       "<table border=\"1\" class=\"dataframe\">\n",
       "  <thead>\n",
       "    <tr style=\"text-align: right;\">\n",
       "      <th></th>\n",
       "      <th>user_id</th>\n",
       "      <th>month</th>\n",
       "      <th>total_distance</th>\n",
       "      <th>total_duration</th>\n",
       "      <th>minute_price</th>\n",
       "      <th>count_ride</th>\n",
       "      <th>start_ride_price</th>\n",
       "      <th>subscription_fee</th>\n",
       "      <th>subscription_type</th>\n",
       "      <th>total_price</th>\n",
       "      <th>total_price_ultra</th>\n",
       "    </tr>\n",
       "  </thead>\n",
       "  <tbody>\n",
       "    <tr>\n",
       "      <th>0</th>\n",
       "      <td>700</td>\n",
       "      <td>1</td>\n",
       "      <td>2515.690719</td>\n",
       "      <td>15</td>\n",
       "      <td>8</td>\n",
       "      <td>1</td>\n",
       "      <td>50</td>\n",
       "      <td>0</td>\n",
       "      <td>free</td>\n",
       "      <td>170</td>\n",
       "      <td>289</td>\n",
       "    </tr>\n",
       "    <tr>\n",
       "      <th>1</th>\n",
       "      <td>700</td>\n",
       "      <td>2</td>\n",
       "      <td>13446.659764</td>\n",
       "      <td>89</td>\n",
       "      <td>8</td>\n",
       "      <td>5</td>\n",
       "      <td>50</td>\n",
       "      <td>0</td>\n",
       "      <td>free</td>\n",
       "      <td>962</td>\n",
       "      <td>733</td>\n",
       "    </tr>\n",
       "    <tr>\n",
       "      <th>2</th>\n",
       "      <td>700</td>\n",
       "      <td>3</td>\n",
       "      <td>3798.334905</td>\n",
       "      <td>19</td>\n",
       "      <td>8</td>\n",
       "      <td>1</td>\n",
       "      <td>50</td>\n",
       "      <td>0</td>\n",
       "      <td>free</td>\n",
       "      <td>202</td>\n",
       "      <td>313</td>\n",
       "    </tr>\n",
       "    <tr>\n",
       "      <th>3</th>\n",
       "      <td>700</td>\n",
       "      <td>4</td>\n",
       "      <td>2984.551206</td>\n",
       "      <td>16</td>\n",
       "      <td>8</td>\n",
       "      <td>1</td>\n",
       "      <td>50</td>\n",
       "      <td>0</td>\n",
       "      <td>free</td>\n",
       "      <td>178</td>\n",
       "      <td>295</td>\n",
       "    </tr>\n",
       "    <tr>\n",
       "      <th>4</th>\n",
       "      <td>700</td>\n",
       "      <td>6</td>\n",
       "      <td>5927.650988</td>\n",
       "      <td>29</td>\n",
       "      <td>8</td>\n",
       "      <td>2</td>\n",
       "      <td>50</td>\n",
       "      <td>0</td>\n",
       "      <td>free</td>\n",
       "      <td>332</td>\n",
       "      <td>373</td>\n",
       "    </tr>\n",
       "  </tbody>\n",
       "</table>\n",
       "</div>"
      ],
      "text/plain": [
       "   user_id  month  total_distance  total_duration  minute_price  count_ride  \\\n",
       "0      700      1     2515.690719              15             8           1   \n",
       "1      700      2    13446.659764              89             8           5   \n",
       "2      700      3     3798.334905              19             8           1   \n",
       "3      700      4     2984.551206              16             8           1   \n",
       "4      700      6     5927.650988              29             8           2   \n",
       "\n",
       "   start_ride_price  subscription_fee subscription_type  total_price  \\\n",
       "0                50                 0              free          170   \n",
       "1                50                 0              free          962   \n",
       "2                50                 0              free          202   \n",
       "3                50                 0              free          178   \n",
       "4                50                 0              free          332   \n",
       "\n",
       "   total_price_ultra  \n",
       "0                289  \n",
       "1                733  \n",
       "2                313  \n",
       "3                295  \n",
       "4                373  "
      ]
     },
     "execution_count": 23,
     "metadata": {},
     "output_type": "execute_result"
    }
   ],
   "source": [
    "free_ul = free\n",
    "free_ul['total_price_ultra'] = (0 * free['count_ride']) + (6 * free['total_duration']) + 199                                    \n",
    "print('Возможная средняя месячная выручка:', round(free_ul['total_price'].mean(), 2))\n",
    "free_ul.head()"
   ]
  },
  {
   "cell_type": "markdown",
   "id": "20dad469",
   "metadata": {},
   "source": [
    "**Видно, что встречаются пользователи, активно пользующиеся самокатами. Если таким оформить подписку, то выручка может снизиться. Нужно найти таких пользователей, которым было бы выгодно овормить подписку (естественно, с точки зрения компании).**"
   ]
  },
  {
   "cell_type": "code",
   "execution_count": 24,
   "id": "dde8953d",
   "metadata": {},
   "outputs": [
    {
     "data": {
      "text/plain": [
       "promo_user    5553\n",
       "not_promo     1245\n",
       "Name: promo_user, dtype: int64"
      ]
     },
     "execution_count": 24,
     "metadata": {},
     "output_type": "execute_result"
    }
   ],
   "source": [
    "def promo_users(total_duration, count_ride):\n",
    "    if total_duration * 2 + count_ride * 50 < 199:\n",
    "        return 'promo_user'\n",
    "    else:\n",
    "        return 'not_promo'\n",
    "free_ul['promo_user'] = free_ul.apply(lambda x: promo_users(x['total_duration'], x['count_ride']), axis=1)\n",
    "free_ul['promo_user'].value_counts()"
   ]
  },
  {
   "cell_type": "markdown",
   "id": "7a4a7555",
   "metadata": {},
   "source": [
    "**Провели небольшое исследование и выявили пользователей, которым стоит отправить промокоды, поскольку такие люди мало ездят и продолжительность их поездок невелика, то перейдя в категорию ultra, выручка от них увеличится.**"
   ]
  },
  {
   "cell_type": "markdown",
   "id": "41545ac0",
   "metadata": {},
   "source": [
    "#### Шаг 6. Проверка гипотез"
   ]
  },
  {
   "cell_type": "markdown",
   "id": "704a278b",
   "metadata": {},
   "source": [
    "Важно понять, тратят ли пользователи с подпиской больше времени на поездки? Если да, то пользователи с подпиской могут быть «выгоднее» для компании. Проверьте гипотезу. Используйте исходные данные о продолжительности каждой сессии — отдельно для подписчиков и тех, у кого нет подписки."
   ]
  },
  {
   "cell_type": "markdown",
   "id": "db5c9850",
   "metadata": {},
   "source": [
    "**Нулевая гипотеза: Пользователи с подпиской тратят времени на поездки, столько же сколько пользователи без подписки.**\n",
    "**Альтернативная гипотеза: Пользователи с подпиской тратят времени на поездки больше, чем пользователи без подписки.**"
   ]
  },
  {
   "cell_type": "code",
   "execution_count": 25,
   "id": "22b8a691",
   "metadata": {},
   "outputs": [
    {
     "name": "stdout",
     "output_type": "stream",
     "text": [
      "p-значение: 2.4959453720736625e-34\n",
      "Отвергаем нулевую гипотезу.\n"
     ]
    }
   ],
   "source": [
    "alpha = 0.05\n",
    "results = st.ttest_ind(users_ultra['duration'], users_free['duration'], alternative='greater')\n",
    "print('p-значение:', results.pvalue)\n",
    "if results.pvalue < alpha:\n",
    "    print('Отвергаем нулевую гипотезу.')\n",
    "else:\n",
    "    print('Нулевую гипотезу не отвергаем.')"
   ]
  },
  {
   "cell_type": "markdown",
   "id": "030fd5ac",
   "metadata": {},
   "source": [
    "**Нулевую гипотезу отвергаем. Оставляем альтернативную гипотезу, что пользователи с подпиской тратят больше времени на поездки, чем пользователи без подписки.**"
   ]
  },
  {
   "cell_type": "markdown",
   "id": "ccf644d8",
   "metadata": {},
   "source": [
    "**Нулевая гипотеза: Среднее расстояние, которое проезжают пользователи с подпиской за одну поездку, такое же как и у пользователей без подписки.\n",
    "Альтернативная гипотеза: Среднее расстояние, которое проезжают пользователи с подпиской за одну поездку, не превышает 3130 метров.**"
   ]
  },
  {
   "cell_type": "code",
   "execution_count": 26,
   "id": "a1c4c980",
   "metadata": {},
   "outputs": [
    {
     "name": "stdout",
     "output_type": "stream",
     "text": [
      "p-значение: 0.08046311521502146\n",
      "Нулевую гипотезу не отвергаем.\n"
     ]
    }
   ],
   "source": [
    "interested_value = 3130\n",
    "alpha = 0.05\n",
    "results = st.ttest_1samp(users_ultra['distance'], interested_value, alternative='less')\n",
    "print('p-значение:', results.pvalue)\n",
    "if results.pvalue < alpha:\n",
    "    print('Отвергаем нулевую гипотезу.')\n",
    "else:\n",
    "    print('Нулевую гипотезу не отвергаем.')"
   ]
  },
  {
   "cell_type": "markdown",
   "id": "5d4efc14",
   "metadata": {},
   "source": [
    "**Эту гипотезу не удалось отвергнуть. Мы не можем с уверенностью сказать, что пользователи с подпиской проезжают за одну поездку менее 3130 метров.**"
   ]
  },
  {
   "cell_type": "markdown",
   "id": "4c637e1f",
   "metadata": {},
   "source": [
    "Проверьте гипотезу о том, будет ли помесячная выручка от пользователей с подпиской по месяцам выше, чем выручка от пользователей без подписки."
   ]
  },
  {
   "cell_type": "markdown",
   "id": "6ee591d9",
   "metadata": {},
   "source": [
    "**Нулевая гипотеза: Помесячная выручка от пользователей с подпиской по месяцам равна выручке от пользователей без подписки. Альтернативная гипотеза: Помесячная выручка от пользователей с подпиской по месяцам больше, чем выручка от пользователей без подписки.**"
   ]
  },
  {
   "cell_type": "code",
   "execution_count": 27,
   "id": "e1e6c59b",
   "metadata": {},
   "outputs": [
    {
     "name": "stdout",
     "output_type": "stream",
     "text": [
      "p-значение: 8.874140893976874e-40\n",
      "Отвергаем нулевую гипотезу.\n",
      "Средняя помесячная выручка пользователей без подписки: 328.64\n",
      "Средняя помесячная выручка пользователей с подпиской: 362.79\n"
     ]
    }
   ],
   "source": [
    "results = st.ttest_ind(ultra['total_price'], free['total_price'], equal_var=False, alternative='greater')\n",
    "alpha = 0.05\n",
    "print('p-значение:', results.pvalue)\n",
    "if results.pvalue < alpha:\n",
    "    print('Отвергаем нулевую гипотезу.')\n",
    "else:\n",
    "    print('Нулевую гипотезу не отвергаем.')\n",
    "print('Средняя помесячная выручка пользователей без подписки:', round(free['total_price'].mean(),2))\n",
    "print('Средняя помесячная выручка пользователей с подпиской:', round(ultra['total_price'].mean(),2))"
   ]
  },
  {
   "cell_type": "markdown",
   "id": "32eb73dc",
   "metadata": {},
   "source": [
    "**Похоже на правду, что пользователи с подпиской приносят больше денег.**"
   ]
  },
  {
   "cell_type": "markdown",
   "id": "7e263273",
   "metadata": {},
   "source": [
    "Техническая команда сервиса обновила сервера, с которыми взаимодействует мобильное приложение. Она надеется, что из-за этого количество обращений в техподдержку значимо снизилось. Некоторый файл содержит для каждого пользователя данные о количестве обращений до обновления и после него. Какой тест вам понадобился бы для проверки этой гипотезы?"
   ]
  },
  {
   "cell_type": "markdown",
   "id": "cdec662a",
   "metadata": {},
   "source": [
    "**В данном случае нам пригодится тест для проверки гипотез о равенстве среднего генеральной совокупности для зависимых (парных) выборок, поскольку генеральная совокупность осталась той же, и нам нужно проверить что стало со средним после обновления.**"
   ]
  },
  {
   "cell_type": "markdown",
   "id": "61213c5e",
   "metadata": {},
   "source": [
    "#### Шаг 7. Распределения"
   ]
  },
  {
   "cell_type": "code",
   "execution_count": 28,
   "id": "95cd1d51",
   "metadata": {},
   "outputs": [
    {
     "data": {
      "image/png": "[encoded data removed]",
      "text/plain": [
       "<Figure size 432x288 with 1 Axes>"
      ]
     },
     "metadata": {
      "needs_background": "light"
     },
     "output_type": "display_data"
    },
    {
     "name": "stdout",
     "output_type": "stream",
     "text": [
      "Вероятность не выполнить план при выданных 1170 промокодов: 0.049973377638439065\n"
     ]
    }
   ],
   "source": [
    "from matplotlib import pyplot as plt\n",
    "from math import factorial\n",
    "p = 0.1\n",
    "n = 1170\n",
    "lmbd = n * p\n",
    "std_binom = (n * p * (1 - p))**0.5\n",
    "max_value = int(n * p + 4 * std_binom)\n",
    "binom_probs = []\n",
    "poisson_probs = []\n",
    "for k in range(max_value + 1):\n",
    "    binom_prob = st.binom.pmf(k, n, p)\n",
    "    binom_probs.append(binom_prob)\n",
    "plt.plot(range(max_value + 1), binom_probs, 'bo')\n",
    "plt.xlabel('Новые подписчики')\n",
    "plt.ylabel('Вероятность k')\n",
    "plt.show() \n",
    "\n",
    "threshold = 100\n",
    "print(f'Вероятность не выполнить план при выданных {n} промокодов:', st.poisson.cdf(threshold - 1, lmbd))"
   ]
  },
  {
   "cell_type": "markdown",
   "id": "d21d0226",
   "metadata": {},
   "source": [
    "**Нужно разослать не менее 1170 промокодов, чтобы чтобы вероятность не выполнить план была примерно 5%**"
   ]
  },
  {
   "cell_type": "markdown",
   "id": "75bebd90",
   "metadata": {},
   "source": [
    "Отдел маркетинга рассылает клиентам push-уведомления в мобильном приложении. Клиенты могут открыть его или не открывать. Известно, что уведомления открывают около 40% получивших клиентов. Отдел планирует разослать 1 млн уведомлений. С помощью аппроксимации постройте примерный график распределения и оцените вероятность того, что уведомление откроют не более 399,5 тыс. пользователей."
   ]
  },
  {
   "cell_type": "code",
   "execution_count": 29,
   "id": "9d0dc609",
   "metadata": {},
   "outputs": [
    {
     "name": "stdout",
     "output_type": "stream",
     "text": [
      "0.15371708296369768\n"
     ]
    }
   ],
   "source": [
    "p = 0.4\n",
    "n = 1000000\n",
    "lmbd = n * p\n",
    "std_binom = (n * p * (1 - p))**0.5\n",
    "distr = st.norm(lmbd, std_binom)\n",
    "result = distr.cdf(399500)\n",
    "print(result)"
   ]
  },
  {
   "cell_type": "markdown",
   "id": "0daf5427",
   "metadata": {},
   "source": [
    "**С вероятностью 15,37% уведомление откроет менее 399,5 тыс клиентов**"
   ]
  },
  {
   "cell_type": "markdown",
   "id": "d050ec19",
   "metadata": {},
   "source": [
    "1. Были загружены предлагаемые датасеты, проведена первичная оценка данных:\n",
    " 1. Посмотрели несколько строк для общего понимания;\n",
    " 2. Просмотрена информация об этом датасете;\n",
    " 3. Проведена предобработка данных:\n",
    "2. Заменен тип данных в столбце `date` для удобной работы;\n",
    "3. Объединены датасеты в один, затем получившаяся таблица разделили на данные по клиентам с подпиской и без нее.\n",
    "4. На основании данных из получившихся таблиц были проанализированы время поездки и расстояние для каждой категории клиентов.\n",
    "В соответствующие таблицы добавлены столбцы с информацией о суммарном времени поездок, дистанции и рассчитанной выручкой за месяц.\n",
    "5. Проведено небольшое исследование и выявлены пользователи, которым стоит отправить промокоды (всего 5553 человека, довольно приличное количество), поскольку такие люди мало ездят и продолжительность их поездок невелика, то перейдя в категорию ultra, выручка от них увеличится. \n",
    "6. Проверены гипотезы от продакт-менеджеров:\n",
    " 1. Нам удалось опровергнуть нулевую гипотезу, тест показал, что пользователи с подпиской тратят больше времени на поездки, чем пользователи без подписки.\n",
    " 2. Не удалось опровергнуть гипотезу, что среднее расстояние, которое проезжают пользователи с подпиской за одну поездку, не превышает 3130 метров. Мы не можем утверждать это с уверенностью.\n",
    " 3. Так же тест показал, что помесячная выручка от пользователей с подпиской по месяцам выше, чем выручка от пользователей без подписки. Нулевая гипотеза отвергается."
   ]
  }
 ],
 "metadata": {
  "ExecuteTimeLog": [
   {
    "duration": 55,
    "start_time": "2023-11-21T15:20:37.673Z"
   },
   {
    "duration": 408,
    "start_time": "2023-11-21T15:20:40.541Z"
   },
   {
    "duration": 87,
    "start_time": "2023-11-21T15:20:42.428Z"
   },
   {
    "duration": 115,
    "start_time": "2023-11-21T15:21:33.228Z"
   },
   {
    "duration": 204,
    "start_time": "2023-11-21T15:22:40.761Z"
   },
   {
    "duration": 109,
    "start_time": "2023-11-21T15:23:21.040Z"
   },
   {
    "duration": 21,
    "start_time": "2023-11-21T15:23:26.481Z"
   },
   {
    "duration": 9,
    "start_time": "2023-11-21T15:23:51.863Z"
   },
   {
    "duration": 8,
    "start_time": "2023-11-21T15:24:29.070Z"
   },
   {
    "duration": 8,
    "start_time": "2023-11-21T15:24:34.232Z"
   },
   {
    "duration": 7,
    "start_time": "2023-11-21T15:24:49.832Z"
   },
   {
    "duration": 7,
    "start_time": "2023-11-21T15:25:05.342Z"
   },
   {
    "duration": 15,
    "start_time": "2023-11-21T16:21:20.052Z"
   },
   {
    "duration": 12,
    "start_time": "2023-11-21T16:22:06.339Z"
   },
   {
    "duration": 11,
    "start_time": "2023-11-21T16:22:37.594Z"
   },
   {
    "duration": 8,
    "start_time": "2023-11-21T16:24:44.519Z"
   },
   {
    "duration": 16,
    "start_time": "2023-11-21T17:12:53.997Z"
   },
   {
    "duration": 55,
    "start_time": "2023-11-21T17:13:58.915Z"
   },
   {
    "duration": 23,
    "start_time": "2023-11-21T17:14:19.996Z"
   },
   {
    "duration": 11,
    "start_time": "2023-11-21T17:18:44.685Z"
   },
   {
    "duration": 9,
    "start_time": "2023-11-21T17:18:50.956Z"
   },
   {
    "duration": 8,
    "start_time": "2023-11-21T17:19:37.188Z"
   },
   {
    "duration": 13,
    "start_time": "2023-11-21T17:22:56.984Z"
   },
   {
    "duration": 12,
    "start_time": "2023-11-21T17:23:54.926Z"
   },
   {
    "duration": 13,
    "start_time": "2023-11-21T17:24:15.141Z"
   },
   {
    "duration": 93,
    "start_time": "2023-11-21T17:26:37.715Z"
   },
   {
    "duration": 8,
    "start_time": "2023-11-21T17:26:58.410Z"
   },
   {
    "duration": 9,
    "start_time": "2023-11-21T17:27:17.202Z"
   },
   {
    "duration": 4,
    "start_time": "2023-11-21T17:28:55.560Z"
   },
   {
    "duration": 13,
    "start_time": "2023-11-21T17:29:14.415Z"
   },
   {
    "duration": 10,
    "start_time": "2023-11-21T17:33:12.306Z"
   },
   {
    "duration": 7,
    "start_time": "2023-11-21T17:35:17.976Z"
   },
   {
    "duration": 9,
    "start_time": "2023-11-21T17:36:37.550Z"
   },
   {
    "duration": 448,
    "start_time": "2023-11-21T17:36:49.308Z"
   },
   {
    "duration": 67,
    "start_time": "2023-11-21T17:36:49.759Z"
   },
   {
    "duration": 15,
    "start_time": "2023-11-21T17:36:49.828Z"
   },
   {
    "duration": 14,
    "start_time": "2023-11-21T17:36:49.845Z"
   },
   {
    "duration": 6,
    "start_time": "2023-11-21T17:36:49.861Z"
   },
   {
    "duration": 30,
    "start_time": "2023-11-21T17:36:49.869Z"
   },
   {
    "duration": 34,
    "start_time": "2023-11-21T17:36:49.900Z"
   },
   {
    "duration": 8,
    "start_time": "2023-11-21T17:36:49.936Z"
   },
   {
    "duration": 14,
    "start_time": "2023-11-21T17:36:49.946Z"
   },
   {
    "duration": 8,
    "start_time": "2023-11-21T17:37:35.653Z"
   },
   {
    "duration": 7,
    "start_time": "2023-11-21T17:38:11.899Z"
   },
   {
    "duration": 398,
    "start_time": "2023-11-21T17:38:51.196Z"
   },
   {
    "duration": 65,
    "start_time": "2023-11-21T17:38:51.595Z"
   },
   {
    "duration": 13,
    "start_time": "2023-11-21T17:38:51.662Z"
   },
   {
    "duration": 19,
    "start_time": "2023-11-21T17:38:51.677Z"
   },
   {
    "duration": 4,
    "start_time": "2023-11-21T17:38:51.698Z"
   },
   {
    "duration": 22,
    "start_time": "2023-11-21T17:38:51.703Z"
   },
   {
    "duration": 9,
    "start_time": "2023-11-21T17:38:51.726Z"
   },
   {
    "duration": 7,
    "start_time": "2023-11-21T17:38:51.736Z"
   },
   {
    "duration": 7,
    "start_time": "2023-11-21T17:38:51.744Z"
   },
   {
    "duration": 8,
    "start_time": "2023-11-21T17:39:02.129Z"
   },
   {
    "duration": 8,
    "start_time": "2023-11-21T17:39:55.976Z"
   },
   {
    "duration": 9,
    "start_time": "2023-11-21T17:40:20.489Z"
   },
   {
    "duration": 8,
    "start_time": "2023-11-21T17:40:48.591Z"
   },
   {
    "duration": 535,
    "start_time": "2023-11-21T17:42:06.644Z"
   },
   {
    "duration": 130,
    "start_time": "2023-11-21T17:42:34.236Z"
   },
   {
    "duration": 152,
    "start_time": "2023-11-21T17:42:47.029Z"
   },
   {
    "duration": 159,
    "start_time": "2023-11-21T17:42:54.603Z"
   },
   {
    "duration": 213,
    "start_time": "2023-11-21T17:43:00.979Z"
   },
   {
    "duration": 133,
    "start_time": "2023-11-21T17:43:06.771Z"
   },
   {
    "duration": 130,
    "start_time": "2023-11-21T17:43:12.340Z"
   },
   {
    "duration": 151,
    "start_time": "2023-11-21T17:44:22.090Z"
   },
   {
    "duration": 150,
    "start_time": "2023-11-21T17:45:27.369Z"
   },
   {
    "duration": 140,
    "start_time": "2023-11-21T17:45:56.305Z"
   },
   {
    "duration": 141,
    "start_time": "2023-11-21T17:52:36.007Z"
   },
   {
    "duration": 114,
    "start_time": "2023-11-21T17:52:46.279Z"
   },
   {
    "duration": 115,
    "start_time": "2023-11-21T17:53:09.230Z"
   },
   {
    "duration": 113,
    "start_time": "2023-11-21T17:53:17.350Z"
   },
   {
    "duration": 94,
    "start_time": "2023-11-21T17:53:21.926Z"
   },
   {
    "duration": 165,
    "start_time": "2023-11-21T17:53:25.694Z"
   },
   {
    "duration": 112,
    "start_time": "2023-11-21T17:53:30.918Z"
   },
   {
    "duration": 104,
    "start_time": "2023-11-21T17:53:35.974Z"
   },
   {
    "duration": 139,
    "start_time": "2023-11-21T17:56:42.865Z"
   },
   {
    "duration": 136,
    "start_time": "2023-11-21T17:57:27.995Z"
   },
   {
    "duration": 172,
    "start_time": "2023-11-21T17:57:39.736Z"
   },
   {
    "duration": 169,
    "start_time": "2023-11-21T17:57:49.738Z"
   },
   {
    "duration": 151,
    "start_time": "2023-11-21T17:58:10.914Z"
   },
   {
    "duration": 167,
    "start_time": "2023-11-21T17:58:23.194Z"
   },
   {
    "duration": 188,
    "start_time": "2023-11-21T17:58:33.689Z"
   },
   {
    "duration": 204,
    "start_time": "2023-11-21T17:59:39.936Z"
   },
   {
    "duration": 309,
    "start_time": "2023-11-21T17:59:55.464Z"
   },
   {
    "duration": 243,
    "start_time": "2023-11-21T18:04:17.308Z"
   },
   {
    "duration": 221,
    "start_time": "2023-11-21T18:06:22.994Z"
   },
   {
    "duration": 755,
    "start_time": "2023-11-21T18:06:42.545Z"
   },
   {
    "duration": 208,
    "start_time": "2023-11-21T18:06:59.185Z"
   },
   {
    "duration": 223,
    "start_time": "2023-11-21T18:07:30.529Z"
   },
   {
    "duration": 346,
    "start_time": "2023-11-21T18:15:03.561Z"
   },
   {
    "duration": 225,
    "start_time": "2023-11-21T18:16:46.400Z"
   },
   {
    "duration": 10,
    "start_time": "2023-11-21T18:24:19.740Z"
   },
   {
    "duration": 21,
    "start_time": "2023-11-21T18:24:33.180Z"
   },
   {
    "duration": 25,
    "start_time": "2023-11-21T18:27:44.721Z"
   },
   {
    "duration": 9,
    "start_time": "2023-11-21T18:28:41.590Z"
   },
   {
    "duration": 18,
    "start_time": "2023-11-21T18:31:44.307Z"
   },
   {
    "duration": 19,
    "start_time": "2023-11-21T18:32:37.617Z"
   },
   {
    "duration": 279,
    "start_time": "2023-11-21T18:34:52.361Z"
   },
   {
    "duration": 231,
    "start_time": "2023-11-21T18:35:27.375Z"
   },
   {
    "duration": 240,
    "start_time": "2023-11-21T18:35:32.710Z"
   },
   {
    "duration": 205,
    "start_time": "2023-11-21T18:36:47.469Z"
   },
   {
    "duration": 213,
    "start_time": "2023-11-21T18:36:56.269Z"
   },
   {
    "duration": 275,
    "start_time": "2023-11-21T18:40:11.625Z"
   },
   {
    "duration": 477,
    "start_time": "2023-11-21T18:42:27.493Z"
   },
   {
    "duration": 319,
    "start_time": "2023-11-21T18:44:19.875Z"
   },
   {
    "duration": 282,
    "start_time": "2023-11-21T18:45:20.659Z"
   },
   {
    "duration": 286,
    "start_time": "2023-11-21T18:45:32.218Z"
   },
   {
    "duration": 302,
    "start_time": "2023-11-21T18:46:47.984Z"
   },
   {
    "duration": 293,
    "start_time": "2023-11-21T18:47:53.935Z"
   },
   {
    "duration": 418,
    "start_time": "2023-11-21T18:48:36.766Z"
   },
   {
    "duration": 305,
    "start_time": "2023-11-21T18:50:11.060Z"
   },
   {
    "duration": 233,
    "start_time": "2023-11-21T18:50:31.372Z"
   },
   {
    "duration": 188,
    "start_time": "2023-11-21T18:51:14.922Z"
   },
   {
    "duration": 995,
    "start_time": "2023-11-21T18:51:37.323Z"
   },
   {
    "duration": 295,
    "start_time": "2023-11-21T18:51:55.650Z"
   },
   {
    "duration": 274,
    "start_time": "2023-11-21T18:53:58.983Z"
   },
   {
    "duration": 476,
    "start_time": "2023-11-21T18:55:20.141Z"
   },
   {
    "duration": 293,
    "start_time": "2023-11-21T18:56:42.619Z"
   },
   {
    "duration": 228,
    "start_time": "2023-11-21T18:58:45.786Z"
   },
   {
    "duration": 16,
    "start_time": "2023-11-21T19:08:04.156Z"
   },
   {
    "duration": 13,
    "start_time": "2023-11-21T19:08:12.027Z"
   },
   {
    "duration": 29,
    "start_time": "2023-11-21T19:12:21.619Z"
   },
   {
    "duration": 28,
    "start_time": "2023-11-21T19:12:31.290Z"
   },
   {
    "duration": 10,
    "start_time": "2023-11-21T19:32:46.251Z"
   },
   {
    "duration": 17,
    "start_time": "2023-11-21T19:33:06.817Z"
   },
   {
    "duration": 26,
    "start_time": "2023-11-21T19:33:24.786Z"
   },
   {
    "duration": 3,
    "start_time": "2023-11-21T19:36:45.477Z"
   },
   {
    "duration": 33,
    "start_time": "2023-11-21T19:44:27.717Z"
   },
   {
    "duration": 22,
    "start_time": "2023-11-21T19:45:01.331Z"
   },
   {
    "duration": 21,
    "start_time": "2023-11-21T19:45:06.363Z"
   },
   {
    "duration": 26,
    "start_time": "2023-11-21T19:45:40.410Z"
   },
   {
    "duration": 92,
    "start_time": "2023-11-21T20:06:42.815Z"
   },
   {
    "duration": 9,
    "start_time": "2023-11-21T20:09:11.146Z"
   },
   {
    "duration": 7,
    "start_time": "2023-11-21T20:09:33.723Z"
   },
   {
    "duration": 11,
    "start_time": "2023-11-21T20:10:08.634Z"
   },
   {
    "duration": 16,
    "start_time": "2023-11-21T20:10:39.201Z"
   },
   {
    "duration": 17,
    "start_time": "2023-11-21T20:12:11.623Z"
   },
   {
    "duration": 15,
    "start_time": "2023-11-21T20:13:26.885Z"
   },
   {
    "duration": 15,
    "start_time": "2023-11-21T20:13:34.485Z"
   },
   {
    "duration": 22,
    "start_time": "2023-11-21T20:18:31.903Z"
   },
   {
    "duration": 46,
    "start_time": "2023-11-21T20:18:55.288Z"
   },
   {
    "duration": 48,
    "start_time": "2023-11-21T20:19:43.223Z"
   },
   {
    "duration": 16,
    "start_time": "2023-11-21T20:27:04.901Z"
   },
   {
    "duration": 978,
    "start_time": "2023-11-21T20:27:42.787Z"
   },
   {
    "duration": 15,
    "start_time": "2023-11-21T20:28:25.652Z"
   },
   {
    "duration": 15,
    "start_time": "2023-11-21T20:30:12.393Z"
   },
   {
    "duration": 12,
    "start_time": "2023-11-21T20:30:28.888Z"
   },
   {
    "duration": 12,
    "start_time": "2023-11-21T20:34:03.011Z"
   },
   {
    "duration": 17,
    "start_time": "2023-11-21T20:34:10.404Z"
   },
   {
    "duration": 968,
    "start_time": "2023-11-21T20:34:18.762Z"
   },
   {
    "duration": 933,
    "start_time": "2023-11-21T20:34:50.874Z"
   },
   {
    "duration": 29,
    "start_time": "2023-11-21T20:35:16.610Z"
   },
   {
    "duration": 524,
    "start_time": "2023-11-21T20:48:26.105Z"
   },
   {
    "duration": 17,
    "start_time": "2023-11-21T20:49:03.344Z"
   },
   {
    "duration": 548,
    "start_time": "2023-11-21T20:49:26.041Z"
   },
   {
    "duration": 450,
    "start_time": "2023-11-21T20:50:04.175Z"
   },
   {
    "duration": 19,
    "start_time": "2023-11-21T20:50:53.678Z"
   },
   {
    "duration": 20,
    "start_time": "2023-11-21T20:51:05.101Z"
   },
   {
    "duration": 554,
    "start_time": "2023-11-21T20:51:13.285Z"
   },
   {
    "duration": 460,
    "start_time": "2023-11-21T20:51:27.908Z"
   },
   {
    "duration": 545,
    "start_time": "2023-11-21T20:53:41.681Z"
   },
   {
    "duration": 590,
    "start_time": "2023-11-21T20:54:44.896Z"
   },
   {
    "duration": 509,
    "start_time": "2023-11-21T20:57:51.205Z"
   },
   {
    "duration": 1402,
    "start_time": "2023-11-21T21:04:22.164Z"
   },
   {
    "duration": 508,
    "start_time": "2023-11-21T21:04:47.939Z"
   },
   {
    "duration": 484,
    "start_time": "2023-11-21T21:05:20.378Z"
   },
   {
    "duration": 544,
    "start_time": "2023-11-21T21:05:45.178Z"
   },
   {
    "duration": 506,
    "start_time": "2023-11-21T21:08:45.911Z"
   },
   {
    "duration": 479,
    "start_time": "2023-11-21T21:09:38.885Z"
   },
   {
    "duration": 467,
    "start_time": "2023-11-21T21:12:14.706Z"
   },
   {
    "duration": 483,
    "start_time": "2023-11-21T21:13:27.960Z"
   },
   {
    "duration": 513,
    "start_time": "2023-11-21T21:14:02.727Z"
   },
   {
    "duration": 334,
    "start_time": "2023-11-21T21:14:23.558Z"
   },
   {
    "duration": 91,
    "start_time": "2023-11-22T05:24:57.835Z"
   },
   {
    "duration": 43,
    "start_time": "2023-11-22T05:25:29.726Z"
   },
   {
    "duration": 410,
    "start_time": "2023-11-22T05:25:37.760Z"
   },
   {
    "duration": 184,
    "start_time": "2023-11-22T05:25:38.172Z"
   },
   {
    "duration": 15,
    "start_time": "2023-11-22T05:25:38.357Z"
   },
   {
    "duration": 14,
    "start_time": "2023-11-22T05:25:38.373Z"
   },
   {
    "duration": 4,
    "start_time": "2023-11-22T05:25:38.390Z"
   },
   {
    "duration": 22,
    "start_time": "2023-11-22T05:25:38.397Z"
   },
   {
    "duration": 44,
    "start_time": "2023-11-22T05:25:38.421Z"
   },
   {
    "duration": 14,
    "start_time": "2023-11-22T05:25:38.467Z"
   },
   {
    "duration": 7,
    "start_time": "2023-11-22T05:25:38.483Z"
   },
   {
    "duration": 603,
    "start_time": "2023-11-22T05:25:38.492Z"
   },
   {
    "duration": 120,
    "start_time": "2023-11-22T05:25:39.097Z"
   },
   {
    "duration": 232,
    "start_time": "2023-11-22T05:25:39.218Z"
   },
   {
    "duration": 239,
    "start_time": "2023-11-22T05:25:39.451Z"
   },
   {
    "duration": 287,
    "start_time": "2023-11-22T05:25:39.693Z"
   },
   {
    "duration": 27,
    "start_time": "2023-11-22T05:25:39.982Z"
   },
   {
    "duration": 15,
    "start_time": "2023-11-22T05:25:40.010Z"
   },
   {
    "duration": 37,
    "start_time": "2023-11-22T05:25:40.026Z"
   },
   {
    "duration": 315,
    "start_time": "2023-11-22T05:25:40.065Z"
   },
   {
    "duration": 308,
    "start_time": "2023-11-22T05:25:40.381Z"
   },
   {
    "duration": 504,
    "start_time": "2023-11-22T05:25:40.690Z"
   },
   {
    "duration": 346,
    "start_time": "2023-11-22T05:25:41.196Z"
   },
   {
    "duration": 525,
    "start_time": "2023-11-22T05:27:48.984Z"
   },
   {
    "duration": 539,
    "start_time": "2023-11-22T05:28:19.763Z"
   },
   {
    "duration": 582,
    "start_time": "2023-11-22T05:28:38.199Z"
   },
   {
    "duration": 542,
    "start_time": "2023-11-22T05:29:01.604Z"
   },
   {
    "duration": 452,
    "start_time": "2023-11-22T05:31:36.563Z"
   },
   {
    "duration": 421,
    "start_time": "2023-11-22T05:32:28.767Z"
   },
   {
    "duration": 417,
    "start_time": "2023-11-22T05:33:14.958Z"
   },
   {
    "duration": 561,
    "start_time": "2023-11-22T05:41:27.529Z"
   },
   {
    "duration": 186,
    "start_time": "2023-11-22T05:41:37.181Z"
   },
   {
    "duration": 514,
    "start_time": "2023-11-22T05:41:47.412Z"
   },
   {
    "duration": 526,
    "start_time": "2023-11-22T05:44:35.439Z"
   },
   {
    "duration": 451,
    "start_time": "2023-11-22T05:52:41.122Z"
   },
   {
    "duration": 3,
    "start_time": "2023-11-22T05:52:44.562Z"
   },
   {
    "duration": 6,
    "start_time": "2023-11-22T06:10:19.584Z"
   },
   {
    "duration": 103,
    "start_time": "2023-11-22T06:15:04.532Z"
   },
   {
    "duration": 6,
    "start_time": "2023-11-22T06:15:12.338Z"
   },
   {
    "duration": 5,
    "start_time": "2023-11-22T06:21:21.853Z"
   },
   {
    "duration": 5,
    "start_time": "2023-11-22T06:24:01.730Z"
   },
   {
    "duration": 410,
    "start_time": "2023-11-22T06:33:51.202Z"
   },
   {
    "duration": 2478,
    "start_time": "2023-11-22T06:35:57.793Z"
   },
   {
    "duration": 6,
    "start_time": "2023-11-22T06:36:34.550Z"
   },
   {
    "duration": 6,
    "start_time": "2023-11-22T06:36:56.573Z"
   },
   {
    "duration": 8,
    "start_time": "2023-11-22T06:38:24.500Z"
   },
   {
    "duration": 368,
    "start_time": "2023-11-22T06:40:47.994Z"
   },
   {
    "duration": 518,
    "start_time": "2023-11-22T06:41:12.554Z"
   },
   {
    "duration": 67,
    "start_time": "2023-11-22T08:08:47.880Z"
   },
   {
    "duration": 365,
    "start_time": "2023-11-22T08:09:02.457Z"
   },
   {
    "duration": 170,
    "start_time": "2023-11-22T08:11:13.843Z"
   },
   {
    "duration": 124,
    "start_time": "2023-11-22T08:12:00.875Z"
   },
   {
    "duration": 141,
    "start_time": "2023-11-22T08:18:25.234Z"
   },
   {
    "duration": 3070,
    "start_time": "2023-11-22T08:18:32.908Z"
   },
   {
    "duration": 141,
    "start_time": "2023-11-22T08:22:03.936Z"
   },
   {
    "duration": 13,
    "start_time": "2023-11-22T08:39:14.695Z"
   },
   {
    "duration": 0,
    "start_time": "2023-11-22T08:41:10.721Z"
   },
   {
    "duration": 840,
    "start_time": "2023-11-22T08:42:25.607Z"
   },
   {
    "duration": 66,
    "start_time": "2023-11-22T08:42:26.449Z"
   },
   {
    "duration": 15,
    "start_time": "2023-11-22T08:42:26.516Z"
   },
   {
    "duration": 20,
    "start_time": "2023-11-22T08:42:26.533Z"
   },
   {
    "duration": 5,
    "start_time": "2023-11-22T08:42:26.556Z"
   },
   {
    "duration": 26,
    "start_time": "2023-11-22T08:42:26.563Z"
   },
   {
    "duration": 10,
    "start_time": "2023-11-22T08:42:26.591Z"
   },
   {
    "duration": 10,
    "start_time": "2023-11-22T08:42:26.603Z"
   },
   {
    "duration": 12,
    "start_time": "2023-11-22T08:42:26.615Z"
   },
   {
    "duration": 552,
    "start_time": "2023-11-22T08:42:26.629Z"
   },
   {
    "duration": 124,
    "start_time": "2023-11-22T08:42:27.183Z"
   },
   {
    "duration": 245,
    "start_time": "2023-11-22T08:42:27.308Z"
   },
   {
    "duration": 257,
    "start_time": "2023-11-22T08:42:27.559Z"
   },
   {
    "duration": 255,
    "start_time": "2023-11-22T08:42:27.820Z"
   },
   {
    "duration": 29,
    "start_time": "2023-11-22T08:42:28.077Z"
   },
   {
    "duration": 16,
    "start_time": "2023-11-22T08:42:28.108Z"
   },
   {
    "duration": 40,
    "start_time": "2023-11-22T08:42:28.126Z"
   },
   {
    "duration": 352,
    "start_time": "2023-11-22T08:42:28.168Z"
   },
   {
    "duration": 327,
    "start_time": "2023-11-22T08:42:28.522Z"
   },
   {
    "duration": 524,
    "start_time": "2023-11-22T08:42:28.851Z"
   },
   {
    "duration": 391,
    "start_time": "2023-11-22T08:42:29.377Z"
   },
   {
    "duration": 6,
    "start_time": "2023-11-22T08:42:29.769Z"
   },
   {
    "duration": 7,
    "start_time": "2023-11-22T08:42:29.776Z"
   },
   {
    "duration": 6,
    "start_time": "2023-11-22T08:42:29.784Z"
   },
   {
    "duration": 169,
    "start_time": "2023-11-22T08:42:29.791Z"
   },
   {
    "duration": 89907,
    "start_time": "2023-11-22T08:42:29.962Z"
   },
   {
    "duration": 88252,
    "start_time": "2023-11-22T08:47:40.188Z"
   },
   {
    "duration": 205,
    "start_time": "2023-11-22T10:09:08.615Z"
   },
   {
    "duration": 243,
    "start_time": "2023-11-22T10:13:31.628Z"
   },
   {
    "duration": 229,
    "start_time": "2023-11-22T10:14:57.932Z"
   },
   {
    "duration": 235,
    "start_time": "2023-11-22T10:16:21.031Z"
   },
   {
    "duration": 1472,
    "start_time": "2023-11-22T10:21:52.337Z"
   },
   {
    "duration": 1653,
    "start_time": "2023-11-22T10:24:15.655Z"
   },
   {
    "duration": 1544,
    "start_time": "2023-11-22T10:26:14.891Z"
   },
   {
    "duration": 1773,
    "start_time": "2023-11-22T10:26:31.645Z"
   },
   {
    "duration": 195,
    "start_time": "2023-11-22T10:28:08.402Z"
   },
   {
    "duration": 1635,
    "start_time": "2023-11-22T10:55:36.745Z"
   },
   {
    "duration": 243,
    "start_time": "2023-11-22T10:58:02.955Z"
   },
   {
    "duration": 1624,
    "start_time": "2023-11-22T10:58:10.742Z"
   },
   {
    "duration": 388,
    "start_time": "2023-11-22T10:58:58.882Z"
   },
   {
    "duration": 1623,
    "start_time": "2023-11-22T10:59:39.657Z"
   },
   {
    "duration": 1789,
    "start_time": "2023-11-22T11:03:06.090Z"
   },
   {
    "duration": 10,
    "start_time": "2023-11-22T11:06:19.616Z"
   },
   {
    "duration": 10,
    "start_time": "2023-11-22T11:06:33.542Z"
   },
   {
    "duration": 1787,
    "start_time": "2023-11-22T11:06:47.634Z"
   },
   {
    "duration": 1534,
    "start_time": "2023-11-22T11:07:16.016Z"
   },
   {
    "duration": 2130,
    "start_time": "2023-11-22T11:07:34.272Z"
   },
   {
    "duration": 730,
    "start_time": "2023-11-22T11:28:21.074Z"
   },
   {
    "duration": 2141,
    "start_time": "2023-11-22T11:28:37.265Z"
   },
   {
    "duration": 2590,
    "start_time": "2023-11-22T11:30:47.452Z"
   },
   {
    "duration": 236,
    "start_time": "2023-11-22T11:31:27.069Z"
   },
   {
    "duration": 2765,
    "start_time": "2023-11-22T11:31:52.257Z"
   },
   {
    "duration": 2134,
    "start_time": "2023-11-22T11:32:04.932Z"
   },
   {
    "duration": 9,
    "start_time": "2023-11-22T11:34:10.362Z"
   },
   {
    "duration": 2694,
    "start_time": "2023-11-22T11:34:19.215Z"
   },
   {
    "duration": 5,
    "start_time": "2023-11-22T12:46:41.855Z"
   },
   {
    "duration": 5,
    "start_time": "2023-11-22T12:46:52.977Z"
   },
   {
    "duration": 4,
    "start_time": "2023-11-22T12:47:07.328Z"
   },
   {
    "duration": 4,
    "start_time": "2023-11-22T12:47:14.246Z"
   },
   {
    "duration": 5,
    "start_time": "2023-11-22T12:47:18.627Z"
   },
   {
    "duration": 5,
    "start_time": "2023-11-22T12:47:22.944Z"
   },
   {
    "duration": 5,
    "start_time": "2023-11-22T12:47:31.213Z"
   },
   {
    "duration": 4,
    "start_time": "2023-11-22T12:47:37.033Z"
   },
   {
    "duration": 4,
    "start_time": "2023-11-22T12:47:56.708Z"
   },
   {
    "duration": 4,
    "start_time": "2023-11-22T12:48:00.420Z"
   },
   {
    "duration": 5,
    "start_time": "2023-11-22T12:48:04.785Z"
   },
   {
    "duration": 5,
    "start_time": "2023-11-22T12:49:48.073Z"
   },
   {
    "duration": 2795,
    "start_time": "2023-11-22T12:50:54.866Z"
   },
   {
    "duration": 1688,
    "start_time": "2023-11-22T12:51:18.688Z"
   },
   {
    "duration": 300,
    "start_time": "2023-11-22T13:07:53.238Z"
   },
   {
    "duration": 124,
    "start_time": "2023-11-22T13:10:48.662Z"
   },
   {
    "duration": 124,
    "start_time": "2023-11-22T13:12:04.260Z"
   },
   {
    "duration": 215,
    "start_time": "2023-11-22T13:13:28.261Z"
   },
   {
    "duration": 228,
    "start_time": "2023-11-22T13:14:02.981Z"
   },
   {
    "duration": 221,
    "start_time": "2023-11-22T13:14:22.894Z"
   },
   {
    "duration": 218,
    "start_time": "2023-11-22T13:14:34.214Z"
   },
   {
    "duration": 175,
    "start_time": "2023-11-22T13:15:52.130Z"
   },
   {
    "duration": 150,
    "start_time": "2023-11-22T13:16:09.273Z"
   },
   {
    "duration": 188,
    "start_time": "2023-11-22T13:16:55.033Z"
   },
   {
    "duration": 189,
    "start_time": "2023-11-22T13:17:25.960Z"
   },
   {
    "duration": 195,
    "start_time": "2023-11-22T13:18:57.336Z"
   },
   {
    "duration": 181,
    "start_time": "2023-11-22T13:21:35.806Z"
   },
   {
    "duration": 174,
    "start_time": "2023-11-22T13:22:30.986Z"
   },
   {
    "duration": 171,
    "start_time": "2023-11-22T13:22:47.572Z"
   },
   {
    "duration": 47114,
    "start_time": "2023-11-22T13:26:54.829Z"
   },
   {
    "duration": 6,
    "start_time": "2023-11-22T13:35:48.112Z"
   },
   {
    "duration": 172,
    "start_time": "2023-11-22T14:49:29.887Z"
   },
   {
    "duration": 894,
    "start_time": "2023-11-22T16:23:11.022Z"
   },
   {
    "duration": 69,
    "start_time": "2023-11-22T16:23:11.918Z"
   },
   {
    "duration": 15,
    "start_time": "2023-11-22T16:23:11.989Z"
   },
   {
    "duration": 14,
    "start_time": "2023-11-22T16:23:12.005Z"
   },
   {
    "duration": 19,
    "start_time": "2023-11-22T16:23:12.020Z"
   },
   {
    "duration": 30,
    "start_time": "2023-11-22T16:23:12.040Z"
   },
   {
    "duration": 10,
    "start_time": "2023-11-22T16:23:12.071Z"
   },
   {
    "duration": 8,
    "start_time": "2023-11-22T16:23:12.082Z"
   },
   {
    "duration": 8,
    "start_time": "2023-11-22T16:23:12.091Z"
   },
   {
    "duration": 468,
    "start_time": "2023-11-22T16:23:12.101Z"
   },
   {
    "duration": 118,
    "start_time": "2023-11-22T16:23:12.570Z"
   },
   {
    "duration": 246,
    "start_time": "2023-11-22T16:23:12.690Z"
   },
   {
    "duration": 246,
    "start_time": "2023-11-22T16:23:12.937Z"
   },
   {
    "duration": 247,
    "start_time": "2023-11-22T16:23:13.185Z"
   },
   {
    "duration": 39,
    "start_time": "2023-11-22T16:23:13.434Z"
   },
   {
    "duration": 16,
    "start_time": "2023-11-22T16:23:13.474Z"
   },
   {
    "duration": 14,
    "start_time": "2023-11-22T16:23:13.491Z"
   },
   {
    "duration": 342,
    "start_time": "2023-11-22T16:23:13.507Z"
   },
   {
    "duration": 311,
    "start_time": "2023-11-22T16:23:13.858Z"
   },
   {
    "duration": 528,
    "start_time": "2023-11-22T16:23:14.171Z"
   },
   {
    "duration": 373,
    "start_time": "2023-11-22T16:23:14.700Z"
   },
   {
    "duration": 5,
    "start_time": "2023-11-22T16:23:15.074Z"
   },
   {
    "duration": 39,
    "start_time": "2023-11-22T16:23:15.080Z"
   },
   {
    "duration": 32,
    "start_time": "2023-11-22T16:23:15.120Z"
   },
   {
    "duration": 175,
    "start_time": "2023-11-22T16:23:15.153Z"
   },
   {
    "duration": 5,
    "start_time": "2023-11-22T16:23:15.330Z"
   },
   {
    "duration": 235,
    "start_time": "2023-11-22T16:36:31.173Z"
   },
   {
    "duration": 566,
    "start_time": "2023-11-22T16:41:19.563Z"
   },
   {
    "duration": 581,
    "start_time": "2023-11-22T16:41:26.619Z"
   },
   {
    "duration": 371,
    "start_time": "2023-11-22T16:41:36.555Z"
   },
   {
    "duration": 18,
    "start_time": "2023-11-23T05:43:16.745Z"
   },
   {
    "duration": 14,
    "start_time": "2023-11-23T05:48:59.149Z"
   },
   {
    "duration": 15,
    "start_time": "2023-11-23T05:49:21.236Z"
   },
   {
    "duration": 13,
    "start_time": "2023-11-23T05:50:07.914Z"
   },
   {
    "duration": 320,
    "start_time": "2023-11-23T06:05:59.962Z"
   },
   {
    "duration": 318,
    "start_time": "2023-11-23T06:08:09.523Z"
   },
   {
    "duration": 331,
    "start_time": "2023-11-23T06:15:44.846Z"
   },
   {
    "duration": 48,
    "start_time": "2023-11-23T12:27:17.235Z"
   },
   {
    "duration": 868,
    "start_time": "2023-11-23T12:27:27.877Z"
   },
   {
    "duration": 303,
    "start_time": "2023-11-23T12:27:28.747Z"
   },
   {
    "duration": 24,
    "start_time": "2023-11-23T12:27:29.051Z"
   },
   {
    "duration": 21,
    "start_time": "2023-11-23T12:27:29.077Z"
   },
   {
    "duration": 24,
    "start_time": "2023-11-23T12:27:29.100Z"
   },
   {
    "duration": 18,
    "start_time": "2023-11-23T12:27:29.125Z"
   },
   {
    "duration": 8,
    "start_time": "2023-11-23T12:27:29.145Z"
   },
   {
    "duration": 27,
    "start_time": "2023-11-23T12:27:29.154Z"
   },
   {
    "duration": 18,
    "start_time": "2023-11-23T12:27:29.182Z"
   },
   {
    "duration": 591,
    "start_time": "2023-11-23T12:27:29.201Z"
   },
   {
    "duration": 123,
    "start_time": "2023-11-23T12:27:29.799Z"
   },
   {
    "duration": 242,
    "start_time": "2023-11-23T12:27:29.924Z"
   },
   {
    "duration": 249,
    "start_time": "2023-11-23T12:27:30.168Z"
   },
   {
    "duration": 239,
    "start_time": "2023-11-23T12:27:30.421Z"
   },
   {
    "duration": 17,
    "start_time": "2023-11-23T12:27:30.662Z"
   },
   {
    "duration": 74,
    "start_time": "2023-11-23T12:27:30.681Z"
   },
   {
    "duration": 96,
    "start_time": "2023-11-23T12:27:30.757Z"
   },
   {
    "duration": 83,
    "start_time": "2023-11-23T12:27:30.855Z"
   },
   {
    "duration": 406,
    "start_time": "2023-11-23T12:27:30.940Z"
   },
   {
    "duration": 0,
    "start_time": "2023-11-23T12:27:31.348Z"
   },
   {
    "duration": 0,
    "start_time": "2023-11-23T12:27:31.350Z"
   },
   {
    "duration": 0,
    "start_time": "2023-11-23T12:27:31.351Z"
   },
   {
    "duration": 0,
    "start_time": "2023-11-23T12:27:31.353Z"
   },
   {
    "duration": 0,
    "start_time": "2023-11-23T12:27:31.354Z"
   },
   {
    "duration": 0,
    "start_time": "2023-11-23T12:27:31.356Z"
   },
   {
    "duration": 0,
    "start_time": "2023-11-23T12:27:31.357Z"
   },
   {
    "duration": 0,
    "start_time": "2023-11-23T12:27:31.359Z"
   },
   {
    "duration": 159,
    "start_time": "2023-11-23T12:28:01.660Z"
   },
   {
    "duration": 263,
    "start_time": "2023-11-23T12:28:13.791Z"
   },
   {
    "duration": 226,
    "start_time": "2023-11-23T12:30:52.849Z"
   },
   {
    "duration": 144,
    "start_time": "2023-11-23T12:31:13.677Z"
   },
   {
    "duration": 142,
    "start_time": "2023-11-23T12:31:51.680Z"
   },
   {
    "duration": 148,
    "start_time": "2023-11-23T12:32:10.112Z"
   },
   {
    "duration": 151,
    "start_time": "2023-11-23T12:37:00.040Z"
   },
   {
    "duration": 3,
    "start_time": "2023-11-23T12:37:53.400Z"
   },
   {
    "duration": 158,
    "start_time": "2023-11-23T12:37:59.901Z"
   },
   {
    "duration": 246,
    "start_time": "2023-11-23T12:38:33.464Z"
   },
   {
    "duration": 3,
    "start_time": "2023-11-23T12:38:58.634Z"
   },
   {
    "duration": 246,
    "start_time": "2023-11-23T12:39:16.005Z"
   },
   {
    "duration": 181,
    "start_time": "2023-11-23T12:40:13.901Z"
   },
   {
    "duration": 161,
    "start_time": "2023-11-23T12:40:32.478Z"
   },
   {
    "duration": 817,
    "start_time": "2023-11-23T12:40:52.730Z"
   },
   {
    "duration": 69,
    "start_time": "2023-11-23T12:40:53.549Z"
   },
   {
    "duration": 23,
    "start_time": "2023-11-23T12:40:53.620Z"
   },
   {
    "duration": 13,
    "start_time": "2023-11-23T12:40:53.645Z"
   },
   {
    "duration": 4,
    "start_time": "2023-11-23T12:40:53.660Z"
   },
   {
    "duration": 16,
    "start_time": "2023-11-23T12:40:53.666Z"
   },
   {
    "duration": 17,
    "start_time": "2023-11-23T12:40:53.684Z"
   },
   {
    "duration": 8,
    "start_time": "2023-11-23T12:40:53.703Z"
   },
   {
    "duration": 7,
    "start_time": "2023-11-23T12:40:53.713Z"
   },
   {
    "duration": 515,
    "start_time": "2023-11-23T12:40:53.722Z"
   },
   {
    "duration": 0,
    "start_time": "2023-11-23T12:40:54.239Z"
   },
   {
    "duration": 0,
    "start_time": "2023-11-23T12:40:54.240Z"
   },
   {
    "duration": 0,
    "start_time": "2023-11-23T12:40:54.241Z"
   },
   {
    "duration": 0,
    "start_time": "2023-11-23T12:40:54.242Z"
   },
   {
    "duration": 0,
    "start_time": "2023-11-23T12:40:54.243Z"
   },
   {
    "duration": 0,
    "start_time": "2023-11-23T12:40:54.244Z"
   },
   {
    "duration": 0,
    "start_time": "2023-11-23T12:40:54.245Z"
   },
   {
    "duration": 0,
    "start_time": "2023-11-23T12:40:54.246Z"
   },
   {
    "duration": 0,
    "start_time": "2023-11-23T12:40:54.248Z"
   },
   {
    "duration": 0,
    "start_time": "2023-11-23T12:40:54.249Z"
   },
   {
    "duration": 0,
    "start_time": "2023-11-23T12:40:54.251Z"
   },
   {
    "duration": 0,
    "start_time": "2023-11-23T12:40:54.252Z"
   },
   {
    "duration": 0,
    "start_time": "2023-11-23T12:40:54.253Z"
   },
   {
    "duration": 0,
    "start_time": "2023-11-23T12:40:54.254Z"
   },
   {
    "duration": 0,
    "start_time": "2023-11-23T12:40:54.256Z"
   },
   {
    "duration": 0,
    "start_time": "2023-11-23T12:40:54.257Z"
   },
   {
    "duration": 0,
    "start_time": "2023-11-23T12:40:54.258Z"
   },
   {
    "duration": 152,
    "start_time": "2023-11-23T12:41:47.173Z"
   },
   {
    "duration": 4,
    "start_time": "2023-11-23T12:41:59.981Z"
   },
   {
    "duration": 164,
    "start_time": "2023-11-23T12:42:03.296Z"
   },
   {
    "duration": 9,
    "start_time": "2023-11-23T12:42:14.276Z"
   },
   {
    "duration": 3,
    "start_time": "2023-11-23T12:42:48.283Z"
   },
   {
    "duration": 1129,
    "start_time": "2023-11-23T12:42:54.374Z"
   },
   {
    "duration": 125,
    "start_time": "2023-11-23T12:42:55.504Z"
   },
   {
    "duration": 22,
    "start_time": "2023-11-23T12:42:55.631Z"
   },
   {
    "duration": 24,
    "start_time": "2023-11-23T12:42:55.655Z"
   },
   {
    "duration": 6,
    "start_time": "2023-11-23T12:42:55.681Z"
   },
   {
    "duration": 35,
    "start_time": "2023-11-23T12:42:55.689Z"
   },
   {
    "duration": 20,
    "start_time": "2023-11-23T12:42:55.725Z"
   },
   {
    "duration": 19,
    "start_time": "2023-11-23T12:42:55.747Z"
   },
   {
    "duration": 49,
    "start_time": "2023-11-23T12:42:55.767Z"
   },
   {
    "duration": 201,
    "start_time": "2023-11-23T12:42:55.819Z"
   },
   {
    "duration": 123,
    "start_time": "2023-11-23T12:42:56.022Z"
   },
   {
    "duration": 255,
    "start_time": "2023-11-23T12:42:56.147Z"
   },
   {
    "duration": 266,
    "start_time": "2023-11-23T12:42:56.404Z"
   },
   {
    "duration": 260,
    "start_time": "2023-11-23T12:42:56.672Z"
   },
   {
    "duration": 15,
    "start_time": "2023-11-23T12:42:56.934Z"
   },
   {
    "duration": 27,
    "start_time": "2023-11-23T12:42:56.951Z"
   },
   {
    "duration": 16,
    "start_time": "2023-11-23T12:42:57.001Z"
   },
   {
    "duration": 15,
    "start_time": "2023-11-23T12:42:57.019Z"
   },
   {
    "duration": 379,
    "start_time": "2023-11-23T12:42:57.035Z"
   },
   {
    "duration": 331,
    "start_time": "2023-11-23T12:42:57.416Z"
   },
   {
    "duration": 591,
    "start_time": "2023-11-23T12:42:57.749Z"
   },
   {
    "duration": 370,
    "start_time": "2023-11-23T12:42:58.342Z"
   },
   {
    "duration": 7,
    "start_time": "2023-11-23T12:42:58.714Z"
   },
   {
    "duration": 39,
    "start_time": "2023-11-23T12:42:58.723Z"
   },
   {
    "duration": 28,
    "start_time": "2023-11-23T12:42:58.765Z"
   },
   {
    "duration": 227,
    "start_time": "2023-11-23T12:42:58.795Z"
   },
   {
    "duration": 6,
    "start_time": "2023-11-23T12:42:59.024Z"
   },
   {
    "duration": 96,
    "start_time": "2023-11-23T12:47:06.339Z"
   },
   {
    "duration": 9,
    "start_time": "2023-11-23T12:47:48.505Z"
   },
   {
    "duration": 189,
    "start_time": "2023-11-23T12:47:55.624Z"
   },
   {
    "duration": 98,
    "start_time": "2023-11-23T12:49:04.663Z"
   },
   {
    "duration": 249,
    "start_time": "2023-11-23T12:50:00.781Z"
   },
   {
    "duration": 331,
    "start_time": "2023-11-23T12:56:21.906Z"
   },
   {
    "duration": 254,
    "start_time": "2023-11-23T12:56:49.870Z"
   },
   {
    "duration": 317,
    "start_time": "2023-11-23T12:59:06.373Z"
   },
   {
    "duration": 326,
    "start_time": "2023-11-23T13:02:08.848Z"
   },
   {
    "duration": 428,
    "start_time": "2023-11-23T13:03:36.989Z"
   },
   {
    "duration": 280,
    "start_time": "2023-11-23T13:03:58.286Z"
   },
   {
    "duration": 392,
    "start_time": "2023-11-23T13:04:15.516Z"
   },
   {
    "duration": 334,
    "start_time": "2023-11-23T13:04:44.155Z"
   },
   {
    "duration": 398,
    "start_time": "2023-11-23T13:06:39.653Z"
   },
   {
    "duration": 353,
    "start_time": "2023-11-23T13:06:59.415Z"
   },
   {
    "duration": 104,
    "start_time": "2023-11-23T13:18:26.430Z"
   },
   {
    "duration": 9,
    "start_time": "2023-11-23T13:19:19.274Z"
   },
   {
    "duration": 195,
    "start_time": "2023-11-23T13:19:32.971Z"
   },
   {
    "duration": 1159,
    "start_time": "2023-11-23T13:21:37.571Z"
   },
   {
    "duration": 123,
    "start_time": "2023-11-23T13:22:01.482Z"
   },
   {
    "duration": 1024,
    "start_time": "2023-11-23T13:24:38.937Z"
   },
   {
    "duration": 1245,
    "start_time": "2023-11-23T13:25:01.981Z"
   },
   {
    "duration": 120,
    "start_time": "2023-11-23T13:27:36.878Z"
   },
   {
    "duration": 1052,
    "start_time": "2023-11-23T13:29:59.229Z"
   },
   {
    "duration": 1463,
    "start_time": "2023-11-23T13:40:13.138Z"
   },
   {
    "duration": 360,
    "start_time": "2023-11-23T13:48:38.178Z"
   },
   {
    "duration": 89,
    "start_time": "2023-11-23T13:50:14.212Z"
   },
   {
    "duration": 113,
    "start_time": "2023-11-23T13:51:04.109Z"
   },
   {
    "duration": 80,
    "start_time": "2023-11-23T13:51:25.552Z"
   },
   {
    "duration": 80,
    "start_time": "2023-11-23T13:51:49.924Z"
   },
   {
    "duration": 103,
    "start_time": "2023-11-23T13:52:09.791Z"
   },
   {
    "duration": 164,
    "start_time": "2023-11-23T13:53:04.362Z"
   },
   {
    "duration": 83,
    "start_time": "2023-11-23T13:54:22.659Z"
   },
   {
    "duration": 75,
    "start_time": "2023-11-23T13:54:36.948Z"
   },
   {
    "duration": 92,
    "start_time": "2023-11-23T13:54:46.791Z"
   },
   {
    "duration": 134,
    "start_time": "2023-11-23T14:03:01.174Z"
   },
   {
    "duration": 88,
    "start_time": "2023-11-23T14:03:26.069Z"
   },
   {
    "duration": 1197,
    "start_time": "2023-11-23T16:19:11.484Z"
   },
   {
    "duration": 256,
    "start_time": "2023-11-23T16:19:12.683Z"
   },
   {
    "duration": 23,
    "start_time": "2023-11-23T16:19:12.940Z"
   },
   {
    "duration": 16,
    "start_time": "2023-11-23T16:19:12.965Z"
   },
   {
    "duration": 24,
    "start_time": "2023-11-23T16:19:12.982Z"
   },
   {
    "duration": 30,
    "start_time": "2023-11-23T16:19:13.008Z"
   },
   {
    "duration": 22,
    "start_time": "2023-11-23T16:19:13.039Z"
   },
   {
    "duration": 19,
    "start_time": "2023-11-23T16:19:13.063Z"
   },
   {
    "duration": 36,
    "start_time": "2023-11-23T16:19:13.084Z"
   },
   {
    "duration": 190,
    "start_time": "2023-11-23T16:19:13.123Z"
   },
   {
    "duration": 102,
    "start_time": "2023-11-23T16:19:13.315Z"
   },
   {
    "duration": 246,
    "start_time": "2023-11-23T16:19:13.419Z"
   },
   {
    "duration": 244,
    "start_time": "2023-11-23T16:19:13.667Z"
   },
   {
    "duration": 241,
    "start_time": "2023-11-23T16:19:13.913Z"
   },
   {
    "duration": 20,
    "start_time": "2023-11-23T16:19:14.155Z"
   },
   {
    "duration": 25,
    "start_time": "2023-11-23T16:19:14.177Z"
   },
   {
    "duration": 14,
    "start_time": "2023-11-23T16:19:14.204Z"
   },
   {
    "duration": 18,
    "start_time": "2023-11-23T16:19:14.219Z"
   },
   {
    "duration": 387,
    "start_time": "2023-11-23T16:19:14.238Z"
   },
   {
    "duration": 295,
    "start_time": "2023-11-23T16:19:14.627Z"
   },
   {
    "duration": 548,
    "start_time": "2023-11-23T16:19:14.924Z"
   },
   {
    "duration": 370,
    "start_time": "2023-11-23T16:19:15.474Z"
   },
   {
    "duration": 5,
    "start_time": "2023-11-23T16:19:15.846Z"
   },
   {
    "duration": 17,
    "start_time": "2023-11-23T16:19:15.852Z"
   },
   {
    "duration": 8,
    "start_time": "2023-11-23T16:19:15.870Z"
   },
   {
    "duration": 193,
    "start_time": "2023-11-23T16:19:15.880Z"
   },
   {
    "duration": 6,
    "start_time": "2023-11-23T16:19:16.074Z"
   },
   {
    "duration": 462,
    "start_time": "2023-11-23T16:31:37.030Z"
   },
   {
    "duration": 419,
    "start_time": "2023-11-23T16:41:07.753Z"
   },
   {
    "duration": 384,
    "start_time": "2023-11-23T16:42:01.833Z"
   },
   {
    "duration": 416,
    "start_time": "2023-11-23T16:46:04.192Z"
   },
   {
    "duration": 405,
    "start_time": "2023-11-23T16:47:00.512Z"
   },
   {
    "duration": 98,
    "start_time": "2023-11-23T16:47:16.926Z"
   },
   {
    "duration": 11,
    "start_time": "2023-11-23T16:51:10.224Z"
   },
   {
    "duration": 10,
    "start_time": "2023-11-23T16:51:23.737Z"
   },
   {
    "duration": 10,
    "start_time": "2023-11-23T16:51:38.687Z"
   },
   {
    "duration": 10,
    "start_time": "2023-11-23T16:51:58.183Z"
   },
   {
    "duration": 1082,
    "start_time": "2023-11-23T16:52:09.463Z"
   },
   {
    "duration": 101,
    "start_time": "2023-11-23T16:52:10.547Z"
   },
   {
    "duration": 24,
    "start_time": "2023-11-23T16:52:10.650Z"
   },
   {
    "duration": 14,
    "start_time": "2023-11-23T16:52:10.676Z"
   },
   {
    "duration": 5,
    "start_time": "2023-11-23T16:52:10.691Z"
   },
   {
    "duration": 18,
    "start_time": "2023-11-23T16:52:10.698Z"
   },
   {
    "duration": 9,
    "start_time": "2023-11-23T16:52:10.717Z"
   },
   {
    "duration": 40,
    "start_time": "2023-11-23T16:52:10.727Z"
   },
   {
    "duration": 18,
    "start_time": "2023-11-23T16:52:10.769Z"
   },
   {
    "duration": 187,
    "start_time": "2023-11-23T16:52:10.790Z"
   },
   {
    "duration": 109,
    "start_time": "2023-11-23T16:52:10.978Z"
   },
   {
    "duration": 251,
    "start_time": "2023-11-23T16:52:11.089Z"
   },
   {
    "duration": 240,
    "start_time": "2023-11-23T16:52:11.341Z"
   },
   {
    "duration": 242,
    "start_time": "2023-11-23T16:52:11.585Z"
   },
   {
    "duration": 14,
    "start_time": "2023-11-23T16:52:11.829Z"
   },
   {
    "duration": 39,
    "start_time": "2023-11-23T16:52:11.844Z"
   },
   {
    "duration": 14,
    "start_time": "2023-11-23T16:52:11.884Z"
   },
   {
    "duration": 13,
    "start_time": "2023-11-23T16:52:11.899Z"
   },
   {
    "duration": 359,
    "start_time": "2023-11-23T16:52:11.914Z"
   },
   {
    "duration": 422,
    "start_time": "2023-11-23T16:52:12.275Z"
   },
   {
    "duration": 542,
    "start_time": "2023-11-23T16:52:12.699Z"
   },
   {
    "duration": 371,
    "start_time": "2023-11-23T16:52:13.243Z"
   },
   {
    "duration": 5,
    "start_time": "2023-11-23T16:52:13.616Z"
   },
   {
    "duration": 6,
    "start_time": "2023-11-23T16:52:13.622Z"
   },
   {
    "duration": 7,
    "start_time": "2023-11-23T16:52:13.630Z"
   },
   {
    "duration": 207,
    "start_time": "2023-11-23T16:52:13.638Z"
   },
   {
    "duration": 5,
    "start_time": "2023-11-23T16:52:13.846Z"
   },
   {
    "duration": 484,
    "start_time": "2023-11-23T16:56:10.936Z"
   },
   {
    "duration": 429,
    "start_time": "2023-11-23T16:56:40.687Z"
   },
   {
    "duration": 313,
    "start_time": "2023-11-23T17:00:50.113Z"
   },
   {
    "duration": 442,
    "start_time": "2023-11-23T17:00:56.625Z"
   },
   {
    "duration": 308,
    "start_time": "2023-11-23T17:02:10.407Z"
   },
   {
    "duration": 514,
    "start_time": "2023-11-23T17:03:21.159Z"
   },
   {
    "duration": 478,
    "start_time": "2023-11-23T17:03:52.100Z"
   },
   {
    "duration": 306,
    "start_time": "2023-11-23T17:04:58.379Z"
   },
   {
    "duration": 427,
    "start_time": "2023-11-23T17:05:51.146Z"
   },
   {
    "duration": 405,
    "start_time": "2023-11-23T17:06:51.554Z"
   },
   {
    "duration": 464,
    "start_time": "2023-11-23T17:07:05.880Z"
   },
   {
    "duration": 540,
    "start_time": "2023-11-23T17:07:56.615Z"
   },
   {
    "duration": 395,
    "start_time": "2023-11-23T17:08:40.934Z"
   },
   {
    "duration": 418,
    "start_time": "2023-11-23T17:15:24.236Z"
   },
   {
    "duration": 413,
    "start_time": "2023-11-23T17:24:07.625Z"
   },
   {
    "duration": 180,
    "start_time": "2023-11-23T17:26:38.349Z"
   },
   {
    "duration": 181,
    "start_time": "2023-11-23T17:26:53.029Z"
   },
   {
    "duration": 289,
    "start_time": "2023-11-23T17:27:04.413Z"
   },
   {
    "duration": 496,
    "start_time": "2023-11-23T17:27:35.277Z"
   },
   {
    "duration": 343,
    "start_time": "2023-11-23T17:30:04.442Z"
   },
   {
    "duration": 365,
    "start_time": "2023-11-23T17:30:54.912Z"
   },
   {
    "duration": 367,
    "start_time": "2023-11-23T17:31:07.118Z"
   },
   {
    "duration": 252,
    "start_time": "2023-11-23T17:31:39.359Z"
   },
   {
    "duration": 517,
    "start_time": "2023-11-23T17:31:48.942Z"
   },
   {
    "duration": 242,
    "start_time": "2023-11-23T17:32:26.325Z"
   },
   {
    "duration": 236,
    "start_time": "2023-11-23T17:36:17.887Z"
   },
   {
    "duration": 243,
    "start_time": "2023-11-23T17:36:55.870Z"
   },
   {
    "duration": 239,
    "start_time": "2023-11-23T17:37:12.974Z"
   },
   {
    "duration": 482,
    "start_time": "2023-11-23T17:37:21.133Z"
   },
   {
    "duration": 511,
    "start_time": "2023-11-23T17:37:47.477Z"
   },
   {
    "duration": 407,
    "start_time": "2023-11-23T17:37:55.598Z"
   },
   {
    "duration": 358,
    "start_time": "2023-11-23T17:38:01.493Z"
   },
   {
    "duration": 397,
    "start_time": "2023-11-23T17:38:10.900Z"
   },
   {
    "duration": 404,
    "start_time": "2023-11-23T17:38:27.645Z"
   },
   {
    "duration": 579,
    "start_time": "2023-11-23T17:40:36.427Z"
   },
   {
    "duration": 420,
    "start_time": "2023-11-23T17:40:46.801Z"
   },
   {
    "duration": 387,
    "start_time": "2023-11-23T17:41:36.048Z"
   },
   {
    "duration": 428,
    "start_time": "2023-11-23T17:42:53.489Z"
   },
   {
    "duration": 397,
    "start_time": "2023-11-23T17:43:44.632Z"
   },
   {
    "duration": 446,
    "start_time": "2023-11-23T17:44:14.592Z"
   },
   {
    "duration": 569,
    "start_time": "2023-11-23T17:44:27.665Z"
   },
   {
    "duration": 424,
    "start_time": "2023-11-23T17:45:41.216Z"
   },
   {
    "duration": 1045,
    "start_time": "2023-11-23T17:45:50.363Z"
   },
   {
    "duration": 121,
    "start_time": "2023-11-23T17:45:51.410Z"
   },
   {
    "duration": 21,
    "start_time": "2023-11-23T17:45:51.532Z"
   },
   {
    "duration": 56,
    "start_time": "2023-11-23T17:45:51.556Z"
   },
   {
    "duration": 6,
    "start_time": "2023-11-23T17:45:51.614Z"
   },
   {
    "duration": 24,
    "start_time": "2023-11-23T17:45:51.622Z"
   },
   {
    "duration": 12,
    "start_time": "2023-11-23T17:45:51.648Z"
   },
   {
    "duration": 9,
    "start_time": "2023-11-23T17:45:51.662Z"
   },
   {
    "duration": 17,
    "start_time": "2023-11-23T17:45:51.673Z"
   },
   {
    "duration": 202,
    "start_time": "2023-11-23T17:45:51.692Z"
   },
   {
    "duration": 100,
    "start_time": "2023-11-23T17:45:51.896Z"
   },
   {
    "duration": 248,
    "start_time": "2023-11-23T17:45:51.998Z"
   },
   {
    "duration": 245,
    "start_time": "2023-11-23T17:45:52.247Z"
   },
   {
    "duration": 236,
    "start_time": "2023-11-23T17:45:52.493Z"
   },
   {
    "duration": 13,
    "start_time": "2023-11-23T17:45:52.730Z"
   },
   {
    "duration": 36,
    "start_time": "2023-11-23T17:45:52.745Z"
   },
   {
    "duration": 14,
    "start_time": "2023-11-23T17:45:52.782Z"
   },
   {
    "duration": 20,
    "start_time": "2023-11-23T17:45:52.797Z"
   },
   {
    "duration": 333,
    "start_time": "2023-11-23T17:45:52.819Z"
   },
   {
    "duration": 461,
    "start_time": "2023-11-23T17:45:53.153Z"
   },
   {
    "duration": 551,
    "start_time": "2023-11-23T17:45:53.616Z"
   },
   {
    "duration": 357,
    "start_time": "2023-11-23T17:45:54.169Z"
   },
   {
    "duration": 5,
    "start_time": "2023-11-23T17:45:54.528Z"
   },
   {
    "duration": 21,
    "start_time": "2023-11-23T17:45:54.534Z"
   },
   {
    "duration": 14,
    "start_time": "2023-11-23T17:45:54.556Z"
   },
   {
    "duration": 192,
    "start_time": "2023-11-23T17:45:54.571Z"
   },
   {
    "duration": 5,
    "start_time": "2023-11-23T17:45:54.766Z"
   },
   {
    "duration": 530,
    "start_time": "2023-11-23T17:46:19.791Z"
   },
   {
    "duration": 470,
    "start_time": "2023-11-23T17:47:27.721Z"
   },
   {
    "duration": 479,
    "start_time": "2023-11-23T17:48:17.743Z"
   },
   {
    "duration": 458,
    "start_time": "2023-11-23T17:49:19.239Z"
   },
   {
    "duration": 482,
    "start_time": "2023-11-23T17:49:31.030Z"
   },
   {
    "duration": 594,
    "start_time": "2023-11-23T17:50:31.407Z"
   },
   {
    "duration": 1003,
    "start_time": "2023-11-23T17:50:43.024Z"
   },
   {
    "duration": 116,
    "start_time": "2023-11-23T17:50:44.029Z"
   },
   {
    "duration": 20,
    "start_time": "2023-11-23T17:50:44.146Z"
   },
   {
    "duration": 17,
    "start_time": "2023-11-23T17:50:44.168Z"
   },
   {
    "duration": 10,
    "start_time": "2023-11-23T17:50:44.186Z"
   },
   {
    "duration": 25,
    "start_time": "2023-11-23T17:50:44.198Z"
   },
   {
    "duration": 17,
    "start_time": "2023-11-23T17:50:44.224Z"
   },
   {
    "duration": 22,
    "start_time": "2023-11-23T17:50:44.242Z"
   },
   {
    "duration": 18,
    "start_time": "2023-11-23T17:50:44.265Z"
   },
   {
    "duration": 181,
    "start_time": "2023-11-23T17:50:44.286Z"
   },
   {
    "duration": 100,
    "start_time": "2023-11-23T17:50:44.468Z"
   },
   {
    "duration": 251,
    "start_time": "2023-11-23T17:50:44.569Z"
   },
   {
    "duration": 248,
    "start_time": "2023-11-23T17:50:44.821Z"
   },
   {
    "duration": 252,
    "start_time": "2023-11-23T17:50:45.071Z"
   },
   {
    "duration": 17,
    "start_time": "2023-11-23T17:50:45.325Z"
   },
   {
    "duration": 39,
    "start_time": "2023-11-23T17:50:45.344Z"
   },
   {
    "duration": 17,
    "start_time": "2023-11-23T17:50:45.385Z"
   },
   {
    "duration": 13,
    "start_time": "2023-11-23T17:50:45.404Z"
   },
   {
    "duration": 384,
    "start_time": "2023-11-23T17:50:45.419Z"
   },
   {
    "duration": 520,
    "start_time": "2023-11-23T17:50:45.805Z"
   },
   {
    "duration": 512,
    "start_time": "2023-11-23T17:50:46.326Z"
   },
   {
    "duration": 380,
    "start_time": "2023-11-23T17:50:46.839Z"
   },
   {
    "duration": 5,
    "start_time": "2023-11-23T17:50:47.221Z"
   },
   {
    "duration": 33,
    "start_time": "2023-11-23T17:50:47.228Z"
   },
   {
    "duration": 8,
    "start_time": "2023-11-23T17:50:47.262Z"
   },
   {
    "duration": 164,
    "start_time": "2023-11-23T17:50:47.272Z"
   },
   {
    "duration": 5,
    "start_time": "2023-11-23T17:50:47.438Z"
   },
   {
    "duration": 761,
    "start_time": "2023-11-23T17:51:42.516Z"
   },
   {
    "duration": 478,
    "start_time": "2023-11-23T17:52:11.661Z"
   },
   {
    "duration": 529,
    "start_time": "2023-11-23T17:53:02.284Z"
   },
   {
    "duration": 492,
    "start_time": "2023-11-23T17:56:07.760Z"
   },
   {
    "duration": 497,
    "start_time": "2023-11-23T17:56:42.255Z"
   },
   {
    "duration": 628,
    "start_time": "2023-11-23T17:56:47.816Z"
   },
   {
    "duration": 29,
    "start_time": "2023-11-23T18:00:15.142Z"
   },
   {
    "duration": 17,
    "start_time": "2023-11-23T18:00:24.708Z"
   },
   {
    "duration": 16,
    "start_time": "2023-11-23T18:00:30.628Z"
   },
   {
    "duration": 571,
    "start_time": "2023-11-23T18:00:40.388Z"
   },
   {
    "duration": 544,
    "start_time": "2023-11-23T18:00:47.724Z"
   },
   {
    "duration": 504,
    "start_time": "2023-11-23T18:01:04.603Z"
   },
   {
    "duration": 471,
    "start_time": "2023-11-23T18:01:54.755Z"
   },
   {
    "duration": 648,
    "start_time": "2023-11-23T18:02:06.067Z"
   },
   {
    "duration": 506,
    "start_time": "2023-11-23T18:02:43.763Z"
   },
   {
    "duration": 350,
    "start_time": "2023-11-23T18:02:51.210Z"
   },
   {
    "duration": 5,
    "start_time": "2023-11-23T18:04:11.641Z"
   },
   {
    "duration": 5,
    "start_time": "2023-11-23T18:14:34.934Z"
   },
   {
    "duration": 8,
    "start_time": "2023-11-23T18:22:02.747Z"
   },
   {
    "duration": 4,
    "start_time": "2023-11-23T18:22:51.968Z"
   },
   {
    "duration": 6,
    "start_time": "2023-11-23T18:23:03.727Z"
   },
   {
    "duration": 7,
    "start_time": "2023-11-23T18:25:47.420Z"
   },
   {
    "duration": 85,
    "start_time": "2023-11-23T18:26:39.786Z"
   },
   {
    "duration": 554,
    "start_time": "2023-11-23T18:36:24.854Z"
   },
   {
    "duration": 495,
    "start_time": "2023-11-23T18:36:39.894Z"
   },
   {
    "duration": 558,
    "start_time": "2023-11-23T18:37:49.635Z"
   },
   {
    "duration": 523,
    "start_time": "2023-11-23T18:39:13.755Z"
   },
   {
    "duration": 655,
    "start_time": "2023-11-23T18:41:20.279Z"
   },
   {
    "duration": 528,
    "start_time": "2023-11-23T18:45:02.894Z"
   },
   {
    "duration": 102,
    "start_time": "2023-11-23T18:46:47.241Z"
   },
   {
    "duration": 30,
    "start_time": "2023-11-23T18:47:04.335Z"
   },
   {
    "duration": 492,
    "start_time": "2023-11-23T18:47:25.144Z"
   },
   {
    "duration": 11,
    "start_time": "2023-11-23T18:47:56.504Z"
   },
   {
    "duration": 12,
    "start_time": "2023-11-23T18:51:22.523Z"
   },
   {
    "duration": 519,
    "start_time": "2023-11-23T18:53:31.415Z"
   },
   {
    "duration": 498,
    "start_time": "2023-11-23T18:54:27.877Z"
   },
   {
    "duration": 630,
    "start_time": "2023-11-23T18:54:41.565Z"
   },
   {
    "duration": 5,
    "start_time": "2023-11-23T19:00:14.581Z"
   },
   {
    "duration": 4,
    "start_time": "2023-11-23T19:00:29.485Z"
   },
   {
    "duration": 16,
    "start_time": "2023-11-23T19:01:51.507Z"
   },
   {
    "duration": 15,
    "start_time": "2023-11-23T19:02:09.796Z"
   },
   {
    "duration": 16,
    "start_time": "2023-11-23T19:03:10.122Z"
   },
   {
    "duration": 1009,
    "start_time": "2023-11-23T19:03:28.921Z"
   },
   {
    "duration": 123,
    "start_time": "2023-11-23T19:03:29.932Z"
   },
   {
    "duration": 21,
    "start_time": "2023-11-23T19:03:30.057Z"
   },
   {
    "duration": 25,
    "start_time": "2023-11-23T19:03:30.080Z"
   },
   {
    "duration": 27,
    "start_time": "2023-11-23T19:03:30.107Z"
   },
   {
    "duration": 49,
    "start_time": "2023-11-23T19:03:30.136Z"
   },
   {
    "duration": 21,
    "start_time": "2023-11-23T19:03:30.187Z"
   },
   {
    "duration": 33,
    "start_time": "2023-11-23T19:03:30.210Z"
   },
   {
    "duration": 23,
    "start_time": "2023-11-23T19:03:30.245Z"
   },
   {
    "duration": 205,
    "start_time": "2023-11-23T19:03:30.269Z"
   },
   {
    "duration": 108,
    "start_time": "2023-11-23T19:03:30.476Z"
   },
   {
    "duration": 265,
    "start_time": "2023-11-23T19:03:30.585Z"
   },
   {
    "duration": 255,
    "start_time": "2023-11-23T19:03:30.852Z"
   },
   {
    "duration": 247,
    "start_time": "2023-11-23T19:03:31.109Z"
   },
   {
    "duration": 20,
    "start_time": "2023-11-23T19:03:31.357Z"
   },
   {
    "duration": 26,
    "start_time": "2023-11-23T19:03:31.378Z"
   },
   {
    "duration": 15,
    "start_time": "2023-11-23T19:03:31.406Z"
   },
   {
    "duration": 12,
    "start_time": "2023-11-23T19:03:31.422Z"
   },
   {
    "duration": 546,
    "start_time": "2023-11-23T19:03:31.435Z"
   },
   {
    "duration": 519,
    "start_time": "2023-11-23T19:03:31.983Z"
   },
   {
    "duration": 586,
    "start_time": "2023-11-23T19:03:32.504Z"
   },
   {
    "duration": 383,
    "start_time": "2023-11-23T19:03:33.092Z"
   },
   {
    "duration": 549,
    "start_time": "2023-11-23T19:03:33.477Z"
   },
   {
    "duration": 16,
    "start_time": "2023-11-23T19:03:34.027Z"
   },
   {
    "duration": 5,
    "start_time": "2023-11-23T19:03:34.044Z"
   },
   {
    "duration": 5,
    "start_time": "2023-11-23T19:03:34.065Z"
   },
   {
    "duration": 7,
    "start_time": "2023-11-23T19:03:34.072Z"
   },
   {
    "duration": 194,
    "start_time": "2023-11-23T19:03:34.080Z"
   },
   {
    "duration": 6,
    "start_time": "2023-11-23T19:03:34.275Z"
   },
   {
    "duration": 25,
    "start_time": "2023-11-23T19:04:07.705Z"
   },
   {
    "duration": 378,
    "start_time": "2023-11-23T19:04:59.526Z"
   },
   {
    "duration": 363,
    "start_time": "2023-11-23T19:05:08.351Z"
   },
   {
    "duration": 514,
    "start_time": "2023-11-23T19:05:20.814Z"
   },
   {
    "duration": 506,
    "start_time": "2023-11-23T19:05:30.870Z"
   },
   {
    "duration": 555,
    "start_time": "2023-11-23T19:06:46.143Z"
   },
   {
    "duration": 564,
    "start_time": "2023-11-23T19:08:38.741Z"
   },
   {
    "duration": 543,
    "start_time": "2023-11-23T19:09:05.484Z"
   },
   {
    "duration": 522,
    "start_time": "2023-11-23T19:09:25.987Z"
   },
   {
    "duration": 494,
    "start_time": "2023-11-23T19:09:49.429Z"
   },
   {
    "duration": 518,
    "start_time": "2023-11-23T19:10:08.251Z"
   },
   {
    "duration": 588,
    "start_time": "2023-11-23T19:10:15.115Z"
   },
   {
    "duration": 519,
    "start_time": "2023-11-23T19:12:49.808Z"
   },
   {
    "duration": 16,
    "start_time": "2023-11-23T19:13:53.573Z"
   },
   {
    "duration": 16,
    "start_time": "2023-11-23T19:14:26.293Z"
   },
   {
    "duration": 1133,
    "start_time": "2023-11-23T19:14:41.535Z"
   },
   {
    "duration": 117,
    "start_time": "2023-11-23T19:14:42.670Z"
   },
   {
    "duration": 20,
    "start_time": "2023-11-23T19:14:42.789Z"
   },
   {
    "duration": 14,
    "start_time": "2023-11-23T19:14:42.811Z"
   },
   {
    "duration": 4,
    "start_time": "2023-11-23T19:14:42.827Z"
   },
   {
    "duration": 16,
    "start_time": "2023-11-23T19:14:42.832Z"
   },
   {
    "duration": 20,
    "start_time": "2023-11-23T19:14:42.850Z"
   },
   {
    "duration": 7,
    "start_time": "2023-11-23T19:14:42.872Z"
   },
   {
    "duration": 7,
    "start_time": "2023-11-23T19:14:42.881Z"
   },
   {
    "duration": 184,
    "start_time": "2023-11-23T19:14:42.891Z"
   },
   {
    "duration": 103,
    "start_time": "2023-11-23T19:14:43.077Z"
   },
   {
    "duration": 246,
    "start_time": "2023-11-23T19:14:43.181Z"
   },
   {
    "duration": 246,
    "start_time": "2023-11-23T19:14:43.429Z"
   },
   {
    "duration": 239,
    "start_time": "2023-11-23T19:14:43.677Z"
   },
   {
    "duration": 14,
    "start_time": "2023-11-23T19:14:43.918Z"
   },
   {
    "duration": 42,
    "start_time": "2023-11-23T19:14:43.933Z"
   },
   {
    "duration": 15,
    "start_time": "2023-11-23T19:14:43.976Z"
   },
   {
    "duration": 12,
    "start_time": "2023-11-23T19:14:43.992Z"
   },
   {
    "duration": 552,
    "start_time": "2023-11-23T19:14:44.006Z"
   },
   {
    "duration": 505,
    "start_time": "2023-11-23T19:14:44.560Z"
   },
   {
    "duration": 580,
    "start_time": "2023-11-23T19:14:45.067Z"
   },
   {
    "duration": 398,
    "start_time": "2023-11-23T19:14:45.648Z"
   },
   {
    "duration": 18,
    "start_time": "2023-11-23T19:14:46.048Z"
   },
   {
    "duration": 47,
    "start_time": "2023-11-23T19:14:46.067Z"
   },
   {
    "duration": 11,
    "start_time": "2023-11-23T19:14:46.116Z"
   },
   {
    "duration": 16,
    "start_time": "2023-11-23T19:14:46.128Z"
   },
   {
    "duration": 22,
    "start_time": "2023-11-23T19:14:46.146Z"
   },
   {
    "duration": 177,
    "start_time": "2023-11-23T19:14:46.172Z"
   },
   {
    "duration": 15,
    "start_time": "2023-11-23T19:14:46.351Z"
   },
   {
    "duration": 13,
    "start_time": "2023-11-23T19:15:59.379Z"
   },
   {
    "duration": 24,
    "start_time": "2023-11-23T19:16:47.698Z"
   },
   {
    "duration": 108,
    "start_time": "2023-11-23T19:18:14.072Z"
   },
   {
    "duration": 107,
    "start_time": "2023-11-23T19:18:49.880Z"
   },
   {
    "duration": 18,
    "start_time": "2023-11-23T19:19:05.599Z"
   },
   {
    "duration": 17,
    "start_time": "2023-11-23T19:19:42.174Z"
   },
   {
    "duration": 16,
    "start_time": "2023-11-23T19:21:42.411Z"
   },
   {
    "duration": 4,
    "start_time": "2023-11-23T19:25:55.829Z"
   },
   {
    "duration": 22,
    "start_time": "2023-11-23T19:27:04.916Z"
   },
   {
    "duration": 1255,
    "start_time": "2023-11-23T19:28:46.937Z"
   },
   {
    "duration": 12,
    "start_time": "2023-11-23T19:29:12.968Z"
   },
   {
    "duration": 14,
    "start_time": "2023-11-23T19:29:36.543Z"
   },
   {
    "duration": 14,
    "start_time": "2023-11-23T19:30:14.831Z"
   },
   {
    "duration": 96,
    "start_time": "2023-11-23T19:30:27.342Z"
   },
   {
    "duration": 16,
    "start_time": "2023-11-23T19:30:59.910Z"
   },
   {
    "duration": 15,
    "start_time": "2023-11-23T19:33:30.057Z"
   },
   {
    "duration": 16,
    "start_time": "2023-11-23T19:33:44.546Z"
   },
   {
    "duration": 18,
    "start_time": "2023-11-23T19:35:21.055Z"
   },
   {
    "duration": 1546,
    "start_time": "2023-11-23T19:47:02.664Z"
   },
   {
    "duration": 12,
    "start_time": "2023-11-23T19:47:34.287Z"
   },
   {
    "duration": 293,
    "start_time": "2023-11-23T19:48:04.910Z"
   },
   {
    "duration": 352,
    "start_time": "2023-11-23T19:48:33.910Z"
   },
   {
    "duration": 8,
    "start_time": "2023-11-23T19:48:51.092Z"
   },
   {
    "duration": 711,
    "start_time": "2023-11-23T19:49:15.132Z"
   },
   {
    "duration": 8,
    "start_time": "2023-11-23T19:49:38.044Z"
   },
   {
    "duration": 16,
    "start_time": "2023-11-23T19:58:37.847Z"
   },
   {
    "duration": 13,
    "start_time": "2023-11-23T19:59:09.416Z"
   },
   {
    "duration": 14,
    "start_time": "2023-11-23T20:02:33.603Z"
   },
   {
    "duration": 1254,
    "start_time": "2023-11-23T20:02:54.555Z"
   },
   {
    "duration": 13,
    "start_time": "2023-11-23T20:05:48.951Z"
   },
   {
    "duration": 1026,
    "start_time": "2023-11-23T20:06:52.374Z"
   },
   {
    "duration": 114,
    "start_time": "2023-11-23T20:06:53.402Z"
   },
   {
    "duration": 22,
    "start_time": "2023-11-23T20:06:53.517Z"
   },
   {
    "duration": 22,
    "start_time": "2023-11-23T20:06:53.540Z"
   },
   {
    "duration": 4,
    "start_time": "2023-11-23T20:06:53.563Z"
   },
   {
    "duration": 22,
    "start_time": "2023-11-23T20:06:53.569Z"
   },
   {
    "duration": 8,
    "start_time": "2023-11-23T20:06:53.592Z"
   },
   {
    "duration": 7,
    "start_time": "2023-11-23T20:06:53.601Z"
   },
   {
    "duration": 7,
    "start_time": "2023-11-23T20:06:53.610Z"
   },
   {
    "duration": 191,
    "start_time": "2023-11-23T20:06:53.619Z"
   },
   {
    "duration": 101,
    "start_time": "2023-11-23T20:06:53.811Z"
   },
   {
    "duration": 253,
    "start_time": "2023-11-23T20:06:53.914Z"
   },
   {
    "duration": 245,
    "start_time": "2023-11-23T20:06:54.169Z"
   },
   {
    "duration": 241,
    "start_time": "2023-11-23T20:06:54.416Z"
   },
   {
    "duration": 13,
    "start_time": "2023-11-23T20:06:54.665Z"
   },
   {
    "duration": 25,
    "start_time": "2023-11-23T20:06:54.680Z"
   },
   {
    "duration": 13,
    "start_time": "2023-11-23T20:06:54.707Z"
   },
   {
    "duration": 12,
    "start_time": "2023-11-23T20:06:54.722Z"
   },
   {
    "duration": 553,
    "start_time": "2023-11-23T20:06:54.735Z"
   },
   {
    "duration": 543,
    "start_time": "2023-11-23T20:06:55.290Z"
   },
   {
    "duration": 545,
    "start_time": "2023-11-23T20:06:55.835Z"
   },
   {
    "duration": 368,
    "start_time": "2023-11-23T20:06:56.382Z"
   },
   {
    "duration": 21,
    "start_time": "2023-11-23T20:06:56.751Z"
   },
   {
    "duration": 104,
    "start_time": "2023-11-23T20:06:56.773Z"
   },
   {
    "duration": 0,
    "start_time": "2023-11-23T20:06:56.878Z"
   },
   {
    "duration": 0,
    "start_time": "2023-11-23T20:06:56.880Z"
   },
   {
    "duration": 0,
    "start_time": "2023-11-23T20:06:56.881Z"
   },
   {
    "duration": 0,
    "start_time": "2023-11-23T20:06:56.882Z"
   },
   {
    "duration": 0,
    "start_time": "2023-11-23T20:06:56.883Z"
   },
   {
    "duration": 22,
    "start_time": "2023-11-23T20:14:32.652Z"
   },
   {
    "duration": 16,
    "start_time": "2023-11-23T20:15:04.399Z"
   },
   {
    "duration": 63,
    "start_time": "2023-11-23T20:16:28.217Z"
   },
   {
    "duration": 68,
    "start_time": "2023-11-23T20:16:41.409Z"
   },
   {
    "duration": 81,
    "start_time": "2023-11-23T20:17:42.000Z"
   },
   {
    "duration": 68,
    "start_time": "2023-11-23T20:18:38.198Z"
   },
   {
    "duration": 15,
    "start_time": "2023-11-23T20:36:41.415Z"
   },
   {
    "duration": 6,
    "start_time": "2023-11-23T20:36:59.221Z"
   },
   {
    "duration": 5,
    "start_time": "2023-11-23T20:37:02.526Z"
   },
   {
    "duration": 9,
    "start_time": "2023-11-23T20:37:05.886Z"
   },
   {
    "duration": 59,
    "start_time": "2023-11-24T19:38:35.107Z"
   },
   {
    "duration": 1327,
    "start_time": "2023-11-24T19:38:42.840Z"
   },
   {
    "duration": 266,
    "start_time": "2023-11-24T19:38:44.170Z"
   },
   {
    "duration": 24,
    "start_time": "2023-11-24T19:38:44.438Z"
   },
   {
    "duration": 20,
    "start_time": "2023-11-24T19:38:44.464Z"
   },
   {
    "duration": 7,
    "start_time": "2023-11-24T19:38:44.486Z"
   },
   {
    "duration": 35,
    "start_time": "2023-11-24T19:38:44.495Z"
   },
   {
    "duration": 11,
    "start_time": "2023-11-24T19:38:44.532Z"
   },
   {
    "duration": 9,
    "start_time": "2023-11-24T19:38:44.545Z"
   },
   {
    "duration": 49,
    "start_time": "2023-11-24T19:38:44.556Z"
   },
   {
    "duration": 219,
    "start_time": "2023-11-24T19:38:44.611Z"
   },
   {
    "duration": 110,
    "start_time": "2023-11-24T19:38:44.833Z"
   },
   {
    "duration": 293,
    "start_time": "2023-11-24T19:38:44.945Z"
   },
   {
    "duration": 287,
    "start_time": "2023-11-24T19:38:45.240Z"
   },
   {
    "duration": 287,
    "start_time": "2023-11-24T19:38:45.529Z"
   },
   {
    "duration": 16,
    "start_time": "2023-11-24T19:38:45.821Z"
   },
   {
    "duration": 79,
    "start_time": "2023-11-24T19:38:45.839Z"
   },
   {
    "duration": 19,
    "start_time": "2023-11-24T19:38:45.920Z"
   },
   {
    "duration": 15,
    "start_time": "2023-11-24T19:38:45.941Z"
   },
   {
    "duration": 616,
    "start_time": "2023-11-24T19:38:45.958Z"
   },
   {
    "duration": 571,
    "start_time": "2023-11-24T19:38:46.576Z"
   },
   {
    "duration": 575,
    "start_time": "2023-11-24T19:38:47.149Z"
   },
   {
    "duration": 430,
    "start_time": "2023-11-24T19:38:47.726Z"
   },
   {
    "duration": 13,
    "start_time": "2023-11-24T19:38:48.157Z"
   },
   {
    "duration": 100,
    "start_time": "2023-11-24T19:38:48.172Z"
   },
   {
    "duration": 5,
    "start_time": "2023-11-24T19:38:48.273Z"
   },
   {
    "duration": 30,
    "start_time": "2023-11-24T19:38:48.280Z"
   },
   {
    "duration": 12,
    "start_time": "2023-11-24T19:38:48.311Z"
   },
   {
    "duration": 203,
    "start_time": "2023-11-24T19:38:48.326Z"
   },
   {
    "duration": 6,
    "start_time": "2023-11-24T19:38:48.530Z"
   },
   {
    "duration": 196,
    "start_time": "2023-11-24T19:41:10.581Z"
   },
   {
    "duration": 91,
    "start_time": "2023-11-24T19:41:25.806Z"
   },
   {
    "duration": 7,
    "start_time": "2023-11-24T20:02:14.615Z"
   },
   {
    "duration": 5,
    "start_time": "2023-11-24T20:09:56.894Z"
   },
   {
    "duration": 6,
    "start_time": "2023-11-24T20:11:38.922Z"
   },
   {
    "duration": 8,
    "start_time": "2023-11-24T20:14:02.118Z"
   },
   {
    "duration": 352,
    "start_time": "2023-11-24T20:22:38.944Z"
   },
   {
    "duration": 293,
    "start_time": "2023-11-24T20:23:15.165Z"
   },
   {
    "duration": 271,
    "start_time": "2023-11-24T20:24:39.524Z"
   },
   {
    "duration": 301,
    "start_time": "2023-11-24T20:24:46.787Z"
   },
   {
    "duration": 275,
    "start_time": "2023-11-24T20:26:16.882Z"
   },
   {
    "duration": 294,
    "start_time": "2023-11-24T20:27:31.936Z"
   },
   {
    "duration": 303,
    "start_time": "2023-11-24T20:28:20.542Z"
   },
   {
    "duration": 1032,
    "start_time": "2024-05-03T16:26:34.639Z"
   },
   {
    "duration": 344,
    "start_time": "2024-05-03T16:26:35.673Z"
   },
   {
    "duration": 22,
    "start_time": "2024-05-03T16:26:36.019Z"
   },
   {
    "duration": 20,
    "start_time": "2024-05-03T16:26:36.042Z"
   },
   {
    "duration": 5,
    "start_time": "2024-05-03T16:26:36.064Z"
   },
   {
    "duration": 18,
    "start_time": "2024-05-03T16:26:36.070Z"
   },
   {
    "duration": 9,
    "start_time": "2024-05-03T16:26:36.089Z"
   },
   {
    "duration": 19,
    "start_time": "2024-05-03T16:26:36.100Z"
   },
   {
    "duration": 27,
    "start_time": "2024-05-03T16:26:36.120Z"
   },
   {
    "duration": 205,
    "start_time": "2024-05-03T16:26:36.148Z"
   },
   {
    "duration": 99,
    "start_time": "2024-05-03T16:26:36.354Z"
   },
   {
    "duration": 274,
    "start_time": "2024-05-03T16:26:36.455Z"
   },
   {
    "duration": 288,
    "start_time": "2024-05-03T16:26:36.730Z"
   },
   {
    "duration": 273,
    "start_time": "2024-05-03T16:26:37.022Z"
   },
   {
    "duration": 14,
    "start_time": "2024-05-03T16:26:37.297Z"
   },
   {
    "duration": 31,
    "start_time": "2024-05-03T16:26:37.312Z"
   },
   {
    "duration": 14,
    "start_time": "2024-05-03T16:26:37.345Z"
   },
   {
    "duration": 34,
    "start_time": "2024-05-03T16:26:37.361Z"
   },
   {
    "duration": 543,
    "start_time": "2024-05-03T16:26:37.396Z"
   },
   {
    "duration": 549,
    "start_time": "2024-05-03T16:26:37.941Z"
   },
   {
    "duration": 609,
    "start_time": "2024-05-03T16:26:38.492Z"
   },
   {
    "duration": 359,
    "start_time": "2024-05-03T16:26:39.102Z"
   },
   {
    "duration": 14,
    "start_time": "2024-05-03T16:26:39.463Z"
   },
   {
    "duration": 100,
    "start_time": "2024-05-03T16:26:39.479Z"
   },
   {
    "duration": 13,
    "start_time": "2024-05-03T16:26:39.581Z"
   },
   {
    "duration": 5,
    "start_time": "2024-05-03T16:26:39.595Z"
   },
   {
    "duration": 8,
    "start_time": "2024-05-03T16:26:39.601Z"
   },
   {
    "duration": 188,
    "start_time": "2024-05-03T16:26:39.610Z"
   },
   {
    "duration": 5,
    "start_time": "2024-05-03T16:26:39.799Z"
   }
  ],
  "kernelspec": {
   "display_name": "Python 3 (ipykernel)",
   "language": "python",
   "name": "python3"
  },
  "language_info": {
   "codemirror_mode": {
    "name": "ipython",
    "version": 3
   },
   "file_extension": ".py",
   "mimetype": "text/x-python",
   "name": "python",
   "nbconvert_exporter": "python",
   "pygments_lexer": "ipython3",
   "version": "3.9.5"
  },
  "toc": {
   "base_numbering": 1,
   "nav_menu": {},
   "number_sections": true,
   "sideBar": true,
   "skip_h1_title": true,
   "title_cell": "Table of Contents",
   "title_sidebar": "Contents",
   "toc_cell": false,
   "toc_position": {},
   "toc_section_display": true,
   "toc_window_display": false
  }
 },
 "nbformat": 4,
 "nbformat_minor": 5
}

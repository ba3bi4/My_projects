{
 "cells": [
  {
   "cell_type": "markdown",
   "metadata": {},
   "source": [
    "# Определение стоимости автомобилей"
   ]
  },
  {
   "cell_type": "markdown",
   "metadata": {},
   "source": [
    "Сервис по продаже автомобилей с пробегом «Не бит, не крашен» разрабатывает приложение для привлечения новых клиентов. В нём можно быстро узнать рыночную стоимость своего автомобиля. В вашем распоряжении исторические данные: технические характеристики, комплектации и цены автомобилей. Вам нужно построить модель для определения стоимости. \n",
    "\n",
    "Заказчику важны:\n",
    "\n",
    "- качество предсказания;\n",
    "- скорость предсказания;\n",
    "- время обучения."
   ]
  },
  {
   "cell_type": "markdown",
   "metadata": {},
   "source": [
    "<div class=\"alert alert-success\">\n",
    "<h2> Комментарий ревьюера  <a class=\"tocSkip\"> </h2>\n",
    "\n",
    "👍 Цели, задачи и план ясны.\n",
    "</div>\n",
    " "
   ]
  },
  {
   "cell_type": "code",
   "execution_count": 1,
   "metadata": {},
   "outputs": [],
   "source": [
    "!pip install scikit-learn==1.1.3 -q\n",
    "!pip install phik -q"
   ]
  },
  {
   "cell_type": "markdown",
   "metadata": {},
   "source": [
    "<div class=\"alert alert-success\">\n",
    "<h2> Комментарий ревьюера  <a class=\"tocSkip\"> </h2>\n",
    "\n",
    "👍 Тихая загрузка)\n",
    "</div>\n",
    " "
   ]
  },
  {
   "cell_type": "code",
   "execution_count": 2,
   "metadata": {},
   "outputs": [],
   "source": [
    "import pandas as pd\n",
    "import numpy as np\n",
    "import seaborn as sns\n",
    "from matplotlib import pyplot as plt\n",
    "from sklearn.pipeline import Pipeline\n",
    "from sklearn.model_selection import train_test_split, RandomizedSearchCV\n",
    "from sklearn.preprocessing import OneHotEncoder, StandardScaler, OrdinalEncoder\n",
    "from sklearn.impute import SimpleImputer\n",
    "from sklearn.linear_model import LinearRegression\n",
    "from sklearn.tree import DecisionTreeRegressor\n",
    "from sklearn.metrics import make_scorer\n",
    "from catboost import CatBoostRegressor\n",
    "from lightgbm import LGBMRegressor\n",
    "from sklearn.metrics import mean_squared_error\n",
    "import time\n",
    "import phik"
   ]
  },
  {
   "cell_type": "markdown",
   "metadata": {},
   "source": [
    "## Подготовка данных"
   ]
  },
  {
   "cell_type": "code",
   "execution_count": 3,
   "metadata": {},
   "outputs": [
    {
     "name": "stdout",
     "output_type": "stream",
     "text": [
      "<class 'pandas.core.frame.DataFrame'>\n",
      "RangeIndex: 354369 entries, 0 to 354368\n",
      "Data columns (total 16 columns):\n",
      " #   Column             Non-Null Count   Dtype \n",
      "---  ------             --------------   ----- \n",
      " 0   DateCrawled        354369 non-null  object\n",
      " 1   Price              354369 non-null  int64 \n",
      " 2   VehicleType        316879 non-null  object\n",
      " 3   RegistrationYear   354369 non-null  int64 \n",
      " 4   Gearbox            334536 non-null  object\n",
      " 5   Power              354369 non-null  int64 \n",
      " 6   Model              334664 non-null  object\n",
      " 7   Kilometer          354369 non-null  int64 \n",
      " 8   RegistrationMonth  354369 non-null  int64 \n",
      " 9   FuelType           321474 non-null  object\n",
      " 10  Brand              354369 non-null  object\n",
      " 11  Repaired           283215 non-null  object\n",
      " 12  DateCreated        354369 non-null  object\n",
      " 13  NumberOfPictures   354369 non-null  int64 \n",
      " 14  PostalCode         354369 non-null  int64 \n",
      " 15  LastSeen           354369 non-null  object\n",
      "dtypes: int64(7), object(9)\n",
      "memory usage: 43.3+ MB\n"
     ]
    },
    {
     "data": {
      "text/html": [
       "<div>\n",
       "<style scoped>\n",
       "    .dataframe tbody tr th:only-of-type {\n",
       "        vertical-align: middle;\n",
       "    }\n",
       "\n",
       "    .dataframe tbody tr th {\n",
       "        vertical-align: top;\n",
       "    }\n",
       "\n",
       "    .dataframe thead th {\n",
       "        text-align: right;\n",
       "    }\n",
       "</style>\n",
       "<table border=\"1\" class=\"dataframe\">\n",
       "  <thead>\n",
       "    <tr style=\"text-align: right;\">\n",
       "      <th></th>\n",
       "      <th>DateCrawled</th>\n",
       "      <th>Price</th>\n",
       "      <th>VehicleType</th>\n",
       "      <th>RegistrationYear</th>\n",
       "      <th>Gearbox</th>\n",
       "      <th>Power</th>\n",
       "      <th>Model</th>\n",
       "      <th>Kilometer</th>\n",
       "      <th>RegistrationMonth</th>\n",
       "      <th>FuelType</th>\n",
       "      <th>Brand</th>\n",
       "      <th>Repaired</th>\n",
       "      <th>DateCreated</th>\n",
       "      <th>NumberOfPictures</th>\n",
       "      <th>PostalCode</th>\n",
       "      <th>LastSeen</th>\n",
       "    </tr>\n",
       "  </thead>\n",
       "  <tbody>\n",
       "    <tr>\n",
       "      <th>0</th>\n",
       "      <td>2016-03-24 11:52:17</td>\n",
       "      <td>480</td>\n",
       "      <td>NaN</td>\n",
       "      <td>1993</td>\n",
       "      <td>manual</td>\n",
       "      <td>0</td>\n",
       "      <td>golf</td>\n",
       "      <td>150000</td>\n",
       "      <td>0</td>\n",
       "      <td>petrol</td>\n",
       "      <td>volkswagen</td>\n",
       "      <td>NaN</td>\n",
       "      <td>2016-03-24 00:00:00</td>\n",
       "      <td>0</td>\n",
       "      <td>70435</td>\n",
       "      <td>2016-04-07 03:16:57</td>\n",
       "    </tr>\n",
       "    <tr>\n",
       "      <th>1</th>\n",
       "      <td>2016-03-24 10:58:45</td>\n",
       "      <td>18300</td>\n",
       "      <td>coupe</td>\n",
       "      <td>2011</td>\n",
       "      <td>manual</td>\n",
       "      <td>190</td>\n",
       "      <td>NaN</td>\n",
       "      <td>125000</td>\n",
       "      <td>5</td>\n",
       "      <td>gasoline</td>\n",
       "      <td>audi</td>\n",
       "      <td>yes</td>\n",
       "      <td>2016-03-24 00:00:00</td>\n",
       "      <td>0</td>\n",
       "      <td>66954</td>\n",
       "      <td>2016-04-07 01:46:50</td>\n",
       "    </tr>\n",
       "    <tr>\n",
       "      <th>2</th>\n",
       "      <td>2016-03-14 12:52:21</td>\n",
       "      <td>9800</td>\n",
       "      <td>suv</td>\n",
       "      <td>2004</td>\n",
       "      <td>auto</td>\n",
       "      <td>163</td>\n",
       "      <td>grand</td>\n",
       "      <td>125000</td>\n",
       "      <td>8</td>\n",
       "      <td>gasoline</td>\n",
       "      <td>jeep</td>\n",
       "      <td>NaN</td>\n",
       "      <td>2016-03-14 00:00:00</td>\n",
       "      <td>0</td>\n",
       "      <td>90480</td>\n",
       "      <td>2016-04-05 12:47:46</td>\n",
       "    </tr>\n",
       "    <tr>\n",
       "      <th>3</th>\n",
       "      <td>2016-03-17 16:54:04</td>\n",
       "      <td>1500</td>\n",
       "      <td>small</td>\n",
       "      <td>2001</td>\n",
       "      <td>manual</td>\n",
       "      <td>75</td>\n",
       "      <td>golf</td>\n",
       "      <td>150000</td>\n",
       "      <td>6</td>\n",
       "      <td>petrol</td>\n",
       "      <td>volkswagen</td>\n",
       "      <td>no</td>\n",
       "      <td>2016-03-17 00:00:00</td>\n",
       "      <td>0</td>\n",
       "      <td>91074</td>\n",
       "      <td>2016-03-17 17:40:17</td>\n",
       "    </tr>\n",
       "    <tr>\n",
       "      <th>4</th>\n",
       "      <td>2016-03-31 17:25:20</td>\n",
       "      <td>3600</td>\n",
       "      <td>small</td>\n",
       "      <td>2008</td>\n",
       "      <td>manual</td>\n",
       "      <td>69</td>\n",
       "      <td>fabia</td>\n",
       "      <td>90000</td>\n",
       "      <td>7</td>\n",
       "      <td>gasoline</td>\n",
       "      <td>skoda</td>\n",
       "      <td>no</td>\n",
       "      <td>2016-03-31 00:00:00</td>\n",
       "      <td>0</td>\n",
       "      <td>60437</td>\n",
       "      <td>2016-04-06 10:17:21</td>\n",
       "    </tr>\n",
       "    <tr>\n",
       "      <th>5</th>\n",
       "      <td>2016-04-04 17:36:23</td>\n",
       "      <td>650</td>\n",
       "      <td>sedan</td>\n",
       "      <td>1995</td>\n",
       "      <td>manual</td>\n",
       "      <td>102</td>\n",
       "      <td>3er</td>\n",
       "      <td>150000</td>\n",
       "      <td>10</td>\n",
       "      <td>petrol</td>\n",
       "      <td>bmw</td>\n",
       "      <td>yes</td>\n",
       "      <td>2016-04-04 00:00:00</td>\n",
       "      <td>0</td>\n",
       "      <td>33775</td>\n",
       "      <td>2016-04-06 19:17:07</td>\n",
       "    </tr>\n",
       "    <tr>\n",
       "      <th>6</th>\n",
       "      <td>2016-04-01 20:48:51</td>\n",
       "      <td>2200</td>\n",
       "      <td>convertible</td>\n",
       "      <td>2004</td>\n",
       "      <td>manual</td>\n",
       "      <td>109</td>\n",
       "      <td>2_reihe</td>\n",
       "      <td>150000</td>\n",
       "      <td>8</td>\n",
       "      <td>petrol</td>\n",
       "      <td>peugeot</td>\n",
       "      <td>no</td>\n",
       "      <td>2016-04-01 00:00:00</td>\n",
       "      <td>0</td>\n",
       "      <td>67112</td>\n",
       "      <td>2016-04-05 18:18:39</td>\n",
       "    </tr>\n",
       "    <tr>\n",
       "      <th>7</th>\n",
       "      <td>2016-03-21 18:54:38</td>\n",
       "      <td>0</td>\n",
       "      <td>sedan</td>\n",
       "      <td>1980</td>\n",
       "      <td>manual</td>\n",
       "      <td>50</td>\n",
       "      <td>other</td>\n",
       "      <td>40000</td>\n",
       "      <td>7</td>\n",
       "      <td>petrol</td>\n",
       "      <td>volkswagen</td>\n",
       "      <td>no</td>\n",
       "      <td>2016-03-21 00:00:00</td>\n",
       "      <td>0</td>\n",
       "      <td>19348</td>\n",
       "      <td>2016-03-25 16:47:58</td>\n",
       "    </tr>\n",
       "    <tr>\n",
       "      <th>8</th>\n",
       "      <td>2016-04-04 23:42:13</td>\n",
       "      <td>14500</td>\n",
       "      <td>bus</td>\n",
       "      <td>2014</td>\n",
       "      <td>manual</td>\n",
       "      <td>125</td>\n",
       "      <td>c_max</td>\n",
       "      <td>30000</td>\n",
       "      <td>8</td>\n",
       "      <td>petrol</td>\n",
       "      <td>ford</td>\n",
       "      <td>NaN</td>\n",
       "      <td>2016-04-04 00:00:00</td>\n",
       "      <td>0</td>\n",
       "      <td>94505</td>\n",
       "      <td>2016-04-04 23:42:13</td>\n",
       "    </tr>\n",
       "    <tr>\n",
       "      <th>9</th>\n",
       "      <td>2016-03-17 10:53:50</td>\n",
       "      <td>999</td>\n",
       "      <td>small</td>\n",
       "      <td>1998</td>\n",
       "      <td>manual</td>\n",
       "      <td>101</td>\n",
       "      <td>golf</td>\n",
       "      <td>150000</td>\n",
       "      <td>0</td>\n",
       "      <td>NaN</td>\n",
       "      <td>volkswagen</td>\n",
       "      <td>NaN</td>\n",
       "      <td>2016-03-17 00:00:00</td>\n",
       "      <td>0</td>\n",
       "      <td>27472</td>\n",
       "      <td>2016-03-31 17:17:06</td>\n",
       "    </tr>\n",
       "    <tr>\n",
       "      <th>10</th>\n",
       "      <td>2016-03-26 19:54:18</td>\n",
       "      <td>2000</td>\n",
       "      <td>sedan</td>\n",
       "      <td>2004</td>\n",
       "      <td>manual</td>\n",
       "      <td>105</td>\n",
       "      <td>3_reihe</td>\n",
       "      <td>150000</td>\n",
       "      <td>12</td>\n",
       "      <td>petrol</td>\n",
       "      <td>mazda</td>\n",
       "      <td>no</td>\n",
       "      <td>2016-03-26 00:00:00</td>\n",
       "      <td>0</td>\n",
       "      <td>96224</td>\n",
       "      <td>2016-04-06 10:45:34</td>\n",
       "    </tr>\n",
       "    <tr>\n",
       "      <th>11</th>\n",
       "      <td>2016-04-07 10:06:22</td>\n",
       "      <td>2799</td>\n",
       "      <td>wagon</td>\n",
       "      <td>2005</td>\n",
       "      <td>manual</td>\n",
       "      <td>140</td>\n",
       "      <td>passat</td>\n",
       "      <td>150000</td>\n",
       "      <td>12</td>\n",
       "      <td>gasoline</td>\n",
       "      <td>volkswagen</td>\n",
       "      <td>yes</td>\n",
       "      <td>2016-04-07 00:00:00</td>\n",
       "      <td>0</td>\n",
       "      <td>57290</td>\n",
       "      <td>2016-04-07 10:25:17</td>\n",
       "    </tr>\n",
       "    <tr>\n",
       "      <th>12</th>\n",
       "      <td>2016-03-15 22:49:09</td>\n",
       "      <td>999</td>\n",
       "      <td>wagon</td>\n",
       "      <td>1995</td>\n",
       "      <td>manual</td>\n",
       "      <td>115</td>\n",
       "      <td>passat</td>\n",
       "      <td>150000</td>\n",
       "      <td>11</td>\n",
       "      <td>petrol</td>\n",
       "      <td>volkswagen</td>\n",
       "      <td>NaN</td>\n",
       "      <td>2016-03-15 00:00:00</td>\n",
       "      <td>0</td>\n",
       "      <td>37269</td>\n",
       "      <td>2016-04-01 13:16:16</td>\n",
       "    </tr>\n",
       "    <tr>\n",
       "      <th>13</th>\n",
       "      <td>2016-03-21 21:37:40</td>\n",
       "      <td>2500</td>\n",
       "      <td>wagon</td>\n",
       "      <td>2004</td>\n",
       "      <td>manual</td>\n",
       "      <td>131</td>\n",
       "      <td>passat</td>\n",
       "      <td>150000</td>\n",
       "      <td>2</td>\n",
       "      <td>NaN</td>\n",
       "      <td>volkswagen</td>\n",
       "      <td>no</td>\n",
       "      <td>2016-03-21 00:00:00</td>\n",
       "      <td>0</td>\n",
       "      <td>90762</td>\n",
       "      <td>2016-03-23 02:50:54</td>\n",
       "    </tr>\n",
       "    <tr>\n",
       "      <th>14</th>\n",
       "      <td>2016-03-21 12:57:01</td>\n",
       "      <td>17999</td>\n",
       "      <td>suv</td>\n",
       "      <td>2011</td>\n",
       "      <td>manual</td>\n",
       "      <td>190</td>\n",
       "      <td>navara</td>\n",
       "      <td>70000</td>\n",
       "      <td>3</td>\n",
       "      <td>gasoline</td>\n",
       "      <td>nissan</td>\n",
       "      <td>no</td>\n",
       "      <td>2016-03-21 00:00:00</td>\n",
       "      <td>0</td>\n",
       "      <td>4177</td>\n",
       "      <td>2016-04-06 07:45:42</td>\n",
       "    </tr>\n",
       "  </tbody>\n",
       "</table>\n",
       "</div>"
      ],
      "text/plain": [
       "            DateCrawled  Price  VehicleType  RegistrationYear Gearbox  Power  \\\n",
       "0   2016-03-24 11:52:17    480          NaN              1993  manual      0   \n",
       "1   2016-03-24 10:58:45  18300        coupe              2011  manual    190   \n",
       "2   2016-03-14 12:52:21   9800          suv              2004    auto    163   \n",
       "3   2016-03-17 16:54:04   1500        small              2001  manual     75   \n",
       "4   2016-03-31 17:25:20   3600        small              2008  manual     69   \n",
       "5   2016-04-04 17:36:23    650        sedan              1995  manual    102   \n",
       "6   2016-04-01 20:48:51   2200  convertible              2004  manual    109   \n",
       "7   2016-03-21 18:54:38      0        sedan              1980  manual     50   \n",
       "8   2016-04-04 23:42:13  14500          bus              2014  manual    125   \n",
       "9   2016-03-17 10:53:50    999        small              1998  manual    101   \n",
       "10  2016-03-26 19:54:18   2000        sedan              2004  manual    105   \n",
       "11  2016-04-07 10:06:22   2799        wagon              2005  manual    140   \n",
       "12  2016-03-15 22:49:09    999        wagon              1995  manual    115   \n",
       "13  2016-03-21 21:37:40   2500        wagon              2004  manual    131   \n",
       "14  2016-03-21 12:57:01  17999          suv              2011  manual    190   \n",
       "\n",
       "      Model  Kilometer  RegistrationMonth  FuelType       Brand Repaired  \\\n",
       "0      golf     150000                  0    petrol  volkswagen      NaN   \n",
       "1       NaN     125000                  5  gasoline        audi      yes   \n",
       "2     grand     125000                  8  gasoline        jeep      NaN   \n",
       "3      golf     150000                  6    petrol  volkswagen       no   \n",
       "4     fabia      90000                  7  gasoline       skoda       no   \n",
       "5       3er     150000                 10    petrol         bmw      yes   \n",
       "6   2_reihe     150000                  8    petrol     peugeot       no   \n",
       "7     other      40000                  7    petrol  volkswagen       no   \n",
       "8     c_max      30000                  8    petrol        ford      NaN   \n",
       "9      golf     150000                  0       NaN  volkswagen      NaN   \n",
       "10  3_reihe     150000                 12    petrol       mazda       no   \n",
       "11   passat     150000                 12  gasoline  volkswagen      yes   \n",
       "12   passat     150000                 11    petrol  volkswagen      NaN   \n",
       "13   passat     150000                  2       NaN  volkswagen       no   \n",
       "14   navara      70000                  3  gasoline      nissan       no   \n",
       "\n",
       "            DateCreated  NumberOfPictures  PostalCode             LastSeen  \n",
       "0   2016-03-24 00:00:00                 0       70435  2016-04-07 03:16:57  \n",
       "1   2016-03-24 00:00:00                 0       66954  2016-04-07 01:46:50  \n",
       "2   2016-03-14 00:00:00                 0       90480  2016-04-05 12:47:46  \n",
       "3   2016-03-17 00:00:00                 0       91074  2016-03-17 17:40:17  \n",
       "4   2016-03-31 00:00:00                 0       60437  2016-04-06 10:17:21  \n",
       "5   2016-04-04 00:00:00                 0       33775  2016-04-06 19:17:07  \n",
       "6   2016-04-01 00:00:00                 0       67112  2016-04-05 18:18:39  \n",
       "7   2016-03-21 00:00:00                 0       19348  2016-03-25 16:47:58  \n",
       "8   2016-04-04 00:00:00                 0       94505  2016-04-04 23:42:13  \n",
       "9   2016-03-17 00:00:00                 0       27472  2016-03-31 17:17:06  \n",
       "10  2016-03-26 00:00:00                 0       96224  2016-04-06 10:45:34  \n",
       "11  2016-04-07 00:00:00                 0       57290  2016-04-07 10:25:17  \n",
       "12  2016-03-15 00:00:00                 0       37269  2016-04-01 13:16:16  \n",
       "13  2016-03-21 00:00:00                 0       90762  2016-03-23 02:50:54  \n",
       "14  2016-03-21 00:00:00                 0        4177  2016-04-06 07:45:42  "
      ]
     },
     "metadata": {},
     "output_type": "display_data"
    },
    {
     "name": "stdout",
     "output_type": "stream",
     "text": [
      "354369\n"
     ]
    }
   ],
   "source": [
    "df = pd.read_csv('/datasets/autos.csv')\n",
    "df_shape = df.shape[0]\n",
    "df.info()\n",
    "display(df.head(15))\n",
    "print(df_shape)"
   ]
  },
  {
   "cell_type": "markdown",
   "metadata": {},
   "source": [
    "**Признаки**\n",
    "- DateCrawled — дата скачивания анкеты из базы\n",
    "- VehicleType — тип автомобильного кузова\n",
    "- RegistrationYear — год регистрации автомобиля\n",
    "- Gearbox — тип коробки передач\n",
    "- Power — мощность (л. с.)\n",
    "- Model — модель автомобиля\n",
    "- Kilometer — пробег (км)\n",
    "- RegistrationMonth — месяц регистрации автомобиля\n",
    "- FuelType — тип топлива\n",
    "- Brand — марка автомобиля\n",
    "- Repaired — была машина в ремонте или нет\n",
    "- DateCreated — дата создания анкеты\n",
    "- NumberOfPictures — количество фотографий автомобиля\n",
    "- PostalCode — почтовый индекс владельца анкеты (пользователя)\n",
    "- LastSeen — дата последней активности пользователя"
   ]
  },
  {
   "cell_type": "markdown",
   "metadata": {},
   "source": [
    "**Признаки `DateCrawled`, `RegistrationMonth`, `DateCreated`, `NumberOfPictures`, `PostalCode` и `LastSeen` являются неинфоративными и их можно удалить.**"
   ]
  },
  {
   "cell_type": "code",
   "execution_count": 4,
   "metadata": {},
   "outputs": [],
   "source": [
    "df = df.drop(['DateCrawled', 'RegistrationMonth', 'DateCreated', 'NumberOfPictures', 'LastSeen', 'PostalCode'], axis = 1)"
   ]
  },
  {
   "cell_type": "markdown",
   "metadata": {},
   "source": [
    "**Переименуем столбцы по стандарту.**"
   ]
  },
  {
   "cell_type": "code",
   "execution_count": 5,
   "metadata": {},
   "outputs": [],
   "source": [
    "df.columns = ['price', 'vehicle_type', 'registration_year', 'gearbox', 'power', 'model', 'kilometer',\\\n",
    "              'fuel_type', 'brand', 'repaired']"
   ]
  },
  {
   "cell_type": "markdown",
   "metadata": {},
   "source": [
    "**Столбцы `repaired`, `vehicle_type`, `fuel_type`, `gearbox` и `model` имеют пропуски, посмотрим.**"
   ]
  },
  {
   "cell_type": "code",
   "execution_count": 6,
   "metadata": {},
   "outputs": [
    {
     "data": {
      "text/plain": [
       "repaired             71154\n",
       "vehicle_type         37490\n",
       "fuel_type            32895\n",
       "gearbox              19833\n",
       "model                19705\n",
       "price                    0\n",
       "registration_year        0\n",
       "power                    0\n",
       "kilometer                0\n",
       "brand                    0\n",
       "dtype: int64"
      ]
     },
     "execution_count": 6,
     "metadata": {},
     "output_type": "execute_result"
    }
   ],
   "source": [
    "df.isna().sum().sort_values(ascending=False)"
   ]
  },
  {
   "cell_type": "markdown",
   "metadata": {},
   "source": [
    "**В столбце `repaired` пропуски, скорее всего, означают автомобиль не ремонтировался или продавец специально не указал информацию, чтобы скрыть факт ремонта. Заменим пустые значения на `unknown`**"
   ]
  },
  {
   "cell_type": "code",
   "execution_count": 7,
   "metadata": {},
   "outputs": [],
   "source": [
    "df['repaired'] = df['repaired'].fillna('unknown')"
   ]
  },
  {
   "cell_type": "markdown",
   "metadata": {},
   "source": [
    "**В столбце `vehicle_type` пропуски, скорее всего, появились из-за невнимательности или незнании автора объявления о типе кузова своего авто, а, может, просто не стал указывать. Заменим пустые значения на `unknown`**"
   ]
  },
  {
   "cell_type": "code",
   "execution_count": 8,
   "metadata": {},
   "outputs": [],
   "source": [
    "df['vehicle_type'] = df['vehicle_type'].fillna('unknown')"
   ]
  },
  {
   "cell_type": "markdown",
   "metadata": {},
   "source": [
    "**Заполним пропуски в столбцах `fuel_type`, `model` и `gearbox` заглушками `unknown`.**"
   ]
  },
  {
   "cell_type": "code",
   "execution_count": 9,
   "metadata": {},
   "outputs": [],
   "source": [
    "df['fuel_type'] = df['fuel_type'].fillna('unknown')\n",
    "df['model'] = df['model'].fillna('unknown')\n",
    "df['gearbox'] = df['gearbox'].fillna('unknown')"
   ]
  },
  {
   "cell_type": "code",
   "execution_count": 10,
   "metadata": {},
   "outputs": [
    {
     "data": {
      "text/plain": [
       "price                0\n",
       "vehicle_type         0\n",
       "registration_year    0\n",
       "gearbox              0\n",
       "power                0\n",
       "model                0\n",
       "kilometer            0\n",
       "fuel_type            0\n",
       "brand                0\n",
       "repaired             0\n",
       "dtype: int64"
      ]
     },
     "execution_count": 10,
     "metadata": {},
     "output_type": "execute_result"
    }
   ],
   "source": [
    "df.isna().sum().sort_values(ascending=False)"
   ]
  },
  {
   "cell_type": "code",
   "execution_count": 11,
   "metadata": {},
   "outputs": [],
   "source": [
    "cat_columns = df.select_dtypes(include='object').columns.tolist()\n",
    "num_columns = df.select_dtypes(include='int').columns.tolist()"
   ]
  },
  {
   "cell_type": "code",
   "execution_count": 12,
   "metadata": {},
   "outputs": [
    {
     "name": "stdout",
     "output_type": "stream",
     "text": [
      "['unknown' 'coupe' 'suv' 'small' 'sedan' 'convertible' 'bus' 'wagon'\n",
      " 'other']\n",
      "['manual' 'auto' 'unknown']\n",
      "['golf' 'unknown' 'grand' 'fabia' '3er' '2_reihe' 'other' 'c_max'\n",
      " '3_reihe' 'passat' 'navara' 'ka' 'polo' 'twingo' 'a_klasse' 'scirocco'\n",
      " '5er' 'meriva' 'arosa' 'c4' 'civic' 'transporter' 'punto' 'e_klasse'\n",
      " 'clio' 'kadett' 'kangoo' 'corsa' 'one' 'fortwo' '1er' 'b_klasse' 'signum'\n",
      " 'astra' 'a8' 'jetta' 'fiesta' 'c_klasse' 'micra' 'vito' 'sprinter' '156'\n",
      " 'escort' 'forester' 'xc_reihe' 'scenic' 'a4' 'a1' 'insignia' 'combo'\n",
      " 'focus' 'tt' 'a6' 'jazz' 'omega' 'slk' '7er' '80' '147' '100' 'z_reihe'\n",
      " 'sportage' 'sorento' 'v40' 'ibiza' 'mustang' 'eos' 'touran' 'getz' 'a3'\n",
      " 'almera' 'megane' 'lupo' 'r19' 'zafira' 'caddy' 'mondeo' 'cordoba' 'colt'\n",
      " 'impreza' 'vectra' 'berlingo' 'tiguan' 'i_reihe' 'espace' 'sharan'\n",
      " '6_reihe' 'panda' 'up' 'seicento' 'ceed' '5_reihe' 'yeti' 'octavia' 'mii'\n",
      " 'rx_reihe' '6er' 'modus' 'fox' 'matiz' 'beetle' 'c1' 'rio' 'touareg'\n",
      " 'logan' 'spider' 'cuore' 's_max' 'a2' 'galaxy' 'c3' 'viano' 's_klasse'\n",
      " '1_reihe' 'avensis' 'roomster' 'sl' 'kaefer' 'santa' 'cooper' 'leon'\n",
      " '4_reihe' 'a5' '500' 'laguna' 'ptcruiser' 'clk' 'primera' 'x_reihe'\n",
      " 'exeo' '159' 'transit' 'juke' 'qashqai' 'carisma' 'accord' 'corolla'\n",
      " 'lanos' 'phaeton' 'verso' 'swift' 'rav' 'picanto' 'boxster' 'kalos'\n",
      " 'superb' 'stilo' 'alhambra' 'mx_reihe' 'roadster' 'ypsilon' 'cayenne'\n",
      " 'galant' 'justy' '90' 'sirion' 'crossfire' 'agila' 'duster' 'cr_reihe'\n",
      " 'v50' 'c_reihe' 'v_klasse' 'm_klasse' 'yaris' 'c5' 'aygo' 'cc' 'carnival'\n",
      " 'fusion' '911' 'bora' 'forfour' 'm_reihe' 'cl' 'tigra' '300c' 'spark'\n",
      " 'v70' 'kuga' 'x_type' 'ducato' 's_type' 'x_trail' 'toledo' 'altea'\n",
      " 'voyager' 'calibra' 'bravo' 'antara' 'tucson' 'citigo' 'jimny' 'wrangler'\n",
      " 'lybra' 'q7' 'lancer' 'captiva' 'c2' 'discovery' 'freelander' 'sandero'\n",
      " 'note' '900' 'cherokee' 'clubman' 'samara' 'defender' '601' 'cx_reihe'\n",
      " 'legacy' 'pajero' 'auris' 'niva' 's60' 'nubira' 'vivaro' 'g_klasse'\n",
      " 'lodgy' '850' 'range_rover' 'q3' 'serie_2' 'glk' 'charade' 'croma'\n",
      " 'outlander' 'doblo' 'musa' 'move' '9000' 'v60' '145' 'aveo' '200' 'b_max'\n",
      " 'range_rover_sport' 'terios' 'rangerover' 'q5' 'range_rover_evoque'\n",
      " 'materia' 'delta' 'gl' 'kalina' 'amarok' 'elefantino' 'i3' 'kappa'\n",
      " 'serie_3' 'serie_1']\n",
      "['petrol' 'gasoline' 'unknown' 'lpg' 'other' 'hybrid' 'cng' 'electric']\n",
      "['volkswagen' 'audi' 'jeep' 'skoda' 'bmw' 'peugeot' 'ford' 'mazda'\n",
      " 'nissan' 'renault' 'mercedes_benz' 'opel' 'seat' 'citroen' 'honda' 'fiat'\n",
      " 'mini' 'smart' 'hyundai' 'sonstige_autos' 'alfa_romeo' 'subaru' 'volvo'\n",
      " 'mitsubishi' 'kia' 'suzuki' 'lancia' 'toyota' 'chevrolet' 'dacia'\n",
      " 'daihatsu' 'trabant' 'saab' 'chrysler' 'jaguar' 'daewoo' 'porsche'\n",
      " 'rover' 'land_rover' 'lada']\n",
      "['unknown' 'yes' 'no']\n",
      "Количество явных дубликатов: 45040\n"
     ]
    }
   ],
   "source": [
    "for column in cat_columns:\n",
    "    print(df[column].unique())\n",
    "print('Количество явных дубликатов:', df.duplicated().sum())"
   ]
  },
  {
   "cell_type": "markdown",
   "metadata": {},
   "source": [
    "**Кроме явных дубликатов есть 1 неявный дубликат: `range_rover` и `rangerover` в признаке `model`**"
   ]
  },
  {
   "cell_type": "code",
   "execution_count": 13,
   "metadata": {},
   "outputs": [],
   "source": [
    "df['model'] = df['model'].replace('rangerover', 'range_rover')\n",
    "df = df.drop_duplicates().reset_index(drop=True)"
   ]
  },
  {
   "cell_type": "code",
   "execution_count": 14,
   "metadata": {
    "scrolled": false
   },
   "outputs": [
    {
     "name": "stderr",
     "output_type": "stream",
     "text": [
      "/opt/conda/lib/python3.9/site-packages/seaborn/_decorators.py:36: FutureWarning: Pass the following variable as a keyword arg: x. From version 0.12, the only valid positional argument will be `data`, and passing other arguments without an explicit keyword will result in an error or misinterpretation.\n",
      "  warnings.warn(\n"
     ]
    },
    {
     "data": {
      "image/png": "[encoded data removed]",
      "text/plain": [
       "<Figure size 1080x360 with 2 Axes>"
      ]
     },
     "metadata": {
      "needs_background": "light"
     },
     "output_type": "display_data"
    },
    {
     "name": "stderr",
     "output_type": "stream",
     "text": [
      "/opt/conda/lib/python3.9/site-packages/seaborn/_decorators.py:36: FutureWarning: Pass the following variable as a keyword arg: x. From version 0.12, the only valid positional argument will be `data`, and passing other arguments without an explicit keyword will result in an error or misinterpretation.\n",
      "  warnings.warn(\n"
     ]
    },
    {
     "data": {
      "image/png": "[encoded data removed]",
      "text/plain": [
       "<Figure size 1080x360 with 2 Axes>"
      ]
     },
     "metadata": {
      "needs_background": "light"
     },
     "output_type": "display_data"
    },
    {
     "name": "stderr",
     "output_type": "stream",
     "text": [
      "/opt/conda/lib/python3.9/site-packages/seaborn/_decorators.py:36: FutureWarning: Pass the following variable as a keyword arg: x. From version 0.12, the only valid positional argument will be `data`, and passing other arguments without an explicit keyword will result in an error or misinterpretation.\n",
      "  warnings.warn(\n"
     ]
    },
    {
     "data": {
      "image/png": "[encoded data removed]",
      "text/plain": [
       "<Figure size 1080x360 with 2 Axes>"
      ]
     },
     "metadata": {
      "needs_background": "light"
     },
     "output_type": "display_data"
    },
    {
     "name": "stderr",
     "output_type": "stream",
     "text": [
      "/opt/conda/lib/python3.9/site-packages/seaborn/_decorators.py:36: FutureWarning: Pass the following variable as a keyword arg: x. From version 0.12, the only valid positional argument will be `data`, and passing other arguments without an explicit keyword will result in an error or misinterpretation.\n",
      "  warnings.warn(\n"
     ]
    },
    {
     "data": {
      "image/png": "[encoded data removed]",
      "text/plain": [
       "<Figure size 1080x360 with 2 Axes>"
      ]
     },
     "metadata": {
      "needs_background": "light"
     },
     "output_type": "display_data"
    }
   ],
   "source": [
    "def hist_boxplot(df, column):\n",
    "    fig, axes = plt.subplots(nrows=1, ncols=2, figsize=(15,5))\n",
    "    \n",
    "    sns.histplot(data=df, x=column, ax=axes[0], bins=50)\n",
    "    axes[0].set_title('Гистограмма распределения')\n",
    "    axes[0].set_ylabel('Количество')\n",
    "    axes[0].set_xlabel(column)\n",
    "    axes[0].set_facecolor('#E0EEEE')\n",
    "    \n",
    "    sns.boxplot(df[column], ax=axes[1])\n",
    "    axes[1].set_title('Разброс значений признаков')\n",
    "    axes[1].set_facecolor('#E0EEEE')\n",
    "      \n",
    "    plt.show()\n",
    "    \n",
    "for column in list(num_columns):\n",
    "    hist_boxplot(df, column)"
   ]
  },
  {
   "cell_type": "markdown",
   "metadata": {},
   "source": [
    "**Видим явные проблемы со значениями в столбце год регистрации автомобиля и мощность двигателя, а так же есть объявления со стоимостью автомобиля = 0. Это аномалии, от них нужно избавляться. Среди серийных автомобилей в 2017 году с самым мощным двигателем был автомобиль `Dodge Challenger SRT Demon` с 840 лошадками под капотом. Это значение и примем за верхнюю границу.**"
   ]
  },
  {
   "cell_type": "markdown",
   "metadata": {},
   "source": [
    "**Проверим целевой признак, отсортировав столбец `price` по возрастанию.**"
   ]
  },
  {
   "cell_type": "code",
   "execution_count": 15,
   "metadata": {},
   "outputs": [
    {
     "data": {
      "text/plain": [
       "171984        0\n",
       "254093        0\n",
       "14098         0\n",
       "184347        0\n",
       "79021         0\n",
       "          ...  \n",
       "230017    20000\n",
       "35837     20000\n",
       "25663     20000\n",
       "28009     20000\n",
       "26824     20000\n",
       "Name: price, Length: 309329, dtype: int64"
      ]
     },
     "metadata": {},
     "output_type": "display_data"
    },
    {
     "name": "stdout",
     "output_type": "stream",
     "text": [
      "Количество объявлений со стоимостью автомобиля менее 100 евро: 11281\n"
     ]
    }
   ],
   "source": [
    "display(df['price'].sort_values(ascending=True))\n",
    "print('Количество объявлений со стоимостью автомобиля менее 100 евро:', df[df['price'] < 100].value_counts().sum())"
   ]
  },
  {
   "cell_type": "code",
   "execution_count": 16,
   "metadata": {},
   "outputs": [],
   "source": [
    "df = df.query('power > 40 and power <= 840')\n",
    "df = df.query('registration_year > 1960 and registration_year <= 2016 and price >= 100')"
   ]
  },
  {
   "cell_type": "code",
   "execution_count": 17,
   "metadata": {},
   "outputs": [
    {
     "name": "stdout",
     "output_type": "stream",
     "text": [
      "<class 'pandas.core.frame.DataFrame'>\n",
      "Int64Index: 254767 entries, 1 to 309328\n",
      "Data columns (total 10 columns):\n",
      " #   Column             Non-Null Count   Dtype \n",
      "---  ------             --------------   ----- \n",
      " 0   price              254767 non-null  int64 \n",
      " 1   vehicle_type       254767 non-null  object\n",
      " 2   registration_year  254767 non-null  int64 \n",
      " 3   gearbox            254767 non-null  object\n",
      " 4   power              254767 non-null  int64 \n",
      " 5   model              254767 non-null  object\n",
      " 6   kilometer          254767 non-null  int64 \n",
      " 7   fuel_type          254767 non-null  object\n",
      " 8   brand              254767 non-null  object\n",
      " 9   repaired           254767 non-null  object\n",
      "dtypes: int64(4), object(6)\n",
      "memory usage: 21.4+ MB\n"
     ]
    },
    {
     "data": {
      "text/html": [
       "<div>\n",
       "<style scoped>\n",
       "    .dataframe tbody tr th:only-of-type {\n",
       "        vertical-align: middle;\n",
       "    }\n",
       "\n",
       "    .dataframe tbody tr th {\n",
       "        vertical-align: top;\n",
       "    }\n",
       "\n",
       "    .dataframe thead th {\n",
       "        text-align: right;\n",
       "    }\n",
       "</style>\n",
       "<table border=\"1\" class=\"dataframe\">\n",
       "  <thead>\n",
       "    <tr style=\"text-align: right;\">\n",
       "      <th></th>\n",
       "      <th>price</th>\n",
       "      <th>vehicle_type</th>\n",
       "      <th>registration_year</th>\n",
       "      <th>gearbox</th>\n",
       "      <th>power</th>\n",
       "      <th>model</th>\n",
       "      <th>kilometer</th>\n",
       "      <th>fuel_type</th>\n",
       "      <th>brand</th>\n",
       "      <th>repaired</th>\n",
       "    </tr>\n",
       "  </thead>\n",
       "  <tbody>\n",
       "    <tr>\n",
       "      <th>1</th>\n",
       "      <td>18300</td>\n",
       "      <td>coupe</td>\n",
       "      <td>2011</td>\n",
       "      <td>manual</td>\n",
       "      <td>190</td>\n",
       "      <td>unknown</td>\n",
       "      <td>125000</td>\n",
       "      <td>gasoline</td>\n",
       "      <td>audi</td>\n",
       "      <td>yes</td>\n",
       "    </tr>\n",
       "    <tr>\n",
       "      <th>2</th>\n",
       "      <td>9800</td>\n",
       "      <td>suv</td>\n",
       "      <td>2004</td>\n",
       "      <td>auto</td>\n",
       "      <td>163</td>\n",
       "      <td>grand</td>\n",
       "      <td>125000</td>\n",
       "      <td>gasoline</td>\n",
       "      <td>jeep</td>\n",
       "      <td>unknown</td>\n",
       "    </tr>\n",
       "    <tr>\n",
       "      <th>3</th>\n",
       "      <td>1500</td>\n",
       "      <td>small</td>\n",
       "      <td>2001</td>\n",
       "      <td>manual</td>\n",
       "      <td>75</td>\n",
       "      <td>golf</td>\n",
       "      <td>150000</td>\n",
       "      <td>petrol</td>\n",
       "      <td>volkswagen</td>\n",
       "      <td>no</td>\n",
       "    </tr>\n",
       "    <tr>\n",
       "      <th>4</th>\n",
       "      <td>3600</td>\n",
       "      <td>small</td>\n",
       "      <td>2008</td>\n",
       "      <td>manual</td>\n",
       "      <td>69</td>\n",
       "      <td>fabia</td>\n",
       "      <td>90000</td>\n",
       "      <td>gasoline</td>\n",
       "      <td>skoda</td>\n",
       "      <td>no</td>\n",
       "    </tr>\n",
       "    <tr>\n",
       "      <th>5</th>\n",
       "      <td>650</td>\n",
       "      <td>sedan</td>\n",
       "      <td>1995</td>\n",
       "      <td>manual</td>\n",
       "      <td>102</td>\n",
       "      <td>3er</td>\n",
       "      <td>150000</td>\n",
       "      <td>petrol</td>\n",
       "      <td>bmw</td>\n",
       "      <td>yes</td>\n",
       "    </tr>\n",
       "    <tr>\n",
       "      <th>6</th>\n",
       "      <td>2200</td>\n",
       "      <td>convertible</td>\n",
       "      <td>2004</td>\n",
       "      <td>manual</td>\n",
       "      <td>109</td>\n",
       "      <td>2_reihe</td>\n",
       "      <td>150000</td>\n",
       "      <td>petrol</td>\n",
       "      <td>peugeot</td>\n",
       "      <td>no</td>\n",
       "    </tr>\n",
       "    <tr>\n",
       "      <th>8</th>\n",
       "      <td>14500</td>\n",
       "      <td>bus</td>\n",
       "      <td>2014</td>\n",
       "      <td>manual</td>\n",
       "      <td>125</td>\n",
       "      <td>c_max</td>\n",
       "      <td>30000</td>\n",
       "      <td>petrol</td>\n",
       "      <td>ford</td>\n",
       "      <td>unknown</td>\n",
       "    </tr>\n",
       "    <tr>\n",
       "      <th>9</th>\n",
       "      <td>999</td>\n",
       "      <td>small</td>\n",
       "      <td>1998</td>\n",
       "      <td>manual</td>\n",
       "      <td>101</td>\n",
       "      <td>golf</td>\n",
       "      <td>150000</td>\n",
       "      <td>unknown</td>\n",
       "      <td>volkswagen</td>\n",
       "      <td>unknown</td>\n",
       "    </tr>\n",
       "    <tr>\n",
       "      <th>10</th>\n",
       "      <td>2000</td>\n",
       "      <td>sedan</td>\n",
       "      <td>2004</td>\n",
       "      <td>manual</td>\n",
       "      <td>105</td>\n",
       "      <td>3_reihe</td>\n",
       "      <td>150000</td>\n",
       "      <td>petrol</td>\n",
       "      <td>mazda</td>\n",
       "      <td>no</td>\n",
       "    </tr>\n",
       "    <tr>\n",
       "      <th>11</th>\n",
       "      <td>2799</td>\n",
       "      <td>wagon</td>\n",
       "      <td>2005</td>\n",
       "      <td>manual</td>\n",
       "      <td>140</td>\n",
       "      <td>passat</td>\n",
       "      <td>150000</td>\n",
       "      <td>gasoline</td>\n",
       "      <td>volkswagen</td>\n",
       "      <td>yes</td>\n",
       "    </tr>\n",
       "  </tbody>\n",
       "</table>\n",
       "</div>"
      ],
      "text/plain": [
       "    price vehicle_type  registration_year gearbox  power    model  kilometer  \\\n",
       "1   18300        coupe               2011  manual    190  unknown     125000   \n",
       "2    9800          suv               2004    auto    163    grand     125000   \n",
       "3    1500        small               2001  manual     75     golf     150000   \n",
       "4    3600        small               2008  manual     69    fabia      90000   \n",
       "5     650        sedan               1995  manual    102      3er     150000   \n",
       "6    2200  convertible               2004  manual    109  2_reihe     150000   \n",
       "8   14500          bus               2014  manual    125    c_max      30000   \n",
       "9     999        small               1998  manual    101     golf     150000   \n",
       "10   2000        sedan               2004  manual    105  3_reihe     150000   \n",
       "11   2799        wagon               2005  manual    140   passat     150000   \n",
       "\n",
       "   fuel_type       brand repaired  \n",
       "1   gasoline        audi      yes  \n",
       "2   gasoline        jeep  unknown  \n",
       "3     petrol  volkswagen       no  \n",
       "4   gasoline       skoda       no  \n",
       "5     petrol         bmw      yes  \n",
       "6     petrol     peugeot       no  \n",
       "8     petrol        ford  unknown  \n",
       "9    unknown  volkswagen  unknown  \n",
       "10    petrol       mazda       no  \n",
       "11  gasoline  volkswagen      yes  "
      ]
     },
     "execution_count": 17,
     "metadata": {},
     "output_type": "execute_result"
    }
   ],
   "source": [
    "df.info()\n",
    "df.head(10)"
   ]
  },
  {
   "cell_type": "code",
   "execution_count": 18,
   "metadata": {},
   "outputs": [
    {
     "name": "stdout",
     "output_type": "stream",
     "text": [
      "Всего удалённо объектов: 99602\n",
      "Доля удалённых объектов: 28.11%\n"
     ]
    }
   ],
   "source": [
    "print('Всего удалённо объектов:', df_shape - df.shape[0]) \n",
    "print(f'Доля удалённых объектов: {round((1 - df.shape[0] / df_shape)*100, 2)}%') "
   ]
  },
  {
   "cell_type": "markdown",
   "metadata": {},
   "source": [
    "**Удалили четверть данных. Наверное много, но я старался как можно меньше вносить изменений в данные, чтобы не навредить качеству обучения моделей.**"
   ]
  },
  {
   "cell_type": "code",
   "execution_count": 19,
   "metadata": {},
   "outputs": [
    {
     "data": {
      "image/png": "[encoded data removed]",
      "text/plain": [
       "<Figure size 1224x720 with 2 Axes>"
      ]
     },
     "metadata": {
      "needs_background": "light"
     },
     "output_type": "display_data"
    }
   ],
   "source": [
    "fig, ax = plt.subplots(figsize=(17, 10))\n",
    "sns.heatmap(df.phik_matrix(interval_cols=['price', \n",
    "                                          'registration_year', \n",
    "                                          'power', \n",
    "                                          'kilometer']), \n",
    "            annot=True, fmt='.2f', cmap='coolwarm');"
   ]
  },
  {
   "cell_type": "markdown",
   "metadata": {},
   "source": [
    "**Признак `model` коррелирует с признаками `brand` и `vehicle_type` уберем его.**"
   ]
  },
  {
   "cell_type": "code",
   "execution_count": 20,
   "metadata": {},
   "outputs": [],
   "source": [
    "df = df.drop('model', axis = 1)"
   ]
  },
  {
   "cell_type": "markdown",
   "metadata": {},
   "source": [
    "**Вывод.**\n",
    "**Загружены данные, проверены на наличие дубликатов. Пропуски обработаны заглушками, аномалии удалены. Датасет готов для обучения моделей.**"
   ]
  },
  {
   "cell_type": "markdown",
   "metadata": {},
   "source": [
    "## Обучение моделей"
   ]
  },
  {
   "cell_type": "code",
   "execution_count": 21,
   "metadata": {},
   "outputs": [],
   "source": [
    "features = df.drop(['price'], axis=1)\n",
    "target = df['price']\n",
    "X_train, X_test, y_train, y_test = train_test_split(features, target, train_size = 0.6, random_state = 29)\n",
    "X_test, X_val, y_test, y_val = train_test_split(X_test, y_test, train_size=0.5, random_state=29)"
   ]
  },
  {
   "cell_type": "code",
   "execution_count": 22,
   "metadata": {},
   "outputs": [
    {
     "data": {
      "text/html": [
       "<div>\n",
       "<style scoped>\n",
       "    .dataframe tbody tr th:only-of-type {\n",
       "        vertical-align: middle;\n",
       "    }\n",
       "\n",
       "    .dataframe tbody tr th {\n",
       "        vertical-align: top;\n",
       "    }\n",
       "\n",
       "    .dataframe thead th {\n",
       "        text-align: right;\n",
       "    }\n",
       "</style>\n",
       "<table border=\"1\" class=\"dataframe\">\n",
       "  <thead>\n",
       "    <tr style=\"text-align: right;\">\n",
       "      <th></th>\n",
       "      <th>vehicle_type</th>\n",
       "      <th>registration_year</th>\n",
       "      <th>gearbox</th>\n",
       "      <th>power</th>\n",
       "      <th>kilometer</th>\n",
       "      <th>fuel_type</th>\n",
       "      <th>brand</th>\n",
       "      <th>repaired</th>\n",
       "    </tr>\n",
       "  </thead>\n",
       "  <tbody>\n",
       "    <tr>\n",
       "      <th>16806</th>\n",
       "      <td>wagon</td>\n",
       "      <td>2001</td>\n",
       "      <td>auto</td>\n",
       "      <td>170</td>\n",
       "      <td>150000</td>\n",
       "      <td>petrol</td>\n",
       "      <td>audi</td>\n",
       "      <td>unknown</td>\n",
       "    </tr>\n",
       "    <tr>\n",
       "      <th>304698</th>\n",
       "      <td>wagon</td>\n",
       "      <td>2009</td>\n",
       "      <td>manual</td>\n",
       "      <td>177</td>\n",
       "      <td>150000</td>\n",
       "      <td>gasoline</td>\n",
       "      <td>bmw</td>\n",
       "      <td>yes</td>\n",
       "    </tr>\n",
       "    <tr>\n",
       "      <th>268185</th>\n",
       "      <td>unknown</td>\n",
       "      <td>2016</td>\n",
       "      <td>manual</td>\n",
       "      <td>60</td>\n",
       "      <td>150000</td>\n",
       "      <td>unknown</td>\n",
       "      <td>volkswagen</td>\n",
       "      <td>no</td>\n",
       "    </tr>\n",
       "    <tr>\n",
       "      <th>213176</th>\n",
       "      <td>small</td>\n",
       "      <td>2014</td>\n",
       "      <td>manual</td>\n",
       "      <td>69</td>\n",
       "      <td>30000</td>\n",
       "      <td>petrol</td>\n",
       "      <td>opel</td>\n",
       "      <td>no</td>\n",
       "    </tr>\n",
       "    <tr>\n",
       "      <th>211971</th>\n",
       "      <td>sedan</td>\n",
       "      <td>1991</td>\n",
       "      <td>manual</td>\n",
       "      <td>150</td>\n",
       "      <td>150000</td>\n",
       "      <td>petrol</td>\n",
       "      <td>bmw</td>\n",
       "      <td>no</td>\n",
       "    </tr>\n",
       "  </tbody>\n",
       "</table>\n",
       "</div>"
      ],
      "text/plain": [
       "       vehicle_type  registration_year gearbox  power  kilometer fuel_type  \\\n",
       "16806         wagon               2001    auto    170     150000    petrol   \n",
       "304698        wagon               2009  manual    177     150000  gasoline   \n",
       "268185      unknown               2016  manual     60     150000   unknown   \n",
       "213176        small               2014  manual     69      30000    petrol   \n",
       "211971        sedan               1991  manual    150     150000    petrol   \n",
       "\n",
       "             brand repaired  \n",
       "16806         audi  unknown  \n",
       "304698         bmw      yes  \n",
       "268185  volkswagen       no  \n",
       "213176        opel       no  \n",
       "211971         bmw       no  "
      ]
     },
     "execution_count": 22,
     "metadata": {},
     "output_type": "execute_result"
    }
   ],
   "source": [
    "X_train.head()"
   ]
  },
  {
   "cell_type": "code",
   "execution_count": 23,
   "metadata": {},
   "outputs": [],
   "source": [
    "ohe_columns = ['vehicle_type', 'gearbox', 'fuel_type', 'brand', 'repaired']\n",
    "num_columns = ['registration_year', 'power', 'kilometer']\n",
    "del df"
   ]
  },
  {
   "cell_type": "code",
   "execution_count": 24,
   "metadata": {},
   "outputs": [
    {
     "name": "stderr",
     "output_type": "stream",
     "text": [
      "/opt/conda/lib/python3.9/site-packages/sklearn/utils/deprecation.py:87: FutureWarning: Function get_feature_names is deprecated; get_feature_names is deprecated in 1.0 and will be removed in 1.2. Please use get_feature_names_out instead.\n",
      "  warnings.warn(msg, category=FutureWarning)\n"
     ]
    },
    {
     "data": {
      "text/html": [
       "<div>\n",
       "<style scoped>\n",
       "    .dataframe tbody tr th:only-of-type {\n",
       "        vertical-align: middle;\n",
       "    }\n",
       "\n",
       "    .dataframe tbody tr th {\n",
       "        vertical-align: top;\n",
       "    }\n",
       "\n",
       "    .dataframe thead th {\n",
       "        text-align: right;\n",
       "    }\n",
       "</style>\n",
       "<table border=\"1\" class=\"dataframe\">\n",
       "  <thead>\n",
       "    <tr style=\"text-align: right;\">\n",
       "      <th></th>\n",
       "      <th>x0_convertible</th>\n",
       "      <th>x0_coupe</th>\n",
       "      <th>x0_other</th>\n",
       "      <th>x0_sedan</th>\n",
       "      <th>x0_small</th>\n",
       "      <th>x0_suv</th>\n",
       "      <th>x0_unknown</th>\n",
       "      <th>x0_wagon</th>\n",
       "      <th>x1_manual</th>\n",
       "      <th>x1_unknown</th>\n",
       "      <th>...</th>\n",
       "      <th>x3_suzuki</th>\n",
       "      <th>x3_toyota</th>\n",
       "      <th>x3_trabant</th>\n",
       "      <th>x3_volkswagen</th>\n",
       "      <th>x3_volvo</th>\n",
       "      <th>x4_unknown</th>\n",
       "      <th>x4_yes</th>\n",
       "      <th>registration_year</th>\n",
       "      <th>power</th>\n",
       "      <th>kilometer</th>\n",
       "    </tr>\n",
       "  </thead>\n",
       "  <tbody>\n",
       "    <tr>\n",
       "      <th>0</th>\n",
       "      <td>0.0</td>\n",
       "      <td>0.0</td>\n",
       "      <td>0.0</td>\n",
       "      <td>0.0</td>\n",
       "      <td>0.0</td>\n",
       "      <td>0.0</td>\n",
       "      <td>0.0</td>\n",
       "      <td>1.0</td>\n",
       "      <td>0.0</td>\n",
       "      <td>0.0</td>\n",
       "      <td>...</td>\n",
       "      <td>0.0</td>\n",
       "      <td>0.0</td>\n",
       "      <td>0.0</td>\n",
       "      <td>0.0</td>\n",
       "      <td>0.0</td>\n",
       "      <td>1.0</td>\n",
       "      <td>0.0</td>\n",
       "      <td>-0.307982</td>\n",
       "      <td>0.875464</td>\n",
       "      <td>0.605328</td>\n",
       "    </tr>\n",
       "    <tr>\n",
       "      <th>1</th>\n",
       "      <td>0.0</td>\n",
       "      <td>0.0</td>\n",
       "      <td>0.0</td>\n",
       "      <td>0.0</td>\n",
       "      <td>0.0</td>\n",
       "      <td>0.0</td>\n",
       "      <td>0.0</td>\n",
       "      <td>1.0</td>\n",
       "      <td>1.0</td>\n",
       "      <td>0.0</td>\n",
       "      <td>...</td>\n",
       "      <td>0.0</td>\n",
       "      <td>0.0</td>\n",
       "      <td>0.0</td>\n",
       "      <td>0.0</td>\n",
       "      <td>0.0</td>\n",
       "      <td>0.0</td>\n",
       "      <td>1.0</td>\n",
       "      <td>0.937200</td>\n",
       "      <td>1.004070</td>\n",
       "      <td>0.605328</td>\n",
       "    </tr>\n",
       "    <tr>\n",
       "      <th>2</th>\n",
       "      <td>0.0</td>\n",
       "      <td>0.0</td>\n",
       "      <td>0.0</td>\n",
       "      <td>0.0</td>\n",
       "      <td>0.0</td>\n",
       "      <td>0.0</td>\n",
       "      <td>1.0</td>\n",
       "      <td>0.0</td>\n",
       "      <td>1.0</td>\n",
       "      <td>0.0</td>\n",
       "      <td>...</td>\n",
       "      <td>0.0</td>\n",
       "      <td>0.0</td>\n",
       "      <td>0.0</td>\n",
       "      <td>1.0</td>\n",
       "      <td>0.0</td>\n",
       "      <td>0.0</td>\n",
       "      <td>0.0</td>\n",
       "      <td>2.026735</td>\n",
       "      <td>-1.145488</td>\n",
       "      <td>0.605328</td>\n",
       "    </tr>\n",
       "    <tr>\n",
       "      <th>3</th>\n",
       "      <td>0.0</td>\n",
       "      <td>0.0</td>\n",
       "      <td>0.0</td>\n",
       "      <td>0.0</td>\n",
       "      <td>1.0</td>\n",
       "      <td>0.0</td>\n",
       "      <td>0.0</td>\n",
       "      <td>0.0</td>\n",
       "      <td>1.0</td>\n",
       "      <td>0.0</td>\n",
       "      <td>...</td>\n",
       "      <td>0.0</td>\n",
       "      <td>0.0</td>\n",
       "      <td>0.0</td>\n",
       "      <td>0.0</td>\n",
       "      <td>0.0</td>\n",
       "      <td>0.0</td>\n",
       "      <td>0.0</td>\n",
       "      <td>1.715439</td>\n",
       "      <td>-0.980138</td>\n",
       "      <td>-2.633480</td>\n",
       "    </tr>\n",
       "    <tr>\n",
       "      <th>4</th>\n",
       "      <td>0.0</td>\n",
       "      <td>0.0</td>\n",
       "      <td>0.0</td>\n",
       "      <td>1.0</td>\n",
       "      <td>0.0</td>\n",
       "      <td>0.0</td>\n",
       "      <td>0.0</td>\n",
       "      <td>0.0</td>\n",
       "      <td>1.0</td>\n",
       "      <td>0.0</td>\n",
       "      <td>...</td>\n",
       "      <td>0.0</td>\n",
       "      <td>0.0</td>\n",
       "      <td>0.0</td>\n",
       "      <td>0.0</td>\n",
       "      <td>0.0</td>\n",
       "      <td>0.0</td>\n",
       "      <td>0.0</td>\n",
       "      <td>-1.864460</td>\n",
       "      <td>0.508018</td>\n",
       "      <td>0.605328</td>\n",
       "    </tr>\n",
       "  </tbody>\n",
       "</table>\n",
       "<p>5 rows × 61 columns</p>\n",
       "</div>"
      ],
      "text/plain": [
       "   x0_convertible  x0_coupe  x0_other  x0_sedan  x0_small  x0_suv  x0_unknown  \\\n",
       "0             0.0       0.0       0.0       0.0       0.0     0.0         0.0   \n",
       "1             0.0       0.0       0.0       0.0       0.0     0.0         0.0   \n",
       "2             0.0       0.0       0.0       0.0       0.0     0.0         1.0   \n",
       "3             0.0       0.0       0.0       0.0       1.0     0.0         0.0   \n",
       "4             0.0       0.0       0.0       1.0       0.0     0.0         0.0   \n",
       "\n",
       "   x0_wagon  x1_manual  x1_unknown  ...  x3_suzuki  x3_toyota  x3_trabant  \\\n",
       "0       1.0        0.0         0.0  ...        0.0        0.0         0.0   \n",
       "1       1.0        1.0         0.0  ...        0.0        0.0         0.0   \n",
       "2       0.0        1.0         0.0  ...        0.0        0.0         0.0   \n",
       "3       0.0        1.0         0.0  ...        0.0        0.0         0.0   \n",
       "4       0.0        1.0         0.0  ...        0.0        0.0         0.0   \n",
       "\n",
       "   x3_volkswagen  x3_volvo  x4_unknown  x4_yes  registration_year     power  \\\n",
       "0            0.0       0.0         1.0     0.0          -0.307982  0.875464   \n",
       "1            0.0       0.0         0.0     1.0           0.937200  1.004070   \n",
       "2            1.0       0.0         0.0     0.0           2.026735 -1.145488   \n",
       "3            0.0       0.0         0.0     0.0           1.715439 -0.980138   \n",
       "4            0.0       0.0         0.0     0.0          -1.864460  0.508018   \n",
       "\n",
       "   kilometer  \n",
       "0   0.605328  \n",
       "1   0.605328  \n",
       "2   0.605328  \n",
       "3  -2.633480  \n",
       "4   0.605328  \n",
       "\n",
       "[5 rows x 61 columns]"
      ]
     },
     "execution_count": 24,
     "metadata": {},
     "output_type": "execute_result"
    }
   ],
   "source": [
    "encoder = OneHotEncoder(drop='first', sparse=False)\n",
    "X_train_ohe = encoder.fit_transform(X_train[ohe_columns])\n",
    "X_val_ohe = encoder.transform(X_val[ohe_columns])\n",
    "X_test_ohe = encoder.transform(X_test[ohe_columns])\n",
    "encoder_col_names = encoder.get_feature_names()\n",
    "\n",
    "X_train_ohe = pd.DataFrame(X_train_ohe, columns=encoder_col_names)\n",
    "X_val_ohe = pd.DataFrame(X_val_ohe, columns=encoder_col_names)\n",
    "X_test_ohe = pd.DataFrame(X_test_ohe, columns=encoder_col_names)\n",
    "\n",
    "scaler = StandardScaler()\n",
    "X_train_scaled = scaler.fit_transform(X_train[num_columns])\n",
    "X_val_scaled = scaler.transform(X_val[num_columns])\n",
    "X_test_scaled = scaler.transform(X_test[num_columns])\n",
    "\n",
    "X_train_scaled = pd.DataFrame(X_train_scaled, columns=num_columns)\n",
    "X_val_scaled = pd.DataFrame(X_val_scaled, columns=num_columns)\n",
    "X_test_scaled = pd.DataFrame(X_test_scaled, columns=num_columns)\n",
    "\n",
    "X_train = pd.concat([X_train_ohe, X_train_scaled], axis=1)\n",
    "X_val = pd.concat([X_val_ohe, X_val_scaled], axis=1)\n",
    "X_test = pd.concat([X_test_ohe, X_test_scaled], axis=1)\n",
    "\n",
    "X_train[:5]"
   ]
  },
  {
   "cell_type": "markdown",
   "metadata": {},
   "source": [
    "**Модель LinearRegression**"
   ]
  },
  {
   "cell_type": "code",
   "execution_count": 25,
   "metadata": {},
   "outputs": [
    {
     "name": "stdout",
     "output_type": "stream",
     "text": [
      "---Время обучения модели 2.5043 секунд ---\n",
      "---Время прогноза модели 0.1816 секунд ---\n",
      "RMSE = 2755.065\n"
     ]
    }
   ],
   "source": [
    "start_time = time.time()\n",
    "model = LinearRegression()\n",
    "model.fit(X_train, y_train)\n",
    "lr_train_time = round((time.time() - start_time), 5)\n",
    "print('---Время обучения модели %s секунд ---' % lr_train_time)\n",
    "\n",
    "start_time = time.time()\n",
    "pred = model.predict(X_val)\n",
    "lr_pred_time = round((time.time() - start_time), 5)\n",
    "print('---Время прогноза модели %s секунд ---' % lr_pred_time)\n",
    "\n",
    "rmse_lr_model = mean_squared_error(y_val, pred, squared=False)\n",
    "print(f'RMSE = {rmse_lr_model:.3f}')"
   ]
  },
  {
   "cell_type": "markdown",
   "metadata": {},
   "source": [
    "**Модель DecisionTreeRegressor**"
   ]
  },
  {
   "cell_type": "code",
   "execution_count": 26,
   "metadata": {},
   "outputs": [
    {
     "name": "stdout",
     "output_type": "stream",
     "text": [
      "---Время обучения модели 1.3219 секунд ---\n",
      "---Время прогноза модели 0.02676 секунд ---\n",
      "RMSE = 2021.467\n"
     ]
    }
   ],
   "source": [
    "start_time = time.time()\n",
    "\n",
    "model = DecisionTreeRegressor(random_state=29)\n",
    "model.fit(X_train, y_train)\n",
    "dtr_train_time = round((time.time() - start_time), 5)\n",
    "print('---Время обучения модели %s секунд ---' % dtr_train_time)\n",
    "\n",
    "start_time = time.time()\n",
    "pred = model.predict(X_val)\n",
    "dtr_pred_time = round((time.time() - start_time), 5)\n",
    "print('---Время прогноза модели %s секунд ---' % dtr_pred_time)\n",
    "\n",
    "rmse_model_dtr = mean_squared_error(y_val, pred, squared=False)\n",
    "print(f'RMSE = {rmse_model_dtr:.3f}')"
   ]
  },
  {
   "cell_type": "code",
   "execution_count": 27,
   "metadata": {},
   "outputs": [
    {
     "name": "stdout",
     "output_type": "stream",
     "text": [
      "---Время прогноза модели 7.87628 секунд ---\n",
      "Метрика на валидационной выборке: 2028.9418\n",
      "Лучшая модель и её параметры:\n",
      " Pipeline(steps=[('models',\n",
      "                 DecisionTreeRegressor(max_depth=21, max_features=13,\n",
      "                                       min_samples_leaf=3, random_state=29))])\n",
      "Метрика для лучшей модели на кросс-валидационной выборке:  2028.6808\n"
     ]
    }
   ],
   "source": [
    "def rmse(y_true, y_pred):\n",
    "    y_pred = np.array(y_pred)\n",
    "    y_true = np.array(y_true)\n",
    "    score = np.sqrt(((y_pred - y_true) ** 2).mean())\n",
    "    return score\n",
    "\n",
    "rmse_score = make_scorer(rmse, greater_is_better = False)\n",
    "\n",
    "start_time = time.time()\n",
    "pipe_final = Pipeline(\n",
    "    [\n",
    "        ('models', DecisionTreeRegressor(random_state=29))\n",
    "    ]\n",
    ")\n",
    "\n",
    "param_grid = [\n",
    "\n",
    "    {\n",
    "        'models__max_depth': range(1, 25),\n",
    "        'models__max_features': range(1, 25),\n",
    "        'models__min_samples_leaf': range(1, 25)\n",
    "    }\n",
    "]\n",
    "rs = RandomizedSearchCV(pipe_final, param_grid, cv=5, scoring=rmse_score, n_jobs=-1, random_state=29, refit='rmse_score')\n",
    "\n",
    "rs.fit(X_train, y_train)\n",
    "rs_pred_time = round((time.time() - start_time), 5)\n",
    "print('---Время прогноза модели %s секунд ---' % rs_pred_time)\n",
    "\n",
    "start_time = time.time()\n",
    "y_val_pred = rs.predict(X_val)\n",
    "print(f'Метрика на валидационной выборке: {round(rmse(y_val, y_val_pred), 4)}')\n",
    "print('Лучшая модель и её параметры:\\n', rs.best_estimator_)\n",
    "print('Метрика для лучшей модели на кросс-валидационной выборке: ', round((-rs.best_score_), 4))"
   ]
  },
  {
   "cell_type": "markdown",
   "metadata": {},
   "source": [
    "**Модель CatBoostRegressor**"
   ]
  },
  {
   "cell_type": "code",
   "execution_count": 28,
   "metadata": {},
   "outputs": [
    {
     "name": "stdout",
     "output_type": "stream",
     "text": [
      "---Время обучения модели 19.0841 секунд ---\n",
      "---Время прогноза модели 0.05638 секунд ---\n",
      "RMSE = 1635.848\n"
     ]
    }
   ],
   "source": [
    "start_time = time.time()\n",
    "model = CatBoostRegressor(learning_rate=0.5, random_state=29, verbose=False)\n",
    "model.fit(X_train, y_train)\n",
    "cat_train_time = round((time.time() - start_time), 5)\n",
    "print('---Время обучения модели %s секунд ---' % cat_train_time)\n",
    "\n",
    "start_time = time.time()\n",
    "pred = model.predict(X_val)\n",
    "cat_pred_time = round((time.time() - start_time), 5)\n",
    "print('---Время прогноза модели %s секунд ---' % cat_pred_time)\n",
    "\n",
    "rmse_cat_boost_model = mean_squared_error(y_val, pred, squared=False)\n",
    "print(f'RMSE = {rmse_cat_boost_model:.3f}')"
   ]
  },
  {
   "cell_type": "markdown",
   "metadata": {},
   "source": [
    "**Модель LightGBM**"
   ]
  },
  {
   "cell_type": "code",
   "execution_count": 29,
   "metadata": {},
   "outputs": [
    {
     "name": "stdout",
     "output_type": "stream",
     "text": [
      "---Время обучения модели 53.71365 секунд ---\n",
      "---Время прогноза модели 0.49914 секунд ---\n",
      "RMSE = 1681.577\n"
     ]
    }
   ],
   "source": [
    "start_time = time.time()\n",
    "model = LGBMRegressor(learning_rate=0.1, num_leaves=50, random_state=29)\n",
    "model.fit(X_train, y_train)\n",
    "lgbm_train_time = round((time.time() - start_time), 5)\n",
    "print(\"---Время обучения модели %s секунд ---\" % lgbm_train_time)\n",
    "start_time = time.time()\n",
    "pred = model.predict(X_val)\n",
    "lgbm_pred_time = round((time.time() - start_time), 5)\n",
    "print('---Время прогноза модели %s секунд ---' % lgbm_pred_time)\n",
    "\n",
    "rmse_light_gbm_model = mean_squared_error(y_val, pred, squared=False)\n",
    "print(f'RMSE = {rmse_light_gbm_model:.3f}')"
   ]
  },
  {
   "cell_type": "markdown",
   "metadata": {},
   "source": [
    "## Анализ моделей"
   ]
  },
  {
   "cell_type": "code",
   "execution_count": 30,
   "metadata": {},
   "outputs": [
    {
     "data": {
      "text/html": [
       "<div>\n",
       "<style scoped>\n",
       "    .dataframe tbody tr th:only-of-type {\n",
       "        vertical-align: middle;\n",
       "    }\n",
       "\n",
       "    .dataframe tbody tr th {\n",
       "        vertical-align: top;\n",
       "    }\n",
       "\n",
       "    .dataframe thead th {\n",
       "        text-align: right;\n",
       "    }\n",
       "</style>\n",
       "<table border=\"1\" class=\"dataframe\">\n",
       "  <thead>\n",
       "    <tr style=\"text-align: right;\">\n",
       "      <th></th>\n",
       "      <th>Время обучения модели</th>\n",
       "      <th>Время прогноза модели</th>\n",
       "      <th>RMSE</th>\n",
       "    </tr>\n",
       "  </thead>\n",
       "  <tbody>\n",
       "    <tr>\n",
       "      <th>linear_regression</th>\n",
       "      <td>2.50430</td>\n",
       "      <td>0.18160</td>\n",
       "      <td>2755.064898</td>\n",
       "    </tr>\n",
       "    <tr>\n",
       "      <th>decision_tree_regressor</th>\n",
       "      <td>1.32190</td>\n",
       "      <td>0.02676</td>\n",
       "      <td>2021.467344</td>\n",
       "    </tr>\n",
       "    <tr>\n",
       "      <th>LightGBM</th>\n",
       "      <td>53.71365</td>\n",
       "      <td>0.49914</td>\n",
       "      <td>1681.577166</td>\n",
       "    </tr>\n",
       "    <tr>\n",
       "      <th>CatBoostRegressor</th>\n",
       "      <td>19.08410</td>\n",
       "      <td>0.05638</td>\n",
       "      <td>1635.847587</td>\n",
       "    </tr>\n",
       "  </tbody>\n",
       "</table>\n",
       "</div>"
      ],
      "text/plain": [
       "                         Время обучения модели  Время прогноза модели  \\\n",
       "linear_regression                      2.50430                0.18160   \n",
       "decision_tree_regressor                1.32190                0.02676   \n",
       "LightGBM                              53.71365                0.49914   \n",
       "CatBoostRegressor                     19.08410                0.05638   \n",
       "\n",
       "                                RMSE  \n",
       "linear_regression        2755.064898  \n",
       "decision_tree_regressor  2021.467344  \n",
       "LightGBM                 1681.577166  \n",
       "CatBoostRegressor        1635.847587  "
      ]
     },
     "execution_count": 30,
     "metadata": {},
     "output_type": "execute_result"
    }
   ],
   "source": [
    "data = [[lr_train_time, lr_pred_time, rmse_lr_model],\n",
    "        [dtr_train_time, dtr_pred_time, rmse_model_dtr],\n",
    "        [lgbm_train_time, lgbm_pred_time, rmse_light_gbm_model],\n",
    "        [cat_train_time, cat_pred_time, rmse_cat_boost_model]]\n",
    "models = ['linear_regression', 'decision_tree_regressor', 'LightGBM', 'CatBoostRegressor']\n",
    "resume = pd.DataFrame(data=data, index=models, columns=['Время обучения модели', 'Время прогноза модели', 'RMSE'])\n",
    "resume"
   ]
  },
  {
   "cell_type": "markdown",
   "metadata": {},
   "source": [
    "**`CatBoostRegressor` показала лучшее значение метрики RMSE среди всех моделей. Обучение, конечно, долгое, модель требовательна к вычислительным ресурсам, зато предсказывает более точно, что важно для бизнеса.**"
   ]
  },
  {
   "cell_type": "markdown",
   "metadata": {},
   "source": [
    "**Проверка лучшей модели на тестовой выборке.**"
   ]
  },
  {
   "cell_type": "code",
   "execution_count": 32,
   "metadata": {},
   "outputs": [
    {
     "name": "stdout",
     "output_type": "stream",
     "text": [
      "---Время обучения модели 18.96997 секунд ---\n",
      "---Время прогноза модели 0.05752 секунд ---\n",
      "RMSE = 1632.496\n"
     ]
    }
   ],
   "source": [
    "start_time = time.time()\n",
    "model = CatBoostRegressor(learning_rate=0.5, random_state=29, verbose=False)\n",
    "model.fit(X_train, y_train)\n",
    "cat_train_time = round((time.time() - start_time), 5)\n",
    "print('---Время обучения модели %s секунд ---' % cat_train_time)\n",
    "\n",
    "start_time = time.time()\n",
    "pred = model.predict(X_test)\n",
    "cat_pred_time = round((time.time() - start_time), 5)\n",
    "print('---Время прогноза модели %s секунд ---' % cat_pred_time)\n",
    "\n",
    "rmse_cat_boost_model = mean_squared_error(y_test, pred, squared=False)\n",
    "print(f'RMSE = {rmse_cat_boost_model:.3f}')"
   ]
  },
  {
   "cell_type": "markdown",
   "metadata": {},
   "source": [
    "**Модель неплохо справилась. Все критерии выполнены.**"
   ]
  }
 ],
 "metadata": {
  "ExecuteTimeLog": [
   {
    "duration": 7272,
    "start_time": "2024-03-19T19:19:09.660Z"
   },
   {
    "duration": 451,
    "start_time": "2024-03-19T19:19:27.953Z"
   },
   {
    "duration": 1186,
    "start_time": "2024-03-19T19:21:30.518Z"
   },
   {
    "duration": 1004,
    "start_time": "2024-03-19T19:21:49.014Z"
   },
   {
    "duration": 1083,
    "start_time": "2024-03-19T19:25:35.808Z"
   },
   {
    "duration": 160,
    "start_time": "2024-03-20T11:02:19.847Z"
   },
   {
    "duration": 3,
    "start_time": "2024-03-20T11:14:30.896Z"
   },
   {
    "duration": 167,
    "start_time": "2024-03-20T11:14:43.791Z"
   },
   {
    "duration": 4,
    "start_time": "2024-03-20T11:31:49.011Z"
   },
   {
    "duration": 3,
    "start_time": "2024-03-20T11:32:05.008Z"
   },
   {
    "duration": 150,
    "start_time": "2024-03-20T11:32:07.141Z"
   },
   {
    "duration": 153,
    "start_time": "2024-03-20T11:33:00.912Z"
   },
   {
    "duration": 4,
    "start_time": "2024-03-20T11:55:33.757Z"
   },
   {
    "duration": 154,
    "start_time": "2024-03-20T11:55:36.688Z"
   },
   {
    "duration": 163,
    "start_time": "2024-03-20T11:55:45.212Z"
   },
   {
    "duration": 1058,
    "start_time": "2024-03-20T12:39:31.707Z"
   },
   {
    "duration": 1157,
    "start_time": "2024-03-20T12:45:04.887Z"
   },
   {
    "duration": 143,
    "start_time": "2024-03-20T12:45:08.996Z"
   },
   {
    "duration": 3,
    "start_time": "2024-03-20T12:45:31.601Z"
   },
   {
    "duration": 138,
    "start_time": "2024-03-20T12:45:34.122Z"
   },
   {
    "duration": 23,
    "start_time": "2024-03-20T12:45:37.424Z"
   },
   {
    "duration": 140,
    "start_time": "2024-03-20T12:45:42.116Z"
   },
   {
    "duration": 48,
    "start_time": "2024-03-20T12:51:11.037Z"
   },
   {
    "duration": 719,
    "start_time": "2024-03-20T12:51:55.188Z"
   },
   {
    "duration": 456,
    "start_time": "2024-03-20T12:53:34.794Z"
   },
   {
    "duration": 458,
    "start_time": "2024-03-20T12:54:24.436Z"
   },
   {
    "duration": 144,
    "start_time": "2024-03-20T12:54:35.645Z"
   },
   {
    "duration": 564,
    "start_time": "2024-03-20T13:04:57.444Z"
   },
   {
    "duration": 208,
    "start_time": "2024-03-20T13:09:27.226Z"
   },
   {
    "duration": 23,
    "start_time": "2024-03-20T13:13:38.547Z"
   },
   {
    "duration": 217,
    "start_time": "2024-03-20T13:14:09.396Z"
   },
   {
    "duration": 213,
    "start_time": "2024-03-20T13:19:03.326Z"
   },
   {
    "duration": 203,
    "start_time": "2024-03-20T13:19:13.319Z"
   },
   {
    "duration": 36,
    "start_time": "2024-03-20T13:27:26.612Z"
   },
   {
    "duration": 23,
    "start_time": "2024-03-20T13:27:33.220Z"
   },
   {
    "duration": 293,
    "start_time": "2024-03-20T13:27:43.374Z"
   },
   {
    "duration": 240,
    "start_time": "2024-03-20T13:31:52.951Z"
   },
   {
    "duration": 126,
    "start_time": "2024-03-20T13:32:08.214Z"
   },
   {
    "duration": 600,
    "start_time": "2024-03-20T13:32:52.938Z"
   },
   {
    "duration": 18,
    "start_time": "2024-03-20T13:35:43.949Z"
   },
   {
    "duration": 12,
    "start_time": "2024-03-20T13:35:59.371Z"
   },
   {
    "duration": 3,
    "start_time": "2024-03-20T13:36:18.247Z"
   },
   {
    "duration": 190,
    "start_time": "2024-03-20T13:36:25.941Z"
   },
   {
    "duration": 497,
    "start_time": "2024-03-20T13:36:42.750Z"
   },
   {
    "duration": 62383,
    "start_time": "2024-03-20T13:36:48.402Z"
   },
   {
    "duration": 52,
    "start_time": "2024-03-21T06:04:49.107Z"
   },
   {
    "duration": 7275,
    "start_time": "2024-03-21T06:05:13.488Z"
   },
   {
    "duration": 1557,
    "start_time": "2024-03-21T06:05:20.765Z"
   },
   {
    "duration": 3091,
    "start_time": "2024-03-21T06:05:22.324Z"
   },
   {
    "duration": 4,
    "start_time": "2024-03-21T06:05:25.416Z"
   },
   {
    "duration": 182,
    "start_time": "2024-03-21T06:05:25.423Z"
   },
   {
    "duration": 26,
    "start_time": "2024-03-21T06:05:25.606Z"
   },
   {
    "duration": 29,
    "start_time": "2024-03-21T06:05:25.634Z"
   },
   {
    "duration": 251,
    "start_time": "2024-03-21T06:05:25.665Z"
   },
   {
    "duration": 142,
    "start_time": "2024-03-21T06:05:25.918Z"
   },
   {
    "duration": 69,
    "start_time": "2024-03-21T06:05:26.062Z"
   },
   {
    "duration": 213,
    "start_time": "2024-03-21T06:05:26.133Z"
   },
   {
    "duration": 0,
    "start_time": "2024-03-21T06:05:26.348Z"
   },
   {
    "duration": 0,
    "start_time": "2024-03-21T06:05:26.349Z"
   },
   {
    "duration": 0,
    "start_time": "2024-03-21T06:05:26.350Z"
   },
   {
    "duration": 696,
    "start_time": "2024-03-21T06:05:48.463Z"
   },
   {
    "duration": 11,
    "start_time": "2024-03-21T06:06:35.446Z"
   },
   {
    "duration": 9,
    "start_time": "2024-03-21T06:06:57.190Z"
   },
   {
    "duration": 1177,
    "start_time": "2024-03-21T06:07:21.527Z"
   },
   {
    "duration": 710,
    "start_time": "2024-03-21T06:07:33.079Z"
   },
   {
    "duration": 68865,
    "start_time": "2024-03-21T06:10:23.280Z"
   },
   {
    "duration": 458,
    "start_time": "2024-03-21T06:18:11.591Z"
   },
   {
    "duration": 729,
    "start_time": "2024-03-21T06:18:30.765Z"
   },
   {
    "duration": 22,
    "start_time": "2024-03-21T06:26:42.279Z"
   },
   {
    "duration": 2638,
    "start_time": "2024-03-21T06:27:25.562Z"
   },
   {
    "duration": 1273,
    "start_time": "2024-03-21T06:27:28.203Z"
   },
   {
    "duration": 1239,
    "start_time": "2024-03-21T06:27:29.477Z"
   },
   {
    "duration": 30,
    "start_time": "2024-03-21T06:27:30.719Z"
   },
   {
    "duration": 662,
    "start_time": "2024-03-21T06:27:30.751Z"
   },
   {
    "duration": 0,
    "start_time": "2024-03-21T06:27:31.415Z"
   },
   {
    "duration": 0,
    "start_time": "2024-03-21T06:27:31.416Z"
   },
   {
    "duration": 0,
    "start_time": "2024-03-21T06:27:31.417Z"
   },
   {
    "duration": 0,
    "start_time": "2024-03-21T06:27:31.419Z"
   },
   {
    "duration": 0,
    "start_time": "2024-03-21T06:27:31.420Z"
   },
   {
    "duration": 0,
    "start_time": "2024-03-21T06:27:31.421Z"
   },
   {
    "duration": 0,
    "start_time": "2024-03-21T06:27:31.422Z"
   },
   {
    "duration": 0,
    "start_time": "2024-03-21T06:27:31.423Z"
   },
   {
    "duration": 0,
    "start_time": "2024-03-21T06:27:31.424Z"
   },
   {
    "duration": 0,
    "start_time": "2024-03-21T06:27:31.425Z"
   },
   {
    "duration": 3,
    "start_time": "2024-03-21T06:28:13.791Z"
   },
   {
    "duration": 103,
    "start_time": "2024-03-21T06:28:18.516Z"
   },
   {
    "duration": 29,
    "start_time": "2024-03-21T06:28:22.162Z"
   },
   {
    "duration": 27,
    "start_time": "2024-03-21T06:28:24.861Z"
   },
   {
    "duration": 163,
    "start_time": "2024-03-21T06:28:26.022Z"
   },
   {
    "duration": 90,
    "start_time": "2024-03-21T06:28:27.180Z"
   },
   {
    "duration": 45,
    "start_time": "2024-03-21T06:28:32.009Z"
   },
   {
    "duration": 287,
    "start_time": "2024-03-21T06:28:32.454Z"
   },
   {
    "duration": 238,
    "start_time": "2024-03-21T06:29:30.206Z"
   },
   {
    "duration": 2797,
    "start_time": "2024-03-21T06:30:32.075Z"
   },
   {
    "duration": 1320,
    "start_time": "2024-03-21T06:30:34.876Z"
   },
   {
    "duration": 1119,
    "start_time": "2024-03-21T06:30:36.197Z"
   },
   {
    "duration": 28,
    "start_time": "2024-03-21T06:30:37.318Z"
   },
   {
    "duration": 4,
    "start_time": "2024-03-21T06:30:37.349Z"
   },
   {
    "duration": 159,
    "start_time": "2024-03-21T06:30:37.355Z"
   },
   {
    "duration": 30,
    "start_time": "2024-03-21T06:30:37.515Z"
   },
   {
    "duration": 27,
    "start_time": "2024-03-21T06:30:37.547Z"
   },
   {
    "duration": 188,
    "start_time": "2024-03-21T06:30:37.576Z"
   },
   {
    "duration": 89,
    "start_time": "2024-03-21T06:30:37.766Z"
   },
   {
    "duration": 35,
    "start_time": "2024-03-21T06:30:37.857Z"
   },
   {
    "duration": 320,
    "start_time": "2024-03-21T06:30:37.894Z"
   },
   {
    "duration": 237,
    "start_time": "2024-03-21T06:30:38.216Z"
   },
   {
    "duration": 64346,
    "start_time": "2024-03-21T06:30:38.456Z"
   },
   {
    "duration": 235,
    "start_time": "2024-03-21T06:31:42.804Z"
   },
   {
    "duration": 94,
    "start_time": "2024-03-21T07:25:02.663Z"
   },
   {
    "duration": 57,
    "start_time": "2024-03-21T07:25:18.166Z"
   },
   {
    "duration": 31,
    "start_time": "2024-03-21T07:25:25.868Z"
   },
   {
    "duration": 46690,
    "start_time": "2024-03-21T07:25:34.813Z"
   },
   {
    "duration": 57,
    "start_time": "2024-03-21T07:28:21.228Z"
   },
   {
    "duration": 3301,
    "start_time": "2024-03-21T07:28:30.134Z"
   },
   {
    "duration": 43,
    "start_time": "2024-03-21T07:30:27.536Z"
   },
   {
    "duration": 3083,
    "start_time": "2024-03-21T07:30:34.028Z"
   },
   {
    "duration": 88,
    "start_time": "2024-03-21T07:31:13.945Z"
   },
   {
    "duration": 270,
    "start_time": "2024-03-21T07:32:17.372Z"
   },
   {
    "duration": 236,
    "start_time": "2024-03-21T07:32:51.129Z"
   },
   {
    "duration": 3071,
    "start_time": "2024-03-21T07:32:55.192Z"
   },
   {
    "duration": 46,
    "start_time": "2024-03-21T07:33:02.567Z"
   },
   {
    "duration": 86,
    "start_time": "2024-03-21T07:33:03.396Z"
   },
   {
    "duration": 220,
    "start_time": "2024-03-21T07:34:57.765Z"
   },
   {
    "duration": 99,
    "start_time": "2024-03-21T07:36:06.054Z"
   },
   {
    "duration": 58,
    "start_time": "2024-03-21T07:36:23.429Z"
   },
   {
    "duration": 105,
    "start_time": "2024-03-21T07:36:26.881Z"
   },
   {
    "duration": 55,
    "start_time": "2024-03-21T07:36:41.970Z"
   },
   {
    "duration": 91,
    "start_time": "2024-03-21T07:36:43.814Z"
   },
   {
    "duration": 1140,
    "start_time": "2024-03-21T07:40:45.019Z"
   },
   {
    "duration": 1128,
    "start_time": "2024-03-21T07:41:35.003Z"
   },
   {
    "duration": 1120,
    "start_time": "2024-03-21T07:42:07.912Z"
   },
   {
    "duration": 2631,
    "start_time": "2024-03-21T07:42:42.356Z"
   },
   {
    "duration": 1325,
    "start_time": "2024-03-21T07:42:44.989Z"
   },
   {
    "duration": 1138,
    "start_time": "2024-03-21T07:42:46.316Z"
   },
   {
    "duration": 49,
    "start_time": "2024-03-21T07:42:47.456Z"
   },
   {
    "duration": 76,
    "start_time": "2024-03-21T07:42:47.507Z"
   },
   {
    "duration": 113,
    "start_time": "2024-03-21T07:42:47.584Z"
   },
   {
    "duration": 25,
    "start_time": "2024-03-21T07:42:47.699Z"
   },
   {
    "duration": 24,
    "start_time": "2024-03-21T07:42:47.726Z"
   },
   {
    "duration": 168,
    "start_time": "2024-03-21T07:42:47.751Z"
   },
   {
    "duration": 92,
    "start_time": "2024-03-21T07:42:47.921Z"
   },
   {
    "duration": 28,
    "start_time": "2024-03-21T07:42:48.015Z"
   },
   {
    "duration": 322,
    "start_time": "2024-03-21T07:42:48.044Z"
   },
   {
    "duration": 265,
    "start_time": "2024-03-21T07:42:48.367Z"
   },
   {
    "duration": 65010,
    "start_time": "2024-03-21T07:42:48.634Z"
   },
   {
    "duration": 53,
    "start_time": "2024-03-21T07:43:53.646Z"
   },
   {
    "duration": 103,
    "start_time": "2024-03-21T07:43:53.701Z"
   },
   {
    "duration": 3,
    "start_time": "2024-03-21T07:43:53.806Z"
   },
   {
    "duration": 242,
    "start_time": "2024-03-21T07:43:53.811Z"
   },
   {
    "duration": 108,
    "start_time": "2024-03-21T07:45:09.338Z"
   },
   {
    "duration": 4,
    "start_time": "2024-03-21T07:45:29.739Z"
   },
   {
    "duration": 98,
    "start_time": "2024-03-21T07:59:46.782Z"
   },
   {
    "duration": 164,
    "start_time": "2024-03-21T08:00:04.922Z"
   },
   {
    "duration": 6216,
    "start_time": "2024-03-21T08:00:48.008Z"
   },
   {
    "duration": 1249,
    "start_time": "2024-03-21T08:01:02.534Z"
   },
   {
    "duration": 167,
    "start_time": "2024-03-21T08:01:08.916Z"
   },
   {
    "duration": 6314,
    "start_time": "2024-03-21T08:02:15.016Z"
   },
   {
    "duration": 6185,
    "start_time": "2024-03-21T08:07:25.125Z"
   },
   {
    "duration": 14,
    "start_time": "2024-03-21T08:29:14.287Z"
   },
   {
    "duration": 4498,
    "start_time": "2024-03-21T08:29:20.382Z"
   },
   {
    "duration": 71,
    "start_time": "2024-03-21T08:40:13.403Z"
   },
   {
    "duration": 50,
    "start_time": "2024-03-21T08:44:09.891Z"
   },
   {
    "duration": 40,
    "start_time": "2024-03-21T10:38:44.698Z"
   },
   {
    "duration": 11,
    "start_time": "2024-03-21T10:39:19.343Z"
   },
   {
    "duration": 4,
    "start_time": "2024-03-21T10:39:23.003Z"
   },
   {
    "duration": 70,
    "start_time": "2024-03-21T10:39:29.209Z"
   },
   {
    "duration": 11,
    "start_time": "2024-03-21T10:40:58.812Z"
   },
   {
    "duration": 14,
    "start_time": "2024-03-21T10:43:12.420Z"
   },
   {
    "duration": 3,
    "start_time": "2024-03-21T10:46:34.633Z"
   },
   {
    "duration": 646,
    "start_time": "2024-03-21T10:52:05.056Z"
   },
   {
    "duration": 921,
    "start_time": "2024-03-21T10:52:46.638Z"
   },
   {
    "duration": 3048,
    "start_time": "2024-03-21T10:57:47.244Z"
   },
   {
    "duration": 14,
    "start_time": "2024-03-21T10:59:02.508Z"
   },
   {
    "duration": 4,
    "start_time": "2024-03-21T10:59:47.065Z"
   },
   {
    "duration": 10,
    "start_time": "2024-03-21T10:59:53.386Z"
   },
   {
    "duration": 14,
    "start_time": "2024-03-21T11:00:47.110Z"
   },
   {
    "duration": 3054,
    "start_time": "2024-03-21T11:00:50.870Z"
   },
   {
    "duration": 68,
    "start_time": "2024-03-21T11:00:53.926Z"
   },
   {
    "duration": 4,
    "start_time": "2024-03-21T11:05:00.455Z"
   },
   {
    "duration": 3358,
    "start_time": "2024-03-21T11:05:09.036Z"
   },
   {
    "duration": 13,
    "start_time": "2024-03-21T11:05:44.068Z"
   },
   {
    "duration": 11,
    "start_time": "2024-03-21T11:06:40.280Z"
   },
   {
    "duration": 31,
    "start_time": "2024-03-21T11:06:58.362Z"
   },
   {
    "duration": 10,
    "start_time": "2024-03-21T11:07:40.798Z"
   },
   {
    "duration": 3098,
    "start_time": "2024-03-21T11:07:59.795Z"
   },
   {
    "duration": 2896,
    "start_time": "2024-03-21T11:08:23.801Z"
   },
   {
    "duration": 3067,
    "start_time": "2024-03-21T11:12:31.052Z"
   },
   {
    "duration": 101,
    "start_time": "2024-03-21T11:36:49.926Z"
   },
   {
    "duration": 14,
    "start_time": "2024-03-21T11:37:30.573Z"
   },
   {
    "duration": 4,
    "start_time": "2024-03-21T11:38:05.307Z"
   },
   {
    "duration": 103,
    "start_time": "2024-03-21T11:38:11.491Z"
   },
   {
    "duration": 13,
    "start_time": "2024-03-21T11:40:06.435Z"
   },
   {
    "duration": 6,
    "start_time": "2024-03-21T11:40:24.007Z"
   },
   {
    "duration": 14461,
    "start_time": "2024-03-21T11:40:29.224Z"
   },
   {
    "duration": 14827,
    "start_time": "2024-03-21T11:41:49.410Z"
   },
   {
    "duration": 11877,
    "start_time": "2024-03-21T11:44:41.294Z"
   },
   {
    "duration": 7912,
    "start_time": "2024-03-21T11:45:28.446Z"
   },
   {
    "duration": 10354,
    "start_time": "2024-03-21T11:45:48.430Z"
   },
   {
    "duration": 12156,
    "start_time": "2024-03-21T11:46:29.417Z"
   },
   {
    "duration": 12062,
    "start_time": "2024-03-21T11:47:37.169Z"
   },
   {
    "duration": 11898,
    "start_time": "2024-03-21T11:48:34.279Z"
   },
   {
    "duration": 13044,
    "start_time": "2024-03-21T11:49:07.493Z"
   },
   {
    "duration": 13426,
    "start_time": "2024-03-21T11:49:34.813Z"
   },
   {
    "duration": 13305,
    "start_time": "2024-03-21T11:49:56.557Z"
   },
   {
    "duration": 11956,
    "start_time": "2024-03-21T11:50:20.738Z"
   },
   {
    "duration": 666,
    "start_time": "2024-03-21T11:56:41.662Z"
   },
   {
    "duration": 680,
    "start_time": "2024-03-21T11:58:26.014Z"
   },
   {
    "duration": 13,
    "start_time": "2024-03-21T12:37:29.323Z"
   },
   {
    "duration": 11662,
    "start_time": "2024-03-21T12:38:15.843Z"
   },
   {
    "duration": 754,
    "start_time": "2024-03-21T12:39:16.445Z"
   },
   {
    "duration": 788,
    "start_time": "2024-03-21T12:40:01.117Z"
   },
   {
    "duration": 10943,
    "start_time": "2024-03-21T12:40:11.162Z"
   },
   {
    "duration": 671,
    "start_time": "2024-03-21T12:40:26.741Z"
   },
   {
    "duration": 9097,
    "start_time": "2024-03-21T12:41:16.796Z"
   },
   {
    "duration": 13871,
    "start_time": "2024-03-21T12:41:35.533Z"
   },
   {
    "duration": 16622,
    "start_time": "2024-03-21T12:41:56.070Z"
   },
   {
    "duration": 11612,
    "start_time": "2024-03-21T12:42:38.180Z"
   },
   {
    "duration": 29472,
    "start_time": "2024-03-21T13:04:40.392Z"
   },
   {
    "duration": 90,
    "start_time": "2024-03-21T13:07:54.409Z"
   },
   {
    "duration": 29103,
    "start_time": "2024-03-21T13:11:57.449Z"
   },
   {
    "duration": 28734,
    "start_time": "2024-03-21T13:14:11.763Z"
   },
   {
    "duration": 24,
    "start_time": "2024-03-21T13:17:48.397Z"
   },
   {
    "duration": 28887,
    "start_time": "2024-03-21T13:21:07.550Z"
   },
   {
    "duration": 4163,
    "start_time": "2024-03-21T13:23:23.604Z"
   },
   {
    "duration": 6858,
    "start_time": "2024-03-21T13:23:48.355Z"
   },
   {
    "duration": 852,
    "start_time": "2024-03-21T13:24:08.162Z"
   },
   {
    "duration": 137147,
    "start_time": "2024-03-21T13:24:24.050Z"
   },
   {
    "duration": 28848,
    "start_time": "2024-03-21T13:27:09.645Z"
   },
   {
    "duration": 12,
    "start_time": "2024-03-21T13:37:58.555Z"
   },
   {
    "duration": 8494,
    "start_time": "2024-03-21T13:44:04.001Z"
   },
   {
    "duration": 29871,
    "start_time": "2024-03-21T13:44:38.617Z"
   },
   {
    "duration": 28761,
    "start_time": "2024-03-21T13:45:17.439Z"
   },
   {
    "duration": 29866,
    "start_time": "2024-03-21T13:50:58.959Z"
   },
   {
    "duration": 41415,
    "start_time": "2024-03-21T13:51:49.393Z"
   },
   {
    "duration": 12926,
    "start_time": "2024-03-21T13:52:43.587Z"
   },
   {
    "duration": 5665,
    "start_time": "2024-03-21T18:41:43.518Z"
   },
   {
    "duration": 1489,
    "start_time": "2024-03-21T18:41:49.187Z"
   },
   {
    "duration": 1278,
    "start_time": "2024-03-21T18:41:50.678Z"
   },
   {
    "duration": 68,
    "start_time": "2024-03-21T18:41:51.958Z"
   },
   {
    "duration": 3,
    "start_time": "2024-03-21T18:41:52.028Z"
   },
   {
    "duration": 135,
    "start_time": "2024-03-21T18:41:52.033Z"
   },
   {
    "duration": 35,
    "start_time": "2024-03-21T18:41:52.170Z"
   },
   {
    "duration": 36,
    "start_time": "2024-03-21T18:41:52.206Z"
   },
   {
    "duration": 182,
    "start_time": "2024-03-21T18:41:52.244Z"
   },
   {
    "duration": 121,
    "start_time": "2024-03-21T18:41:52.429Z"
   },
   {
    "duration": 48,
    "start_time": "2024-03-21T18:41:52.552Z"
   },
   {
    "duration": 329,
    "start_time": "2024-03-21T18:41:52.602Z"
   },
   {
    "duration": 243,
    "start_time": "2024-03-21T18:41:52.933Z"
   },
   {
    "duration": 68398,
    "start_time": "2024-03-21T18:41:53.178Z"
   },
   {
    "duration": 56,
    "start_time": "2024-03-21T18:43:01.577Z"
   },
   {
    "duration": 222,
    "start_time": "2024-03-21T18:43:01.636Z"
   },
   {
    "duration": 26,
    "start_time": "2024-03-21T18:43:01.859Z"
   },
   {
    "duration": 7442,
    "start_time": "2024-03-21T18:43:01.887Z"
   },
   {
    "duration": 18,
    "start_time": "2024-03-21T18:43:09.331Z"
   },
   {
    "duration": 238,
    "start_time": "2024-03-21T18:43:09.350Z"
   },
   {
    "duration": 65,
    "start_time": "2024-03-21T18:43:09.591Z"
   },
   {
    "duration": 36,
    "start_time": "2024-03-21T18:43:09.657Z"
   },
   {
    "duration": 6,
    "start_time": "2024-03-21T18:43:09.695Z"
   },
   {
    "duration": 1065,
    "start_time": "2024-03-21T18:43:09.703Z"
   },
   {
    "duration": 3160,
    "start_time": "2024-03-21T18:43:10.770Z"
   },
   {
    "duration": 721,
    "start_time": "2024-03-21T18:43:14.092Z"
   },
   {
    "duration": 5914,
    "start_time": "2024-03-21T18:51:46.842Z"
   },
   {
    "duration": 1512,
    "start_time": "2024-03-21T18:51:52.758Z"
   },
   {
    "duration": 1314,
    "start_time": "2024-03-21T18:51:54.272Z"
   },
   {
    "duration": 57,
    "start_time": "2024-03-21T18:51:55.592Z"
   },
   {
    "duration": 7,
    "start_time": "2024-03-21T18:51:55.651Z"
   },
   {
    "duration": 144,
    "start_time": "2024-03-21T18:51:55.660Z"
   },
   {
    "duration": 41,
    "start_time": "2024-03-21T18:51:55.806Z"
   },
   {
    "duration": 38,
    "start_time": "2024-03-21T18:51:55.849Z"
   },
   {
    "duration": 185,
    "start_time": "2024-03-21T18:51:55.899Z"
   },
   {
    "duration": 116,
    "start_time": "2024-03-21T18:51:56.088Z"
   },
   {
    "duration": 26,
    "start_time": "2024-03-21T18:51:56.206Z"
   },
   {
    "duration": 386,
    "start_time": "2024-03-21T18:51:56.234Z"
   },
   {
    "duration": 251,
    "start_time": "2024-03-21T18:51:56.623Z"
   },
   {
    "duration": 72020,
    "start_time": "2024-03-21T18:51:56.876Z"
   },
   {
    "duration": 61,
    "start_time": "2024-03-21T18:53:08.908Z"
   },
   {
    "duration": 125,
    "start_time": "2024-03-21T18:53:08.971Z"
   },
   {
    "duration": 6,
    "start_time": "2024-03-21T18:53:09.103Z"
   },
   {
    "duration": 8449,
    "start_time": "2024-03-21T18:53:09.111Z"
   },
   {
    "duration": 13,
    "start_time": "2024-03-21T18:53:17.562Z"
   },
   {
    "duration": 278,
    "start_time": "2024-03-21T18:53:17.577Z"
   },
   {
    "duration": 87,
    "start_time": "2024-03-21T18:53:17.857Z"
   },
   {
    "duration": 16,
    "start_time": "2024-03-21T18:53:17.945Z"
   },
   {
    "duration": 8,
    "start_time": "2024-03-21T18:53:17.964Z"
   },
   {
    "duration": 1065,
    "start_time": "2024-03-21T18:53:17.997Z"
   },
   {
    "duration": 3443,
    "start_time": "2024-03-21T18:53:19.064Z"
   },
   {
    "duration": 861,
    "start_time": "2024-03-21T18:53:22.510Z"
   },
   {
    "duration": 0,
    "start_time": "2024-03-21T19:02:49.909Z"
   },
   {
    "duration": 0,
    "start_time": "2024-03-21T19:02:49.910Z"
   },
   {
    "duration": 0,
    "start_time": "2024-03-21T19:02:49.911Z"
   },
   {
    "duration": 31403,
    "start_time": "2024-03-21T19:02:52.724Z"
   },
   {
    "duration": 78902,
    "start_time": "2024-03-21T19:03:33.122Z"
   },
   {
    "duration": 32095,
    "start_time": "2024-03-21T19:04:55.945Z"
   },
   {
    "duration": 31121,
    "start_time": "2024-03-21T19:05:53.167Z"
   },
   {
    "duration": 129912,
    "start_time": "2024-03-21T19:06:30.583Z"
   },
   {
    "duration": 121962,
    "start_time": "2024-03-21T19:09:01.253Z"
   },
   {
    "duration": 29059,
    "start_time": "2024-03-21T19:13:50.536Z"
   },
   {
    "duration": 30070,
    "start_time": "2024-03-21T19:15:53.523Z"
   },
   {
    "duration": 25,
    "start_time": "2024-03-21T19:16:29.531Z"
   },
   {
    "duration": 30331,
    "start_time": "2024-03-21T19:17:47.353Z"
   },
   {
    "duration": 13538,
    "start_time": "2024-03-21T19:19:20.672Z"
   },
   {
    "duration": 647,
    "start_time": "2024-03-21T19:20:09.103Z"
   },
   {
    "duration": 11,
    "start_time": "2024-03-21T19:21:04.589Z"
   },
   {
    "duration": 12,
    "start_time": "2024-03-21T19:21:48.996Z"
   },
   {
    "duration": 3379,
    "start_time": "2024-03-21T19:23:02.819Z"
   },
   {
    "duration": 18,
    "start_time": "2024-03-21T19:23:56.329Z"
   },
   {
    "duration": 12,
    "start_time": "2024-03-21T19:24:13.353Z"
   },
   {
    "duration": 15,
    "start_time": "2024-03-21T19:25:31.793Z"
   },
   {
    "duration": 2484,
    "start_time": "2024-03-21T19:44:11.228Z"
   },
   {
    "duration": 11,
    "start_time": "2024-03-21T19:44:23.778Z"
   },
   {
    "duration": 2661,
    "start_time": "2024-03-21T19:51:37.603Z"
   },
   {
    "duration": 344,
    "start_time": "2024-03-21T19:52:04.066Z"
   },
   {
    "duration": 1759,
    "start_time": "2024-03-21T19:52:21.387Z"
   },
   {
    "duration": 5479,
    "start_time": "2024-03-21T19:52:34.776Z"
   },
   {
    "duration": 1457,
    "start_time": "2024-03-21T19:52:40.258Z"
   },
   {
    "duration": 1206,
    "start_time": "2024-03-21T19:52:41.716Z"
   },
   {
    "duration": 52,
    "start_time": "2024-03-21T19:52:42.924Z"
   },
   {
    "duration": 40,
    "start_time": "2024-03-21T19:52:42.978Z"
   },
   {
    "duration": 120,
    "start_time": "2024-03-21T19:52:43.020Z"
   },
   {
    "duration": 25,
    "start_time": "2024-03-21T19:52:43.142Z"
   },
   {
    "duration": 41,
    "start_time": "2024-03-21T19:52:43.170Z"
   },
   {
    "duration": 172,
    "start_time": "2024-03-21T19:52:43.213Z"
   },
   {
    "duration": 94,
    "start_time": "2024-03-21T19:52:43.388Z"
   },
   {
    "duration": 46,
    "start_time": "2024-03-21T19:52:43.483Z"
   },
   {
    "duration": 310,
    "start_time": "2024-03-21T19:52:43.531Z"
   },
   {
    "duration": 297,
    "start_time": "2024-03-21T19:52:43.843Z"
   },
   {
    "duration": 2055,
    "start_time": "2024-03-21T19:52:44.142Z"
   },
   {
    "duration": 45,
    "start_time": "2024-03-21T19:52:46.199Z"
   },
   {
    "duration": 112,
    "start_time": "2024-03-21T19:52:46.246Z"
   },
   {
    "duration": 22,
    "start_time": "2024-03-21T19:52:46.360Z"
   },
   {
    "duration": 6525,
    "start_time": "2024-03-21T19:52:46.384Z"
   },
   {
    "duration": 12,
    "start_time": "2024-03-21T19:52:52.911Z"
   },
   {
    "duration": 99,
    "start_time": "2024-03-21T19:52:52.925Z"
   },
   {
    "duration": 14,
    "start_time": "2024-03-21T19:52:53.026Z"
   },
   {
    "duration": 27,
    "start_time": "2024-03-21T19:52:53.041Z"
   },
   {
    "duration": 1080,
    "start_time": "2024-03-21T19:52:53.070Z"
   },
   {
    "duration": 3371,
    "start_time": "2024-03-21T19:52:54.152Z"
   },
   {
    "duration": 2645,
    "start_time": "2024-03-21T19:52:57.598Z"
   },
   {
    "duration": 461660,
    "start_time": "2024-03-21T19:53:00.244Z"
   },
   {
    "duration": 1,
    "start_time": "2024-03-21T20:00:41.905Z"
   },
   {
    "duration": 0,
    "start_time": "2024-03-21T20:00:41.907Z"
   },
   {
    "duration": 0,
    "start_time": "2024-03-21T20:00:41.909Z"
   },
   {
    "duration": 0,
    "start_time": "2024-03-21T20:00:41.909Z"
   },
   {
    "duration": 5585,
    "start_time": "2024-03-21T20:04:27.772Z"
   },
   {
    "duration": 1396,
    "start_time": "2024-03-21T20:04:33.361Z"
   },
   {
    "duration": 1192,
    "start_time": "2024-03-21T20:04:34.759Z"
   },
   {
    "duration": 68,
    "start_time": "2024-03-21T20:04:35.953Z"
   },
   {
    "duration": 4,
    "start_time": "2024-03-21T20:04:36.023Z"
   },
   {
    "duration": 131,
    "start_time": "2024-03-21T20:04:36.029Z"
   },
   {
    "duration": 31,
    "start_time": "2024-03-21T20:04:36.161Z"
   },
   {
    "duration": 26,
    "start_time": "2024-03-21T20:04:36.193Z"
   },
   {
    "duration": 222,
    "start_time": "2024-03-21T20:04:36.221Z"
   },
   {
    "duration": 90,
    "start_time": "2024-03-21T20:04:36.446Z"
   },
   {
    "duration": 41,
    "start_time": "2024-03-21T20:04:36.538Z"
   },
   {
    "duration": 322,
    "start_time": "2024-03-21T20:04:36.581Z"
   },
   {
    "duration": 245,
    "start_time": "2024-03-21T20:04:36.906Z"
   },
   {
    "duration": 2041,
    "start_time": "2024-03-21T20:04:37.153Z"
   },
   {
    "duration": 45,
    "start_time": "2024-03-21T20:04:39.196Z"
   },
   {
    "duration": 114,
    "start_time": "2024-03-21T20:04:39.244Z"
   },
   {
    "duration": 5,
    "start_time": "2024-03-21T20:04:39.361Z"
   },
   {
    "duration": 6379,
    "start_time": "2024-03-21T20:04:39.391Z"
   },
   {
    "duration": 28,
    "start_time": "2024-03-21T20:04:45.772Z"
   },
   {
    "duration": 90,
    "start_time": "2024-03-21T20:04:45.802Z"
   },
   {
    "duration": 14,
    "start_time": "2024-03-21T20:04:45.893Z"
   },
   {
    "duration": 3,
    "start_time": "2024-03-21T20:04:45.909Z"
   },
   {
    "duration": 1050,
    "start_time": "2024-03-21T20:04:45.914Z"
   },
   {
    "duration": 3827,
    "start_time": "2024-03-21T20:04:46.967Z"
   },
   {
    "duration": 2582,
    "start_time": "2024-03-21T20:04:50.796Z"
   },
   {
    "duration": 5444,
    "start_time": "2024-03-21T20:07:23.046Z"
   },
   {
    "duration": 1467,
    "start_time": "2024-03-21T20:07:28.493Z"
   },
   {
    "duration": 1242,
    "start_time": "2024-03-21T20:07:29.962Z"
   },
   {
    "duration": 59,
    "start_time": "2024-03-21T20:07:31.206Z"
   },
   {
    "duration": 249,
    "start_time": "2024-03-21T20:07:31.268Z"
   },
   {
    "duration": 258,
    "start_time": "2024-03-21T20:07:31.519Z"
   },
   {
    "duration": 36,
    "start_time": "2024-03-21T20:07:31.779Z"
   },
   {
    "duration": 142,
    "start_time": "2024-03-21T20:07:31.818Z"
   },
   {
    "duration": 240,
    "start_time": "2024-03-21T20:07:31.962Z"
   },
   {
    "duration": 116,
    "start_time": "2024-03-21T20:07:32.204Z"
   },
   {
    "duration": 119,
    "start_time": "2024-03-21T20:07:32.322Z"
   },
   {
    "duration": 383,
    "start_time": "2024-03-21T20:07:32.443Z"
   },
   {
    "duration": 241,
    "start_time": "2024-03-21T20:07:32.828Z"
   },
   {
    "duration": 2110,
    "start_time": "2024-03-21T20:07:33.072Z"
   },
   {
    "duration": 50,
    "start_time": "2024-03-21T20:07:35.184Z"
   },
   {
    "duration": 102,
    "start_time": "2024-03-21T20:07:35.236Z"
   },
   {
    "duration": 5,
    "start_time": "2024-03-21T20:07:35.340Z"
   },
   {
    "duration": 6349,
    "start_time": "2024-03-21T20:07:35.347Z"
   },
   {
    "duration": 16,
    "start_time": "2024-03-21T20:07:41.698Z"
   },
   {
    "duration": 100,
    "start_time": "2024-03-21T20:07:41.716Z"
   },
   {
    "duration": 19,
    "start_time": "2024-03-21T20:07:41.819Z"
   },
   {
    "duration": 17,
    "start_time": "2024-03-21T20:07:41.840Z"
   },
   {
    "duration": 1048,
    "start_time": "2024-03-21T20:07:41.859Z"
   },
   {
    "duration": 3317,
    "start_time": "2024-03-21T20:07:42.909Z"
   },
   {
    "duration": 2540,
    "start_time": "2024-03-21T20:07:46.293Z"
   },
   {
    "duration": 29927,
    "start_time": "2024-03-21T20:07:48.834Z"
   },
   {
    "duration": 0,
    "start_time": "2024-03-21T20:11:35.920Z"
   },
   {
    "duration": 0,
    "start_time": "2024-03-21T20:11:35.921Z"
   },
   {
    "duration": 5514,
    "start_time": "2024-03-21T20:15:51.764Z"
   },
   {
    "duration": 1485,
    "start_time": "2024-03-21T20:15:57.281Z"
   },
   {
    "duration": 1206,
    "start_time": "2024-03-21T20:15:58.768Z"
   },
   {
    "duration": 60,
    "start_time": "2024-03-21T20:15:59.976Z"
   },
   {
    "duration": 240,
    "start_time": "2024-03-21T20:16:00.038Z"
   },
   {
    "duration": 424,
    "start_time": "2024-03-21T20:16:00.280Z"
   },
   {
    "duration": 132,
    "start_time": "2024-03-21T20:16:00.706Z"
   },
   {
    "duration": 160,
    "start_time": "2024-03-21T20:16:00.840Z"
   },
   {
    "duration": 287,
    "start_time": "2024-03-21T20:16:01.003Z"
   },
   {
    "duration": 107,
    "start_time": "2024-03-21T20:16:01.292Z"
   },
   {
    "duration": 123,
    "start_time": "2024-03-21T20:16:01.401Z"
   },
   {
    "duration": 774,
    "start_time": "2024-03-21T20:16:01.527Z"
   },
   {
    "duration": 262,
    "start_time": "2024-03-21T20:16:02.303Z"
   },
   {
    "duration": 2187,
    "start_time": "2024-03-21T20:16:02.568Z"
   },
   {
    "duration": 65,
    "start_time": "2024-03-21T20:16:04.757Z"
   },
   {
    "duration": 109,
    "start_time": "2024-03-21T20:16:04.824Z"
   },
   {
    "duration": 5,
    "start_time": "2024-03-21T20:16:04.934Z"
   },
   {
    "duration": 6567,
    "start_time": "2024-03-21T20:16:04.942Z"
   },
   {
    "duration": 15,
    "start_time": "2024-03-21T20:16:11.511Z"
   },
   {
    "duration": 93,
    "start_time": "2024-03-21T20:16:11.528Z"
   },
   {
    "duration": 14,
    "start_time": "2024-03-21T20:16:11.623Z"
   },
   {
    "duration": 5,
    "start_time": "2024-03-21T20:16:11.638Z"
   },
   {
    "duration": 1028,
    "start_time": "2024-03-21T20:16:11.644Z"
   },
   {
    "duration": 3247,
    "start_time": "2024-03-21T20:16:12.674Z"
   },
   {
    "duration": 2550,
    "start_time": "2024-03-21T20:16:15.993Z"
   },
   {
    "duration": 29222,
    "start_time": "2024-03-21T20:16:18.545Z"
   },
   {
    "duration": 212211,
    "start_time": "2024-03-21T20:16:47.769Z"
   },
   {
    "duration": 1,
    "start_time": "2024-03-21T20:20:19.981Z"
   },
   {
    "duration": 0,
    "start_time": "2024-03-21T20:20:19.983Z"
   },
   {
    "duration": 0,
    "start_time": "2024-03-21T20:28:48.303Z"
   },
   {
    "duration": 98605,
    "start_time": "2024-03-21T20:29:01.090Z"
   },
   {
    "duration": 2562,
    "start_time": "2024-03-21T20:31:10.269Z"
   },
   {
    "duration": 30709,
    "start_time": "2024-03-21T20:31:29.229Z"
   },
   {
    "duration": 85541,
    "start_time": "2024-03-21T20:32:21.156Z"
   },
   {
    "duration": 574,
    "start_time": "2024-03-21T20:33:49.937Z"
   },
   {
    "duration": 11,
    "start_time": "2024-03-21T20:33:52.866Z"
   },
   {
    "duration": 5454,
    "start_time": "2024-03-21T20:35:33.769Z"
   },
   {
    "duration": 1438,
    "start_time": "2024-03-21T20:35:39.225Z"
   },
   {
    "duration": 1299,
    "start_time": "2024-03-21T20:35:40.665Z"
   },
   {
    "duration": 72,
    "start_time": "2024-03-21T20:35:41.967Z"
   },
   {
    "duration": 5,
    "start_time": "2024-03-21T20:35:42.041Z"
   },
   {
    "duration": 160,
    "start_time": "2024-03-21T20:35:42.048Z"
   },
   {
    "duration": 27,
    "start_time": "2024-03-21T20:35:42.210Z"
   },
   {
    "duration": 57,
    "start_time": "2024-03-21T20:35:42.239Z"
   },
   {
    "duration": 174,
    "start_time": "2024-03-21T20:35:42.298Z"
   },
   {
    "duration": 95,
    "start_time": "2024-03-21T20:35:42.475Z"
   },
   {
    "duration": 36,
    "start_time": "2024-03-21T20:35:42.571Z"
   },
   {
    "duration": 317,
    "start_time": "2024-03-21T20:35:42.609Z"
   },
   {
    "duration": 227,
    "start_time": "2024-03-21T20:35:42.928Z"
   },
   {
    "duration": 2052,
    "start_time": "2024-03-21T20:35:43.157Z"
   },
   {
    "duration": 47,
    "start_time": "2024-03-21T20:35:45.211Z"
   },
   {
    "duration": 409,
    "start_time": "2024-03-21T20:35:45.260Z"
   },
   {
    "duration": 17,
    "start_time": "2024-03-21T20:35:45.671Z"
   },
   {
    "duration": 6763,
    "start_time": "2024-03-21T20:35:45.689Z"
   },
   {
    "duration": 14,
    "start_time": "2024-03-21T20:35:52.454Z"
   },
   {
    "duration": 96,
    "start_time": "2024-03-21T20:35:52.470Z"
   },
   {
    "duration": 25,
    "start_time": "2024-03-21T20:35:52.568Z"
   },
   {
    "duration": 11,
    "start_time": "2024-03-21T20:35:52.595Z"
   },
   {
    "duration": 1020,
    "start_time": "2024-03-21T20:35:52.608Z"
   },
   {
    "duration": 3669,
    "start_time": "2024-03-21T20:35:53.630Z"
   },
   {
    "duration": 2672,
    "start_time": "2024-03-21T20:35:57.301Z"
   },
   {
    "duration": 30451,
    "start_time": "2024-03-21T20:35:59.975Z"
   },
   {
    "duration": 0,
    "start_time": "2024-03-21T20:41:01.108Z"
   },
   {
    "duration": 0,
    "start_time": "2024-03-21T20:41:01.109Z"
   },
   {
    "duration": 0,
    "start_time": "2024-03-21T20:41:01.111Z"
   },
   {
    "duration": 0,
    "start_time": "2024-03-21T20:41:01.112Z"
   },
   {
    "duration": 102719,
    "start_time": "2024-03-21T20:41:04.394Z"
   },
   {
    "duration": 5437,
    "start_time": "2024-03-21T20:54:13.982Z"
   },
   {
    "duration": 1448,
    "start_time": "2024-03-21T20:54:20.822Z"
   },
   {
    "duration": 1145,
    "start_time": "2024-03-21T20:54:24.773Z"
   },
   {
    "duration": 50,
    "start_time": "2024-03-21T20:54:31.845Z"
   },
   {
    "duration": 3,
    "start_time": "2024-03-21T20:54:34.589Z"
   },
   {
    "duration": 102,
    "start_time": "2024-03-21T20:54:36.628Z"
   },
   {
    "duration": 25,
    "start_time": "2024-03-21T20:54:39.284Z"
   },
   {
    "duration": 24,
    "start_time": "2024-03-21T20:54:41.412Z"
   },
   {
    "duration": 162,
    "start_time": "2024-03-21T20:54:43.148Z"
   },
   {
    "duration": 89,
    "start_time": "2024-03-21T20:54:44.085Z"
   },
   {
    "duration": 29,
    "start_time": "2024-03-21T20:54:45.324Z"
   },
   {
    "duration": 314,
    "start_time": "2024-03-21T20:54:47.188Z"
   },
   {
    "duration": 242,
    "start_time": "2024-03-21T20:54:50.022Z"
   },
   {
    "duration": 1980,
    "start_time": "2024-03-21T20:54:53.397Z"
   },
   {
    "duration": 48,
    "start_time": "2024-03-21T20:55:02.653Z"
   },
   {
    "duration": 100,
    "start_time": "2024-03-21T20:55:04.196Z"
   },
   {
    "duration": 4,
    "start_time": "2024-03-21T20:55:05.500Z"
   },
   {
    "duration": 6448,
    "start_time": "2024-03-21T20:55:11.860Z"
   },
   {
    "duration": 12,
    "start_time": "2024-03-21T20:55:20.188Z"
   },
   {
    "duration": 71,
    "start_time": "2024-03-21T20:55:22.051Z"
   },
   {
    "duration": 16,
    "start_time": "2024-03-21T20:55:23.212Z"
   },
   {
    "duration": 17,
    "start_time": "2024-03-21T20:55:37.148Z"
   },
   {
    "duration": 6,
    "start_time": "2024-03-21T20:55:38.692Z"
   },
   {
    "duration": 1039,
    "start_time": "2024-03-21T20:55:40.076Z"
   },
   {
    "duration": 3297,
    "start_time": "2024-03-21T20:55:47.427Z"
   },
   {
    "duration": 2386,
    "start_time": "2024-03-21T20:55:54.707Z"
   },
   {
    "duration": 29232,
    "start_time": "2024-03-21T20:56:00.506Z"
   },
   {
    "duration": 410839,
    "start_time": "2024-03-21T20:56:33.658Z"
   },
   {
    "duration": 617,
    "start_time": "2024-03-21T21:06:17.500Z"
   },
   {
    "duration": 11,
    "start_time": "2024-03-21T21:06:23.028Z"
   },
   {
    "duration": 1129,
    "start_time": "2024-03-22T03:54:59.906Z"
   },
   {
    "duration": 145,
    "start_time": "2024-03-22T04:28:56.371Z"
   },
   {
    "duration": 10484,
    "start_time": "2024-03-22T08:02:21.828Z"
   },
   {
    "duration": 1466,
    "start_time": "2024-03-22T08:02:32.315Z"
   },
   {
    "duration": 1330,
    "start_time": "2024-03-22T08:02:33.783Z"
   },
   {
    "duration": 61,
    "start_time": "2024-03-22T08:02:35.115Z"
   },
   {
    "duration": 12,
    "start_time": "2024-03-22T08:02:35.178Z"
   },
   {
    "duration": 102,
    "start_time": "2024-03-22T08:02:35.192Z"
   },
   {
    "duration": 22,
    "start_time": "2024-03-22T08:02:35.295Z"
   },
   {
    "duration": 29,
    "start_time": "2024-03-22T08:02:35.319Z"
   },
   {
    "duration": 157,
    "start_time": "2024-03-22T08:02:35.350Z"
   },
   {
    "duration": 93,
    "start_time": "2024-03-22T08:02:35.510Z"
   },
   {
    "duration": 26,
    "start_time": "2024-03-22T08:02:35.604Z"
   },
   {
    "duration": 311,
    "start_time": "2024-03-22T08:02:35.631Z"
   },
   {
    "duration": 220,
    "start_time": "2024-03-22T08:02:35.944Z"
   },
   {
    "duration": 1874,
    "start_time": "2024-03-22T08:02:36.166Z"
   },
   {
    "duration": 49,
    "start_time": "2024-03-22T08:02:38.041Z"
   },
   {
    "duration": 94,
    "start_time": "2024-03-22T08:02:38.092Z"
   },
   {
    "duration": 4,
    "start_time": "2024-03-22T08:02:38.187Z"
   },
   {
    "duration": 5788,
    "start_time": "2024-03-22T08:02:38.192Z"
   },
   {
    "duration": 11,
    "start_time": "2024-03-22T08:02:43.981Z"
   },
   {
    "duration": 66,
    "start_time": "2024-03-22T08:02:43.994Z"
   },
   {
    "duration": 10,
    "start_time": "2024-03-22T08:02:44.062Z"
   },
   {
    "duration": 9,
    "start_time": "2024-03-22T08:02:44.073Z"
   },
   {
    "duration": 835,
    "start_time": "2024-03-22T08:02:44.083Z"
   },
   {
    "duration": 2557,
    "start_time": "2024-03-22T08:02:44.920Z"
   },
   {
    "duration": 2245,
    "start_time": "2024-03-22T08:02:47.479Z"
   },
   {
    "duration": 27079,
    "start_time": "2024-03-22T08:02:49.726Z"
   },
   {
    "duration": 32458,
    "start_time": "2024-03-22T08:03:16.807Z"
   },
   {
    "duration": 790,
    "start_time": "2024-03-22T08:03:49.269Z"
   },
   {
    "duration": 10,
    "start_time": "2024-03-22T08:03:50.061Z"
   },
   {
    "duration": 130,
    "start_time": "2024-03-22T08:19:06.758Z"
   },
   {
    "duration": 3,
    "start_time": "2024-03-22T08:20:08.958Z"
   },
   {
    "duration": 4996,
    "start_time": "2024-03-22T08:20:17.316Z"
   },
   {
    "duration": 1262,
    "start_time": "2024-03-22T08:20:22.314Z"
   },
   {
    "duration": 1081,
    "start_time": "2024-03-22T08:20:23.577Z"
   },
   {
    "duration": 124,
    "start_time": "2024-03-22T08:20:24.660Z"
   },
   {
    "duration": 0,
    "start_time": "2024-03-22T08:20:24.787Z"
   },
   {
    "duration": 0,
    "start_time": "2024-03-22T08:20:24.788Z"
   },
   {
    "duration": 0,
    "start_time": "2024-03-22T08:20:24.790Z"
   },
   {
    "duration": 0,
    "start_time": "2024-03-22T08:20:24.791Z"
   },
   {
    "duration": 0,
    "start_time": "2024-03-22T08:20:24.792Z"
   },
   {
    "duration": 0,
    "start_time": "2024-03-22T08:20:24.793Z"
   },
   {
    "duration": 0,
    "start_time": "2024-03-22T08:20:24.794Z"
   },
   {
    "duration": 0,
    "start_time": "2024-03-22T08:20:24.795Z"
   },
   {
    "duration": 0,
    "start_time": "2024-03-22T08:20:24.796Z"
   },
   {
    "duration": 0,
    "start_time": "2024-03-22T08:20:24.797Z"
   },
   {
    "duration": 0,
    "start_time": "2024-03-22T08:20:24.798Z"
   },
   {
    "duration": 0,
    "start_time": "2024-03-22T08:20:24.799Z"
   },
   {
    "duration": 0,
    "start_time": "2024-03-22T08:20:24.800Z"
   },
   {
    "duration": 0,
    "start_time": "2024-03-22T08:20:24.801Z"
   },
   {
    "duration": 0,
    "start_time": "2024-03-22T08:20:24.802Z"
   },
   {
    "duration": 0,
    "start_time": "2024-03-22T08:20:24.803Z"
   },
   {
    "duration": 0,
    "start_time": "2024-03-22T08:20:24.804Z"
   },
   {
    "duration": 0,
    "start_time": "2024-03-22T08:20:24.805Z"
   },
   {
    "duration": 0,
    "start_time": "2024-03-22T08:20:24.806Z"
   },
   {
    "duration": 0,
    "start_time": "2024-03-22T08:20:24.807Z"
   },
   {
    "duration": 0,
    "start_time": "2024-03-22T08:20:24.808Z"
   },
   {
    "duration": 0,
    "start_time": "2024-03-22T08:20:24.809Z"
   },
   {
    "duration": 0,
    "start_time": "2024-03-22T08:20:24.810Z"
   },
   {
    "duration": 0,
    "start_time": "2024-03-22T08:20:24.811Z"
   },
   {
    "duration": 0,
    "start_time": "2024-03-22T08:20:24.812Z"
   },
   {
    "duration": 29,
    "start_time": "2024-03-22T08:21:57.139Z"
   },
   {
    "duration": 3,
    "start_time": "2024-03-22T08:22:08.532Z"
   },
   {
    "duration": 110,
    "start_time": "2024-03-22T08:22:11.724Z"
   },
   {
    "duration": 28,
    "start_time": "2024-03-22T08:22:16.352Z"
   },
   {
    "duration": 4,
    "start_time": "2024-03-22T08:22:40.124Z"
   },
   {
    "duration": 26,
    "start_time": "2024-03-22T08:23:12.376Z"
   },
   {
    "duration": 77,
    "start_time": "2024-03-22T08:34:00.320Z"
   },
   {
    "duration": 111,
    "start_time": "2024-03-22T08:34:04.417Z"
   },
   {
    "duration": 27,
    "start_time": "2024-03-22T08:34:16.163Z"
   },
   {
    "duration": 112,
    "start_time": "2024-03-22T08:34:19.474Z"
   },
   {
    "duration": 31,
    "start_time": "2024-03-22T08:34:27.805Z"
   },
   {
    "duration": 285,
    "start_time": "2024-03-22T08:34:29.564Z"
   },
   {
    "duration": 244,
    "start_time": "2024-03-22T08:35:13.448Z"
   },
   {
    "duration": 1552,
    "start_time": "2024-03-22T08:35:16.865Z"
   },
   {
    "duration": 52,
    "start_time": "2024-03-22T10:18:37.069Z"
   },
   {
    "duration": 1439,
    "start_time": "2024-03-22T10:18:45.279Z"
   },
   {
    "duration": 55,
    "start_time": "2024-03-22T10:19:11.144Z"
   },
   {
    "duration": 1480,
    "start_time": "2024-03-22T10:19:25.164Z"
   },
   {
    "duration": 80,
    "start_time": "2024-03-22T10:20:49.249Z"
   },
   {
    "duration": 3,
    "start_time": "2024-03-22T10:20:54.797Z"
   },
   {
    "duration": 4,
    "start_time": "2024-03-22T10:21:30.888Z"
   },
   {
    "duration": 177,
    "start_time": "2024-03-22T10:21:34.199Z"
   },
   {
    "duration": 4891,
    "start_time": "2024-03-22T10:22:23.489Z"
   },
   {
    "duration": 26,
    "start_time": "2024-03-22T10:25:03.022Z"
   },
   {
    "duration": 35,
    "start_time": "2024-03-22T10:27:58.311Z"
   },
   {
    "duration": 32,
    "start_time": "2024-03-22T10:28:33.274Z"
   },
   {
    "duration": 30,
    "start_time": "2024-03-22T10:28:55.845Z"
   },
   {
    "duration": 33,
    "start_time": "2024-03-22T10:29:28.437Z"
   },
   {
    "duration": 32,
    "start_time": "2024-03-22T10:30:22.690Z"
   },
   {
    "duration": 36,
    "start_time": "2024-03-22T10:30:51.669Z"
   },
   {
    "duration": 91,
    "start_time": "2024-03-22T10:30:59.553Z"
   },
   {
    "duration": 5,
    "start_time": "2024-03-22T10:31:03.854Z"
   },
   {
    "duration": 5114,
    "start_time": "2024-03-22T10:31:09.107Z"
   },
   {
    "duration": 13,
    "start_time": "2024-03-22T10:48:16.587Z"
   },
   {
    "duration": 53,
    "start_time": "2024-03-22T10:48:21.736Z"
   },
   {
    "duration": 10,
    "start_time": "2024-03-22T10:48:32.729Z"
   },
   {
    "duration": 2,
    "start_time": "2024-03-22T10:48:35.389Z"
   },
   {
    "duration": 3,
    "start_time": "2024-03-22T10:48:46.779Z"
   },
   {
    "duration": 684,
    "start_time": "2024-03-22T10:48:49.144Z"
   },
   {
    "duration": 82,
    "start_time": "2024-03-22T11:02:12.913Z"
   },
   {
    "duration": 11,
    "start_time": "2024-03-22T11:02:17.088Z"
   },
   {
    "duration": 3,
    "start_time": "2024-03-22T11:02:25.067Z"
   },
   {
    "duration": 602,
    "start_time": "2024-03-22T11:03:59.318Z"
   },
   {
    "duration": 2569,
    "start_time": "2024-03-22T11:12:53.315Z"
   },
   {
    "duration": 1865,
    "start_time": "2024-03-22T11:13:38.902Z"
   },
   {
    "duration": 1339,
    "start_time": "2024-03-22T11:13:45.981Z"
   },
   {
    "duration": 19742,
    "start_time": "2024-03-22T11:14:20.575Z"
   },
   {
    "duration": 5128,
    "start_time": "2024-03-22T11:14:56.933Z"
   },
   {
    "duration": 492,
    "start_time": "2024-03-22T11:15:18.367Z"
   },
   {
    "duration": 11,
    "start_time": "2024-03-22T11:15:29.763Z"
   },
   {
    "duration": 13,
    "start_time": "2024-03-22T11:16:51.876Z"
   },
   {
    "duration": 12,
    "start_time": "2024-03-22T11:28:03.143Z"
   },
   {
    "duration": 5036,
    "start_time": "2024-03-22T11:28:10.114Z"
   },
   {
    "duration": 1295,
    "start_time": "2024-03-22T11:28:15.152Z"
   },
   {
    "duration": 1073,
    "start_time": "2024-03-22T11:28:16.448Z"
   },
   {
    "duration": 48,
    "start_time": "2024-03-22T11:28:17.522Z"
   },
   {
    "duration": 5,
    "start_time": "2024-03-22T11:28:17.572Z"
   },
   {
    "duration": 103,
    "start_time": "2024-03-22T11:28:17.578Z"
   },
   {
    "duration": 23,
    "start_time": "2024-03-22T11:28:17.683Z"
   },
   {
    "duration": 21,
    "start_time": "2024-03-22T11:28:17.707Z"
   },
   {
    "duration": 74,
    "start_time": "2024-03-22T11:28:17.729Z"
   },
   {
    "duration": 100,
    "start_time": "2024-03-22T11:28:17.805Z"
   },
   {
    "duration": 23,
    "start_time": "2024-03-22T11:28:17.906Z"
   },
   {
    "duration": 320,
    "start_time": "2024-03-22T11:28:17.931Z"
   },
   {
    "duration": 209,
    "start_time": "2024-03-22T11:28:18.258Z"
   },
   {
    "duration": 1488,
    "start_time": "2024-03-22T11:28:18.470Z"
   },
   {
    "duration": 47,
    "start_time": "2024-03-22T11:28:19.960Z"
   },
   {
    "duration": 59,
    "start_time": "2024-03-22T11:28:20.009Z"
   },
   {
    "duration": 90,
    "start_time": "2024-03-22T11:28:20.070Z"
   },
   {
    "duration": 4,
    "start_time": "2024-03-22T11:28:20.161Z"
   },
   {
    "duration": 4953,
    "start_time": "2024-03-22T11:28:20.166Z"
   },
   {
    "duration": 16,
    "start_time": "2024-03-22T11:28:25.121Z"
   },
   {
    "duration": 91,
    "start_time": "2024-03-22T11:28:25.138Z"
   },
   {
    "duration": 9,
    "start_time": "2024-03-22T11:28:25.231Z"
   },
   {
    "duration": 7,
    "start_time": "2024-03-22T11:28:25.241Z"
   },
   {
    "duration": 593,
    "start_time": "2024-03-22T11:28:25.259Z"
   },
   {
    "duration": 2521,
    "start_time": "2024-03-22T11:28:25.858Z"
   },
   {
    "duration": 1591,
    "start_time": "2024-03-22T11:28:28.383Z"
   },
   {
    "duration": 21340,
    "start_time": "2024-03-22T11:28:29.976Z"
   },
   {
    "duration": 37949,
    "start_time": "2024-03-22T11:28:51.317Z"
   },
   {
    "duration": 511,
    "start_time": "2024-03-22T11:29:29.271Z"
   },
   {
    "duration": 12,
    "start_time": "2024-03-22T11:29:29.784Z"
   },
   {
    "duration": 184,
    "start_time": "2024-03-22T11:29:29.797Z"
   },
   {
    "duration": 8667,
    "start_time": "2024-03-22T12:02:58.171Z"
   },
   {
    "duration": 8549,
    "start_time": "2024-03-22T12:03:17.446Z"
   },
   {
    "duration": 8702,
    "start_time": "2024-03-22T12:03:50.410Z"
   },
   {
    "duration": 8650,
    "start_time": "2024-03-22T12:04:47.475Z"
   },
   {
    "duration": 8306,
    "start_time": "2024-03-22T12:24:04.204Z"
   },
   {
    "duration": 14,
    "start_time": "2024-03-22T12:45:02.935Z"
   },
   {
    "duration": 4,
    "start_time": "2024-03-22T12:45:43.469Z"
   },
   {
    "duration": 8832,
    "start_time": "2024-03-22T12:45:58.271Z"
   },
   {
    "duration": 8897,
    "start_time": "2024-03-22T12:46:21.797Z"
   },
   {
    "duration": 8300,
    "start_time": "2024-03-22T12:54:36.011Z"
   },
   {
    "duration": 9064,
    "start_time": "2024-03-22T13:00:52.245Z"
   },
   {
    "duration": 8941,
    "start_time": "2024-03-22T13:01:19.339Z"
   },
   {
    "duration": 45,
    "start_time": "2024-03-22T20:18:14.008Z"
   },
   {
    "duration": 9810,
    "start_time": "2024-03-22T20:20:12.252Z"
   },
   {
    "duration": 1511,
    "start_time": "2024-03-22T20:20:22.064Z"
   },
   {
    "duration": 1245,
    "start_time": "2024-03-22T20:20:23.577Z"
   },
   {
    "duration": 45,
    "start_time": "2024-03-22T20:20:24.823Z"
   },
   {
    "duration": 7,
    "start_time": "2024-03-22T20:20:24.870Z"
   },
   {
    "duration": 109,
    "start_time": "2024-03-22T20:20:24.878Z"
   },
   {
    "duration": 23,
    "start_time": "2024-03-22T20:20:24.988Z"
   },
   {
    "duration": 20,
    "start_time": "2024-03-22T20:20:25.013Z"
   },
   {
    "duration": 72,
    "start_time": "2024-03-22T20:20:25.034Z"
   },
   {
    "duration": 90,
    "start_time": "2024-03-22T20:20:25.109Z"
   },
   {
    "duration": 23,
    "start_time": "2024-03-22T20:20:25.201Z"
   },
   {
    "duration": 286,
    "start_time": "2024-03-22T20:20:25.226Z"
   },
   {
    "duration": 207,
    "start_time": "2024-03-22T20:20:25.513Z"
   },
   {
    "duration": 1372,
    "start_time": "2024-03-22T20:20:25.721Z"
   },
   {
    "duration": 45,
    "start_time": "2024-03-22T20:20:27.095Z"
   },
   {
    "duration": 59,
    "start_time": "2024-03-22T20:20:27.142Z"
   },
   {
    "duration": 79,
    "start_time": "2024-03-22T20:20:27.203Z"
   },
   {
    "duration": 3,
    "start_time": "2024-03-22T20:20:27.284Z"
   },
   {
    "duration": 4762,
    "start_time": "2024-03-22T20:20:27.289Z"
   },
   {
    "duration": 18,
    "start_time": "2024-03-22T20:20:32.053Z"
   },
   {
    "duration": 101,
    "start_time": "2024-03-22T20:20:32.072Z"
   },
   {
    "duration": 8,
    "start_time": "2024-03-22T20:20:32.175Z"
   },
   {
    "duration": 11,
    "start_time": "2024-03-22T20:20:32.185Z"
   },
   {
    "duration": 549,
    "start_time": "2024-03-22T20:20:32.198Z"
   },
   {
    "duration": 2110,
    "start_time": "2024-03-22T20:20:32.749Z"
   },
   {
    "duration": 1352,
    "start_time": "2024-03-22T20:20:34.862Z"
   },
   {
    "duration": 7750,
    "start_time": "2024-03-22T20:20:36.216Z"
   },
   {
    "duration": 18359,
    "start_time": "2024-03-22T20:20:43.968Z"
   },
   {
    "duration": 5337,
    "start_time": "2024-03-22T20:21:02.328Z"
   },
   {
    "duration": 498,
    "start_time": "2024-03-22T20:21:07.667Z"
   },
   {
    "duration": 10,
    "start_time": "2024-03-22T20:21:08.167Z"
   },
   {
    "duration": 157,
    "start_time": "2024-03-22T20:21:08.178Z"
   },
   {
    "duration": 311,
    "start_time": "2024-03-22T20:26:49.280Z"
   },
   {
    "duration": 4493,
    "start_time": "2024-03-22T20:27:54.424Z"
   },
   {
    "duration": 1220,
    "start_time": "2024-03-22T20:27:58.919Z"
   },
   {
    "duration": 1028,
    "start_time": "2024-03-22T20:28:00.140Z"
   },
   {
    "duration": 43,
    "start_time": "2024-03-22T20:28:01.169Z"
   },
   {
    "duration": 41,
    "start_time": "2024-03-22T20:28:01.214Z"
   },
   {
    "duration": 119,
    "start_time": "2024-03-22T20:28:01.256Z"
   },
   {
    "duration": 49,
    "start_time": "2024-03-22T20:28:01.377Z"
   },
   {
    "duration": 62,
    "start_time": "2024-03-22T20:28:01.427Z"
   },
   {
    "duration": 107,
    "start_time": "2024-03-22T20:28:01.491Z"
   },
   {
    "duration": 92,
    "start_time": "2024-03-22T20:28:01.600Z"
   },
   {
    "duration": 52,
    "start_time": "2024-03-22T20:28:01.693Z"
   },
   {
    "duration": 291,
    "start_time": "2024-03-22T20:28:01.747Z"
   },
   {
    "duration": 202,
    "start_time": "2024-03-22T20:28:02.039Z"
   },
   {
    "duration": 1438,
    "start_time": "2024-03-22T20:28:02.245Z"
   },
   {
    "duration": 45,
    "start_time": "2024-03-22T20:28:03.685Z"
   },
   {
    "duration": 55,
    "start_time": "2024-03-22T20:28:03.732Z"
   },
   {
    "duration": 84,
    "start_time": "2024-03-22T20:28:03.788Z"
   },
   {
    "duration": 3,
    "start_time": "2024-03-22T20:28:03.873Z"
   },
   {
    "duration": 4634,
    "start_time": "2024-03-22T20:28:03.877Z"
   },
   {
    "duration": 14,
    "start_time": "2024-03-22T20:28:08.513Z"
   },
   {
    "duration": 92,
    "start_time": "2024-03-22T20:28:08.529Z"
   },
   {
    "duration": 9,
    "start_time": "2024-03-22T20:28:08.622Z"
   },
   {
    "duration": 4,
    "start_time": "2024-03-22T20:28:08.633Z"
   },
   {
    "duration": 590,
    "start_time": "2024-03-22T20:28:08.639Z"
   },
   {
    "duration": 2054,
    "start_time": "2024-03-22T20:28:09.231Z"
   },
   {
    "duration": 1359,
    "start_time": "2024-03-22T20:28:11.360Z"
   },
   {
    "duration": 7767,
    "start_time": "2024-03-22T20:28:12.721Z"
   },
   {
    "duration": 18616,
    "start_time": "2024-03-22T20:28:20.490Z"
   },
   {
    "duration": 5160,
    "start_time": "2024-03-22T20:28:39.108Z"
   },
   {
    "duration": 591,
    "start_time": "2024-03-22T20:28:44.269Z"
   },
   {
    "duration": 9,
    "start_time": "2024-03-22T20:28:44.862Z"
   },
   {
    "duration": 445,
    "start_time": "2024-03-22T20:28:44.872Z"
   },
   {
    "duration": 16,
    "start_time": "2024-03-22T20:31:45.419Z"
   },
   {
    "duration": 8,
    "start_time": "2024-03-22T20:32:07.329Z"
   },
   {
    "duration": 4696,
    "start_time": "2024-03-22T20:32:14.392Z"
   },
   {
    "duration": 1216,
    "start_time": "2024-03-22T20:32:19.091Z"
   },
   {
    "duration": 1036,
    "start_time": "2024-03-22T20:32:20.309Z"
   },
   {
    "duration": 48,
    "start_time": "2024-03-22T20:32:21.347Z"
   },
   {
    "duration": 38,
    "start_time": "2024-03-22T20:32:21.396Z"
   },
   {
    "duration": 124,
    "start_time": "2024-03-22T20:32:21.436Z"
   },
   {
    "duration": 24,
    "start_time": "2024-03-22T20:32:21.561Z"
   },
   {
    "duration": 27,
    "start_time": "2024-03-22T20:32:21.586Z"
   },
   {
    "duration": 61,
    "start_time": "2024-03-22T20:32:21.615Z"
   },
   {
    "duration": 99,
    "start_time": "2024-03-22T20:32:21.679Z"
   },
   {
    "duration": 40,
    "start_time": "2024-03-22T20:32:21.779Z"
   },
   {
    "duration": 287,
    "start_time": "2024-03-22T20:32:21.821Z"
   },
   {
    "duration": 199,
    "start_time": "2024-03-22T20:32:22.109Z"
   },
   {
    "duration": 1433,
    "start_time": "2024-03-22T20:32:22.310Z"
   },
   {
    "duration": 58,
    "start_time": "2024-03-22T20:32:23.745Z"
   },
   {
    "duration": 61,
    "start_time": "2024-03-22T20:32:23.805Z"
   },
   {
    "duration": 82,
    "start_time": "2024-03-22T20:32:23.867Z"
   },
   {
    "duration": 33,
    "start_time": "2024-03-22T20:32:23.950Z"
   },
   {
    "duration": 4730,
    "start_time": "2024-03-22T20:32:23.985Z"
   },
   {
    "duration": 17,
    "start_time": "2024-03-22T20:32:28.717Z"
   },
   {
    "duration": 92,
    "start_time": "2024-03-22T20:32:28.736Z"
   },
   {
    "duration": 9,
    "start_time": "2024-03-22T20:32:28.830Z"
   },
   {
    "duration": 9,
    "start_time": "2024-03-22T20:32:28.841Z"
   },
   {
    "duration": 767,
    "start_time": "2024-03-22T20:32:28.858Z"
   },
   {
    "duration": 2853,
    "start_time": "2024-03-22T20:32:29.627Z"
   },
   {
    "duration": 1383,
    "start_time": "2024-03-22T20:32:32.561Z"
   },
   {
    "duration": 7981,
    "start_time": "2024-03-22T20:32:33.946Z"
   },
   {
    "duration": 18738,
    "start_time": "2024-03-22T20:32:41.930Z"
   },
   {
    "duration": 279804,
    "start_time": "2024-03-22T20:33:00.670Z"
   },
   {
    "duration": 507,
    "start_time": "2024-03-22T20:37:40.475Z"
   },
   {
    "duration": 82,
    "start_time": "2024-03-22T20:37:40.984Z"
   },
   {
    "duration": 354,
    "start_time": "2024-03-22T20:37:41.068Z"
   },
   {
    "duration": 5,
    "start_time": "2024-03-22T20:58:41.289Z"
   },
   {
    "duration": 125,
    "start_time": "2024-03-22T21:03:18.145Z"
   },
   {
    "duration": 4609,
    "start_time": "2024-03-22T21:03:39.972Z"
   },
   {
    "duration": 1306,
    "start_time": "2024-03-22T21:03:44.583Z"
   },
   {
    "duration": 987,
    "start_time": "2024-03-22T21:03:45.891Z"
   },
   {
    "duration": 42,
    "start_time": "2024-03-22T21:03:46.880Z"
   },
   {
    "duration": 7,
    "start_time": "2024-03-22T21:03:46.923Z"
   },
   {
    "duration": 97,
    "start_time": "2024-03-22T21:03:46.931Z"
   },
   {
    "duration": 29,
    "start_time": "2024-03-22T21:03:47.030Z"
   },
   {
    "duration": 20,
    "start_time": "2024-03-22T21:03:47.060Z"
   },
   {
    "duration": 56,
    "start_time": "2024-03-22T21:03:47.081Z"
   },
   {
    "duration": 103,
    "start_time": "2024-03-22T21:03:47.140Z"
   },
   {
    "duration": 40,
    "start_time": "2024-03-22T21:03:47.245Z"
   },
   {
    "duration": 276,
    "start_time": "2024-03-22T21:03:47.287Z"
   },
   {
    "duration": 207,
    "start_time": "2024-03-22T21:03:47.565Z"
   },
   {
    "duration": 1423,
    "start_time": "2024-03-22T21:03:47.773Z"
   },
   {
    "duration": 46,
    "start_time": "2024-03-22T21:03:49.197Z"
   },
   {
    "duration": 45,
    "start_time": "2024-03-22T21:03:49.258Z"
   },
   {
    "duration": 88,
    "start_time": "2024-03-22T21:03:49.305Z"
   },
   {
    "duration": 3,
    "start_time": "2024-03-22T21:03:49.394Z"
   },
   {
    "duration": 4725,
    "start_time": "2024-03-22T21:03:49.398Z"
   },
   {
    "duration": 15,
    "start_time": "2024-03-22T21:03:54.125Z"
   },
   {
    "duration": 89,
    "start_time": "2024-03-22T21:03:54.142Z"
   },
   {
    "duration": 8,
    "start_time": "2024-03-22T21:03:54.233Z"
   },
   {
    "duration": 9,
    "start_time": "2024-03-22T21:03:54.243Z"
   },
   {
    "duration": 881,
    "start_time": "2024-03-22T21:03:54.254Z"
   },
   {
    "duration": 0,
    "start_time": "2024-03-22T21:03:55.137Z"
   },
   {
    "duration": 0,
    "start_time": "2024-03-22T21:03:55.138Z"
   },
   {
    "duration": 0,
    "start_time": "2024-03-22T21:03:55.139Z"
   },
   {
    "duration": 0,
    "start_time": "2024-03-22T21:03:55.140Z"
   },
   {
    "duration": 0,
    "start_time": "2024-03-22T21:03:55.141Z"
   },
   {
    "duration": 0,
    "start_time": "2024-03-22T21:03:55.142Z"
   },
   {
    "duration": 0,
    "start_time": "2024-03-22T21:03:55.143Z"
   },
   {
    "duration": 0,
    "start_time": "2024-03-22T21:03:55.159Z"
   },
   {
    "duration": 755,
    "start_time": "2024-03-22T21:05:40.422Z"
   },
   {
    "duration": 657,
    "start_time": "2024-03-22T21:11:07.712Z"
   },
   {
    "duration": 4662,
    "start_time": "2024-03-22T21:11:30.980Z"
   },
   {
    "duration": 1255,
    "start_time": "2024-03-22T21:11:35.645Z"
   },
   {
    "duration": 994,
    "start_time": "2024-03-22T21:11:36.901Z"
   },
   {
    "duration": 41,
    "start_time": "2024-03-22T21:11:37.897Z"
   },
   {
    "duration": 13,
    "start_time": "2024-03-22T21:11:37.940Z"
   },
   {
    "duration": 92,
    "start_time": "2024-03-22T21:11:37.954Z"
   },
   {
    "duration": 27,
    "start_time": "2024-03-22T21:11:38.048Z"
   },
   {
    "duration": 20,
    "start_time": "2024-03-22T21:11:38.077Z"
   },
   {
    "duration": 85,
    "start_time": "2024-03-22T21:11:38.099Z"
   },
   {
    "duration": 104,
    "start_time": "2024-03-22T21:11:38.187Z"
   },
   {
    "duration": 26,
    "start_time": "2024-03-22T21:11:38.292Z"
   },
   {
    "duration": 291,
    "start_time": "2024-03-22T21:11:38.320Z"
   },
   {
    "duration": 212,
    "start_time": "2024-03-22T21:11:38.613Z"
   },
   {
    "duration": 1434,
    "start_time": "2024-03-22T21:11:38.827Z"
   },
   {
    "duration": 45,
    "start_time": "2024-03-22T21:11:40.263Z"
   },
   {
    "duration": 55,
    "start_time": "2024-03-22T21:11:40.310Z"
   },
   {
    "duration": 76,
    "start_time": "2024-03-22T21:11:40.367Z"
   },
   {
    "duration": 16,
    "start_time": "2024-03-22T21:11:40.444Z"
   },
   {
    "duration": 4750,
    "start_time": "2024-03-22T21:11:40.461Z"
   },
   {
    "duration": 19,
    "start_time": "2024-03-22T21:11:45.213Z"
   },
   {
    "duration": 140,
    "start_time": "2024-03-22T21:11:45.233Z"
   },
   {
    "duration": 9,
    "start_time": "2024-03-22T21:11:45.375Z"
   },
   {
    "duration": 25,
    "start_time": "2024-03-22T21:11:45.385Z"
   },
   {
    "duration": 779,
    "start_time": "2024-03-22T21:11:45.412Z"
   },
   {
    "duration": 2667,
    "start_time": "2024-03-22T21:11:46.192Z"
   },
   {
    "duration": 1279,
    "start_time": "2024-03-22T21:11:48.861Z"
   },
   {
    "duration": 7857,
    "start_time": "2024-03-22T21:11:50.142Z"
   },
   {
    "duration": 19047,
    "start_time": "2024-03-22T21:11:58.002Z"
   },
   {
    "duration": 582312,
    "start_time": "2024-03-22T21:12:17.050Z"
   },
   {
    "duration": 503,
    "start_time": "2024-03-22T21:21:59.364Z"
   },
   {
    "duration": 13,
    "start_time": "2024-03-22T21:21:59.869Z"
   },
   {
    "duration": 403,
    "start_time": "2024-03-22T21:21:59.884Z"
   },
   {
    "duration": 5430,
    "start_time": "2024-03-29T13:34:23.182Z"
   },
   {
    "duration": 1251,
    "start_time": "2024-03-29T13:34:28.614Z"
   },
   {
    "duration": 1408,
    "start_time": "2024-03-29T13:34:29.866Z"
   },
   {
    "duration": 45,
    "start_time": "2024-03-29T13:34:31.276Z"
   },
   {
    "duration": 57,
    "start_time": "2024-03-29T13:34:31.324Z"
   },
   {
    "duration": 147,
    "start_time": "2024-03-29T13:34:31.383Z"
   },
   {
    "duration": 30,
    "start_time": "2024-03-29T13:34:31.532Z"
   },
   {
    "duration": 69,
    "start_time": "2024-03-29T13:34:31.565Z"
   },
   {
    "duration": 125,
    "start_time": "2024-03-29T13:34:31.636Z"
   },
   {
    "duration": 86,
    "start_time": "2024-03-29T13:34:31.764Z"
   },
   {
    "duration": 44,
    "start_time": "2024-03-29T13:34:31.852Z"
   },
   {
    "duration": 287,
    "start_time": "2024-03-29T13:34:31.898Z"
   },
   {
    "duration": 199,
    "start_time": "2024-03-29T13:34:32.187Z"
   },
   {
    "duration": 1406,
    "start_time": "2024-03-29T13:34:32.387Z"
   },
   {
    "duration": 45,
    "start_time": "2024-03-29T13:34:33.794Z"
   },
   {
    "duration": 62,
    "start_time": "2024-03-29T13:34:33.841Z"
   },
   {
    "duration": 85,
    "start_time": "2024-03-29T13:34:33.905Z"
   },
   {
    "duration": 4,
    "start_time": "2024-03-29T13:34:33.992Z"
   },
   {
    "duration": 4705,
    "start_time": "2024-03-29T13:34:33.998Z"
   },
   {
    "duration": 14,
    "start_time": "2024-03-29T13:34:38.705Z"
   },
   {
    "duration": 86,
    "start_time": "2024-03-29T13:34:38.721Z"
   },
   {
    "duration": 9,
    "start_time": "2024-03-29T13:34:38.809Z"
   },
   {
    "duration": 6,
    "start_time": "2024-03-29T13:34:38.819Z"
   },
   {
    "duration": 745,
    "start_time": "2024-03-29T13:34:38.826Z"
   },
   {
    "duration": 2802,
    "start_time": "2024-03-29T13:34:39.572Z"
   },
   {
    "duration": 1464,
    "start_time": "2024-03-29T13:34:42.375Z"
   },
   {
    "duration": 9071,
    "start_time": "2024-03-29T13:34:43.841Z"
   },
   {
    "duration": 57571,
    "start_time": "2024-03-29T13:34:52.916Z"
   },
   {
    "duration": 17369,
    "start_time": "2024-03-29T13:35:50.489Z"
   },
   {
    "duration": 598,
    "start_time": "2024-03-29T13:36:07.860Z"
   },
   {
    "duration": 9,
    "start_time": "2024-03-29T13:36:08.461Z"
   },
   {
    "duration": 634,
    "start_time": "2024-03-29T13:36:08.471Z"
   },
   {
    "duration": 54,
    "start_time": "2024-05-02T20:42:20.056Z"
   },
   {
    "duration": 4736,
    "start_time": "2024-05-02T20:48:00.356Z"
   },
   {
    "duration": 1445,
    "start_time": "2024-05-02T20:48:05.095Z"
   },
   {
    "duration": 3121,
    "start_time": "2024-05-02T20:48:06.542Z"
   },
   {
    "duration": 46,
    "start_time": "2024-05-02T20:48:09.671Z"
   },
   {
    "duration": 3,
    "start_time": "2024-05-02T20:48:09.719Z"
   },
   {
    "duration": 125,
    "start_time": "2024-05-02T20:48:09.723Z"
   },
   {
    "duration": 38,
    "start_time": "2024-05-02T20:48:09.851Z"
   },
   {
    "duration": 20,
    "start_time": "2024-05-02T20:48:09.891Z"
   },
   {
    "duration": 85,
    "start_time": "2024-05-02T20:48:09.913Z"
   },
   {
    "duration": 97,
    "start_time": "2024-05-02T20:48:10.000Z"
   },
   {
    "duration": 22,
    "start_time": "2024-05-02T20:48:10.099Z"
   },
   {
    "duration": 338,
    "start_time": "2024-05-02T20:48:10.123Z"
   },
   {
    "duration": 213,
    "start_time": "2024-05-02T20:48:10.466Z"
   },
   {
    "duration": 1477,
    "start_time": "2024-05-02T20:48:10.681Z"
   },
   {
    "duration": 48,
    "start_time": "2024-05-02T20:48:12.165Z"
   },
   {
    "duration": 67,
    "start_time": "2024-05-02T20:48:12.214Z"
   },
   {
    "duration": 95,
    "start_time": "2024-05-02T20:48:12.282Z"
   },
   {
    "duration": 4,
    "start_time": "2024-05-02T20:48:12.378Z"
   },
   {
    "duration": 5096,
    "start_time": "2024-05-02T20:48:12.387Z"
   },
   {
    "duration": 17,
    "start_time": "2024-05-02T20:48:17.485Z"
   },
   {
    "duration": 89,
    "start_time": "2024-05-02T20:48:17.503Z"
   },
   {
    "duration": 10,
    "start_time": "2024-05-02T20:48:17.594Z"
   },
   {
    "duration": 6,
    "start_time": "2024-05-02T20:48:17.605Z"
   },
   {
    "duration": 768,
    "start_time": "2024-05-02T20:48:17.613Z"
   },
   {
    "duration": 2703,
    "start_time": "2024-05-02T20:48:18.382Z"
   },
   {
    "duration": 1430,
    "start_time": "2024-05-02T20:48:21.087Z"
   },
   {
    "duration": 7906,
    "start_time": "2024-05-02T20:48:22.518Z"
   },
   {
    "duration": 19150,
    "start_time": "2024-05-02T20:48:30.427Z"
   },
   {
    "duration": 54288,
    "start_time": "2024-05-02T20:48:49.578Z"
   },
   {
    "duration": 13,
    "start_time": "2024-05-02T20:49:43.868Z"
   },
   {
    "duration": 373,
    "start_time": "2024-05-02T20:49:43.883Z"
   },
   {
    "duration": 19035,
    "start_time": "2024-05-02T20:58:30.704Z"
   }
  ],
  "kernelspec": {
   "display_name": "Python 3 (ipykernel)",
   "language": "python",
   "name": "python3"
  },
  "language_info": {
   "codemirror_mode": {
    "name": "ipython",
    "version": 3
   },
   "file_extension": ".py",
   "mimetype": "text/x-python",
   "name": "python",
   "nbconvert_exporter": "python",
   "pygments_lexer": "ipython3",
   "version": "3.9.5"
  },
  "toc": {
   "base_numbering": 1,
   "nav_menu": {},
   "number_sections": true,
   "sideBar": true,
   "skip_h1_title": true,
   "title_cell": "Table of Contents",
   "title_sidebar": "Contents",
   "toc_cell": false,
   "toc_position": {},
   "toc_section_display": true,
   "toc_window_display": false
  }
 },
 "nbformat": 4,
 "nbformat_minor": 2
}

{
 "cells": [
  {
   "cell_type": "markdown",
   "metadata": {},
   "source": [
    "# **Определение закономерностей успешных игр для интернет-магазина «Стримчик».**"
   ]
  },
  {
   "cell_type": "markdown",
   "metadata": {},
   "source": [
    "**Мы работаем в интернет-магазине «Стримчик», который продаёт по всему миру компьютерные игры. Нам нужно выявить определяющие успешность игры закономерности. Это позволит сделать ставку на потенциально популярный продукт и спланировать рекламные кампании.\n",
    "Перед нами данные до 2016 года из открытых источников доступны исторические данные о продажах игр, оценки пользователей и экспертов, жанры и платформы и мы планируем кампанию на 2017-й.**"
   ]
  },
  {
   "cell_type": "code",
   "execution_count": 1,
   "metadata": {},
   "outputs": [],
   "source": [
    "import pandas as pd\n",
    "from matplotlib import pyplot as plt\n",
    "import numpy as np\n",
    "from scipy import stats as st"
   ]
  },
  {
   "cell_type": "markdown",
   "metadata": {},
   "source": [
    "## Изучение общей информации."
   ]
  },
  {
   "cell_type": "code",
   "execution_count": 2,
   "metadata": {},
   "outputs": [
    {
     "name": "stdout",
     "output_type": "stream",
     "text": [
      "<class 'pandas.core.frame.DataFrame'>\n",
      "RangeIndex: 16715 entries, 0 to 16714\n",
      "Data columns (total 11 columns):\n",
      " #   Column           Non-Null Count  Dtype  \n",
      "---  ------           --------------  -----  \n",
      " 0   Name             16713 non-null  object \n",
      " 1   Platform         16715 non-null  object \n",
      " 2   Year_of_Release  16446 non-null  float64\n",
      " 3   Genre            16713 non-null  object \n",
      " 4   NA_sales         16715 non-null  float64\n",
      " 5   EU_sales         16715 non-null  float64\n",
      " 6   JP_sales         16715 non-null  float64\n",
      " 7   Other_sales      16715 non-null  float64\n",
      " 8   Critic_Score     8137 non-null   float64\n",
      " 9   User_Score       10014 non-null  object \n",
      " 10  Rating           9949 non-null   object \n",
      "dtypes: float64(6), object(5)\n",
      "memory usage: 1.4+ MB\n"
     ]
    },
    {
     "data": {
      "text/html": [
       "<div>\n",
       "<style scoped>\n",
       "    .dataframe tbody tr th:only-of-type {\n",
       "        vertical-align: middle;\n",
       "    }\n",
       "\n",
       "    .dataframe tbody tr th {\n",
       "        vertical-align: top;\n",
       "    }\n",
       "\n",
       "    .dataframe thead th {\n",
       "        text-align: right;\n",
       "    }\n",
       "</style>\n",
       "<table border=\"1\" class=\"dataframe\">\n",
       "  <thead>\n",
       "    <tr style=\"text-align: right;\">\n",
       "      <th></th>\n",
       "      <th>Name</th>\n",
       "      <th>Platform</th>\n",
       "      <th>Year_of_Release</th>\n",
       "      <th>Genre</th>\n",
       "      <th>NA_sales</th>\n",
       "      <th>EU_sales</th>\n",
       "      <th>JP_sales</th>\n",
       "      <th>Other_sales</th>\n",
       "      <th>Critic_Score</th>\n",
       "      <th>User_Score</th>\n",
       "      <th>Rating</th>\n",
       "    </tr>\n",
       "  </thead>\n",
       "  <tbody>\n",
       "    <tr>\n",
       "      <th>0</th>\n",
       "      <td>Wii Sports</td>\n",
       "      <td>Wii</td>\n",
       "      <td>2006.0</td>\n",
       "      <td>Sports</td>\n",
       "      <td>41.36</td>\n",
       "      <td>28.96</td>\n",
       "      <td>3.77</td>\n",
       "      <td>8.45</td>\n",
       "      <td>76.0</td>\n",
       "      <td>8</td>\n",
       "      <td>E</td>\n",
       "    </tr>\n",
       "    <tr>\n",
       "      <th>1</th>\n",
       "      <td>Super Mario Bros.</td>\n",
       "      <td>NES</td>\n",
       "      <td>1985.0</td>\n",
       "      <td>Platform</td>\n",
       "      <td>29.08</td>\n",
       "      <td>3.58</td>\n",
       "      <td>6.81</td>\n",
       "      <td>0.77</td>\n",
       "      <td>NaN</td>\n",
       "      <td>NaN</td>\n",
       "      <td>NaN</td>\n",
       "    </tr>\n",
       "    <tr>\n",
       "      <th>2</th>\n",
       "      <td>Mario Kart Wii</td>\n",
       "      <td>Wii</td>\n",
       "      <td>2008.0</td>\n",
       "      <td>Racing</td>\n",
       "      <td>15.68</td>\n",
       "      <td>12.76</td>\n",
       "      <td>3.79</td>\n",
       "      <td>3.29</td>\n",
       "      <td>82.0</td>\n",
       "      <td>8.3</td>\n",
       "      <td>E</td>\n",
       "    </tr>\n",
       "    <tr>\n",
       "      <th>3</th>\n",
       "      <td>Wii Sports Resort</td>\n",
       "      <td>Wii</td>\n",
       "      <td>2009.0</td>\n",
       "      <td>Sports</td>\n",
       "      <td>15.61</td>\n",
       "      <td>10.93</td>\n",
       "      <td>3.28</td>\n",
       "      <td>2.95</td>\n",
       "      <td>80.0</td>\n",
       "      <td>8</td>\n",
       "      <td>E</td>\n",
       "    </tr>\n",
       "    <tr>\n",
       "      <th>4</th>\n",
       "      <td>Pokemon Red/Pokemon Blue</td>\n",
       "      <td>GB</td>\n",
       "      <td>1996.0</td>\n",
       "      <td>Role-Playing</td>\n",
       "      <td>11.27</td>\n",
       "      <td>8.89</td>\n",
       "      <td>10.22</td>\n",
       "      <td>1.00</td>\n",
       "      <td>NaN</td>\n",
       "      <td>NaN</td>\n",
       "      <td>NaN</td>\n",
       "    </tr>\n",
       "    <tr>\n",
       "      <th>5</th>\n",
       "      <td>Tetris</td>\n",
       "      <td>GB</td>\n",
       "      <td>1989.0</td>\n",
       "      <td>Puzzle</td>\n",
       "      <td>23.20</td>\n",
       "      <td>2.26</td>\n",
       "      <td>4.22</td>\n",
       "      <td>0.58</td>\n",
       "      <td>NaN</td>\n",
       "      <td>NaN</td>\n",
       "      <td>NaN</td>\n",
       "    </tr>\n",
       "    <tr>\n",
       "      <th>6</th>\n",
       "      <td>New Super Mario Bros.</td>\n",
       "      <td>DS</td>\n",
       "      <td>2006.0</td>\n",
       "      <td>Platform</td>\n",
       "      <td>11.28</td>\n",
       "      <td>9.14</td>\n",
       "      <td>6.50</td>\n",
       "      <td>2.88</td>\n",
       "      <td>89.0</td>\n",
       "      <td>8.5</td>\n",
       "      <td>E</td>\n",
       "    </tr>\n",
       "    <tr>\n",
       "      <th>7</th>\n",
       "      <td>Wii Play</td>\n",
       "      <td>Wii</td>\n",
       "      <td>2006.0</td>\n",
       "      <td>Misc</td>\n",
       "      <td>13.96</td>\n",
       "      <td>9.18</td>\n",
       "      <td>2.93</td>\n",
       "      <td>2.84</td>\n",
       "      <td>58.0</td>\n",
       "      <td>6.6</td>\n",
       "      <td>E</td>\n",
       "    </tr>\n",
       "    <tr>\n",
       "      <th>8</th>\n",
       "      <td>New Super Mario Bros. Wii</td>\n",
       "      <td>Wii</td>\n",
       "      <td>2009.0</td>\n",
       "      <td>Platform</td>\n",
       "      <td>14.44</td>\n",
       "      <td>6.94</td>\n",
       "      <td>4.70</td>\n",
       "      <td>2.24</td>\n",
       "      <td>87.0</td>\n",
       "      <td>8.4</td>\n",
       "      <td>E</td>\n",
       "    </tr>\n",
       "    <tr>\n",
       "      <th>9</th>\n",
       "      <td>Duck Hunt</td>\n",
       "      <td>NES</td>\n",
       "      <td>1984.0</td>\n",
       "      <td>Shooter</td>\n",
       "      <td>26.93</td>\n",
       "      <td>0.63</td>\n",
       "      <td>0.28</td>\n",
       "      <td>0.47</td>\n",
       "      <td>NaN</td>\n",
       "      <td>NaN</td>\n",
       "      <td>NaN</td>\n",
       "    </tr>\n",
       "  </tbody>\n",
       "</table>\n",
       "</div>"
      ],
      "text/plain": [
       "                        Name Platform  Year_of_Release         Genre  \\\n",
       "0                 Wii Sports      Wii           2006.0        Sports   \n",
       "1          Super Mario Bros.      NES           1985.0      Platform   \n",
       "2             Mario Kart Wii      Wii           2008.0        Racing   \n",
       "3          Wii Sports Resort      Wii           2009.0        Sports   \n",
       "4   Pokemon Red/Pokemon Blue       GB           1996.0  Role-Playing   \n",
       "5                     Tetris       GB           1989.0        Puzzle   \n",
       "6      New Super Mario Bros.       DS           2006.0      Platform   \n",
       "7                   Wii Play      Wii           2006.0          Misc   \n",
       "8  New Super Mario Bros. Wii      Wii           2009.0      Platform   \n",
       "9                  Duck Hunt      NES           1984.0       Shooter   \n",
       "\n",
       "   NA_sales  EU_sales  JP_sales  Other_sales  Critic_Score User_Score Rating  \n",
       "0     41.36     28.96      3.77         8.45          76.0          8      E  \n",
       "1     29.08      3.58      6.81         0.77           NaN        NaN    NaN  \n",
       "2     15.68     12.76      3.79         3.29          82.0        8.3      E  \n",
       "3     15.61     10.93      3.28         2.95          80.0          8      E  \n",
       "4     11.27      8.89     10.22         1.00           NaN        NaN    NaN  \n",
       "5     23.20      2.26      4.22         0.58           NaN        NaN    NaN  \n",
       "6     11.28      9.14      6.50         2.88          89.0        8.5      E  \n",
       "7     13.96      9.18      2.93         2.84          58.0        6.6      E  \n",
       "8     14.44      6.94      4.70         2.24          87.0        8.4      E  \n",
       "9     26.93      0.63      0.28         0.47           NaN        NaN    NaN  "
      ]
     },
     "execution_count": 2,
     "metadata": {},
     "output_type": "execute_result"
    }
   ],
   "source": [
    "data = pd.read_csv('/datasets/games.csv')\n",
    "data.info()\n",
    "data.head(10)"
   ]
  },
  {
   "cell_type": "markdown",
   "metadata": {},
   "source": [
    "**Датасет необходимо обработать для дальнейшей удобной работы с данными. Для этого нужно будет привести названия столбцов к нижнеу регистру, убрать пропуски в столбцах `Critic_Score`, `User_Score`, `Rating`при помощи \"заглушек\", изменить типы значений в столбцах `Year_of_Release` и `User_Score`.**"
   ]
  },
  {
   "cell_type": "markdown",
   "metadata": {},
   "source": [
    "## Предобработка данных."
   ]
  },
  {
   "cell_type": "markdown",
   "metadata": {},
   "source": [
    "**Приведем названия столбцов к нижнему регистру.**"
   ]
  },
  {
   "cell_type": "code",
   "execution_count": 3,
   "metadata": {},
   "outputs": [],
   "source": [
    "data.columns = data.columns.str.lower()"
   ]
  },
  {
   "cell_type": "markdown",
   "metadata": {},
   "source": [
    "**Чтобы преобразовать данные в столбце `year_of_release` в целочисленные, применим метод `astype('Int64')`.**"
   ]
  },
  {
   "cell_type": "code",
   "execution_count": 4,
   "metadata": {},
   "outputs": [
    {
     "data": {
      "text/html": [
       "<div>\n",
       "<style scoped>\n",
       "    .dataframe tbody tr th:only-of-type {\n",
       "        vertical-align: middle;\n",
       "    }\n",
       "\n",
       "    .dataframe tbody tr th {\n",
       "        vertical-align: top;\n",
       "    }\n",
       "\n",
       "    .dataframe thead th {\n",
       "        text-align: right;\n",
       "    }\n",
       "</style>\n",
       "<table border=\"1\" class=\"dataframe\">\n",
       "  <thead>\n",
       "    <tr style=\"text-align: right;\">\n",
       "      <th></th>\n",
       "      <th>name</th>\n",
       "      <th>platform</th>\n",
       "      <th>year_of_release</th>\n",
       "      <th>genre</th>\n",
       "      <th>na_sales</th>\n",
       "      <th>eu_sales</th>\n",
       "      <th>jp_sales</th>\n",
       "      <th>other_sales</th>\n",
       "      <th>critic_score</th>\n",
       "      <th>user_score</th>\n",
       "      <th>rating</th>\n",
       "    </tr>\n",
       "  </thead>\n",
       "  <tbody>\n",
       "    <tr>\n",
       "      <th>0</th>\n",
       "      <td>Wii Sports</td>\n",
       "      <td>Wii</td>\n",
       "      <td>2006</td>\n",
       "      <td>Sports</td>\n",
       "      <td>41.36</td>\n",
       "      <td>28.96</td>\n",
       "      <td>3.77</td>\n",
       "      <td>8.45</td>\n",
       "      <td>76.0</td>\n",
       "      <td>8</td>\n",
       "      <td>E</td>\n",
       "    </tr>\n",
       "    <tr>\n",
       "      <th>1</th>\n",
       "      <td>Super Mario Bros.</td>\n",
       "      <td>NES</td>\n",
       "      <td>1985</td>\n",
       "      <td>Platform</td>\n",
       "      <td>29.08</td>\n",
       "      <td>3.58</td>\n",
       "      <td>6.81</td>\n",
       "      <td>0.77</td>\n",
       "      <td>NaN</td>\n",
       "      <td>NaN</td>\n",
       "      <td>NaN</td>\n",
       "    </tr>\n",
       "    <tr>\n",
       "      <th>2</th>\n",
       "      <td>Mario Kart Wii</td>\n",
       "      <td>Wii</td>\n",
       "      <td>2008</td>\n",
       "      <td>Racing</td>\n",
       "      <td>15.68</td>\n",
       "      <td>12.76</td>\n",
       "      <td>3.79</td>\n",
       "      <td>3.29</td>\n",
       "      <td>82.0</td>\n",
       "      <td>8.3</td>\n",
       "      <td>E</td>\n",
       "    </tr>\n",
       "    <tr>\n",
       "      <th>3</th>\n",
       "      <td>Wii Sports Resort</td>\n",
       "      <td>Wii</td>\n",
       "      <td>2009</td>\n",
       "      <td>Sports</td>\n",
       "      <td>15.61</td>\n",
       "      <td>10.93</td>\n",
       "      <td>3.28</td>\n",
       "      <td>2.95</td>\n",
       "      <td>80.0</td>\n",
       "      <td>8</td>\n",
       "      <td>E</td>\n",
       "    </tr>\n",
       "    <tr>\n",
       "      <th>4</th>\n",
       "      <td>Pokemon Red/Pokemon Blue</td>\n",
       "      <td>GB</td>\n",
       "      <td>1996</td>\n",
       "      <td>Role-Playing</td>\n",
       "      <td>11.27</td>\n",
       "      <td>8.89</td>\n",
       "      <td>10.22</td>\n",
       "      <td>1.00</td>\n",
       "      <td>NaN</td>\n",
       "      <td>NaN</td>\n",
       "      <td>NaN</td>\n",
       "    </tr>\n",
       "    <tr>\n",
       "      <th>5</th>\n",
       "      <td>Tetris</td>\n",
       "      <td>GB</td>\n",
       "      <td>1989</td>\n",
       "      <td>Puzzle</td>\n",
       "      <td>23.20</td>\n",
       "      <td>2.26</td>\n",
       "      <td>4.22</td>\n",
       "      <td>0.58</td>\n",
       "      <td>NaN</td>\n",
       "      <td>NaN</td>\n",
       "      <td>NaN</td>\n",
       "    </tr>\n",
       "    <tr>\n",
       "      <th>6</th>\n",
       "      <td>New Super Mario Bros.</td>\n",
       "      <td>DS</td>\n",
       "      <td>2006</td>\n",
       "      <td>Platform</td>\n",
       "      <td>11.28</td>\n",
       "      <td>9.14</td>\n",
       "      <td>6.50</td>\n",
       "      <td>2.88</td>\n",
       "      <td>89.0</td>\n",
       "      <td>8.5</td>\n",
       "      <td>E</td>\n",
       "    </tr>\n",
       "    <tr>\n",
       "      <th>7</th>\n",
       "      <td>Wii Play</td>\n",
       "      <td>Wii</td>\n",
       "      <td>2006</td>\n",
       "      <td>Misc</td>\n",
       "      <td>13.96</td>\n",
       "      <td>9.18</td>\n",
       "      <td>2.93</td>\n",
       "      <td>2.84</td>\n",
       "      <td>58.0</td>\n",
       "      <td>6.6</td>\n",
       "      <td>E</td>\n",
       "    </tr>\n",
       "    <tr>\n",
       "      <th>8</th>\n",
       "      <td>New Super Mario Bros. Wii</td>\n",
       "      <td>Wii</td>\n",
       "      <td>2009</td>\n",
       "      <td>Platform</td>\n",
       "      <td>14.44</td>\n",
       "      <td>6.94</td>\n",
       "      <td>4.70</td>\n",
       "      <td>2.24</td>\n",
       "      <td>87.0</td>\n",
       "      <td>8.4</td>\n",
       "      <td>E</td>\n",
       "    </tr>\n",
       "    <tr>\n",
       "      <th>9</th>\n",
       "      <td>Duck Hunt</td>\n",
       "      <td>NES</td>\n",
       "      <td>1984</td>\n",
       "      <td>Shooter</td>\n",
       "      <td>26.93</td>\n",
       "      <td>0.63</td>\n",
       "      <td>0.28</td>\n",
       "      <td>0.47</td>\n",
       "      <td>NaN</td>\n",
       "      <td>NaN</td>\n",
       "      <td>NaN</td>\n",
       "    </tr>\n",
       "  </tbody>\n",
       "</table>\n",
       "</div>"
      ],
      "text/plain": [
       "                        name platform  year_of_release         genre  \\\n",
       "0                 Wii Sports      Wii             2006        Sports   \n",
       "1          Super Mario Bros.      NES             1985      Platform   \n",
       "2             Mario Kart Wii      Wii             2008        Racing   \n",
       "3          Wii Sports Resort      Wii             2009        Sports   \n",
       "4   Pokemon Red/Pokemon Blue       GB             1996  Role-Playing   \n",
       "5                     Tetris       GB             1989        Puzzle   \n",
       "6      New Super Mario Bros.       DS             2006      Platform   \n",
       "7                   Wii Play      Wii             2006          Misc   \n",
       "8  New Super Mario Bros. Wii      Wii             2009      Platform   \n",
       "9                  Duck Hunt      NES             1984       Shooter   \n",
       "\n",
       "   na_sales  eu_sales  jp_sales  other_sales  critic_score user_score rating  \n",
       "0     41.36     28.96      3.77         8.45          76.0          8      E  \n",
       "1     29.08      3.58      6.81         0.77           NaN        NaN    NaN  \n",
       "2     15.68     12.76      3.79         3.29          82.0        8.3      E  \n",
       "3     15.61     10.93      3.28         2.95          80.0          8      E  \n",
       "4     11.27      8.89     10.22         1.00           NaN        NaN    NaN  \n",
       "5     23.20      2.26      4.22         0.58           NaN        NaN    NaN  \n",
       "6     11.28      9.14      6.50         2.88          89.0        8.5      E  \n",
       "7     13.96      9.18      2.93         2.84          58.0        6.6      E  \n",
       "8     14.44      6.94      4.70         2.24          87.0        8.4      E  \n",
       "9     26.93      0.63      0.28         0.47           NaN        NaN    NaN  "
      ]
     },
     "execution_count": 4,
     "metadata": {},
     "output_type": "execute_result"
    }
   ],
   "source": [
    "data['year_of_release'] = data['year_of_release'].astype('Int64')\n",
    "data.head(10)"
   ]
  },
  {
   "cell_type": "markdown",
   "metadata": {},
   "source": [
    "**В столбце `genre` пропущено 2 значения. Найдем их:**"
   ]
  },
  {
   "cell_type": "code",
   "execution_count": 5,
   "metadata": {},
   "outputs": [
    {
     "data": {
      "text/html": [
       "<div>\n",
       "<style scoped>\n",
       "    .dataframe tbody tr th:only-of-type {\n",
       "        vertical-align: middle;\n",
       "    }\n",
       "\n",
       "    .dataframe tbody tr th {\n",
       "        vertical-align: top;\n",
       "    }\n",
       "\n",
       "    .dataframe thead th {\n",
       "        text-align: right;\n",
       "    }\n",
       "</style>\n",
       "<table border=\"1\" class=\"dataframe\">\n",
       "  <thead>\n",
       "    <tr style=\"text-align: right;\">\n",
       "      <th></th>\n",
       "      <th>name</th>\n",
       "      <th>platform</th>\n",
       "      <th>year_of_release</th>\n",
       "      <th>genre</th>\n",
       "      <th>na_sales</th>\n",
       "      <th>eu_sales</th>\n",
       "      <th>jp_sales</th>\n",
       "      <th>other_sales</th>\n",
       "      <th>critic_score</th>\n",
       "      <th>user_score</th>\n",
       "      <th>rating</th>\n",
       "    </tr>\n",
       "  </thead>\n",
       "  <tbody>\n",
       "    <tr>\n",
       "      <th>659</th>\n",
       "      <td>NaN</td>\n",
       "      <td>GEN</td>\n",
       "      <td>1993</td>\n",
       "      <td>NaN</td>\n",
       "      <td>1.78</td>\n",
       "      <td>0.53</td>\n",
       "      <td>0.00</td>\n",
       "      <td>0.08</td>\n",
       "      <td>NaN</td>\n",
       "      <td>NaN</td>\n",
       "      <td>NaN</td>\n",
       "    </tr>\n",
       "    <tr>\n",
       "      <th>14244</th>\n",
       "      <td>NaN</td>\n",
       "      <td>GEN</td>\n",
       "      <td>1993</td>\n",
       "      <td>NaN</td>\n",
       "      <td>0.00</td>\n",
       "      <td>0.00</td>\n",
       "      <td>0.03</td>\n",
       "      <td>0.00</td>\n",
       "      <td>NaN</td>\n",
       "      <td>NaN</td>\n",
       "      <td>NaN</td>\n",
       "    </tr>\n",
       "  </tbody>\n",
       "</table>\n",
       "</div>"
      ],
      "text/plain": [
       "      name platform  year_of_release genre  na_sales  eu_sales  jp_sales  \\\n",
       "659    NaN      GEN             1993   NaN      1.78      0.53      0.00   \n",
       "14244  NaN      GEN             1993   NaN      0.00      0.00      0.03   \n",
       "\n",
       "       other_sales  critic_score user_score rating  \n",
       "659           0.08           NaN        NaN    NaN  \n",
       "14244         0.00           NaN        NaN    NaN  "
      ]
     },
     "execution_count": 5,
     "metadata": {},
     "output_type": "execute_result"
    }
   ],
   "source": [
    "data[data['genre'].isna()]"
   ]
  },
  {
   "cell_type": "markdown",
   "metadata": {},
   "source": [
    "**2 игрушки на платформе SegaGenesis без имени, без жанра, без вкуса, без цвета и запаха. Удалим эти строчки, заодно избавимся от пропусков в столбце `name`. Удалим строки с пропущенными значениями в столбце `year_of_release`. Восстановить мы их не сможем, их немного, всего 269 пропусков(1,6% от всего датасета), они не будут нам мешаться и после удаления не испортят общей картины.**"
   ]
  },
  {
   "cell_type": "code",
   "execution_count": 6,
   "metadata": {},
   "outputs": [
    {
     "name": "stdout",
     "output_type": "stream",
     "text": [
      "<class 'pandas.core.frame.DataFrame'>\n",
      "Int64Index: 16444 entries, 0 to 16714\n",
      "Data columns (total 11 columns):\n",
      " #   Column           Non-Null Count  Dtype  \n",
      "---  ------           --------------  -----  \n",
      " 0   name             16444 non-null  object \n",
      " 1   platform         16444 non-null  object \n",
      " 2   year_of_release  16444 non-null  Int64  \n",
      " 3   genre            16444 non-null  object \n",
      " 4   na_sales         16444 non-null  float64\n",
      " 5   eu_sales         16444 non-null  float64\n",
      " 6   jp_sales         16444 non-null  float64\n",
      " 7   other_sales      16444 non-null  float64\n",
      " 8   critic_score     7983 non-null   float64\n",
      " 9   user_score       9839 non-null   object \n",
      " 10  rating           9768 non-null   object \n",
      "dtypes: Int64(1), float64(5), object(5)\n",
      "memory usage: 1.5+ MB\n"
     ]
    }
   ],
   "source": [
    "data = data.dropna(subset=['genre','year_of_release'])\n",
    "data.info()"
   ]
  },
  {
   "cell_type": "markdown",
   "metadata": {},
   "source": [
    "**Остались пропуски в оценках критиков и пользователей, а также в столбце рейтинг. Посмотрим, что там:**"
   ]
  },
  {
   "cell_type": "code",
   "execution_count": 7,
   "metadata": {},
   "outputs": [
    {
     "data": {
      "text/html": [
       "<div>\n",
       "<style scoped>\n",
       "    .dataframe tbody tr th:only-of-type {\n",
       "        vertical-align: middle;\n",
       "    }\n",
       "\n",
       "    .dataframe tbody tr th {\n",
       "        vertical-align: top;\n",
       "    }\n",
       "\n",
       "    .dataframe thead th {\n",
       "        text-align: right;\n",
       "    }\n",
       "</style>\n",
       "<table border=\"1\" class=\"dataframe\">\n",
       "  <thead>\n",
       "    <tr style=\"text-align: right;\">\n",
       "      <th></th>\n",
       "      <th>name</th>\n",
       "      <th>platform</th>\n",
       "      <th>year_of_release</th>\n",
       "      <th>genre</th>\n",
       "      <th>na_sales</th>\n",
       "      <th>eu_sales</th>\n",
       "      <th>jp_sales</th>\n",
       "      <th>other_sales</th>\n",
       "      <th>critic_score</th>\n",
       "      <th>user_score</th>\n",
       "      <th>rating</th>\n",
       "    </tr>\n",
       "  </thead>\n",
       "  <tbody>\n",
       "    <tr>\n",
       "      <th>16714</th>\n",
       "      <td>Winning Post 8 2016</td>\n",
       "      <td>PSV</td>\n",
       "      <td>2016</td>\n",
       "      <td>Simulation</td>\n",
       "      <td>0.00</td>\n",
       "      <td>0.00</td>\n",
       "      <td>0.01</td>\n",
       "      <td>0.00</td>\n",
       "      <td>NaN</td>\n",
       "      <td>NaN</td>\n",
       "      <td>NaN</td>\n",
       "    </tr>\n",
       "    <tr>\n",
       "      <th>5898</th>\n",
       "      <td>Dragon Quest Builders: Revive Alefgard</td>\n",
       "      <td>PSV</td>\n",
       "      <td>2016</td>\n",
       "      <td>Role-Playing</td>\n",
       "      <td>0.00</td>\n",
       "      <td>0.00</td>\n",
       "      <td>0.30</td>\n",
       "      <td>0.00</td>\n",
       "      <td>NaN</td>\n",
       "      <td>NaN</td>\n",
       "      <td>NaN</td>\n",
       "    </tr>\n",
       "    <tr>\n",
       "      <th>13232</th>\n",
       "      <td>Resident Evil 4 HD</td>\n",
       "      <td>PS4</td>\n",
       "      <td>2016</td>\n",
       "      <td>Shooter</td>\n",
       "      <td>0.04</td>\n",
       "      <td>0.00</td>\n",
       "      <td>0.00</td>\n",
       "      <td>0.01</td>\n",
       "      <td>NaN</td>\n",
       "      <td>NaN</td>\n",
       "      <td>NaN</td>\n",
       "    </tr>\n",
       "    <tr>\n",
       "      <th>13224</th>\n",
       "      <td>Ghostbusters (2016)</td>\n",
       "      <td>XOne</td>\n",
       "      <td>2016</td>\n",
       "      <td>Action</td>\n",
       "      <td>0.04</td>\n",
       "      <td>0.00</td>\n",
       "      <td>0.00</td>\n",
       "      <td>0.01</td>\n",
       "      <td>NaN</td>\n",
       "      <td>NaN</td>\n",
       "      <td>NaN</td>\n",
       "    </tr>\n",
       "    <tr>\n",
       "      <th>6085</th>\n",
       "      <td>Dragon Quest Heroes II: Twin Kings and the Pro...</td>\n",
       "      <td>PS4</td>\n",
       "      <td>2016</td>\n",
       "      <td>Action</td>\n",
       "      <td>0.00</td>\n",
       "      <td>0.00</td>\n",
       "      <td>0.28</td>\n",
       "      <td>0.00</td>\n",
       "      <td>NaN</td>\n",
       "      <td>NaN</td>\n",
       "      <td>NaN</td>\n",
       "    </tr>\n",
       "    <tr>\n",
       "      <th>...</th>\n",
       "      <td>...</td>\n",
       "      <td>...</td>\n",
       "      <td>...</td>\n",
       "      <td>...</td>\n",
       "      <td>...</td>\n",
       "      <td>...</td>\n",
       "      <td>...</td>\n",
       "      <td>...</td>\n",
       "      <td>...</td>\n",
       "      <td>...</td>\n",
       "      <td>...</td>\n",
       "    </tr>\n",
       "    <tr>\n",
       "      <th>6875</th>\n",
       "      <td>Checkers</td>\n",
       "      <td>2600</td>\n",
       "      <td>1980</td>\n",
       "      <td>Misc</td>\n",
       "      <td>0.22</td>\n",
       "      <td>0.01</td>\n",
       "      <td>0.00</td>\n",
       "      <td>0.00</td>\n",
       "      <td>NaN</td>\n",
       "      <td>NaN</td>\n",
       "      <td>NaN</td>\n",
       "    </tr>\n",
       "    <tr>\n",
       "      <th>4019</th>\n",
       "      <td>Ice Hockey</td>\n",
       "      <td>2600</td>\n",
       "      <td>1980</td>\n",
       "      <td>Sports</td>\n",
       "      <td>0.46</td>\n",
       "      <td>0.03</td>\n",
       "      <td>0.00</td>\n",
       "      <td>0.01</td>\n",
       "      <td>NaN</td>\n",
       "      <td>NaN</td>\n",
       "      <td>NaN</td>\n",
       "    </tr>\n",
       "    <tr>\n",
       "      <th>262</th>\n",
       "      <td>Asteroids</td>\n",
       "      <td>2600</td>\n",
       "      <td>1980</td>\n",
       "      <td>Shooter</td>\n",
       "      <td>4.00</td>\n",
       "      <td>0.26</td>\n",
       "      <td>0.00</td>\n",
       "      <td>0.05</td>\n",
       "      <td>NaN</td>\n",
       "      <td>NaN</td>\n",
       "      <td>NaN</td>\n",
       "    </tr>\n",
       "    <tr>\n",
       "      <th>546</th>\n",
       "      <td>Missile Command</td>\n",
       "      <td>2600</td>\n",
       "      <td>1980</td>\n",
       "      <td>Shooter</td>\n",
       "      <td>2.56</td>\n",
       "      <td>0.17</td>\n",
       "      <td>0.00</td>\n",
       "      <td>0.03</td>\n",
       "      <td>NaN</td>\n",
       "      <td>NaN</td>\n",
       "      <td>NaN</td>\n",
       "    </tr>\n",
       "    <tr>\n",
       "      <th>1968</th>\n",
       "      <td>Defender</td>\n",
       "      <td>2600</td>\n",
       "      <td>1980</td>\n",
       "      <td>Misc</td>\n",
       "      <td>0.99</td>\n",
       "      <td>0.05</td>\n",
       "      <td>0.00</td>\n",
       "      <td>0.01</td>\n",
       "      <td>NaN</td>\n",
       "      <td>NaN</td>\n",
       "      <td>NaN</td>\n",
       "    </tr>\n",
       "  </tbody>\n",
       "</table>\n",
       "<p>6676 rows × 11 columns</p>\n",
       "</div>"
      ],
      "text/plain": [
       "                                                    name platform  \\\n",
       "16714                                Winning Post 8 2016      PSV   \n",
       "5898              Dragon Quest Builders: Revive Alefgard      PSV   \n",
       "13232                                 Resident Evil 4 HD      PS4   \n",
       "13224                                Ghostbusters (2016)     XOne   \n",
       "6085   Dragon Quest Heroes II: Twin Kings and the Pro...      PS4   \n",
       "...                                                  ...      ...   \n",
       "6875                                            Checkers     2600   \n",
       "4019                                          Ice Hockey     2600   \n",
       "262                                            Asteroids     2600   \n",
       "546                                      Missile Command     2600   \n",
       "1968                                            Defender     2600   \n",
       "\n",
       "       year_of_release         genre  na_sales  eu_sales  jp_sales  \\\n",
       "16714             2016    Simulation      0.00      0.00      0.01   \n",
       "5898              2016  Role-Playing      0.00      0.00      0.30   \n",
       "13232             2016       Shooter      0.04      0.00      0.00   \n",
       "13224             2016        Action      0.04      0.00      0.00   \n",
       "6085              2016        Action      0.00      0.00      0.28   \n",
       "...                ...           ...       ...       ...       ...   \n",
       "6875              1980          Misc      0.22      0.01      0.00   \n",
       "4019              1980        Sports      0.46      0.03      0.00   \n",
       "262               1980       Shooter      4.00      0.26      0.00   \n",
       "546               1980       Shooter      2.56      0.17      0.00   \n",
       "1968              1980          Misc      0.99      0.05      0.00   \n",
       "\n",
       "       other_sales  critic_score user_score rating  \n",
       "16714         0.00           NaN        NaN    NaN  \n",
       "5898          0.00           NaN        NaN    NaN  \n",
       "13232         0.01           NaN        NaN    NaN  \n",
       "13224         0.01           NaN        NaN    NaN  \n",
       "6085          0.00           NaN        NaN    NaN  \n",
       "...            ...           ...        ...    ...  \n",
       "6875          0.00           NaN        NaN    NaN  \n",
       "4019          0.01           NaN        NaN    NaN  \n",
       "262           0.05           NaN        NaN    NaN  \n",
       "546           0.03           NaN        NaN    NaN  \n",
       "1968          0.01           NaN        NaN    NaN  \n",
       "\n",
       "[6676 rows x 11 columns]"
      ]
     },
     "execution_count": 7,
     "metadata": {},
     "output_type": "execute_result"
    }
   ],
   "source": [
    "data[data['rating'].isna()].sort_values(by ='year_of_release', ascending=False)"
   ]
  },
  {
   "cell_type": "markdown",
   "metadata": {},
   "source": [
    "**ESRB была основана в 1994 году. Получается, что рейтинг получили продукты, вышедшие после основания ESRB. Кроме этого деятельность ESRB официально ограничена Канадой, США и Мексикой. Игры, вышедшие в других регионах, не имеют оценки данной организации.**"
   ]
  },
  {
   "cell_type": "markdown",
   "metadata": {},
   "source": [
    "**Как видно, оценка пользователей не затронула более 6700 игр. Видно, что эти игры плохо продавались, скорее всего не рекламировались и внимание игроков прошло стороной эти игры. Отметим отсутствие рейтинга пользователей и критиков значением `-1`. Пропуски в столбце `rating` заполним значением `Unrated`.**"
   ]
  },
  {
   "cell_type": "code",
   "execution_count": 8,
   "metadata": {},
   "outputs": [],
   "source": [
    "data['user_score'] = data['user_score'].fillna((-1))\n",
    "data['critic_score'] = data['critic_score'].fillna((-1))\n",
    "data['rating'] = data['rating'].fillna('Unrated')"
   ]
  },
  {
   "cell_type": "markdown",
   "metadata": {},
   "source": [
    "**Посчитаем глобальные продажи и добавим значения в новый столбец.**"
   ]
  },
  {
   "cell_type": "code",
   "execution_count": 9,
   "metadata": {},
   "outputs": [
    {
     "data": {
      "text/html": [
       "<div>\n",
       "<style scoped>\n",
       "    .dataframe tbody tr th:only-of-type {\n",
       "        vertical-align: middle;\n",
       "    }\n",
       "\n",
       "    .dataframe tbody tr th {\n",
       "        vertical-align: top;\n",
       "    }\n",
       "\n",
       "    .dataframe thead th {\n",
       "        text-align: right;\n",
       "    }\n",
       "</style>\n",
       "<table border=\"1\" class=\"dataframe\">\n",
       "  <thead>\n",
       "    <tr style=\"text-align: right;\">\n",
       "      <th></th>\n",
       "      <th>name</th>\n",
       "      <th>platform</th>\n",
       "      <th>year_of_release</th>\n",
       "      <th>genre</th>\n",
       "      <th>na_sales</th>\n",
       "      <th>eu_sales</th>\n",
       "      <th>jp_sales</th>\n",
       "      <th>other_sales</th>\n",
       "      <th>critic_score</th>\n",
       "      <th>user_score</th>\n",
       "      <th>rating</th>\n",
       "      <th>total_sales</th>\n",
       "    </tr>\n",
       "  </thead>\n",
       "  <tbody>\n",
       "    <tr>\n",
       "      <th>0</th>\n",
       "      <td>Wii Sports</td>\n",
       "      <td>Wii</td>\n",
       "      <td>2006</td>\n",
       "      <td>Sports</td>\n",
       "      <td>41.36</td>\n",
       "      <td>28.96</td>\n",
       "      <td>3.77</td>\n",
       "      <td>8.45</td>\n",
       "      <td>76.0</td>\n",
       "      <td>8</td>\n",
       "      <td>E</td>\n",
       "      <td>82.54</td>\n",
       "    </tr>\n",
       "    <tr>\n",
       "      <th>1</th>\n",
       "      <td>Super Mario Bros.</td>\n",
       "      <td>NES</td>\n",
       "      <td>1985</td>\n",
       "      <td>Platform</td>\n",
       "      <td>29.08</td>\n",
       "      <td>3.58</td>\n",
       "      <td>6.81</td>\n",
       "      <td>0.77</td>\n",
       "      <td>-1.0</td>\n",
       "      <td>-1</td>\n",
       "      <td>Unrated</td>\n",
       "      <td>40.24</td>\n",
       "    </tr>\n",
       "    <tr>\n",
       "      <th>2</th>\n",
       "      <td>Mario Kart Wii</td>\n",
       "      <td>Wii</td>\n",
       "      <td>2008</td>\n",
       "      <td>Racing</td>\n",
       "      <td>15.68</td>\n",
       "      <td>12.76</td>\n",
       "      <td>3.79</td>\n",
       "      <td>3.29</td>\n",
       "      <td>82.0</td>\n",
       "      <td>8.3</td>\n",
       "      <td>E</td>\n",
       "      <td>35.52</td>\n",
       "    </tr>\n",
       "    <tr>\n",
       "      <th>3</th>\n",
       "      <td>Wii Sports Resort</td>\n",
       "      <td>Wii</td>\n",
       "      <td>2009</td>\n",
       "      <td>Sports</td>\n",
       "      <td>15.61</td>\n",
       "      <td>10.93</td>\n",
       "      <td>3.28</td>\n",
       "      <td>2.95</td>\n",
       "      <td>80.0</td>\n",
       "      <td>8</td>\n",
       "      <td>E</td>\n",
       "      <td>32.77</td>\n",
       "    </tr>\n",
       "    <tr>\n",
       "      <th>4</th>\n",
       "      <td>Pokemon Red/Pokemon Blue</td>\n",
       "      <td>GB</td>\n",
       "      <td>1996</td>\n",
       "      <td>Role-Playing</td>\n",
       "      <td>11.27</td>\n",
       "      <td>8.89</td>\n",
       "      <td>10.22</td>\n",
       "      <td>1.00</td>\n",
       "      <td>-1.0</td>\n",
       "      <td>-1</td>\n",
       "      <td>Unrated</td>\n",
       "      <td>31.38</td>\n",
       "    </tr>\n",
       "  </tbody>\n",
       "</table>\n",
       "</div>"
      ],
      "text/plain": [
       "                       name platform  year_of_release         genre  na_sales  \\\n",
       "0                Wii Sports      Wii             2006        Sports     41.36   \n",
       "1         Super Mario Bros.      NES             1985      Platform     29.08   \n",
       "2            Mario Kart Wii      Wii             2008        Racing     15.68   \n",
       "3         Wii Sports Resort      Wii             2009        Sports     15.61   \n",
       "4  Pokemon Red/Pokemon Blue       GB             1996  Role-Playing     11.27   \n",
       "\n",
       "   eu_sales  jp_sales  other_sales  critic_score user_score   rating  \\\n",
       "0     28.96      3.77         8.45          76.0          8        E   \n",
       "1      3.58      6.81         0.77          -1.0         -1  Unrated   \n",
       "2     12.76      3.79         3.29          82.0        8.3        E   \n",
       "3     10.93      3.28         2.95          80.0          8        E   \n",
       "4      8.89     10.22         1.00          -1.0         -1  Unrated   \n",
       "\n",
       "   total_sales  \n",
       "0        82.54  \n",
       "1        40.24  \n",
       "2        35.52  \n",
       "3        32.77  \n",
       "4        31.38  "
      ]
     },
     "execution_count": 9,
     "metadata": {},
     "output_type": "execute_result"
    }
   ],
   "source": [
    "data['total_sales'] = data['na_sales'] + data['eu_sales'] + data['jp_sales'] + data['other_sales']\n",
    "data.head()"
   ]
  },
  {
   "cell_type": "code",
   "execution_count": 10,
   "metadata": {},
   "outputs": [
    {
     "data": {
      "text/plain": [
       "-1     6605\n",
       "tbd    2376\n",
       "7.8     322\n",
       "8       285\n",
       "8.2     276\n",
       "       ... \n",
       "0.9       2\n",
       "1.3       2\n",
       "1.5       2\n",
       "0         1\n",
       "9.7       1\n",
       "Name: user_score, Length: 97, dtype: int64"
      ]
     },
     "execution_count": 10,
     "metadata": {},
     "output_type": "execute_result"
    }
   ],
   "source": [
    "data['user_score'].value_counts()"
   ]
  },
  {
   "cell_type": "markdown",
   "metadata": {},
   "source": [
    "**Стоит отметить, что 2376 игр имеют оценку tbd. Рейтинг Tbd игр — это оценка, которую дают играм, когда у них нет достаточного количества отзывов или оценок для определения конкретного рейтинга. Термин «Tbd» расшифровывается как «To Be Determined» и означает, что окончательный рейтинг игры будет определен позднее.**"
   ]
  },
  {
   "cell_type": "code",
   "execution_count": 11,
   "metadata": {},
   "outputs": [
    {
     "data": {
      "text/html": [
       "<div>\n",
       "<style scoped>\n",
       "    .dataframe tbody tr th:only-of-type {\n",
       "        vertical-align: middle;\n",
       "    }\n",
       "\n",
       "    .dataframe tbody tr th {\n",
       "        vertical-align: top;\n",
       "    }\n",
       "\n",
       "    .dataframe thead th {\n",
       "        text-align: right;\n",
       "    }\n",
       "</style>\n",
       "<table border=\"1\" class=\"dataframe\">\n",
       "  <thead>\n",
       "    <tr style=\"text-align: right;\">\n",
       "      <th></th>\n",
       "      <th>name</th>\n",
       "      <th>platform</th>\n",
       "      <th>year_of_release</th>\n",
       "      <th>genre</th>\n",
       "      <th>na_sales</th>\n",
       "      <th>eu_sales</th>\n",
       "      <th>jp_sales</th>\n",
       "      <th>other_sales</th>\n",
       "      <th>critic_score</th>\n",
       "      <th>user_score</th>\n",
       "      <th>rating</th>\n",
       "      <th>total_sales</th>\n",
       "    </tr>\n",
       "  </thead>\n",
       "  <tbody>\n",
       "    <tr>\n",
       "      <th>119</th>\n",
       "      <td>Zumba Fitness</td>\n",
       "      <td>Wii</td>\n",
       "      <td>2010</td>\n",
       "      <td>Sports</td>\n",
       "      <td>3.45</td>\n",
       "      <td>2.59</td>\n",
       "      <td>0.0</td>\n",
       "      <td>0.66</td>\n",
       "      <td>-1.0</td>\n",
       "      <td>tbd</td>\n",
       "      <td>E</td>\n",
       "      <td>6.70</td>\n",
       "    </tr>\n",
       "    <tr>\n",
       "      <th>301</th>\n",
       "      <td>Namco Museum: 50th Anniversary</td>\n",
       "      <td>PS2</td>\n",
       "      <td>2005</td>\n",
       "      <td>Misc</td>\n",
       "      <td>2.08</td>\n",
       "      <td>1.35</td>\n",
       "      <td>0.0</td>\n",
       "      <td>0.54</td>\n",
       "      <td>61.0</td>\n",
       "      <td>tbd</td>\n",
       "      <td>E10+</td>\n",
       "      <td>3.97</td>\n",
       "    </tr>\n",
       "    <tr>\n",
       "      <th>520</th>\n",
       "      <td>Zumba Fitness 2</td>\n",
       "      <td>Wii</td>\n",
       "      <td>2011</td>\n",
       "      <td>Sports</td>\n",
       "      <td>1.51</td>\n",
       "      <td>1.03</td>\n",
       "      <td>0.0</td>\n",
       "      <td>0.27</td>\n",
       "      <td>-1.0</td>\n",
       "      <td>tbd</td>\n",
       "      <td>T</td>\n",
       "      <td>2.81</td>\n",
       "    </tr>\n",
       "    <tr>\n",
       "      <th>645</th>\n",
       "      <td>uDraw Studio</td>\n",
       "      <td>Wii</td>\n",
       "      <td>2010</td>\n",
       "      <td>Misc</td>\n",
       "      <td>1.65</td>\n",
       "      <td>0.57</td>\n",
       "      <td>0.0</td>\n",
       "      <td>0.20</td>\n",
       "      <td>71.0</td>\n",
       "      <td>tbd</td>\n",
       "      <td>E</td>\n",
       "      <td>2.42</td>\n",
       "    </tr>\n",
       "    <tr>\n",
       "      <th>718</th>\n",
       "      <td>Just Dance Kids</td>\n",
       "      <td>Wii</td>\n",
       "      <td>2010</td>\n",
       "      <td>Misc</td>\n",
       "      <td>1.52</td>\n",
       "      <td>0.54</td>\n",
       "      <td>0.0</td>\n",
       "      <td>0.18</td>\n",
       "      <td>-1.0</td>\n",
       "      <td>tbd</td>\n",
       "      <td>E</td>\n",
       "      <td>2.24</td>\n",
       "    </tr>\n",
       "    <tr>\n",
       "      <th>...</th>\n",
       "      <td>...</td>\n",
       "      <td>...</td>\n",
       "      <td>...</td>\n",
       "      <td>...</td>\n",
       "      <td>...</td>\n",
       "      <td>...</td>\n",
       "      <td>...</td>\n",
       "      <td>...</td>\n",
       "      <td>...</td>\n",
       "      <td>...</td>\n",
       "      <td>...</td>\n",
       "      <td>...</td>\n",
       "    </tr>\n",
       "    <tr>\n",
       "      <th>15983</th>\n",
       "      <td>Mission: Impossible - Operation Surma</td>\n",
       "      <td>GC</td>\n",
       "      <td>2004</td>\n",
       "      <td>Platform</td>\n",
       "      <td>0.01</td>\n",
       "      <td>0.00</td>\n",
       "      <td>0.0</td>\n",
       "      <td>0.00</td>\n",
       "      <td>64.0</td>\n",
       "      <td>tbd</td>\n",
       "      <td>T</td>\n",
       "      <td>0.01</td>\n",
       "    </tr>\n",
       "    <tr>\n",
       "      <th>15979</th>\n",
       "      <td>Monster Trux Offroad</td>\n",
       "      <td>Wii</td>\n",
       "      <td>2007</td>\n",
       "      <td>Racing</td>\n",
       "      <td>0.01</td>\n",
       "      <td>0.00</td>\n",
       "      <td>0.0</td>\n",
       "      <td>0.00</td>\n",
       "      <td>-1.0</td>\n",
       "      <td>tbd</td>\n",
       "      <td>E</td>\n",
       "      <td>0.01</td>\n",
       "    </tr>\n",
       "    <tr>\n",
       "      <th>15975</th>\n",
       "      <td>Paranormal Pursuit: The Gifted One</td>\n",
       "      <td>PC</td>\n",
       "      <td>2015</td>\n",
       "      <td>Action</td>\n",
       "      <td>0.00</td>\n",
       "      <td>0.01</td>\n",
       "      <td>0.0</td>\n",
       "      <td>0.00</td>\n",
       "      <td>-1.0</td>\n",
       "      <td>tbd</td>\n",
       "      <td>Unrated</td>\n",
       "      <td>0.01</td>\n",
       "    </tr>\n",
       "    <tr>\n",
       "      <th>15963</th>\n",
       "      <td>Dead to Rights</td>\n",
       "      <td>GBA</td>\n",
       "      <td>2004</td>\n",
       "      <td>Shooter</td>\n",
       "      <td>0.01</td>\n",
       "      <td>0.00</td>\n",
       "      <td>0.0</td>\n",
       "      <td>0.00</td>\n",
       "      <td>40.0</td>\n",
       "      <td>tbd</td>\n",
       "      <td>T</td>\n",
       "      <td>0.01</td>\n",
       "    </tr>\n",
       "    <tr>\n",
       "      <th>16706</th>\n",
       "      <td>Men in Black II: Alien Escape</td>\n",
       "      <td>GC</td>\n",
       "      <td>2003</td>\n",
       "      <td>Shooter</td>\n",
       "      <td>0.01</td>\n",
       "      <td>0.00</td>\n",
       "      <td>0.0</td>\n",
       "      <td>0.00</td>\n",
       "      <td>-1.0</td>\n",
       "      <td>tbd</td>\n",
       "      <td>T</td>\n",
       "      <td>0.01</td>\n",
       "    </tr>\n",
       "  </tbody>\n",
       "</table>\n",
       "<p>2376 rows × 12 columns</p>\n",
       "</div>"
      ],
      "text/plain": [
       "                                        name platform  year_of_release  \\\n",
       "119                            Zumba Fitness      Wii             2010   \n",
       "301           Namco Museum: 50th Anniversary      PS2             2005   \n",
       "520                          Zumba Fitness 2      Wii             2011   \n",
       "645                             uDraw Studio      Wii             2010   \n",
       "718                          Just Dance Kids      Wii             2010   \n",
       "...                                      ...      ...              ...   \n",
       "15983  Mission: Impossible - Operation Surma       GC             2004   \n",
       "15979                   Monster Trux Offroad      Wii             2007   \n",
       "15975     Paranormal Pursuit: The Gifted One       PC             2015   \n",
       "15963                         Dead to Rights      GBA             2004   \n",
       "16706          Men in Black II: Alien Escape       GC             2003   \n",
       "\n",
       "          genre  na_sales  eu_sales  jp_sales  other_sales  critic_score  \\\n",
       "119      Sports      3.45      2.59       0.0         0.66          -1.0   \n",
       "301        Misc      2.08      1.35       0.0         0.54          61.0   \n",
       "520      Sports      1.51      1.03       0.0         0.27          -1.0   \n",
       "645        Misc      1.65      0.57       0.0         0.20          71.0   \n",
       "718        Misc      1.52      0.54       0.0         0.18          -1.0   \n",
       "...         ...       ...       ...       ...          ...           ...   \n",
       "15983  Platform      0.01      0.00       0.0         0.00          64.0   \n",
       "15979    Racing      0.01      0.00       0.0         0.00          -1.0   \n",
       "15975    Action      0.00      0.01       0.0         0.00          -1.0   \n",
       "15963   Shooter      0.01      0.00       0.0         0.00          40.0   \n",
       "16706   Shooter      0.01      0.00       0.0         0.00          -1.0   \n",
       "\n",
       "      user_score   rating  total_sales  \n",
       "119          tbd        E         6.70  \n",
       "301          tbd     E10+         3.97  \n",
       "520          tbd        T         2.81  \n",
       "645          tbd        E         2.42  \n",
       "718          tbd        E         2.24  \n",
       "...          ...      ...          ...  \n",
       "15983        tbd        T         0.01  \n",
       "15979        tbd        E         0.01  \n",
       "15975        tbd  Unrated         0.01  \n",
       "15963        tbd        T         0.01  \n",
       "16706        tbd        T         0.01  \n",
       "\n",
       "[2376 rows x 12 columns]"
      ]
     },
     "execution_count": 11,
     "metadata": {},
     "output_type": "execute_result"
    }
   ],
   "source": [
    "data[data['user_score'] == 'tbd'].sort_values(by ='total_sales', ascending=False)"
   ]
  },
  {
   "cell_type": "markdown",
   "metadata": {},
   "source": [
    "**Снова непопулярные игры, достаточного количества отзавов пользователей они врят ли уже наберут. Будем считать, что пользователи не стали их оценивать и рейтинг так и остался равен нулю. Заменим значения `tbd` на `-1`.**"
   ]
  },
  {
   "cell_type": "code",
   "execution_count": 12,
   "metadata": {},
   "outputs": [
    {
     "name": "stdout",
     "output_type": "stream",
     "text": [
      "<class 'pandas.core.frame.DataFrame'>\n",
      "Int64Index: 16444 entries, 0 to 16714\n",
      "Data columns (total 12 columns):\n",
      " #   Column           Non-Null Count  Dtype  \n",
      "---  ------           --------------  -----  \n",
      " 0   name             16444 non-null  object \n",
      " 1   platform         16444 non-null  object \n",
      " 2   year_of_release  16444 non-null  Int64  \n",
      " 3   genre            16444 non-null  object \n",
      " 4   na_sales         16444 non-null  float64\n",
      " 5   eu_sales         16444 non-null  float64\n",
      " 6   jp_sales         16444 non-null  float64\n",
      " 7   other_sales      16444 non-null  float64\n",
      " 8   critic_score     16444 non-null  float64\n",
      " 9   user_score       16444 non-null  float64\n",
      " 10  rating           16444 non-null  object \n",
      " 11  total_sales      16444 non-null  float64\n",
      "dtypes: Int64(1), float64(7), object(4)\n",
      "memory usage: 1.6+ MB\n"
     ]
    }
   ],
   "source": [
    "data['user_score'] = data['user_score'].where(data['user_score'] != 'tbd', (-1))\n",
    "data['user_score'].value_counts()\n",
    "data['user_score'] = data['user_score'].astype('float64')\n",
    "data.info()"
   ]
  },
  {
   "cell_type": "code",
   "execution_count": 13,
   "metadata": {},
   "outputs": [
    {
     "data": {
      "text/plain": [
       "0"
      ]
     },
     "execution_count": 13,
     "metadata": {},
     "output_type": "execute_result"
    }
   ],
   "source": [
    "data.duplicated().sum()"
   ]
  },
  {
   "cell_type": "markdown",
   "metadata": {},
   "source": [
    "**Явных дубликатов нет. Сделаем проверку на наличие неявных дубликатов.**"
   ]
  },
  {
   "cell_type": "code",
   "execution_count": 14,
   "metadata": {},
   "outputs": [
    {
     "data": {
      "text/html": [
       "<div>\n",
       "<style scoped>\n",
       "    .dataframe tbody tr th:only-of-type {\n",
       "        vertical-align: middle;\n",
       "    }\n",
       "\n",
       "    .dataframe tbody tr th {\n",
       "        vertical-align: top;\n",
       "    }\n",
       "\n",
       "    .dataframe thead th {\n",
       "        text-align: right;\n",
       "    }\n",
       "</style>\n",
       "<table border=\"1\" class=\"dataframe\">\n",
       "  <thead>\n",
       "    <tr style=\"text-align: right;\">\n",
       "      <th></th>\n",
       "      <th>name</th>\n",
       "      <th>platform</th>\n",
       "      <th>year_of_release</th>\n",
       "      <th>genre</th>\n",
       "      <th>na_sales</th>\n",
       "      <th>eu_sales</th>\n",
       "      <th>jp_sales</th>\n",
       "      <th>other_sales</th>\n",
       "      <th>critic_score</th>\n",
       "      <th>user_score</th>\n",
       "      <th>rating</th>\n",
       "      <th>total_sales</th>\n",
       "    </tr>\n",
       "  </thead>\n",
       "  <tbody>\n",
       "    <tr>\n",
       "      <th>16230</th>\n",
       "      <td>Madden NFL 13</td>\n",
       "      <td>PS3</td>\n",
       "      <td>2012</td>\n",
       "      <td>Sports</td>\n",
       "      <td>0.0</td>\n",
       "      <td>0.01</td>\n",
       "      <td>0.0</td>\n",
       "      <td>0.0</td>\n",
       "      <td>83.0</td>\n",
       "      <td>5.5</td>\n",
       "      <td>E</td>\n",
       "      <td>0.01</td>\n",
       "    </tr>\n",
       "  </tbody>\n",
       "</table>\n",
       "</div>"
      ],
      "text/plain": [
       "                name platform  year_of_release   genre  na_sales  eu_sales  \\\n",
       "16230  Madden NFL 13      PS3             2012  Sports       0.0      0.01   \n",
       "\n",
       "       jp_sales  other_sales  critic_score  user_score rating  total_sales  \n",
       "16230       0.0          0.0          83.0         5.5      E         0.01  "
      ]
     },
     "execution_count": 14,
     "metadata": {},
     "output_type": "execute_result"
    }
   ],
   "source": [
    "data[data.duplicated(['name', 'platform', 'year_of_release'])]"
   ]
  },
  {
   "cell_type": "code",
   "execution_count": 15,
   "metadata": {},
   "outputs": [
    {
     "data": {
      "text/html": [
       "<div>\n",
       "<style scoped>\n",
       "    .dataframe tbody tr th:only-of-type {\n",
       "        vertical-align: middle;\n",
       "    }\n",
       "\n",
       "    .dataframe tbody tr th {\n",
       "        vertical-align: top;\n",
       "    }\n",
       "\n",
       "    .dataframe thead th {\n",
       "        text-align: right;\n",
       "    }\n",
       "</style>\n",
       "<table border=\"1\" class=\"dataframe\">\n",
       "  <thead>\n",
       "    <tr style=\"text-align: right;\">\n",
       "      <th></th>\n",
       "      <th>name</th>\n",
       "      <th>platform</th>\n",
       "      <th>year_of_release</th>\n",
       "      <th>genre</th>\n",
       "      <th>na_sales</th>\n",
       "      <th>eu_sales</th>\n",
       "      <th>jp_sales</th>\n",
       "      <th>other_sales</th>\n",
       "      <th>critic_score</th>\n",
       "      <th>user_score</th>\n",
       "      <th>rating</th>\n",
       "      <th>total_sales</th>\n",
       "    </tr>\n",
       "  </thead>\n",
       "  <tbody>\n",
       "  </tbody>\n",
       "</table>\n",
       "</div>"
      ],
      "text/plain": [
       "Empty DataFrame\n",
       "Columns: [name, platform, year_of_release, genre, na_sales, eu_sales, jp_sales, other_sales, critic_score, user_score, rating, total_sales]\n",
       "Index: []"
      ]
     },
     "execution_count": 15,
     "metadata": {},
     "output_type": "execute_result"
    }
   ],
   "source": [
    "data = data.drop(index = 16230)\n",
    "data[data.duplicated(['name', 'platform', 'year_of_release'])]"
   ]
  },
  {
   "cell_type": "markdown",
   "metadata": {},
   "source": [
    "**Проведена предобработка данных: были привести названия столбцов к нижнеу регистру, убраны пропуски в столбцах `Critic_Score`, `User_Score`, `Rating`при помощи \"заглушек\", изменены типы значений в столбцах `Year_of_Release` и `User_Score`, проверен датасет на наличие дубликатов. Явных дубликатов не обнаружено, но нашелся 1 неявный дубликат, мы от него избавились. Таблица готова к проведению исследовательского анализа.**"
   ]
  },
  {
   "cell_type": "markdown",
   "metadata": {},
   "source": [
    "## Шаг 3. Проведем исследовательский анализ данных."
   ]
  },
  {
   "cell_type": "code",
   "execution_count": 16,
   "metadata": {},
   "outputs": [
    {
     "data": {
      "text/plain": [
       "Text(0.5, 1.0, 'Количество игр, выпускаемых каждый год')"
      ]
     },
     "execution_count": 16,
     "metadata": {},
     "output_type": "execute_result"
    },
    {
     "data": {
      "image/png": "[encoded data removed]",
      "text/plain": [
       "<Figure size 1152x576 with 1 Axes>"
      ]
     },
     "metadata": {
      "needs_background": "light"
     },
     "output_type": "display_data"
    }
   ],
   "source": [
    "game_each_year =(\n",
    "    data\n",
    "    .pivot_table(index='year_of_release', \n",
    "                 values='name', \n",
    "                 aggfunc='count')\n",
    "    .reset_index()\n",
    "    .plot(x='year_of_release', y='name', kind='bar', grid=True, figsize=(16,8), legend=False)\n",
    ")\n",
    "plt.ylabel('Количество выпущенных игр')\n",
    "plt.xlabel('Год релиза игры')\n",
    "plt.title('Количество игр, выпускаемых каждый год')"
   ]
  },
  {
   "cell_type": "markdown",
   "metadata": {},
   "source": [
    "**Определим продолжительность жизни платформ.**"
   ]
  },
  {
   "cell_type": "code",
   "execution_count": 17,
   "metadata": {},
   "outputs": [
    {
     "name": "stdout",
     "output_type": "stream",
     "text": [
      "  platform  total_sales  year_of_release\n",
      "0      PS2      1233.56               12\n",
      "1     X360       961.24               12\n",
      "2      PS3       931.33               11\n",
      "3      Wii       891.18               11\n",
      "4       DS       802.78               11\n",
      "5       PS       727.58               10\n",
      "6      PS4       314.14                4\n",
      "7      GBA       312.88                8\n",
      "8      PSP       289.53               12\n",
      "9      3DS       257.81                6\n",
      "Средняя продолжительность жизни у топ-10 самых прибыльных платформ за весь период: 9.7\n"
     ]
    },
    {
     "data": {
      "image/png": "[encoded data removed]",
      "text/plain": [
       "<Figure size 720x360 with 1 Axes>"
      ]
     },
     "metadata": {
      "needs_background": "light"
     },
     "output_type": "display_data"
    }
   ],
   "source": [
    "duration_pl =(\n",
    "    data\n",
    "    .pivot_table(index=['platform', 'year_of_release'], \n",
    "                 values=['total_sales'], \n",
    "                 aggfunc={'total_sales':'sum'})\n",
    "    .reset_index()\n",
    "    .sort_values(by='total_sales', ascending=False)\n",
    "    .pivot_table(index='platform', values=['year_of_release', 'total_sales'], aggfunc={'year_of_release':'count', 'total_sales':'sum'})\n",
    "    .sort_values(by='total_sales', ascending=False).head(10)\n",
    "    .reset_index() \n",
    ")\n",
    "plt.figure(figsize=(10,5))\n",
    "plt.bar(duration_pl['platform'], duration_pl['year_of_release'])\n",
    "plt.ylabel('Актуальность платформы, лет')\n",
    "plt.xlabel('Платформа')\n",
    "plt.title('График актуальности платформ')\n",
    "plt.grid()\n",
    "print(duration_pl)\n",
    "print('Средняя продолжительность жизни у топ-10 самых прибыльных платформ за весь период:', duration_pl['year_of_release'].mean())"
   ]
  },
  {
   "cell_type": "code",
   "execution_count": 18,
   "metadata": {
    "scrolled": false
   },
   "outputs": [
    {
     "data": {
      "image/png": "[encoded data removed]",
      "text/plain": [
       "<Figure size 432x288 with 1 Axes>"
      ]
     },
     "metadata": {
      "needs_background": "light"
     },
     "output_type": "display_data"
    },
    {
     "data": {
      "image/png": "[encoded data removed]",
      "text/plain": [
       "<Figure size 432x288 with 1 Axes>"
      ]
     },
     "metadata": {
      "needs_background": "light"
     },
     "output_type": "display_data"
    },
    {
     "data": {
      "image/png": "[encoded data removed]",
      "text/plain": [
       "<Figure size 432x288 with 1 Axes>"
      ]
     },
     "metadata": {
      "needs_background": "light"
     },
     "output_type": "display_data"
    },
    {
     "data": {
      "image/png": "[encoded data removed]",
      "text/plain": [
       "<Figure size 432x288 with 1 Axes>"
      ]
     },
     "metadata": {
      "needs_background": "light"
     },
     "output_type": "display_data"
    },
    {
     "data": {
      "image/png": "[encoded data removed]",
      "text/plain": [
       "<Figure size 432x288 with 1 Axes>"
      ]
     },
     "metadata": {
      "needs_background": "light"
     },
     "output_type": "display_data"
    },
    {
     "data": {
      "image/png": "[encoded data removed]",
      "text/plain": [
       "<Figure size 432x288 with 1 Axes>"
      ]
     },
     "metadata": {
      "needs_background": "light"
     },
     "output_type": "display_data"
    },
    {
     "data": {
      "image/png": "[encoded data removed]",
      "text/plain": [
       "<Figure size 432x288 with 1 Axes>"
      ]
     },
     "metadata": {
      "needs_background": "light"
     },
     "output_type": "display_data"
    },
    {
     "data": {
      "image/png": "[encoded data removed]",
      "text/plain": [
       "<Figure size 432x288 with 1 Axes>"
      ]
     },
     "metadata": {
      "needs_background": "light"
     },
     "output_type": "display_data"
    },
    {
     "data": {
      "image/png": "[encoded data removed]",
      "text/plain": [
       "<Figure size 432x288 with 1 Axes>"
      ]
     },
     "metadata": {
      "needs_background": "light"
     },
     "output_type": "display_data"
    },
    {
     "data": {
      "image/png": "[encoded data removed]",
      "text/plain": [
       "<Figure size 432x288 with 1 Axes>"
      ]
     },
     "metadata": {
      "needs_background": "light"
     },
     "output_type": "display_data"
    }
   ],
   "source": [
    "for i in list(duration_pl['platform']):    \n",
    "    (\n",
    "        data[data['platform'] == i]\n",
    "        .pivot_table(index='year_of_release', values='total_sales', aggfunc='sum')\n",
    "        .reset_index() \n",
    "        .sort_values(by='year_of_release')\n",
    "        .plot(x='year_of_release', y='total_sales', kind='bar', grid=True, legend=False)\n",
    "    )\n",
    "    plt.xlabel('Годы')\n",
    "    plt.ylabel('Продажи, млн. копий')\n",
    "    plt.title(i)"
   ]
  },
  {
   "cell_type": "markdown",
   "metadata": {},
   "source": [
    "**Построенные графики показывают, что начиная с 2000 года начинается резкий рост производства игр, вплоть до 2008, затем после 2009 идет такой же спад. Актуальный период для исследования возьмем более спокойный - с 2012 года. Что касается платформ, стоит отметить, что средний период актуальности платформы составляет, примерно, 10 лет.**"
   ]
  },
  {
   "cell_type": "markdown",
   "metadata": {},
   "source": [
    "**Таблица с актуальными данными.**"
   ]
  },
  {
   "cell_type": "code",
   "execution_count": 19,
   "metadata": {},
   "outputs": [
    {
     "name": "stdout",
     "output_type": "stream",
     "text": [
      "<class 'pandas.core.frame.DataFrame'>\n",
      "Int64Index: 2885 entries, 16 to 16714\n",
      "Data columns (total 12 columns):\n",
      " #   Column           Non-Null Count  Dtype  \n",
      "---  ------           --------------  -----  \n",
      " 0   name             2885 non-null   object \n",
      " 1   platform         2885 non-null   object \n",
      " 2   year_of_release  2885 non-null   Int64  \n",
      " 3   genre            2885 non-null   object \n",
      " 4   na_sales         2885 non-null   float64\n",
      " 5   eu_sales         2885 non-null   float64\n",
      " 6   jp_sales         2885 non-null   float64\n",
      " 7   other_sales      2885 non-null   float64\n",
      " 8   critic_score     2885 non-null   float64\n",
      " 9   user_score       2885 non-null   float64\n",
      " 10  rating           2885 non-null   object \n",
      " 11  total_sales      2885 non-null   float64\n",
      "dtypes: Int64(1), float64(7), object(4)\n",
      "memory usage: 295.8+ KB\n"
     ]
    },
    {
     "data": {
      "text/html": [
       "<div>\n",
       "<style scoped>\n",
       "    .dataframe tbody tr th:only-of-type {\n",
       "        vertical-align: middle;\n",
       "    }\n",
       "\n",
       "    .dataframe tbody tr th {\n",
       "        vertical-align: top;\n",
       "    }\n",
       "\n",
       "    .dataframe thead th {\n",
       "        text-align: right;\n",
       "    }\n",
       "</style>\n",
       "<table border=\"1\" class=\"dataframe\">\n",
       "  <thead>\n",
       "    <tr style=\"text-align: right;\">\n",
       "      <th></th>\n",
       "      <th>name</th>\n",
       "      <th>platform</th>\n",
       "      <th>year_of_release</th>\n",
       "      <th>genre</th>\n",
       "      <th>na_sales</th>\n",
       "      <th>eu_sales</th>\n",
       "      <th>jp_sales</th>\n",
       "      <th>other_sales</th>\n",
       "      <th>critic_score</th>\n",
       "      <th>user_score</th>\n",
       "      <th>rating</th>\n",
       "      <th>total_sales</th>\n",
       "    </tr>\n",
       "  </thead>\n",
       "  <tbody>\n",
       "    <tr>\n",
       "      <th>16</th>\n",
       "      <td>Grand Theft Auto V</td>\n",
       "      <td>PS3</td>\n",
       "      <td>2013</td>\n",
       "      <td>Action</td>\n",
       "      <td>7.02</td>\n",
       "      <td>9.09</td>\n",
       "      <td>0.98</td>\n",
       "      <td>3.96</td>\n",
       "      <td>97.0</td>\n",
       "      <td>8.2</td>\n",
       "      <td>M</td>\n",
       "      <td>21.05</td>\n",
       "    </tr>\n",
       "    <tr>\n",
       "      <th>23</th>\n",
       "      <td>Grand Theft Auto V</td>\n",
       "      <td>X360</td>\n",
       "      <td>2013</td>\n",
       "      <td>Action</td>\n",
       "      <td>9.66</td>\n",
       "      <td>5.14</td>\n",
       "      <td>0.06</td>\n",
       "      <td>1.41</td>\n",
       "      <td>97.0</td>\n",
       "      <td>8.1</td>\n",
       "      <td>M</td>\n",
       "      <td>16.27</td>\n",
       "    </tr>\n",
       "    <tr>\n",
       "      <th>31</th>\n",
       "      <td>Call of Duty: Black Ops 3</td>\n",
       "      <td>PS4</td>\n",
       "      <td>2015</td>\n",
       "      <td>Shooter</td>\n",
       "      <td>6.03</td>\n",
       "      <td>5.86</td>\n",
       "      <td>0.36</td>\n",
       "      <td>2.38</td>\n",
       "      <td>-1.0</td>\n",
       "      <td>-1.0</td>\n",
       "      <td>Unrated</td>\n",
       "      <td>14.63</td>\n",
       "    </tr>\n",
       "    <tr>\n",
       "      <th>33</th>\n",
       "      <td>Pokemon X/Pokemon Y</td>\n",
       "      <td>3DS</td>\n",
       "      <td>2013</td>\n",
       "      <td>Role-Playing</td>\n",
       "      <td>5.28</td>\n",
       "      <td>4.19</td>\n",
       "      <td>4.35</td>\n",
       "      <td>0.78</td>\n",
       "      <td>-1.0</td>\n",
       "      <td>-1.0</td>\n",
       "      <td>Unrated</td>\n",
       "      <td>14.60</td>\n",
       "    </tr>\n",
       "    <tr>\n",
       "      <th>34</th>\n",
       "      <td>Call of Duty: Black Ops II</td>\n",
       "      <td>PS3</td>\n",
       "      <td>2012</td>\n",
       "      <td>Shooter</td>\n",
       "      <td>4.99</td>\n",
       "      <td>5.73</td>\n",
       "      <td>0.65</td>\n",
       "      <td>2.42</td>\n",
       "      <td>83.0</td>\n",
       "      <td>5.3</td>\n",
       "      <td>M</td>\n",
       "      <td>13.79</td>\n",
       "    </tr>\n",
       "  </tbody>\n",
       "</table>\n",
       "</div>"
      ],
      "text/plain": [
       "                          name platform  year_of_release         genre  \\\n",
       "16          Grand Theft Auto V      PS3             2013        Action   \n",
       "23          Grand Theft Auto V     X360             2013        Action   \n",
       "31   Call of Duty: Black Ops 3      PS4             2015       Shooter   \n",
       "33         Pokemon X/Pokemon Y      3DS             2013  Role-Playing   \n",
       "34  Call of Duty: Black Ops II      PS3             2012       Shooter   \n",
       "\n",
       "    na_sales  eu_sales  jp_sales  other_sales  critic_score  user_score  \\\n",
       "16      7.02      9.09      0.98         3.96          97.0         8.2   \n",
       "23      9.66      5.14      0.06         1.41          97.0         8.1   \n",
       "31      6.03      5.86      0.36         2.38          -1.0        -1.0   \n",
       "33      5.28      4.19      4.35         0.78          -1.0        -1.0   \n",
       "34      4.99      5.73      0.65         2.42          83.0         5.3   \n",
       "\n",
       "     rating  total_sales  \n",
       "16        M        21.05  \n",
       "23        M        16.27  \n",
       "31  Unrated        14.63  \n",
       "33  Unrated        14.60  \n",
       "34        M        13.79  "
      ]
     },
     "execution_count": 19,
     "metadata": {},
     "output_type": "execute_result"
    }
   ],
   "source": [
    "current_data = data[data['year_of_release'] >= 2012]\n",
    "current_data.info()\n",
    "current_data.head()"
   ]
  },
  {
   "cell_type": "markdown",
   "metadata": {},
   "source": [
    "**Определим топ-5 прибыльных платформ.**"
   ]
  },
  {
   "cell_type": "code",
   "execution_count": 20,
   "metadata": {},
   "outputs": [
    {
     "data": {
      "text/plain": [
       "Text(0.5, 1.0, 'Лучшие платформы по продажам')"
      ]
     },
     "execution_count": 20,
     "metadata": {},
     "output_type": "execute_result"
    },
    {
     "data": {
      "image/png": "[encoded data removed]",
      "text/plain": [
       "<Figure size 432x288 with 1 Axes>"
      ]
     },
     "metadata": {
      "needs_background": "light"
     },
     "output_type": "display_data"
    }
   ],
   "source": [
    "top_5_platforms =(\n",
    "    current_data\n",
    "    .pivot_table(index='platform', \n",
    "                 values='total_sales', \n",
    "                 aggfunc='sum')       \n",
    "    .sort_values(by='total_sales', ascending=False).head() \n",
    "    .reset_index() \n",
    ")\n",
    "plt.bar(top_5_platforms['platform'], top_5_platforms['total_sales'])\n",
    "plt.xlabel('Платформа')\n",
    "plt.ylabel('Продажи')\n",
    "plt.title('Лучшие платформы по продажам')"
   ]
  },
  {
   "cell_type": "markdown",
   "metadata": {},
   "source": [
    "**С 2012 года самыми популярными платформами среди пользователей были PS4, РS3, X360, 3DS и XOne.**"
   ]
  },
  {
   "cell_type": "code",
   "execution_count": 21,
   "metadata": {},
   "outputs": [
    {
     "data": {
      "text/html": [
       "<div>\n",
       "<style scoped>\n",
       "    .dataframe tbody tr th:only-of-type {\n",
       "        vertical-align: middle;\n",
       "    }\n",
       "\n",
       "    .dataframe tbody tr th {\n",
       "        vertical-align: top;\n",
       "    }\n",
       "\n",
       "    .dataframe thead th {\n",
       "        text-align: right;\n",
       "    }\n",
       "</style>\n",
       "<table border=\"1\" class=\"dataframe\">\n",
       "  <thead>\n",
       "    <tr style=\"text-align: right;\">\n",
       "      <th></th>\n",
       "      <th>platform</th>\n",
       "      <th>total_sales</th>\n",
       "    </tr>\n",
       "  </thead>\n",
       "  <tbody>\n",
       "    <tr>\n",
       "      <th>0</th>\n",
       "      <td>PS4</td>\n",
       "      <td>314.14</td>\n",
       "    </tr>\n",
       "    <tr>\n",
       "      <th>1</th>\n",
       "      <td>PS3</td>\n",
       "      <td>288.78</td>\n",
       "    </tr>\n",
       "    <tr>\n",
       "      <th>2</th>\n",
       "      <td>X360</td>\n",
       "      <td>236.54</td>\n",
       "    </tr>\n",
       "    <tr>\n",
       "      <th>3</th>\n",
       "      <td>3DS</td>\n",
       "      <td>194.61</td>\n",
       "    </tr>\n",
       "    <tr>\n",
       "      <th>4</th>\n",
       "      <td>XOne</td>\n",
       "      <td>159.32</td>\n",
       "    </tr>\n",
       "  </tbody>\n",
       "</table>\n",
       "</div>"
      ],
      "text/plain": [
       "  platform  total_sales\n",
       "0      PS4       314.14\n",
       "1      PS3       288.78\n",
       "2     X360       236.54\n",
       "3      3DS       194.61\n",
       "4     XOne       159.32"
      ]
     },
     "execution_count": 21,
     "metadata": {},
     "output_type": "execute_result"
    }
   ],
   "source": [
    "top_5_platforms"
   ]
  },
  {
   "cell_type": "markdown",
   "metadata": {},
   "source": [
    "**Посмотрим, как менялись продажи по этим платформам.**"
   ]
  },
  {
   "cell_type": "code",
   "execution_count": 22,
   "metadata": {},
   "outputs": [
    {
     "data": {
      "image/png": "[encoded data removed]",
      "text/plain": [
       "<Figure size 432x288 with 1 Axes>"
      ]
     },
     "metadata": {
      "needs_background": "light"
     },
     "output_type": "display_data"
    },
    {
     "data": {
      "image/png": "[encoded data removed]",
      "text/plain": [
       "<Figure size 432x288 with 1 Axes>"
      ]
     },
     "metadata": {
      "needs_background": "light"
     },
     "output_type": "display_data"
    },
    {
     "data": {
      "image/png": "[encoded data removed]",
      "text/plain": [
       "<Figure size 432x288 with 1 Axes>"
      ]
     },
     "metadata": {
      "needs_background": "light"
     },
     "output_type": "display_data"
    },
    {
     "data": {
      "image/png": "[encoded data removed]",
      "text/plain": [
       "<Figure size 432x288 with 1 Axes>"
      ]
     },
     "metadata": {
      "needs_background": "light"
     },
     "output_type": "display_data"
    },
    {
     "data": {
      "image/png": "[encoded data removed]",
      "text/plain": [
       "<Figure size 432x288 with 1 Axes>"
      ]
     },
     "metadata": {
      "needs_background": "light"
     },
     "output_type": "display_data"
    }
   ],
   "source": [
    "for i in list(top_5_platforms['platform']):    \n",
    "    (\n",
    "        current_data[current_data['platform'] == i]\n",
    "        .pivot_table(index='year_of_release', values='total_sales', aggfunc='sum')\n",
    "        .reset_index() \n",
    "        .sort_values(by='year_of_release')\n",
    "        .plot(x='year_of_release', y='total_sales', kind='bar', grid=True, legend=False)\n",
    "    )\n",
    "    plt.xlabel('Годы')\n",
    "    plt.ylabel('Продажи, млн. копий')\n",
    "    plt.title(i)"
   ]
  },
  {
   "cell_type": "markdown",
   "metadata": {},
   "source": [
    "**Графики показывают общий спад объемов продаж у всех выбранных платформ в прошлом, 2015 году. Самый продолжительный спад наблюдается на платформе PC и на 3DS. К тому же у платформ Нинтендо и PC годовые выручки не превышают 10 млн. проданных копий, но консоли Нинтендо очень популярны в Японии. По совокупности фактов привлекательными для нас остаются только 3 платформы: PS4 и XOne для североамериканского и европейского регионов, а 3DS для Японии.**"
   ]
  },
  {
   "cell_type": "markdown",
   "metadata": {},
   "source": [
    "**Строим ящик с усами по глобальным продажам игр в разбивке по платформам.**"
   ]
  },
  {
   "cell_type": "code",
   "execution_count": 23,
   "metadata": {},
   "outputs": [
    {
     "data": {
      "text/plain": [
       "(0.0, 2.0)"
      ]
     },
     "execution_count": 23,
     "metadata": {},
     "output_type": "execute_result"
    },
    {
     "data": {
      "image/png": "[encoded data removed]",
      "text/plain": [
       "<Figure size 1080x576 with 1 Axes>"
      ]
     },
     "metadata": {
      "needs_background": "light"
     },
     "output_type": "display_data"
    }
   ],
   "source": [
    "plt.figure(figsize=(15, 8))\n",
    "(\n",
    "    current_data\n",
    "    .pivot_table(index='name', columns='platform', values='total_sales').boxplot()\n",
    ")\n",
    "plt.ylabel('Продажи, млн. копий')\n",
    "plt.xlabel('Платформа')\n",
    "plt.title('Глобальные продажи по платформам.')\n",
    "plt.ylim(0, 2)"
   ]
  },
  {
   "cell_type": "markdown",
   "metadata": {},
   "source": [
    "**Лучше всего себя чувствует платформа X360, следом идут платформы XOne, WiiU, Wii, PS3 и PS4. Платформы DS, PSP, PSV уже устарели и теряются на фоне новых конкурентов.**"
   ]
  },
  {
   "cell_type": "markdown",
   "metadata": {},
   "source": [
    "**Определим связи между отзывами и продажами.**"
   ]
  },
  {
   "cell_type": "code",
   "execution_count": 24,
   "metadata": {},
   "outputs": [
    {
     "data": {
      "text/plain": [
       "Text(0.5, 1.0, 'График зависимости продаж от оценки пользователей')"
      ]
     },
     "execution_count": 24,
     "metadata": {},
     "output_type": "execute_result"
    },
    {
     "data": {
      "image/png": "[encoded data removed]",
      "text/plain": [
       "<Figure size 432x288 with 1 Axes>"
      ]
     },
     "metadata": {
      "needs_background": "light"
     },
     "output_type": "display_data"
    },
    {
     "data": {
      "image/png": "[encoded data removed]",
      "text/plain": [
       "<Figure size 432x288 with 1 Axes>"
      ]
     },
     "metadata": {
      "needs_background": "light"
     },
     "output_type": "display_data"
    }
   ],
   "source": [
    "current_data[(current_data['platform'] == 'PS4')&(current_data['critic_score'] != -1)]\\\n",
    ".plot.scatter(x='critic_score', y='total_sales')\n",
    "plt.xlabel('Оценка критиков')\n",
    "plt.ylabel('Продажи, млн. копий')\n",
    "plt.title('График зависимости продаж от оценки критиков')\n",
    "\n",
    "current_data[(current_data['platform'] == 'PS4')&(current_data['user_score'] != -1)]\\\n",
    ".plot.scatter(x='user_score', y='total_sales')\n",
    "plt.xlabel('Оценка пользователей')\n",
    "plt.ylabel('Продажи, млн. копий')\n",
    "plt.title('График зависимости продаж от оценки пользователей')"
   ]
  },
  {
   "cell_type": "code",
   "execution_count": 25,
   "metadata": {},
   "outputs": [
    {
     "data": {
      "text/html": [
       "<div>\n",
       "<style scoped>\n",
       "    .dataframe tbody tr th:only-of-type {\n",
       "        vertical-align: middle;\n",
       "    }\n",
       "\n",
       "    .dataframe tbody tr th {\n",
       "        vertical-align: top;\n",
       "    }\n",
       "\n",
       "    .dataframe thead th {\n",
       "        text-align: right;\n",
       "    }\n",
       "</style>\n",
       "<table border=\"1\" class=\"dataframe\">\n",
       "  <thead>\n",
       "    <tr style=\"text-align: right;\">\n",
       "      <th></th>\n",
       "      <th>year_of_release</th>\n",
       "      <th>na_sales</th>\n",
       "      <th>eu_sales</th>\n",
       "      <th>jp_sales</th>\n",
       "      <th>other_sales</th>\n",
       "      <th>critic_score</th>\n",
       "      <th>user_score</th>\n",
       "      <th>total_sales</th>\n",
       "    </tr>\n",
       "  </thead>\n",
       "  <tbody>\n",
       "    <tr>\n",
       "      <th>year_of_release</th>\n",
       "      <td>1.000000</td>\n",
       "      <td>-0.261760</td>\n",
       "      <td>-0.191355</td>\n",
       "      <td>-0.122830</td>\n",
       "      <td>-0.232177</td>\n",
       "      <td>-0.019983</td>\n",
       "      <td>0.150315</td>\n",
       "      <td>-0.234400</td>\n",
       "    </tr>\n",
       "    <tr>\n",
       "      <th>na_sales</th>\n",
       "      <td>-0.261760</td>\n",
       "      <td>1.000000</td>\n",
       "      <td>0.714988</td>\n",
       "      <td>0.530480</td>\n",
       "      <td>0.915292</td>\n",
       "      <td>0.414241</td>\n",
       "      <td>-0.022577</td>\n",
       "      <td>0.893807</td>\n",
       "    </tr>\n",
       "    <tr>\n",
       "      <th>eu_sales</th>\n",
       "      <td>-0.191355</td>\n",
       "      <td>0.714988</td>\n",
       "      <td>1.000000</td>\n",
       "      <td>0.519826</td>\n",
       "      <td>0.935136</td>\n",
       "      <td>0.346044</td>\n",
       "      <td>-0.050671</td>\n",
       "      <td>0.951656</td>\n",
       "    </tr>\n",
       "    <tr>\n",
       "      <th>jp_sales</th>\n",
       "      <td>-0.122830</td>\n",
       "      <td>0.530480</td>\n",
       "      <td>0.519826</td>\n",
       "      <td>1.000000</td>\n",
       "      <td>0.566734</td>\n",
       "      <td>0.322057</td>\n",
       "      <td>0.174512</td>\n",
       "      <td>0.592214</td>\n",
       "    </tr>\n",
       "    <tr>\n",
       "      <th>other_sales</th>\n",
       "      <td>-0.232177</td>\n",
       "      <td>0.915292</td>\n",
       "      <td>0.935136</td>\n",
       "      <td>0.566734</td>\n",
       "      <td>1.000000</td>\n",
       "      <td>0.408465</td>\n",
       "      <td>-0.037332</td>\n",
       "      <td>0.997798</td>\n",
       "    </tr>\n",
       "    <tr>\n",
       "      <th>critic_score</th>\n",
       "      <td>-0.019983</td>\n",
       "      <td>0.414241</td>\n",
       "      <td>0.346044</td>\n",
       "      <td>0.322057</td>\n",
       "      <td>0.408465</td>\n",
       "      <td>1.000000</td>\n",
       "      <td>0.557654</td>\n",
       "      <td>0.405895</td>\n",
       "    </tr>\n",
       "    <tr>\n",
       "      <th>user_score</th>\n",
       "      <td>0.150315</td>\n",
       "      <td>-0.022577</td>\n",
       "      <td>-0.050671</td>\n",
       "      <td>0.174512</td>\n",
       "      <td>-0.037332</td>\n",
       "      <td>0.557654</td>\n",
       "      <td>1.000000</td>\n",
       "      <td>-0.033625</td>\n",
       "    </tr>\n",
       "    <tr>\n",
       "      <th>total_sales</th>\n",
       "      <td>-0.234400</td>\n",
       "      <td>0.893807</td>\n",
       "      <td>0.951656</td>\n",
       "      <td>0.592214</td>\n",
       "      <td>0.997798</td>\n",
       "      <td>0.405895</td>\n",
       "      <td>-0.033625</td>\n",
       "      <td>1.000000</td>\n",
       "    </tr>\n",
       "  </tbody>\n",
       "</table>\n",
       "</div>"
      ],
      "text/plain": [
       "                 year_of_release  na_sales  eu_sales  jp_sales  other_sales  \\\n",
       "year_of_release         1.000000 -0.261760 -0.191355 -0.122830    -0.232177   \n",
       "na_sales               -0.261760  1.000000  0.714988  0.530480     0.915292   \n",
       "eu_sales               -0.191355  0.714988  1.000000  0.519826     0.935136   \n",
       "jp_sales               -0.122830  0.530480  0.519826  1.000000     0.566734   \n",
       "other_sales            -0.232177  0.915292  0.935136  0.566734     1.000000   \n",
       "critic_score           -0.019983  0.414241  0.346044  0.322057     0.408465   \n",
       "user_score              0.150315 -0.022577 -0.050671  0.174512    -0.037332   \n",
       "total_sales            -0.234400  0.893807  0.951656  0.592214     0.997798   \n",
       "\n",
       "                 critic_score  user_score  total_sales  \n",
       "year_of_release     -0.019983    0.150315    -0.234400  \n",
       "na_sales             0.414241   -0.022577     0.893807  \n",
       "eu_sales             0.346044   -0.050671     0.951656  \n",
       "jp_sales             0.322057    0.174512     0.592214  \n",
       "other_sales          0.408465   -0.037332     0.997798  \n",
       "critic_score         1.000000    0.557654     0.405895  \n",
       "user_score           0.557654    1.000000    -0.033625  \n",
       "total_sales          0.405895   -0.033625     1.000000  "
      ]
     },
     "execution_count": 25,
     "metadata": {},
     "output_type": "execute_result"
    }
   ],
   "source": [
    "current_data[(current_data['platform'] == 'PS4')&(current_data['critic_score'] != -1)&(current_data['user_score'] != -1)].corr()"
   ]
  },
  {
   "cell_type": "code",
   "execution_count": 26,
   "metadata": {},
   "outputs": [
    {
     "data": {
      "text/plain": [
       "0.406567902061781"
      ]
     },
     "execution_count": 26,
     "metadata": {},
     "output_type": "execute_result"
    }
   ],
   "source": [
    "ps4 = current_data[(current_data['platform'] == 'PS4')&(current_data['critic_score'] != -1)]\n",
    "ps4['total_sales'].corr(ps4['critic_score'])"
   ]
  },
  {
   "cell_type": "code",
   "execution_count": 27,
   "metadata": {
    "scrolled": false
   },
   "outputs": [
    {
     "name": "stdout",
     "output_type": "stream",
     "text": [
      "Корреляция глобальных продаж от оценок критиков для платформы PS4 : 0.406567902061781\n",
      "Корреляция глобальных продаж от оценок пользователей для платформы PS4 : 0.35040745878505786\n",
      "\n",
      "Корреляция глобальных продаж от оценок критиков для платформы PS3 : 0.3341517575509856\n",
      "Корреляция глобальных продаж от оценок пользователей для платформы PS3 : 0.2030919395706011\n",
      "\n",
      "Корреляция глобальных продаж от оценок критиков для платформы X360 : 0.36057348885073365\n",
      "Корреляция глобальных продаж от оценок пользователей для платформы X360 : 0.2545770149075233\n",
      "\n",
      "Корреляция глобальных продаж от оценок критиков для платформы 3DS : 0.32080286953607845\n",
      "Корреляция глобальных продаж от оценок пользователей для платформы 3DS : 0.2497895570163375\n",
      "\n",
      "Корреляция глобальных продаж от оценок критиков для платформы XOne : 0.41699832800840175\n",
      "Корреляция глобальных продаж от оценок пользователей для платформы XOne : 0.3335794430098834\n",
      "\n"
     ]
    },
    {
     "data": {
      "image/png": "[encoded data removed]",
      "text/plain": [
       "<Figure size 432x288 with 1 Axes>"
      ]
     },
     "metadata": {
      "needs_background": "light"
     },
     "output_type": "display_data"
    },
    {
     "data": {
      "image/png": "[encoded data removed]",
      "text/plain": [
       "<Figure size 432x288 with 1 Axes>"
      ]
     },
     "metadata": {
      "needs_background": "light"
     },
     "output_type": "display_data"
    },
    {
     "data": {
      "image/png": "[encoded data removed]",
      "text/plain": [
       "<Figure size 432x288 with 1 Axes>"
      ]
     },
     "metadata": {
      "needs_background": "light"
     },
     "output_type": "display_data"
    },
    {
     "data": {
      "image/png": "[encoded data removed]",
      "text/plain": [
       "<Figure size 432x288 with 1 Axes>"
      ]
     },
     "metadata": {
      "needs_background": "light"
     },
     "output_type": "display_data"
    },
    {
     "data": {
      "image/png": "[encoded data removed]",
      "text/plain": [
       "<Figure size 432x288 with 1 Axes>"
      ]
     },
     "metadata": {
      "needs_background": "light"
     },
     "output_type": "display_data"
    },
    {
     "data": {
      "image/png": "[encoded data removed]",
      "text/plain": [
       "<Figure size 432x288 with 1 Axes>"
      ]
     },
     "metadata": {
      "needs_background": "light"
     },
     "output_type": "display_data"
    },
    {
     "data": {
      "image/png": "[encoded data removed]",
      "text/plain": [
       "<Figure size 432x288 with 1 Axes>"
      ]
     },
     "metadata": {
      "needs_background": "light"
     },
     "output_type": "display_data"
    },
    {
     "data": {
      "image/png": "[encoded data removed]",
      "text/plain": [
       "<Figure size 432x288 with 1 Axes>"
      ]
     },
     "metadata": {
      "needs_background": "light"
     },
     "output_type": "display_data"
    },
    {
     "data": {
      "image/png": "[encoded data removed]",
      "text/plain": [
       "<Figure size 432x288 with 1 Axes>"
      ]
     },
     "metadata": {
      "needs_background": "light"
     },
     "output_type": "display_data"
    },
    {
     "data": {
      "image/png": "[encoded data removed]",
      "text/plain": [
       "<Figure size 432x288 with 1 Axes>"
      ]
     },
     "metadata": {
      "needs_background": "light"
     },
     "output_type": "display_data"
    }
   ],
   "source": [
    "for i in list(top_5_platforms['platform']):\n",
    "    for_corr_critics = current_data[(current_data['platform'] == i)&(current_data['critic_score'] != -1)]\n",
    "    for_corr_critics.plot.scatter(x='critic_score', y='total_sales')\n",
    "    plt.xlabel('Оценка критиков')\n",
    "    plt.ylabel('Продажи, млн. копий')\n",
    "    plt.title(i)\n",
    "    print('Корреляция глобальных продаж от оценок критиков для платформы', i, ':', for_corr_critics['total_sales'].corr(for_corr_critics['critic_score']))\n",
    "    \n",
    "    for_corr_users = current_data[(current_data['platform'] == i)&(current_data['user_score'] != -1)]\n",
    "    for_corr_users.plot.scatter(x='user_score', y='total_sales')\n",
    "    plt.xlabel('Оценка пользователей')\n",
    "    plt.ylabel('Продажи, млн. копий')\n",
    "    plt.title(i)\n",
    "    print('Корреляция глобальных продаж от оценок пользователей для платформы', i, ':', for_corr_users['total_sales'].corr(for_corr_users['critic_score']))\n",
    "    print()    "
   ]
  },
  {
   "cell_type": "markdown",
   "metadata": {},
   "source": [
    "**Связь между отзывами и продажами положительная слабовыраженная.**"
   ]
  },
  {
   "cell_type": "markdown",
   "metadata": {},
   "source": [
    "**Распределим жанры по глобальным продажам.**"
   ]
  },
  {
   "cell_type": "code",
   "execution_count": 28,
   "metadata": {},
   "outputs": [
    {
     "data": {
      "text/plain": [
       "Text(0.5, 1.0, 'Глобальные продажи по каждому жанру.')"
      ]
     },
     "execution_count": 28,
     "metadata": {},
     "output_type": "execute_result"
    },
    {
     "data": {
      "image/png": "[encoded data removed]",
      "text/plain": [
       "<Figure size 576x360 with 1 Axes>"
      ]
     },
     "metadata": {
      "needs_background": "light"
     },
     "output_type": "display_data"
    }
   ],
   "source": [
    "(\n",
    "    current_data\n",
    "    .pivot_table(index=['genre'], \n",
    "                 values=['name', 'total_sales'], \n",
    "                 aggfunc={'name':'count', 'total_sales':'sum'})\n",
    "    .reset_index()\n",
    "    .rename(columns={'name':'count_game'})\n",
    "    .sort_values(by='total_sales')\n",
    "    .plot(x='genre', y='total_sales', kind='bar', grid=True, figsize=(8,5), legend=False)\n",
    ")\n",
    "plt.ylabel('Продажи, млн. копий')\n",
    "plt.xlabel('Игровой жанр')\n",
    "plt.title('Глобальные продажи по каждому жанру.')"
   ]
  },
  {
   "cell_type": "markdown",
   "metadata": {},
   "source": [
    "**Построим график «ящик с усами» по глобальным продажам игр в разбивке по жанрам.**"
   ]
  },
  {
   "cell_type": "code",
   "execution_count": 29,
   "metadata": {},
   "outputs": [
    {
     "data": {
      "text/plain": [
       "(0.0, 15.0)"
      ]
     },
     "execution_count": 29,
     "metadata": {},
     "output_type": "execute_result"
    },
    {
     "data": {
      "image/png": "[encoded data removed]",
      "text/plain": [
       "<Figure size 1080x576 with 1 Axes>"
      ]
     },
     "metadata": {
      "needs_background": "light"
     },
     "output_type": "display_data"
    }
   ],
   "source": [
    "plt.figure(figsize=(15, 8))\n",
    "(\n",
    "    current_data\n",
    "    .pivot_table(index='name', columns='genre', values='total_sales').boxplot()\n",
    ")\n",
    "plt.ylabel('Продажи, млн. копий')\n",
    "plt.xlabel('Игровой жанр')\n",
    "plt.title('Глобальные продажи по каждому жанру.')\n",
    "plt.ylim(0, 15)"
   ]
  },
  {
   "cell_type": "markdown",
   "metadata": {},
   "source": [
    "**Тот же самый плотбокс, только с уменьшенной границей по оси Продаж. Сделано для оценки медианных значений.**"
   ]
  },
  {
   "cell_type": "code",
   "execution_count": 30,
   "metadata": {},
   "outputs": [
    {
     "data": {
      "text/plain": [
       "(0.0, 3.3)"
      ]
     },
     "execution_count": 30,
     "metadata": {},
     "output_type": "execute_result"
    },
    {
     "data": {
      "image/png": "[encoded data removed]",
      "text/plain": [
       "<Figure size 1080x576 with 1 Axes>"
      ]
     },
     "metadata": {
      "needs_background": "light"
     },
     "output_type": "display_data"
    }
   ],
   "source": [
    "plt.figure(figsize=(15, 8))\n",
    "(\n",
    "    current_data\n",
    "    .pivot_table(index='name', columns='genre', values='total_sales').boxplot()\n",
    ")\n",
    "plt.ylabel('Продажи, млн. копий')\n",
    "plt.xlabel('Игровой жанр')\n",
    "plt.title('Глобальные продажи по каждому жанру.')\n",
    "plt.ylim(0, 3.3)"
   ]
  },
  {
   "cell_type": "markdown",
   "metadata": {},
   "source": [
    "**Самыми продаваемыми жанрами являются `Action`, `Shooter`, `RPG` и `Sports`. Остальные жанры не выделяются большими объемами продаж, явно уступая лидерам. Что касается медианного значения продаж, то по всем платформам оно не превышает 500 тыс. копий по всему миру. Выходит, что объем продаж и выручки делают \"хитовые игры\". Больше всего такие игры встречаются как раз в указанных выше жанрах. Именно на хиты и нужно делать упор при планировании рекламной компании на следующий год.**"
   ]
  },
  {
   "cell_type": "markdown",
   "metadata": {},
   "source": [
    "## Составление портрета пользователя каждого региона."
   ]
  },
  {
   "cell_type": "code",
   "execution_count": 31,
   "metadata": {},
   "outputs": [
    {
     "data": {
      "text/plain": [
       "Text(0.5, 0.98, 'Рейтинг платформ в регионах')"
      ]
     },
     "execution_count": 31,
     "metadata": {},
     "output_type": "execute_result"
    },
    {
     "data": {
      "image/png": "[encoded data removed]",
      "text/plain": [
       "<Figure size 1368x504 with 3 Axes>"
      ]
     },
     "metadata": {},
     "output_type": "display_data"
    }
   ],
   "source": [
    "top_na = current_data.groupby('platform')['na_sales'].sum().sort_values().tail().reset_index()\n",
    "top_eu = current_data.groupby('platform')['eu_sales'].sum().sort_values().tail().reset_index()\n",
    "top_jp = current_data.groupby('platform')['jp_sales'].sum().sort_values().tail().reset_index()\n",
    "fig, axs = plt.subplots(1, 3, figsize=(19, 7))\n",
    "fig.set_facecolor('#E0EEEE')\n",
    "axs[0].pie(top_na['na_sales'], labels = top_na['platform'], shadow = True, autopct = '%1.1f%%')\n",
    "axs[0].set_title('Северная Америка')\n",
    "\n",
    "axs[1].pie(top_eu['eu_sales'], labels = top_eu['platform'], shadow = True, autopct = '%1.1f%%')\n",
    "axs[1].set_title('Европа')\n",
    "\n",
    "axs[2].pie(top_jp['jp_sales'], labels = top_jp['platform'], shadow = True, autopct = '%1.1f%%')\n",
    "axs[2].set_title('Япония')\n",
    "plt.suptitle('Рейтинг платформ в регионах')"
   ]
  },
  {
   "cell_type": "markdown",
   "metadata": {},
   "source": [
    "**В регионе NA и EU самыми популярными платформами являются PS и XBox. В JP регионе больше распространены консоли Нинтендо.**"
   ]
  },
  {
   "cell_type": "markdown",
   "metadata": {},
   "source": [
    "**Определим рейтинг игровых жанров в каждом регионе.**"
   ]
  },
  {
   "cell_type": "code",
   "execution_count": 32,
   "metadata": {},
   "outputs": [
    {
     "data": {
      "text/plain": [
       "Text(0.5, 0.98, 'Рейтинг игровых жанров в регионах')"
      ]
     },
     "execution_count": 32,
     "metadata": {},
     "output_type": "execute_result"
    },
    {
     "data": {
      "image/png": "[encoded data removed]",
      "text/plain": [
       "<Figure size 1368x504 with 3 Axes>"
      ]
     },
     "metadata": {},
     "output_type": "display_data"
    }
   ],
   "source": [
    "genre_na = current_data.groupby('genre')['na_sales'].sum().sort_values().tail().reset_index()\n",
    "genre_eu = current_data.groupby('genre')['eu_sales'].sum().sort_values().tail().reset_index()\n",
    "genre_jp = current_data.groupby('genre')['jp_sales'].sum().sort_values().tail().reset_index()\n",
    "fig, axs = plt.subplots(1, 3, figsize=(19, 7))\n",
    "fig.set_facecolor('#E0EEEE')\n",
    "axs[0].pie(genre_na['na_sales'], labels = genre_na['genre'], shadow = True, autopct = '%1.1f%%')\n",
    "axs[0].set_title('Северная Америка')\n",
    "axs[0].set_xlabel('Северная Америка')\n",
    "axs[1].pie(genre_eu['eu_sales'], labels = genre_eu['genre'], shadow = True, autopct = '%1.1f%%')\n",
    "axs[1].set_title('Европа')\n",
    "\n",
    "axs[2].pie(genre_jp['jp_sales'], labels = genre_jp['genre'], shadow = True, autopct = '%1.1f%%')\n",
    "axs[2].set_title('Япония')\n",
    "plt.suptitle('Рейтинг игровых жанров в регионах')"
   ]
  },
  {
   "cell_type": "markdown",
   "metadata": {},
   "source": [
    "**Интересы Америки и Европы совпадают: явный перевес у жанров Action и Shooter. Азия не была бы азией без РПГ. Action и Shooter замыкают топ 3 игр.**"
   ]
  },
  {
   "cell_type": "markdown",
   "metadata": {},
   "source": [
    "**Посмотрим как возрастной рейтинг влияет на продажи в регионах.**"
   ]
  },
  {
   "cell_type": "code",
   "execution_count": 33,
   "metadata": {},
   "outputs": [
    {
     "data": {
      "text/plain": [
       "Text(0.5, 1.0, 'Продажи игр в Северной Америке с сортировкой по возрастному рейтингу')"
      ]
     },
     "execution_count": 33,
     "metadata": {},
     "output_type": "execute_result"
    },
    {
     "data": {
      "image/png": "[encoded data removed]",
      "text/plain": [
       "<Figure size 576x360 with 1 Axes>"
      ]
     },
     "metadata": {
      "needs_background": "light"
     },
     "output_type": "display_data"
    }
   ],
   "source": [
    "(\n",
    "    current_data[current_data['na_sales'] > 0]\n",
    "    .pivot_table(index=['rating'], \n",
    "                 values=['name', 'na_sales'], \n",
    "                 aggfunc={'name':'count', 'na_sales':'sum'})    \n",
    "    .rename(columns={'name':'count_game'})\n",
    "    .sort_values(by='na_sales', ascending=False)\n",
    "    .reset_index()\n",
    "    .plot(x='rating', y='na_sales', kind='bar', grid=True, figsize=(8,5), legend=False, edgecolor='black')\n",
    ")\n",
    "plt.xlabel('Возрастной рейтинг')\n",
    "plt.xticks(rotation = 45)\n",
    "plt.ylabel('Продажи, млн. копий')\n",
    "plt.title('Продажи игр в Северной Америке с сортировкой по возрастному рейтингу')"
   ]
  },
  {
   "cell_type": "code",
   "execution_count": 34,
   "metadata": {},
   "outputs": [
    {
     "data": {
      "text/plain": [
       "Text(0.5, 1.0, 'Продажи игр в Европе с сортировкой по возрастному рейтингу')"
      ]
     },
     "execution_count": 34,
     "metadata": {},
     "output_type": "execute_result"
    },
    {
     "data": {
      "image/png": "[encoded data removed]",
      "text/plain": [
       "<Figure size 576x360 with 1 Axes>"
      ]
     },
     "metadata": {
      "needs_background": "light"
     },
     "output_type": "display_data"
    }
   ],
   "source": [
    "(\n",
    "    current_data[current_data['eu_sales'] > 0]\n",
    "    .pivot_table(index=['rating'], \n",
    "                 values=['name', 'eu_sales'], \n",
    "                 aggfunc={'name':'count', 'eu_sales':'sum'})                  \n",
    "    .rename(columns={'name':'count_game'})\n",
    "    .sort_values(by='eu_sales', ascending=False)\n",
    "    .reset_index()\n",
    "    .plot(x='rating', y='eu_sales', kind='bar', grid=True, figsize=(8,5), legend=False, edgecolor='black')\n",
    ")\n",
    "plt.xlabel('Возрастной рейтинг')\n",
    "plt.xticks(rotation = 45)\n",
    "plt.ylabel('Продажи, млн. копий')\n",
    "plt.title('Продажи игр в Европе с сортировкой по возрастному рейтингу')"
   ]
  },
  {
   "cell_type": "code",
   "execution_count": 35,
   "metadata": {},
   "outputs": [
    {
     "data": {
      "text/plain": [
       "Text(0.5, 1.0, 'Продажи игр в Японии с сортировкой по возрастному рейтингу')"
      ]
     },
     "execution_count": 35,
     "metadata": {},
     "output_type": "execute_result"
    },
    {
     "data": {
      "image/png": "[encoded data removed]",
      "text/plain": [
       "<Figure size 576x360 with 1 Axes>"
      ]
     },
     "metadata": {
      "needs_background": "light"
     },
     "output_type": "display_data"
    }
   ],
   "source": [
    "(\n",
    "    current_data[current_data['jp_sales'] > 0]\n",
    "    .pivot_table(index=['rating'], \n",
    "                 values=['name', 'jp_sales'], \n",
    "                 aggfunc={'name':'count', 'jp_sales':'sum'})                    \n",
    "    .rename(columns={'name':'count_game'})\n",
    "    .sort_values(by='jp_sales', ascending=False)\n",
    "    .reset_index()\n",
    "    .plot(x='rating', y='jp_sales', kind='bar', grid=True, figsize=(8,5), legend=False, edgecolor='black')\n",
    ")\n",
    "plt.xlabel('Возрастной рейтинг')\n",
    "plt.xticks(rotation = 0)\n",
    "plt.ylabel('Продажи, млн. копий')\n",
    "plt.title('Продажи игр в Японии с сортировкой по возрастному рейтингу')"
   ]
  },
  {
   "cell_type": "markdown",
   "metadata": {},
   "source": [
    "**В NA и EU регионе больше всего продаются игры с рейтингом \"М\", что значит \"для взрослых\", игры без ограничений по возрасту и игры, пришедшие из других регионов, неимеющие оценки североамериканской организации. В Японии ситуация обратная: Львиную долю занимают игры без рейтинга.**"
   ]
  },
  {
   "cell_type": "markdown",
   "metadata": {},
   "source": [
    "## Шаг 5. Проверьте гипотезы"
   ]
  },
  {
   "cell_type": "markdown",
   "metadata": {},
   "source": [
    "**H0 - Средние пользовательские рейтинги платформ Xbox One и PC одинаковые.\n",
    "H1 - Средние пользовательские рейтинги платформ Xbox One и PC не равны.**"
   ]
  },
  {
   "cell_type": "code",
   "execution_count": 36,
   "metadata": {},
   "outputs": [
    {
     "name": "stdout",
     "output_type": "stream",
     "text": [
      "p-значение: 0.5489537965134912\n",
      "Нулевую гипотезу не отвергаем.\n"
     ]
    }
   ],
   "source": [
    "pl_x_one = current_data.loc[(current_data['platform'] == 'XOne') & (current_data['user_score'] >= 0), 'user_score']\n",
    "pc = current_data.loc[(current_data['platform'] == 'PC') & (current_data['user_score'] >= 0), 'user_score']\n",
    "results = st.ttest_ind(pl_x_one, pc, alternative='two-sided', equal_var = False)\n",
    "alpha = 0.05\n",
    "print('p-значение:', results.pvalue)\n",
    "if results.pvalue < alpha:\n",
    "    print('Отвергаем нулевую гипотезу.')\n",
    "else:\n",
    "    print('Нулевую гипотезу не отвергаем.')"
   ]
  },
  {
   "cell_type": "markdown",
   "metadata": {},
   "source": [
    "**Не удалось отвегнуть нулевую гипотезу. С большой долей вероятности средние пользовательские рейтинги платформ XOne и PC не имеют статистически значимых отличий.**"
   ]
  },
  {
   "cell_type": "markdown",
   "metadata": {},
   "source": [
    "Средние пользовательские рейтинги жанров Action и Sports разные.\n",
    "**H0 - Средние пользовательские рейтинги жанра Action равны средним пользовательским рейтингам жанра Sports.**\n",
    "**H1 - Средние пользовательские рейтинги жанра Action не равны средним пользовательским рейтингам жанра Sports.**"
   ]
  },
  {
   "cell_type": "code",
   "execution_count": 37,
   "metadata": {},
   "outputs": [
    {
     "name": "stdout",
     "output_type": "stream",
     "text": [
      "p-значение: 5.989458066467418e-20\n",
      "Отвергаем нулевую гипотезу.\n"
     ]
    }
   ],
   "source": [
    "action_mean_users_score = current_data.loc[(current_data['genre'] == 'Action')&(current_data['user_score']>=0), 'user_score']\n",
    "sports_mean_users_score = current_data.loc[(current_data['genre'] == 'Sports')&(current_data['user_score']>=0), 'user_score']\n",
    "results = st.ttest_ind(action_mean_users_score, sports_mean_users_score, alternative='two-sided', equal_var = False)\n",
    "alpha = 0.05\n",
    "print('p-значение:', results.pvalue)\n",
    "if results.pvalue < alpha:\n",
    "    print('Отвергаем нулевую гипотезу.')\n",
    "else:\n",
    "    print('Нулевую гипотезу не отвергаем.')"
   ]
  },
  {
   "cell_type": "markdown",
   "metadata": {},
   "source": [
    "**Нулевую гипотезу отвергаем. Получается, средние пользовательские рейтинги жанра Action не равны средним пользовательским рейтингам жанра Sports.**"
   ]
  },
  {
   "cell_type": "markdown",
   "metadata": {},
   "source": [
    "## Общий вывод."
   ]
  },
  {
   "cell_type": "markdown",
   "metadata": {},
   "source": [
    "Цель работы: Нужно выявить определяющие успешность игры закономерности. Это позволит сделать ставку на потенциально популярный продукт и спланировать рекламные кампании."
   ]
  },
  {
   "cell_type": "markdown",
   "metadata": {},
   "source": [
    "1. Был загружен предлагаемый датасет, проведена первичная оценка данных:\n",
    " 1. Посмотрели несколько строк для общего понимания;\n",
    " 2. Просмотрена информация об этом датасете;\n",
    "2. Проведена предобработка данных.\n",
    "3. Провели исследовательский анализ данных:\n",
    " Посмотрели динамику количества выпускаемых игр. Это помогло выбрать период, наиболее подходящий для оценки ситуации на рынке компьютерных игр и прогноза на следующий год. Выбрали период - 5 лет: с 2012 по 2016 годы, т.к в это время рынок был стабилен, без резких скачков.\n",
    " Посмотрели продолжительность жизни разлицных платформ и установили, что в среднем платформы актуальны примерно 8 лет.\n",
    " Определили топ-10 прибыльных платформ и посмотрели динамику продаж у пяти лучших платформ. С 2012 года самыми популярными платформами среди пользователей были PS4, РS3, X360, 3DS и XOne.\n",
    " По совокупности фактов привлекательными для нас остаются только 3 платформы: PS4 и XOne для североамериканского и европейского регионов, а 3DS для Японии.\n",
    " Самыми продаваемыми жанрами являются Action, Shooter, RPG и Sports за счет значительного количества \"хитов\".\n",
    " Установили, что оценки пользователей и критиков практически не влияют на продажи.\n",
    "4. Составлен портрет пользователя каждого региона:\n",
    " Североамериканский и европейские регионы очень похожи: Популярны одни и те же платформы - PS и Х (североамериканцы чаще выбирают Х, а европейцы - \"Плойки\"), предпочитают одни и те же жанры - Action и Shooter. Если игра имеет возрастное ограничение \"М\", продаж будет еще больше.\n",
    " Японцы же чаще выбирают консоли Нинтендо, чуть реже PS, а из игр больше предпочитают РПГ и реже Action.\n",
    " На это стоит обратить внимание при планировании рекламных компаний в следующем году.\n",
    "5. Проверены гипотезы:\n",
    " 1. Не удалось отвегнуть нулевую гипотезу, что средние пользовательские рейтинги платформ Xbox One и PC одинаковые.\n",
    " 2. Гипотезу: \"Средние пользовательские рейтинги жанра Action равны средним пользовательским рейтингам жанра Sports\" отвергли. Получается, средние пользовательские рейтинги жанра Action не равны средним пользовательским рейтингам жанра Sports."
   ]
  }
 ],
 "metadata": {
  "ExecuteTimeLog": [
   {
    "duration": 364,
    "start_time": "2023-11-27T10:32:36.264Z"
   },
   {
    "duration": 43,
    "start_time": "2023-11-27T10:37:11.719Z"
   },
   {
    "duration": 375,
    "start_time": "2023-11-27T10:38:15.660Z"
   },
   {
    "duration": 73,
    "start_time": "2023-11-27T10:38:18.288Z"
   },
   {
    "duration": 4,
    "start_time": "2023-11-27T10:47:17.486Z"
   },
   {
    "duration": 7,
    "start_time": "2023-11-27T10:48:27.957Z"
   },
   {
    "duration": 26,
    "start_time": "2023-11-27T10:50:41.300Z"
   },
   {
    "duration": 7,
    "start_time": "2023-11-27T10:51:00.388Z"
   },
   {
    "duration": 5,
    "start_time": "2023-11-27T10:51:17.424Z"
   },
   {
    "duration": 3,
    "start_time": "2023-11-27T10:52:31.539Z"
   },
   {
    "duration": 13,
    "start_time": "2023-11-27T10:52:46.608Z"
   },
   {
    "duration": 8,
    "start_time": "2023-11-27T10:54:46.114Z"
   },
   {
    "duration": 8,
    "start_time": "2023-11-27T10:54:54.464Z"
   },
   {
    "duration": 9,
    "start_time": "2023-11-27T10:55:11.299Z"
   },
   {
    "duration": 11,
    "start_time": "2023-11-27T10:55:15.480Z"
   },
   {
    "duration": 1183,
    "start_time": "2023-11-27T10:59:31.634Z"
   },
   {
    "duration": 1314,
    "start_time": "2023-11-27T10:59:48.479Z"
   },
   {
    "duration": 9,
    "start_time": "2023-11-27T10:59:59.283Z"
   },
   {
    "duration": 116,
    "start_time": "2023-11-27T11:09:02.300Z"
   },
   {
    "duration": 21,
    "start_time": "2023-11-27T11:09:25.110Z"
   },
   {
    "duration": 23,
    "start_time": "2023-11-27T11:10:55.829Z"
   },
   {
    "duration": 19,
    "start_time": "2023-11-27T11:13:02.655Z"
   },
   {
    "duration": 26,
    "start_time": "2023-11-27T11:15:19.896Z"
   },
   {
    "duration": 19,
    "start_time": "2023-11-27T11:33:13.408Z"
   },
   {
    "duration": 19,
    "start_time": "2023-11-27T11:33:56.310Z"
   },
   {
    "duration": 17,
    "start_time": "2023-11-27T11:35:39.859Z"
   },
   {
    "duration": 6,
    "start_time": "2023-11-27T11:50:00.418Z"
   },
   {
    "duration": 5,
    "start_time": "2023-11-27T13:27:08.587Z"
   },
   {
    "duration": 13,
    "start_time": "2023-11-27T13:27:39.320Z"
   },
   {
    "duration": 3,
    "start_time": "2023-11-27T13:32:53.674Z"
   },
   {
    "duration": 12,
    "start_time": "2023-11-27T13:33:08.053Z"
   },
   {
    "duration": 20,
    "start_time": "2023-11-27T13:34:09.816Z"
   },
   {
    "duration": 7,
    "start_time": "2023-11-27T13:34:56.753Z"
   },
   {
    "duration": 18,
    "start_time": "2023-11-27T13:35:03.775Z"
   },
   {
    "duration": 7,
    "start_time": "2023-11-27T13:35:41.812Z"
   },
   {
    "duration": 16,
    "start_time": "2023-11-27T14:57:48.978Z"
   },
   {
    "duration": 11,
    "start_time": "2023-11-27T14:58:39.174Z"
   },
   {
    "duration": 337,
    "start_time": "2023-11-27T14:59:14.269Z"
   },
   {
    "duration": 73,
    "start_time": "2023-11-27T14:59:14.608Z"
   },
   {
    "duration": 1659,
    "start_time": "2023-11-27T14:59:14.685Z"
   },
   {
    "duration": 0,
    "start_time": "2023-11-27T14:59:16.345Z"
   },
   {
    "duration": 0,
    "start_time": "2023-11-27T14:59:16.346Z"
   },
   {
    "duration": 0,
    "start_time": "2023-11-27T14:59:16.347Z"
   },
   {
    "duration": 0,
    "start_time": "2023-11-27T14:59:16.348Z"
   },
   {
    "duration": 0,
    "start_time": "2023-11-27T14:59:16.349Z"
   },
   {
    "duration": 0,
    "start_time": "2023-11-27T14:59:16.350Z"
   },
   {
    "duration": 10,
    "start_time": "2023-11-27T14:59:42.347Z"
   },
   {
    "duration": 14,
    "start_time": "2023-11-27T14:59:45.794Z"
   },
   {
    "duration": 1730,
    "start_time": "2023-11-27T15:02:57.408Z"
   },
   {
    "duration": 15,
    "start_time": "2023-11-27T15:03:11.503Z"
   },
   {
    "duration": 341,
    "start_time": "2023-11-27T15:03:42.544Z"
   },
   {
    "duration": 73,
    "start_time": "2023-11-27T15:03:42.886Z"
   },
   {
    "duration": 8,
    "start_time": "2023-11-27T15:03:42.961Z"
   },
   {
    "duration": 15,
    "start_time": "2023-11-27T15:03:42.970Z"
   },
   {
    "duration": 10,
    "start_time": "2023-11-27T15:03:42.987Z"
   },
   {
    "duration": 33,
    "start_time": "2023-11-27T15:03:42.998Z"
   },
   {
    "duration": 5,
    "start_time": "2023-11-27T15:03:43.032Z"
   },
   {
    "duration": 16,
    "start_time": "2023-11-27T15:03:43.039Z"
   },
   {
    "duration": 5,
    "start_time": "2023-11-27T15:03:43.056Z"
   },
   {
    "duration": 19,
    "start_time": "2023-11-27T15:06:44.156Z"
   },
   {
    "duration": 14,
    "start_time": "2023-11-27T15:10:35.912Z"
   },
   {
    "duration": 384,
    "start_time": "2023-11-27T15:12:20.400Z"
   },
   {
    "duration": 73,
    "start_time": "2023-11-27T15:12:20.786Z"
   },
   {
    "duration": 9,
    "start_time": "2023-11-27T15:12:20.860Z"
   },
   {
    "duration": 38,
    "start_time": "2023-11-27T15:12:20.870Z"
   },
   {
    "duration": 15,
    "start_time": "2023-11-27T15:12:20.909Z"
   },
   {
    "duration": 28,
    "start_time": "2023-11-27T15:12:20.926Z"
   },
   {
    "duration": 6,
    "start_time": "2023-11-27T15:12:20.955Z"
   },
   {
    "duration": 29,
    "start_time": "2023-11-27T15:12:20.962Z"
   },
   {
    "duration": 7,
    "start_time": "2023-11-27T15:12:20.992Z"
   },
   {
    "duration": 64,
    "start_time": "2023-11-27T15:13:17.811Z"
   },
   {
    "duration": 15,
    "start_time": "2023-11-27T15:14:18.354Z"
   },
   {
    "duration": 14,
    "start_time": "2023-11-27T15:14:32.634Z"
   },
   {
    "duration": 14,
    "start_time": "2023-11-27T15:15:57.161Z"
   },
   {
    "duration": 11,
    "start_time": "2023-11-27T15:16:50.118Z"
   },
   {
    "duration": 11,
    "start_time": "2023-11-27T15:17:11.422Z"
   },
   {
    "duration": 16,
    "start_time": "2023-11-27T15:18:13.053Z"
   },
   {
    "duration": 2,
    "start_time": "2023-11-27T15:19:35.235Z"
   },
   {
    "duration": 11,
    "start_time": "2023-11-27T15:31:05.516Z"
   },
   {
    "duration": 7,
    "start_time": "2023-11-27T15:31:15.723Z"
   },
   {
    "duration": 16,
    "start_time": "2023-11-27T15:32:43.210Z"
   },
   {
    "duration": 19,
    "start_time": "2023-11-27T15:36:31.661Z"
   },
   {
    "duration": 20,
    "start_time": "2023-11-27T15:37:40.907Z"
   },
   {
    "duration": 26,
    "start_time": "2023-11-27T15:38:59.018Z"
   },
   {
    "duration": 828,
    "start_time": "2023-11-27T15:40:41.679Z"
   },
   {
    "duration": 551,
    "start_time": "2023-11-27T15:45:38.744Z"
   },
   {
    "duration": 482,
    "start_time": "2023-11-27T15:45:50.440Z"
   },
   {
    "duration": 545,
    "start_time": "2023-11-27T15:45:59.184Z"
   },
   {
    "duration": 555,
    "start_time": "2023-11-27T15:49:18.387Z"
   },
   {
    "duration": 902,
    "start_time": "2023-11-27T15:49:39.579Z"
   },
   {
    "duration": 811,
    "start_time": "2023-11-27T15:49:55.827Z"
   },
   {
    "duration": 744,
    "start_time": "2023-11-27T15:56:33.858Z"
   },
   {
    "duration": 18,
    "start_time": "2023-11-27T18:59:10.454Z"
   },
   {
    "duration": 850,
    "start_time": "2023-11-27T19:00:20.012Z"
   },
   {
    "duration": 749,
    "start_time": "2023-11-27T19:00:56.388Z"
   },
   {
    "duration": 743,
    "start_time": "2023-11-27T19:02:31.977Z"
   },
   {
    "duration": 876,
    "start_time": "2023-11-27T19:04:36.175Z"
   },
   {
    "duration": 18,
    "start_time": "2023-11-27T19:05:15.950Z"
   },
   {
    "duration": 4,
    "start_time": "2023-11-27T19:11:59.150Z"
   },
   {
    "duration": 7,
    "start_time": "2023-11-27T19:12:22.276Z"
   },
   {
    "duration": 7,
    "start_time": "2023-11-27T19:12:38.508Z"
   },
   {
    "duration": 344,
    "start_time": "2023-11-27T19:12:47.632Z"
   },
   {
    "duration": 71,
    "start_time": "2023-11-27T19:12:47.977Z"
   },
   {
    "duration": 8,
    "start_time": "2023-11-27T19:12:48.049Z"
   },
   {
    "duration": 3,
    "start_time": "2023-11-27T19:12:48.058Z"
   },
   {
    "duration": 14,
    "start_time": "2023-11-27T19:12:48.062Z"
   },
   {
    "duration": 10,
    "start_time": "2023-11-27T19:12:48.077Z"
   },
   {
    "duration": 32,
    "start_time": "2023-11-27T19:12:48.088Z"
   },
   {
    "duration": 17,
    "start_time": "2023-11-27T19:12:48.121Z"
   },
   {
    "duration": 77,
    "start_time": "2023-11-27T19:12:48.139Z"
   },
   {
    "duration": 0,
    "start_time": "2023-11-27T19:12:48.217Z"
   },
   {
    "duration": 0,
    "start_time": "2023-11-27T19:12:48.218Z"
   },
   {
    "duration": 0,
    "start_time": "2023-11-27T19:12:48.219Z"
   },
   {
    "duration": 0,
    "start_time": "2023-11-27T19:12:48.220Z"
   },
   {
    "duration": 334,
    "start_time": "2023-11-27T19:14:09.739Z"
   },
   {
    "duration": 72,
    "start_time": "2023-11-27T19:14:10.075Z"
   },
   {
    "duration": 8,
    "start_time": "2023-11-27T19:14:10.149Z"
   },
   {
    "duration": 9,
    "start_time": "2023-11-27T19:14:10.159Z"
   },
   {
    "duration": 16,
    "start_time": "2023-11-27T19:14:10.169Z"
   },
   {
    "duration": 9,
    "start_time": "2023-11-27T19:14:10.186Z"
   },
   {
    "duration": 31,
    "start_time": "2023-11-27T19:14:10.196Z"
   },
   {
    "duration": 17,
    "start_time": "2023-11-27T19:14:10.228Z"
   },
   {
    "duration": 81,
    "start_time": "2023-11-27T19:14:10.246Z"
   },
   {
    "duration": 0,
    "start_time": "2023-11-27T19:14:10.329Z"
   },
   {
    "duration": 0,
    "start_time": "2023-11-27T19:14:10.331Z"
   },
   {
    "duration": 0,
    "start_time": "2023-11-27T19:14:10.332Z"
   },
   {
    "duration": 0,
    "start_time": "2023-11-27T19:14:10.333Z"
   },
   {
    "duration": 6,
    "start_time": "2023-11-27T19:17:50.564Z"
   },
   {
    "duration": 346,
    "start_time": "2023-11-27T19:18:44.922Z"
   },
   {
    "duration": 69,
    "start_time": "2023-11-27T19:18:45.270Z"
   },
   {
    "duration": 9,
    "start_time": "2023-11-27T19:18:45.340Z"
   },
   {
    "duration": 3,
    "start_time": "2023-11-27T19:18:45.350Z"
   },
   {
    "duration": 15,
    "start_time": "2023-11-27T19:18:45.354Z"
   },
   {
    "duration": 10,
    "start_time": "2023-11-27T19:18:45.371Z"
   },
   {
    "duration": 42,
    "start_time": "2023-11-27T19:18:45.382Z"
   },
   {
    "duration": 16,
    "start_time": "2023-11-27T19:18:45.425Z"
   },
   {
    "duration": 4,
    "start_time": "2023-11-27T19:18:45.443Z"
   },
   {
    "duration": 14,
    "start_time": "2023-11-27T19:18:45.449Z"
   },
   {
    "duration": 938,
    "start_time": "2023-11-27T19:18:45.464Z"
   },
   {
    "duration": 14,
    "start_time": "2023-11-27T19:18:46.404Z"
   },
   {
    "duration": 9,
    "start_time": "2023-11-27T19:18:46.419Z"
   },
   {
    "duration": 347,
    "start_time": "2023-11-27T19:21:16.224Z"
   },
   {
    "duration": 72,
    "start_time": "2023-11-27T19:21:16.572Z"
   },
   {
    "duration": 9,
    "start_time": "2023-11-27T19:21:16.645Z"
   },
   {
    "duration": 4,
    "start_time": "2023-11-27T19:21:16.656Z"
   },
   {
    "duration": 18,
    "start_time": "2023-11-27T19:21:16.661Z"
   },
   {
    "duration": 11,
    "start_time": "2023-11-27T19:21:16.680Z"
   },
   {
    "duration": 15,
    "start_time": "2023-11-27T19:21:16.714Z"
   },
   {
    "duration": 17,
    "start_time": "2023-11-27T19:21:16.731Z"
   },
   {
    "duration": 5,
    "start_time": "2023-11-27T19:21:16.749Z"
   },
   {
    "duration": 11,
    "start_time": "2023-11-27T19:21:16.756Z"
   },
   {
    "duration": 953,
    "start_time": "2023-11-27T19:21:16.768Z"
   },
   {
    "duration": 20,
    "start_time": "2023-11-27T19:21:17.722Z"
   },
   {
    "duration": 8,
    "start_time": "2023-11-27T19:21:17.743Z"
   },
   {
    "duration": 133,
    "start_time": "2023-11-27T19:32:26.865Z"
   },
   {
    "duration": 6,
    "start_time": "2023-11-27T19:33:57.758Z"
   },
   {
    "duration": 101,
    "start_time": "2023-11-27T19:34:38.750Z"
   },
   {
    "duration": 5,
    "start_time": "2023-11-27T19:35:01.502Z"
   },
   {
    "duration": 486,
    "start_time": "2023-11-27T19:38:11.809Z"
   },
   {
    "duration": 12,
    "start_time": "2023-11-27T19:42:17.403Z"
   },
   {
    "duration": 17,
    "start_time": "2023-11-27T19:43:20.385Z"
   },
   {
    "duration": 16,
    "start_time": "2023-11-27T19:43:32.105Z"
   },
   {
    "duration": 16,
    "start_time": "2023-11-27T19:44:24.040Z"
   },
   {
    "duration": 83,
    "start_time": "2023-11-27T19:45:24.601Z"
   },
   {
    "duration": 17,
    "start_time": "2023-11-27T19:45:45.950Z"
   },
   {
    "duration": 16,
    "start_time": "2023-11-27T19:47:44.052Z"
   },
   {
    "duration": 13,
    "start_time": "2023-11-27T19:57:15.567Z"
   },
   {
    "duration": 14,
    "start_time": "2023-11-27T19:58:07.639Z"
   },
   {
    "duration": 12,
    "start_time": "2023-11-27T19:58:14.462Z"
   },
   {
    "duration": 18,
    "start_time": "2023-11-27T19:58:23.182Z"
   },
   {
    "duration": 16,
    "start_time": "2023-11-27T19:59:25.044Z"
   },
   {
    "duration": 15,
    "start_time": "2023-11-27T19:59:35.572Z"
   },
   {
    "duration": 18,
    "start_time": "2023-11-27T19:59:43.877Z"
   },
   {
    "duration": 17,
    "start_time": "2023-11-27T19:59:54.924Z"
   },
   {
    "duration": 19,
    "start_time": "2023-11-27T20:00:14.987Z"
   },
   {
    "duration": 15,
    "start_time": "2023-11-27T20:00:28.755Z"
   },
   {
    "duration": 12,
    "start_time": "2023-11-27T20:01:07.467Z"
   },
   {
    "duration": 13,
    "start_time": "2023-11-27T20:02:39.400Z"
   },
   {
    "duration": 13,
    "start_time": "2023-11-27T20:03:20.863Z"
   },
   {
    "duration": 16,
    "start_time": "2023-11-27T20:04:09.982Z"
   },
   {
    "duration": 17,
    "start_time": "2023-11-27T20:04:36.317Z"
   },
   {
    "duration": 13,
    "start_time": "2023-11-27T20:04:51.597Z"
   },
   {
    "duration": 16,
    "start_time": "2023-11-27T20:05:28.325Z"
   },
   {
    "duration": 15,
    "start_time": "2023-11-27T20:06:20.460Z"
   },
   {
    "duration": 14,
    "start_time": "2023-11-27T20:06:38.627Z"
   },
   {
    "duration": 16,
    "start_time": "2023-11-27T20:24:10.869Z"
   },
   {
    "duration": 13,
    "start_time": "2023-11-27T20:24:57.580Z"
   },
   {
    "duration": 14,
    "start_time": "2023-11-27T20:26:08.507Z"
   },
   {
    "duration": 15,
    "start_time": "2023-11-27T20:26:47.025Z"
   },
   {
    "duration": 18,
    "start_time": "2023-11-27T20:27:20.978Z"
   },
   {
    "duration": 17,
    "start_time": "2023-11-27T20:28:01.008Z"
   },
   {
    "duration": 14,
    "start_time": "2023-11-27T20:28:37.487Z"
   },
   {
    "duration": 15,
    "start_time": "2023-11-27T20:29:24.222Z"
   },
   {
    "duration": 18,
    "start_time": "2023-11-27T20:31:14.964Z"
   },
   {
    "duration": 17,
    "start_time": "2023-11-27T20:32:00.219Z"
   },
   {
    "duration": 15,
    "start_time": "2023-11-27T20:34:51.463Z"
   },
   {
    "duration": 18,
    "start_time": "2023-11-27T20:35:45.038Z"
   },
   {
    "duration": 19,
    "start_time": "2023-11-27T20:36:48.517Z"
   },
   {
    "duration": 16,
    "start_time": "2023-11-27T20:37:05.956Z"
   },
   {
    "duration": 15,
    "start_time": "2023-11-27T20:37:57.835Z"
   },
   {
    "duration": 15,
    "start_time": "2023-11-27T20:38:16.066Z"
   },
   {
    "duration": 16,
    "start_time": "2023-11-27T20:38:56.457Z"
   },
   {
    "duration": 17,
    "start_time": "2023-11-27T20:39:08.081Z"
   },
   {
    "duration": 17,
    "start_time": "2023-11-27T20:39:47.432Z"
   },
   {
    "duration": 4,
    "start_time": "2023-11-27T20:44:25.434Z"
   },
   {
    "duration": 17,
    "start_time": "2023-11-27T20:44:49.945Z"
   },
   {
    "duration": 17,
    "start_time": "2023-11-27T20:45:21.264Z"
   },
   {
    "duration": 7,
    "start_time": "2023-11-27T20:45:34.121Z"
   },
   {
    "duration": 9,
    "start_time": "2023-11-27T20:46:16.743Z"
   },
   {
    "duration": 8,
    "start_time": "2023-11-27T20:46:33.574Z"
   },
   {
    "duration": 8,
    "start_time": "2023-11-27T20:46:46.814Z"
   },
   {
    "duration": 3,
    "start_time": "2023-11-27T20:48:26.691Z"
   },
   {
    "duration": 118,
    "start_time": "2023-11-28T05:56:12.291Z"
   },
   {
    "duration": 105,
    "start_time": "2023-11-28T05:58:04.225Z"
   },
   {
    "duration": 110,
    "start_time": "2023-11-28T05:58:52.137Z"
   },
   {
    "duration": 112,
    "start_time": "2023-11-28T05:59:20.567Z"
   },
   {
    "duration": 111,
    "start_time": "2023-11-28T06:00:13.306Z"
   },
   {
    "duration": 115,
    "start_time": "2023-11-28T06:00:27.815Z"
   },
   {
    "duration": 114,
    "start_time": "2023-11-28T06:01:13.231Z"
   },
   {
    "duration": 107,
    "start_time": "2023-11-28T06:01:31.440Z"
   },
   {
    "duration": 213,
    "start_time": "2023-11-28T06:02:05.664Z"
   },
   {
    "duration": 484,
    "start_time": "2023-11-28T06:02:41.893Z"
   },
   {
    "duration": 549,
    "start_time": "2023-11-28T06:03:26.069Z"
   },
   {
    "duration": 557,
    "start_time": "2023-11-28T06:05:37.687Z"
   },
   {
    "duration": 562,
    "start_time": "2023-11-28T06:06:03.567Z"
   },
   {
    "duration": 661,
    "start_time": "2023-11-28T06:24:08.514Z"
   },
   {
    "duration": 609,
    "start_time": "2023-11-28T06:25:06.322Z"
   },
   {
    "duration": 126,
    "start_time": "2023-11-28T06:31:54.002Z"
   },
   {
    "duration": 120,
    "start_time": "2023-11-28T06:32:26.322Z"
   },
   {
    "duration": 210,
    "start_time": "2023-11-28T06:33:24.826Z"
   },
   {
    "duration": 13,
    "start_time": "2023-11-28T06:42:21.932Z"
   },
   {
    "duration": 10,
    "start_time": "2023-11-28T06:43:18.810Z"
   },
   {
    "duration": 18,
    "start_time": "2023-11-28T06:43:31.312Z"
   },
   {
    "duration": 542,
    "start_time": "2023-11-28T06:43:52.872Z"
   },
   {
    "duration": 70,
    "start_time": "2023-11-28T06:43:53.416Z"
   },
   {
    "duration": 9,
    "start_time": "2023-11-28T06:43:53.487Z"
   },
   {
    "duration": 4,
    "start_time": "2023-11-28T06:43:53.497Z"
   },
   {
    "duration": 15,
    "start_time": "2023-11-28T06:43:53.502Z"
   },
   {
    "duration": 13,
    "start_time": "2023-11-28T06:43:53.518Z"
   },
   {
    "duration": 14,
    "start_time": "2023-11-28T06:43:53.533Z"
   },
   {
    "duration": 16,
    "start_time": "2023-11-28T06:43:53.548Z"
   },
   {
    "duration": 11,
    "start_time": "2023-11-28T06:43:53.566Z"
   },
   {
    "duration": 841,
    "start_time": "2023-11-28T06:43:53.579Z"
   },
   {
    "duration": 20,
    "start_time": "2023-11-28T06:43:54.421Z"
   },
   {
    "duration": 7,
    "start_time": "2023-11-28T06:43:54.443Z"
   },
   {
    "duration": 9,
    "start_time": "2023-11-28T06:43:54.451Z"
   },
   {
    "duration": 17,
    "start_time": "2023-11-28T06:43:54.462Z"
   },
   {
    "duration": 7,
    "start_time": "2023-11-28T06:43:54.480Z"
   },
   {
    "duration": 616,
    "start_time": "2023-11-28T06:43:54.488Z"
   },
   {
    "duration": 235,
    "start_time": "2023-11-28T06:43:55.105Z"
   },
   {
    "duration": 11,
    "start_time": "2023-11-28T06:43:55.342Z"
   },
   {
    "duration": 17,
    "start_time": "2023-11-28T06:45:13.623Z"
   },
   {
    "duration": 903,
    "start_time": "2023-11-28T08:03:10.397Z"
   },
   {
    "duration": 13,
    "start_time": "2023-11-28T08:03:25.764Z"
   },
   {
    "duration": 206,
    "start_time": "2023-11-28T08:03:44.597Z"
   },
   {
    "duration": 75,
    "start_time": "2023-11-28T08:12:58.752Z"
   },
   {
    "duration": 18,
    "start_time": "2023-11-28T08:13:35.432Z"
   },
   {
    "duration": 14,
    "start_time": "2023-11-28T08:13:53.290Z"
   },
   {
    "duration": 14,
    "start_time": "2023-11-28T08:14:43.706Z"
   },
   {
    "duration": 15,
    "start_time": "2023-11-28T08:16:12.703Z"
   },
   {
    "duration": 16,
    "start_time": "2023-11-28T08:16:39.389Z"
   },
   {
    "duration": 65,
    "start_time": "2023-11-28T08:36:35.703Z"
   },
   {
    "duration": 19,
    "start_time": "2023-11-28T08:37:45.382Z"
   },
   {
    "duration": 17,
    "start_time": "2023-11-28T08:38:18.413Z"
   },
   {
    "duration": 17,
    "start_time": "2023-11-28T08:38:41.645Z"
   },
   {
    "duration": 19,
    "start_time": "2023-11-28T08:38:55.609Z"
   },
   {
    "duration": 17,
    "start_time": "2023-11-28T08:43:09.238Z"
   },
   {
    "duration": 18,
    "start_time": "2023-11-28T08:43:40.982Z"
   },
   {
    "duration": 115,
    "start_time": "2023-11-28T08:50:03.934Z"
   },
   {
    "duration": 111,
    "start_time": "2023-11-28T08:50:23.196Z"
   },
   {
    "duration": 118,
    "start_time": "2023-11-28T10:55:49.220Z"
   },
   {
    "duration": 114,
    "start_time": "2023-11-28T11:03:35.869Z"
   },
   {
    "duration": 136,
    "start_time": "2023-11-28T11:03:48.122Z"
   },
   {
    "duration": 130,
    "start_time": "2023-11-28T11:05:08.659Z"
   },
   {
    "duration": 133,
    "start_time": "2023-11-28T11:10:02.220Z"
   },
   {
    "duration": 142,
    "start_time": "2023-11-28T11:10:54.012Z"
   },
   {
    "duration": 130,
    "start_time": "2023-11-28T11:12:41.469Z"
   },
   {
    "duration": 113,
    "start_time": "2023-11-28T11:13:09.074Z"
   },
   {
    "duration": 112,
    "start_time": "2023-11-28T11:13:25.977Z"
   },
   {
    "duration": 3,
    "start_time": "2023-11-28T11:21:35.581Z"
   },
   {
    "duration": 121,
    "start_time": "2023-11-28T11:21:44.288Z"
   },
   {
    "duration": 0,
    "start_time": "2023-11-28T11:23:17.151Z"
   },
   {
    "duration": 120,
    "start_time": "2023-11-28T11:23:19.222Z"
   },
   {
    "duration": 134,
    "start_time": "2023-11-28T11:23:27.254Z"
   },
   {
    "duration": 116,
    "start_time": "2023-11-28T11:23:43.286Z"
   },
   {
    "duration": 126,
    "start_time": "2023-11-28T11:26:29.241Z"
   },
   {
    "duration": 131,
    "start_time": "2023-11-28T11:27:06.308Z"
   },
   {
    "duration": 130,
    "start_time": "2023-11-28T11:27:47.520Z"
   },
   {
    "duration": 17,
    "start_time": "2023-11-28T11:33:58.056Z"
   },
   {
    "duration": 95,
    "start_time": "2023-11-28T11:34:08.869Z"
   },
   {
    "duration": 104,
    "start_time": "2023-11-28T11:34:31.987Z"
   },
   {
    "duration": 134,
    "start_time": "2023-11-28T11:35:49.282Z"
   },
   {
    "duration": 21,
    "start_time": "2023-11-28T11:36:22.178Z"
   },
   {
    "duration": 132,
    "start_time": "2023-11-28T11:36:37.026Z"
   },
   {
    "duration": 28,
    "start_time": "2023-11-28T11:38:38.712Z"
   },
   {
    "duration": 148,
    "start_time": "2023-11-28T11:40:01.985Z"
   },
   {
    "duration": 128,
    "start_time": "2023-11-28T11:40:18.341Z"
   },
   {
    "duration": 18,
    "start_time": "2023-11-28T11:40:30.528Z"
   },
   {
    "duration": 148,
    "start_time": "2023-11-28T11:42:03.301Z"
   },
   {
    "duration": 119,
    "start_time": "2023-11-28T11:42:27.935Z"
   },
   {
    "duration": 77,
    "start_time": "2023-11-28T11:43:16.253Z"
   },
   {
    "duration": 135,
    "start_time": "2023-11-28T11:43:20.526Z"
   },
   {
    "duration": 143,
    "start_time": "2023-11-28T11:45:30.397Z"
   },
   {
    "duration": 136,
    "start_time": "2023-11-28T11:46:32.791Z"
   },
   {
    "duration": 123,
    "start_time": "2023-11-28T11:48:06.150Z"
   },
   {
    "duration": 118,
    "start_time": "2023-11-28T11:48:31.347Z"
   },
   {
    "duration": 119,
    "start_time": "2023-11-28T11:48:58.186Z"
   },
   {
    "duration": 126,
    "start_time": "2023-11-28T11:49:07.002Z"
   },
   {
    "duration": 149,
    "start_time": "2023-11-28T11:49:43.199Z"
   },
   {
    "duration": 145,
    "start_time": "2023-11-28T11:50:26.921Z"
   },
   {
    "duration": 133,
    "start_time": "2023-11-28T11:50:35.196Z"
   },
   {
    "duration": 18,
    "start_time": "2023-11-28T12:47:32.872Z"
   },
   {
    "duration": 16,
    "start_time": "2023-11-28T12:48:21.964Z"
   },
   {
    "duration": 16,
    "start_time": "2023-11-28T12:49:04.402Z"
   },
   {
    "duration": 90,
    "start_time": "2023-11-28T12:58:28.663Z"
   },
   {
    "duration": 13,
    "start_time": "2023-11-28T12:58:44.600Z"
   },
   {
    "duration": 17,
    "start_time": "2023-11-28T12:59:10.108Z"
   },
   {
    "duration": 17,
    "start_time": "2023-11-28T13:01:09.959Z"
   },
   {
    "duration": 18,
    "start_time": "2023-11-28T13:01:21.181Z"
   },
   {
    "duration": 17,
    "start_time": "2023-11-28T13:01:41.837Z"
   },
   {
    "duration": 16,
    "start_time": "2023-11-28T13:05:49.488Z"
   },
   {
    "duration": 16,
    "start_time": "2023-11-28T13:09:07.409Z"
   },
   {
    "duration": 19,
    "start_time": "2023-11-28T13:10:50.191Z"
   },
   {
    "duration": 19,
    "start_time": "2023-11-28T13:12:14.785Z"
   },
   {
    "duration": 17,
    "start_time": "2023-11-28T17:23:33.878Z"
   },
   {
    "duration": 18,
    "start_time": "2023-11-28T17:24:06.163Z"
   },
   {
    "duration": 4,
    "start_time": "2023-11-28T17:24:32.066Z"
   },
   {
    "duration": 13,
    "start_time": "2023-11-28T17:24:44.841Z"
   },
   {
    "duration": 13,
    "start_time": "2023-11-28T17:31:39.432Z"
   },
   {
    "duration": 14,
    "start_time": "2023-11-28T17:31:56.744Z"
   },
   {
    "duration": 7,
    "start_time": "2023-11-28T17:34:55.309Z"
   },
   {
    "duration": 7,
    "start_time": "2023-11-28T17:35:55.380Z"
   },
   {
    "duration": 4,
    "start_time": "2023-11-28T17:36:08.683Z"
   },
   {
    "duration": 3,
    "start_time": "2023-11-28T17:36:28.635Z"
   },
   {
    "duration": 3,
    "start_time": "2023-11-28T17:37:18.009Z"
   },
   {
    "duration": 17,
    "start_time": "2023-11-28T17:38:34.976Z"
   },
   {
    "duration": 5,
    "start_time": "2023-11-28T17:38:38.369Z"
   },
   {
    "duration": 16,
    "start_time": "2023-11-28T17:39:35.191Z"
   },
   {
    "duration": 6,
    "start_time": "2023-11-28T17:40:36.622Z"
   },
   {
    "duration": 8,
    "start_time": "2023-11-28T17:41:01.268Z"
   },
   {
    "duration": 6,
    "start_time": "2023-11-28T17:41:20.964Z"
   },
   {
    "duration": 6,
    "start_time": "2023-11-28T17:41:30.196Z"
   },
   {
    "duration": 116,
    "start_time": "2023-11-28T17:42:00.315Z"
   },
   {
    "duration": 102,
    "start_time": "2023-11-28T17:42:16.514Z"
   },
   {
    "duration": 89,
    "start_time": "2023-11-28T17:42:26.545Z"
   },
   {
    "duration": 95,
    "start_time": "2023-11-28T17:42:42.851Z"
   },
   {
    "duration": 113,
    "start_time": "2023-11-28T17:43:33.489Z"
   },
   {
    "duration": 113,
    "start_time": "2023-11-28T17:44:31.255Z"
   },
   {
    "duration": 98,
    "start_time": "2023-11-28T17:44:50.527Z"
   },
   {
    "duration": 104,
    "start_time": "2023-11-28T17:45:02.927Z"
   },
   {
    "duration": 89,
    "start_time": "2023-11-28T17:45:10.047Z"
   },
   {
    "duration": 99,
    "start_time": "2023-11-28T17:46:31.565Z"
   },
   {
    "duration": 146,
    "start_time": "2023-11-28T17:47:11.284Z"
   },
   {
    "duration": 103,
    "start_time": "2023-11-28T17:48:27.371Z"
   },
   {
    "duration": 101,
    "start_time": "2023-11-28T17:49:51.504Z"
   },
   {
    "duration": 126,
    "start_time": "2023-11-28T17:51:42.229Z"
   },
   {
    "duration": 108,
    "start_time": "2023-11-28T17:52:23.516Z"
   },
   {
    "duration": 106,
    "start_time": "2023-11-28T17:52:41.732Z"
   },
   {
    "duration": 108,
    "start_time": "2023-11-28T17:52:59.596Z"
   },
   {
    "duration": 201,
    "start_time": "2023-11-28T17:57:45.230Z"
   },
   {
    "duration": 200,
    "start_time": "2023-11-28T17:58:44.165Z"
   },
   {
    "duration": 107,
    "start_time": "2023-11-28T17:59:21.858Z"
   },
   {
    "duration": 7,
    "start_time": "2023-11-28T18:17:27.579Z"
   },
   {
    "duration": 6,
    "start_time": "2023-11-28T18:17:50.779Z"
   },
   {
    "duration": 8,
    "start_time": "2023-11-28T18:18:04.922Z"
   },
   {
    "duration": 6,
    "start_time": "2023-11-28T18:18:30.977Z"
   },
   {
    "duration": 7,
    "start_time": "2023-11-28T18:18:33.584Z"
   },
   {
    "duration": 9,
    "start_time": "2023-11-28T18:19:18.527Z"
   },
   {
    "duration": 8,
    "start_time": "2023-11-28T18:19:59.047Z"
   },
   {
    "duration": 6,
    "start_time": "2023-11-28T18:20:05.583Z"
   },
   {
    "duration": 12,
    "start_time": "2023-11-28T18:28:04.372Z"
   },
   {
    "duration": 18,
    "start_time": "2023-11-28T18:30:08.218Z"
   },
   {
    "duration": 15,
    "start_time": "2023-11-28T18:30:20.986Z"
   },
   {
    "duration": 16,
    "start_time": "2023-11-28T18:32:37.359Z"
   },
   {
    "duration": 17,
    "start_time": "2023-11-28T18:42:02.370Z"
   },
   {
    "duration": 20,
    "start_time": "2023-11-28T18:42:16.707Z"
   },
   {
    "duration": 15,
    "start_time": "2023-11-28T18:42:31.674Z"
   },
   {
    "duration": 23,
    "start_time": "2023-11-28T18:48:56.073Z"
   },
   {
    "duration": 24,
    "start_time": "2023-11-28T18:50:00.432Z"
   },
   {
    "duration": 23,
    "start_time": "2023-11-28T18:51:08.254Z"
   },
   {
    "duration": 23,
    "start_time": "2023-11-28T18:51:24.951Z"
   },
   {
    "duration": 27,
    "start_time": "2023-11-28T18:57:15.552Z"
   },
   {
    "duration": 24,
    "start_time": "2023-11-28T18:57:37.165Z"
   },
   {
    "duration": 23,
    "start_time": "2023-11-28T18:58:10.422Z"
   },
   {
    "duration": 21,
    "start_time": "2023-11-28T18:58:21.716Z"
   },
   {
    "duration": 104,
    "start_time": "2023-11-28T19:19:42.527Z"
   },
   {
    "duration": 15,
    "start_time": "2023-11-28T19:20:10.758Z"
   },
   {
    "duration": 15,
    "start_time": "2023-11-28T19:20:24.518Z"
   },
   {
    "duration": 106,
    "start_time": "2023-11-28T19:20:28.078Z"
   },
   {
    "duration": 522,
    "start_time": "2023-11-28T19:21:31.870Z"
   },
   {
    "duration": 69,
    "start_time": "2023-11-28T19:21:32.394Z"
   },
   {
    "duration": 8,
    "start_time": "2023-11-28T19:21:32.464Z"
   },
   {
    "duration": 4,
    "start_time": "2023-11-28T19:21:32.474Z"
   },
   {
    "duration": 16,
    "start_time": "2023-11-28T19:21:32.479Z"
   },
   {
    "duration": 26,
    "start_time": "2023-11-28T19:21:32.496Z"
   },
   {
    "duration": 23,
    "start_time": "2023-11-28T19:21:32.523Z"
   },
   {
    "duration": 15,
    "start_time": "2023-11-28T19:21:32.547Z"
   },
   {
    "duration": 13,
    "start_time": "2023-11-28T19:21:32.563Z"
   },
   {
    "duration": 946,
    "start_time": "2023-11-28T19:21:32.580Z"
   },
   {
    "duration": 7,
    "start_time": "2023-11-28T19:21:33.528Z"
   },
   {
    "duration": 15,
    "start_time": "2023-11-28T19:21:33.536Z"
   },
   {
    "duration": 126,
    "start_time": "2023-11-28T19:21:33.552Z"
   },
   {
    "duration": 17,
    "start_time": "2023-11-28T19:21:33.679Z"
   },
   {
    "duration": 22,
    "start_time": "2023-11-28T19:21:33.698Z"
   },
   {
    "duration": 586,
    "start_time": "2023-11-28T19:21:33.721Z"
   },
   {
    "duration": 225,
    "start_time": "2023-11-28T19:21:34.315Z"
   },
   {
    "duration": 14,
    "start_time": "2023-11-28T19:21:34.541Z"
   },
   {
    "duration": 16,
    "start_time": "2023-11-28T19:21:34.557Z"
   },
   {
    "duration": 41,
    "start_time": "2023-11-28T19:21:34.575Z"
   },
   {
    "duration": 114,
    "start_time": "2023-11-28T19:21:34.618Z"
   },
   {
    "duration": 120,
    "start_time": "2023-11-28T19:21:34.734Z"
   },
   {
    "duration": 124,
    "start_time": "2023-11-28T19:21:34.856Z"
   },
   {
    "duration": 6,
    "start_time": "2023-11-28T19:21:34.982Z"
   },
   {
    "duration": 6,
    "start_time": "2023-11-28T19:21:34.989Z"
   },
   {
    "duration": 22,
    "start_time": "2023-11-28T19:21:34.996Z"
   },
   {
    "duration": 11,
    "start_time": "2023-11-28T19:21:35.019Z"
   },
   {
    "duration": 32,
    "start_time": "2023-11-28T19:21:35.033Z"
   },
   {
    "duration": 21,
    "start_time": "2023-11-28T19:21:35.067Z"
   },
   {
    "duration": 34,
    "start_time": "2023-11-28T19:21:35.089Z"
   },
   {
    "duration": 114,
    "start_time": "2023-11-28T19:21:49.493Z"
   },
   {
    "duration": 7,
    "start_time": "2023-11-28T19:22:38.979Z"
   },
   {
    "duration": 14,
    "start_time": "2023-11-28T19:25:02.233Z"
   },
   {
    "duration": 549,
    "start_time": "2023-11-28T19:25:08.215Z"
   },
   {
    "duration": 71,
    "start_time": "2023-11-28T19:25:08.766Z"
   },
   {
    "duration": 8,
    "start_time": "2023-11-28T19:25:08.839Z"
   },
   {
    "duration": 14,
    "start_time": "2023-11-28T19:25:08.848Z"
   },
   {
    "duration": 70,
    "start_time": "2023-11-28T19:25:08.863Z"
   },
   {
    "duration": 0,
    "start_time": "2023-11-28T19:25:08.935Z"
   },
   {
    "duration": 0,
    "start_time": "2023-11-28T19:25:08.936Z"
   },
   {
    "duration": 0,
    "start_time": "2023-11-28T19:25:08.937Z"
   },
   {
    "duration": 0,
    "start_time": "2023-11-28T19:25:08.938Z"
   },
   {
    "duration": 0,
    "start_time": "2023-11-28T19:25:08.938Z"
   },
   {
    "duration": 0,
    "start_time": "2023-11-28T19:25:08.939Z"
   },
   {
    "duration": 0,
    "start_time": "2023-11-28T19:25:08.940Z"
   },
   {
    "duration": 0,
    "start_time": "2023-11-28T19:25:08.941Z"
   },
   {
    "duration": 0,
    "start_time": "2023-11-28T19:25:08.941Z"
   },
   {
    "duration": 0,
    "start_time": "2023-11-28T19:25:08.942Z"
   },
   {
    "duration": 0,
    "start_time": "2023-11-28T19:25:08.943Z"
   },
   {
    "duration": 0,
    "start_time": "2023-11-28T19:25:08.944Z"
   },
   {
    "duration": 0,
    "start_time": "2023-11-28T19:25:08.944Z"
   },
   {
    "duration": 0,
    "start_time": "2023-11-28T19:25:08.945Z"
   },
   {
    "duration": 0,
    "start_time": "2023-11-28T19:25:08.946Z"
   },
   {
    "duration": 0,
    "start_time": "2023-11-28T19:25:08.947Z"
   },
   {
    "duration": 0,
    "start_time": "2023-11-28T19:25:08.948Z"
   },
   {
    "duration": 0,
    "start_time": "2023-11-28T19:25:08.949Z"
   },
   {
    "duration": 0,
    "start_time": "2023-11-28T19:25:08.950Z"
   },
   {
    "duration": 0,
    "start_time": "2023-11-28T19:25:08.950Z"
   },
   {
    "duration": 0,
    "start_time": "2023-11-28T19:25:08.951Z"
   },
   {
    "duration": 0,
    "start_time": "2023-11-28T19:25:08.952Z"
   },
   {
    "duration": 0,
    "start_time": "2023-11-28T19:25:08.953Z"
   },
   {
    "duration": 0,
    "start_time": "2023-11-28T19:25:08.954Z"
   },
   {
    "duration": 0,
    "start_time": "2023-11-28T19:25:08.954Z"
   },
   {
    "duration": 14,
    "start_time": "2023-11-28T19:25:33.608Z"
   },
   {
    "duration": 564,
    "start_time": "2023-11-28T19:25:47.178Z"
   },
   {
    "duration": 69,
    "start_time": "2023-11-28T19:25:47.744Z"
   },
   {
    "duration": 9,
    "start_time": "2023-11-28T19:25:47.814Z"
   },
   {
    "duration": 6,
    "start_time": "2023-11-28T19:25:47.825Z"
   },
   {
    "duration": 14,
    "start_time": "2023-11-28T19:25:47.832Z"
   },
   {
    "duration": 10,
    "start_time": "2023-11-28T19:25:47.847Z"
   },
   {
    "duration": 14,
    "start_time": "2023-11-28T19:25:47.859Z"
   },
   {
    "duration": 52,
    "start_time": "2023-11-28T19:25:47.874Z"
   },
   {
    "duration": 12,
    "start_time": "2023-11-28T19:25:47.928Z"
   },
   {
    "duration": 941,
    "start_time": "2023-11-28T19:25:47.943Z"
   },
   {
    "duration": 7,
    "start_time": "2023-11-28T19:25:48.886Z"
   },
   {
    "duration": 24,
    "start_time": "2023-11-28T19:25:48.895Z"
   },
   {
    "duration": 114,
    "start_time": "2023-11-28T19:25:48.920Z"
   },
   {
    "duration": 17,
    "start_time": "2023-11-28T19:25:49.035Z"
   },
   {
    "duration": 8,
    "start_time": "2023-11-28T19:25:49.053Z"
   },
   {
    "duration": 612,
    "start_time": "2023-11-28T19:25:49.062Z"
   },
   {
    "duration": 226,
    "start_time": "2023-11-28T19:25:49.675Z"
   },
   {
    "duration": 20,
    "start_time": "2023-11-28T19:25:49.902Z"
   },
   {
    "duration": 16,
    "start_time": "2023-11-28T19:25:49.923Z"
   },
   {
    "duration": 15,
    "start_time": "2023-11-28T19:25:49.940Z"
   },
   {
    "duration": 129,
    "start_time": "2023-11-28T19:25:49.956Z"
   },
   {
    "duration": 116,
    "start_time": "2023-11-28T19:25:50.087Z"
   },
   {
    "duration": 136,
    "start_time": "2023-11-28T19:25:50.205Z"
   },
   {
    "duration": 7,
    "start_time": "2023-11-28T19:25:50.343Z"
   },
   {
    "duration": 6,
    "start_time": "2023-11-28T19:25:50.351Z"
   },
   {
    "duration": 6,
    "start_time": "2023-11-28T19:25:50.359Z"
   },
   {
    "duration": 14,
    "start_time": "2023-11-28T19:25:50.366Z"
   },
   {
    "duration": 29,
    "start_time": "2023-11-28T19:25:50.414Z"
   },
   {
    "duration": 21,
    "start_time": "2023-11-28T19:25:50.444Z"
   },
   {
    "duration": 19,
    "start_time": "2023-11-28T19:25:50.467Z"
   },
   {
    "duration": 6,
    "start_time": "2023-11-28T19:28:55.419Z"
   },
   {
    "duration": 118,
    "start_time": "2023-11-28T19:30:11.451Z"
   },
   {
    "duration": 139,
    "start_time": "2023-11-28T19:30:24.714Z"
   },
   {
    "duration": 171,
    "start_time": "2023-11-28T19:30:36.634Z"
   },
   {
    "duration": 135,
    "start_time": "2023-11-28T19:31:34.272Z"
   },
   {
    "duration": 158,
    "start_time": "2023-11-28T19:31:59.815Z"
   },
   {
    "duration": 137,
    "start_time": "2023-11-28T19:32:25.311Z"
   },
   {
    "duration": 137,
    "start_time": "2023-11-28T19:32:48.702Z"
   },
   {
    "duration": 139,
    "start_time": "2023-11-28T19:32:55.070Z"
   },
   {
    "duration": 140,
    "start_time": "2023-11-28T19:32:59.854Z"
   },
   {
    "duration": 139,
    "start_time": "2023-11-28T19:33:10.006Z"
   },
   {
    "duration": 133,
    "start_time": "2023-11-28T19:33:16.967Z"
   },
   {
    "duration": 168,
    "start_time": "2023-11-28T19:33:40.317Z"
   },
   {
    "duration": 136,
    "start_time": "2023-11-28T19:34:23.981Z"
   },
   {
    "duration": 8,
    "start_time": "2023-11-28T19:41:23.714Z"
   },
   {
    "duration": 8,
    "start_time": "2023-11-28T19:41:36.682Z"
   },
   {
    "duration": 8,
    "start_time": "2023-11-28T19:43:12.161Z"
   },
   {
    "duration": 9,
    "start_time": "2023-11-28T19:43:45.968Z"
   },
   {
    "duration": 86,
    "start_time": "2023-11-28T19:51:03.050Z"
   },
   {
    "duration": 102,
    "start_time": "2023-11-28T19:51:12.360Z"
   },
   {
    "duration": 137,
    "start_time": "2023-11-28T19:52:15.273Z"
   },
   {
    "duration": 19,
    "start_time": "2023-11-28T19:52:36.628Z"
   },
   {
    "duration": 156,
    "start_time": "2023-11-28T19:53:49.170Z"
   },
   {
    "duration": 137,
    "start_time": "2023-11-28T19:54:03.595Z"
   },
   {
    "duration": 136,
    "start_time": "2023-11-28T19:54:17.529Z"
   },
   {
    "duration": 21,
    "start_time": "2023-11-28T19:55:38.736Z"
   },
   {
    "duration": 252,
    "start_time": "2023-11-28T19:56:56.392Z"
   },
   {
    "duration": 269,
    "start_time": "2023-11-28T19:57:35.254Z"
   },
   {
    "duration": 256,
    "start_time": "2023-11-28T19:58:53.036Z"
   },
   {
    "duration": 339,
    "start_time": "2023-11-28T19:59:22.212Z"
   },
   {
    "duration": 8,
    "start_time": "2023-11-28T20:07:41.288Z"
   },
   {
    "duration": 8,
    "start_time": "2023-11-28T20:08:29.992Z"
   },
   {
    "duration": 271,
    "start_time": "2023-11-28T20:09:55.766Z"
   },
   {
    "duration": 95,
    "start_time": "2023-11-28T20:16:30.036Z"
   },
   {
    "duration": 11,
    "start_time": "2023-11-28T20:16:41.796Z"
   },
   {
    "duration": 9,
    "start_time": "2023-11-28T20:16:49.220Z"
   },
   {
    "duration": 91,
    "start_time": "2023-11-28T20:16:56.908Z"
   },
   {
    "duration": 43,
    "start_time": "2023-11-28T20:17:46.140Z"
   },
   {
    "duration": 13780,
    "start_time": "2023-11-28T20:18:14.689Z"
   },
   {
    "duration": 9,
    "start_time": "2023-11-28T20:19:05.129Z"
   },
   {
    "duration": 9,
    "start_time": "2023-11-28T20:19:20.145Z"
   },
   {
    "duration": 14817,
    "start_time": "2023-11-28T20:19:24.593Z"
   },
   {
    "duration": 102,
    "start_time": "2023-11-28T20:20:11.574Z"
   },
   {
    "duration": 6,
    "start_time": "2023-11-28T20:20:23.535Z"
   },
   {
    "duration": 571,
    "start_time": "2023-11-28T20:21:35.646Z"
   },
   {
    "duration": 603,
    "start_time": "2023-11-28T20:21:59.285Z"
   },
   {
    "duration": 572,
    "start_time": "2023-11-28T20:44:25.593Z"
   },
   {
    "duration": 275,
    "start_time": "2023-11-28T20:45:19.759Z"
   },
   {
    "duration": 15,
    "start_time": "2023-11-28T20:45:44.759Z"
   },
   {
    "duration": 19,
    "start_time": "2023-11-28T20:46:06.326Z"
   },
   {
    "duration": 516,
    "start_time": "2023-11-28T20:47:05.966Z"
   },
   {
    "duration": 70,
    "start_time": "2023-11-28T20:47:06.484Z"
   },
   {
    "duration": 10,
    "start_time": "2023-11-28T20:47:06.555Z"
   },
   {
    "duration": 11,
    "start_time": "2023-11-28T20:47:06.566Z"
   },
   {
    "duration": 13,
    "start_time": "2023-11-28T20:47:06.579Z"
   },
   {
    "duration": 23,
    "start_time": "2023-11-28T20:47:06.593Z"
   },
   {
    "duration": 18,
    "start_time": "2023-11-28T20:47:06.617Z"
   },
   {
    "duration": 17,
    "start_time": "2023-11-28T20:47:06.637Z"
   },
   {
    "duration": 12,
    "start_time": "2023-11-28T20:47:06.655Z"
   },
   {
    "duration": 943,
    "start_time": "2023-11-28T20:47:06.669Z"
   },
   {
    "duration": 8,
    "start_time": "2023-11-28T20:47:07.615Z"
   },
   {
    "duration": 16,
    "start_time": "2023-11-28T20:47:07.625Z"
   },
   {
    "duration": 167,
    "start_time": "2023-11-28T20:47:07.643Z"
   },
   {
    "duration": 22,
    "start_time": "2023-11-28T20:47:07.811Z"
   },
   {
    "duration": 9,
    "start_time": "2023-11-28T20:47:07.835Z"
   },
   {
    "duration": 604,
    "start_time": "2023-11-28T20:47:07.845Z"
   },
   {
    "duration": 225,
    "start_time": "2023-11-28T20:47:08.450Z"
   },
   {
    "duration": 14,
    "start_time": "2023-11-28T20:47:08.676Z"
   },
   {
    "duration": 33,
    "start_time": "2023-11-28T20:47:08.691Z"
   },
   {
    "duration": 14,
    "start_time": "2023-11-28T20:47:08.725Z"
   },
   {
    "duration": 123,
    "start_time": "2023-11-28T20:47:08.740Z"
   },
   {
    "duration": 114,
    "start_time": "2023-11-28T20:47:08.864Z"
   },
   {
    "duration": 121,
    "start_time": "2023-11-28T20:47:08.979Z"
   },
   {
    "duration": 14,
    "start_time": "2023-11-28T20:47:09.102Z"
   },
   {
    "duration": 5,
    "start_time": "2023-11-28T20:47:09.117Z"
   },
   {
    "duration": 14,
    "start_time": "2023-11-28T20:47:09.123Z"
   },
   {
    "duration": 11,
    "start_time": "2023-11-28T20:47:09.138Z"
   },
   {
    "duration": 33,
    "start_time": "2023-11-28T20:47:09.152Z"
   },
   {
    "duration": 47,
    "start_time": "2023-11-28T20:47:09.186Z"
   },
   {
    "duration": 20,
    "start_time": "2023-11-28T20:47:09.234Z"
   },
   {
    "duration": 400,
    "start_time": "2023-11-29T08:00:31.660Z"
   },
   {
    "duration": 89,
    "start_time": "2023-11-29T08:08:40.582Z"
   },
   {
    "duration": 7,
    "start_time": "2023-11-29T08:08:59.006Z"
   },
   {
    "duration": 11,
    "start_time": "2023-11-29T08:09:33.623Z"
   },
   {
    "duration": 18,
    "start_time": "2023-11-29T08:09:43.074Z"
   },
   {
    "duration": 8,
    "start_time": "2023-11-29T08:12:12.652Z"
   },
   {
    "duration": 11,
    "start_time": "2023-11-29T08:12:43.693Z"
   },
   {
    "duration": 17,
    "start_time": "2023-11-29T08:13:24.765Z"
   },
   {
    "duration": 6,
    "start_time": "2023-11-29T08:18:15.822Z"
   },
   {
    "duration": 18,
    "start_time": "2023-11-29T08:18:22.614Z"
   },
   {
    "duration": 5,
    "start_time": "2023-11-29T08:18:25.596Z"
   },
   {
    "duration": 11,
    "start_time": "2023-11-29T08:19:57.268Z"
   },
   {
    "duration": 7,
    "start_time": "2023-11-29T08:20:44.934Z"
   },
   {
    "duration": 3,
    "start_time": "2023-11-29T08:20:53.405Z"
   },
   {
    "duration": 8,
    "start_time": "2023-11-29T08:21:11.250Z"
   },
   {
    "duration": 8,
    "start_time": "2023-11-29T08:21:48.573Z"
   },
   {
    "duration": 8,
    "start_time": "2023-11-29T08:24:43.257Z"
   },
   {
    "duration": 8,
    "start_time": "2023-11-29T08:24:58.171Z"
   },
   {
    "duration": 6,
    "start_time": "2023-11-29T08:26:09.710Z"
   },
   {
    "duration": 24,
    "start_time": "2023-11-29T08:26:13.237Z"
   },
   {
    "duration": 4,
    "start_time": "2023-11-29T08:26:15.773Z"
   },
   {
    "duration": 7,
    "start_time": "2023-11-29T12:07:21.205Z"
   },
   {
    "duration": 6,
    "start_time": "2023-11-29T12:12:20.530Z"
   },
   {
    "duration": 14,
    "start_time": "2023-11-29T12:12:26.580Z"
   },
   {
    "duration": 6,
    "start_time": "2023-11-29T12:13:02.596Z"
   },
   {
    "duration": 13,
    "start_time": "2023-11-29T12:13:05.295Z"
   },
   {
    "duration": 6,
    "start_time": "2023-11-29T12:14:37.893Z"
   },
   {
    "duration": 12,
    "start_time": "2023-11-29T12:14:40.203Z"
   },
   {
    "duration": 556,
    "start_time": "2023-11-29T12:19:21.832Z"
   },
   {
    "duration": 2,
    "start_time": "2023-11-29T12:20:44.569Z"
   },
   {
    "duration": 9,
    "start_time": "2023-11-29T12:20:52.678Z"
   },
   {
    "duration": 86,
    "start_time": "2023-11-29T12:49:00.812Z"
   },
   {
    "duration": 18,
    "start_time": "2023-11-29T12:49:14.701Z"
   },
   {
    "duration": 116,
    "start_time": "2023-11-29T12:49:35.108Z"
   },
   {
    "duration": 12,
    "start_time": "2023-11-29T12:49:40.754Z"
   },
   {
    "duration": 16,
    "start_time": "2023-11-29T12:50:37.523Z"
   },
   {
    "duration": 9,
    "start_time": "2023-11-29T12:51:52.619Z"
   },
   {
    "duration": 17,
    "start_time": "2023-11-29T12:52:57.587Z"
   },
   {
    "duration": 16,
    "start_time": "2023-11-29T12:53:19.704Z"
   },
   {
    "duration": 15,
    "start_time": "2023-11-29T12:54:58.176Z"
   },
   {
    "duration": 13,
    "start_time": "2023-11-29T12:55:19.013Z"
   },
   {
    "duration": 18,
    "start_time": "2023-11-29T12:55:37.043Z"
   },
   {
    "duration": 17,
    "start_time": "2023-11-29T12:55:45.988Z"
   },
   {
    "duration": 17,
    "start_time": "2023-11-29T12:57:21.312Z"
   },
   {
    "duration": 13,
    "start_time": "2023-11-29T13:00:16.819Z"
   },
   {
    "duration": 15,
    "start_time": "2023-11-29T13:00:24.560Z"
   },
   {
    "duration": 19,
    "start_time": "2023-11-29T13:01:29.496Z"
   },
   {
    "duration": 18,
    "start_time": "2023-11-29T13:01:46.335Z"
   },
   {
    "duration": 23,
    "start_time": "2023-11-29T13:02:14.271Z"
   },
   {
    "duration": 19,
    "start_time": "2023-11-29T13:03:07.217Z"
   },
   {
    "duration": 19,
    "start_time": "2023-11-29T13:04:30.306Z"
   },
   {
    "duration": 17,
    "start_time": "2023-11-29T13:05:58.009Z"
   },
   {
    "duration": 15,
    "start_time": "2023-11-29T13:06:28.721Z"
   },
   {
    "duration": 18,
    "start_time": "2023-11-29T13:07:27.276Z"
   },
   {
    "duration": 16,
    "start_time": "2023-11-29T13:08:13.274Z"
   },
   {
    "duration": 16,
    "start_time": "2023-11-29T13:09:44.400Z"
   },
   {
    "duration": 24,
    "start_time": "2023-11-29T13:10:19.710Z"
   },
   {
    "duration": 21,
    "start_time": "2023-11-29T13:10:54.683Z"
   },
   {
    "duration": 14,
    "start_time": "2023-11-29T13:12:02.301Z"
   },
   {
    "duration": 13,
    "start_time": "2023-11-29T13:12:17.882Z"
   },
   {
    "duration": 15,
    "start_time": "2023-11-29T13:12:32.127Z"
   },
   {
    "duration": 102,
    "start_time": "2023-11-29T13:15:00.063Z"
   },
   {
    "duration": 24,
    "start_time": "2023-11-29T13:15:34.635Z"
   },
   {
    "duration": 15,
    "start_time": "2023-11-29T13:16:13.000Z"
   },
   {
    "duration": 16,
    "start_time": "2023-11-29T13:16:29.567Z"
   },
   {
    "duration": 208,
    "start_time": "2023-11-29T13:18:47.347Z"
   },
   {
    "duration": 19,
    "start_time": "2023-11-29T13:19:01.195Z"
   },
   {
    "duration": 201,
    "start_time": "2023-11-29T13:23:28.076Z"
   },
   {
    "duration": 20,
    "start_time": "2023-11-29T13:24:15.218Z"
   },
   {
    "duration": 183,
    "start_time": "2023-11-29T13:24:29.702Z"
   },
   {
    "duration": 422,
    "start_time": "2023-11-29T13:24:42.782Z"
   },
   {
    "duration": 376,
    "start_time": "2023-11-29T13:25:08.782Z"
   },
   {
    "duration": 445,
    "start_time": "2023-11-29T13:25:52.757Z"
   },
   {
    "duration": 392,
    "start_time": "2023-11-29T13:26:25.477Z"
   },
   {
    "duration": 380,
    "start_time": "2023-11-29T13:26:42.190Z"
   },
   {
    "duration": 417,
    "start_time": "2023-11-29T13:27:36.678Z"
   },
   {
    "duration": 376,
    "start_time": "2023-11-29T13:27:47.572Z"
   },
   {
    "duration": 19,
    "start_time": "2023-11-29T13:27:55.358Z"
   },
   {
    "duration": 17,
    "start_time": "2023-11-29T13:28:09.030Z"
   },
   {
    "duration": 116,
    "start_time": "2023-11-29T13:28:16.430Z"
   },
   {
    "duration": 371,
    "start_time": "2023-11-29T13:28:20.730Z"
   },
   {
    "duration": 510,
    "start_time": "2023-11-29T13:29:22.648Z"
   },
   {
    "duration": 388,
    "start_time": "2023-11-29T13:29:28.828Z"
   },
   {
    "duration": 386,
    "start_time": "2023-11-29T13:30:16.013Z"
   },
   {
    "duration": 30,
    "start_time": "2023-11-29T13:31:25.502Z"
   },
   {
    "duration": 561,
    "start_time": "2023-11-29T13:32:04.914Z"
   },
   {
    "duration": 390,
    "start_time": "2023-11-29T13:32:40.851Z"
   },
   {
    "duration": 19,
    "start_time": "2023-11-29T13:33:08.021Z"
   },
   {
    "duration": 207,
    "start_time": "2023-11-29T13:33:20.364Z"
   },
   {
    "duration": 215,
    "start_time": "2023-11-29T13:33:41.236Z"
   },
   {
    "duration": 222,
    "start_time": "2023-11-29T13:35:08.260Z"
   },
   {
    "duration": 224,
    "start_time": "2023-11-29T13:35:50.984Z"
   },
   {
    "duration": 211,
    "start_time": "2023-11-29T13:37:32.898Z"
   },
   {
    "duration": 223,
    "start_time": "2023-11-29T13:37:54.192Z"
   },
   {
    "duration": 158,
    "start_time": "2023-11-29T13:40:11.338Z"
   },
   {
    "duration": 190,
    "start_time": "2023-11-29T13:40:20.230Z"
   },
   {
    "duration": 489,
    "start_time": "2023-11-29T13:42:15.846Z"
   },
   {
    "duration": 389,
    "start_time": "2023-11-29T13:42:28.428Z"
   },
   {
    "duration": 382,
    "start_time": "2023-11-29T13:42:45.633Z"
   },
   {
    "duration": 28,
    "start_time": "2023-11-29T19:08:23.832Z"
   },
   {
    "duration": 20,
    "start_time": "2023-11-29T19:08:51.435Z"
   },
   {
    "duration": 132,
    "start_time": "2023-11-29T19:09:05.018Z"
   },
   {
    "duration": 30,
    "start_time": "2023-11-29T19:10:34.129Z"
   },
   {
    "duration": 1511,
    "start_time": "2023-11-29T19:15:52.953Z"
   },
   {
    "duration": 997,
    "start_time": "2023-11-29T19:16:10.806Z"
   },
   {
    "duration": 72,
    "start_time": "2023-11-29T19:16:11.805Z"
   },
   {
    "duration": 9,
    "start_time": "2023-11-29T19:16:11.878Z"
   },
   {
    "duration": 8,
    "start_time": "2023-11-29T19:16:11.889Z"
   },
   {
    "duration": 21,
    "start_time": "2023-11-29T19:16:11.899Z"
   },
   {
    "duration": 13,
    "start_time": "2023-11-29T19:16:11.922Z"
   },
   {
    "duration": 26,
    "start_time": "2023-11-29T19:16:11.936Z"
   },
   {
    "duration": 18,
    "start_time": "2023-11-29T19:16:11.964Z"
   },
   {
    "duration": 36,
    "start_time": "2023-11-29T19:16:11.984Z"
   },
   {
    "duration": 14,
    "start_time": "2023-11-29T19:16:12.022Z"
   },
   {
    "duration": 2,
    "start_time": "2023-11-29T19:16:12.037Z"
   },
   {
    "duration": 21,
    "start_time": "2023-11-29T19:16:12.041Z"
   },
   {
    "duration": 16,
    "start_time": "2023-11-29T19:16:12.063Z"
   },
   {
    "duration": 176,
    "start_time": "2023-11-29T19:16:12.080Z"
   },
   {
    "duration": 1521,
    "start_time": "2023-11-29T19:16:12.257Z"
   },
   {
    "duration": 0,
    "start_time": "2023-11-29T19:16:13.780Z"
   },
   {
    "duration": 0,
    "start_time": "2023-11-29T19:16:13.782Z"
   },
   {
    "duration": 0,
    "start_time": "2023-11-29T19:16:13.783Z"
   },
   {
    "duration": 0,
    "start_time": "2023-11-29T19:16:13.785Z"
   },
   {
    "duration": 0,
    "start_time": "2023-11-29T19:16:13.786Z"
   },
   {
    "duration": 0,
    "start_time": "2023-11-29T19:16:13.787Z"
   },
   {
    "duration": 0,
    "start_time": "2023-11-29T19:16:13.788Z"
   },
   {
    "duration": 0,
    "start_time": "2023-11-29T19:16:13.789Z"
   },
   {
    "duration": 0,
    "start_time": "2023-11-29T19:16:13.790Z"
   },
   {
    "duration": 0,
    "start_time": "2023-11-29T19:16:13.791Z"
   },
   {
    "duration": 0,
    "start_time": "2023-11-29T19:16:13.792Z"
   },
   {
    "duration": 0,
    "start_time": "2023-11-29T19:16:13.793Z"
   },
   {
    "duration": 0,
    "start_time": "2023-11-29T19:16:13.794Z"
   },
   {
    "duration": 0,
    "start_time": "2023-11-29T19:16:13.795Z"
   },
   {
    "duration": 0,
    "start_time": "2023-11-29T19:16:13.796Z"
   },
   {
    "duration": 0,
    "start_time": "2023-11-29T19:16:13.797Z"
   },
   {
    "duration": 0,
    "start_time": "2023-11-29T19:16:13.797Z"
   },
   {
    "duration": 0,
    "start_time": "2023-11-29T19:16:13.798Z"
   },
   {
    "duration": 0,
    "start_time": "2023-11-29T19:16:13.799Z"
   },
   {
    "duration": 0,
    "start_time": "2023-11-29T19:16:13.800Z"
   },
   {
    "duration": 0,
    "start_time": "2023-11-29T19:16:13.801Z"
   },
   {
    "duration": 1485,
    "start_time": "2023-11-29T19:17:04.207Z"
   },
   {
    "duration": 1256,
    "start_time": "2023-11-29T19:17:25.214Z"
   },
   {
    "duration": 229,
    "start_time": "2023-11-29T19:18:10.686Z"
   },
   {
    "duration": 234,
    "start_time": "2023-11-29T19:18:21.053Z"
   },
   {
    "duration": 234,
    "start_time": "2023-11-29T19:18:46.220Z"
   },
   {
    "duration": 24,
    "start_time": "2023-11-29T19:27:48.008Z"
   },
   {
    "duration": 221,
    "start_time": "2023-11-29T19:28:06.151Z"
   },
   {
    "duration": 225,
    "start_time": "2023-11-29T19:28:45.982Z"
   },
   {
    "duration": 291,
    "start_time": "2023-11-29T19:31:22.466Z"
   },
   {
    "duration": 3,
    "start_time": "2023-11-29T19:33:54.581Z"
   },
   {
    "duration": 17,
    "start_time": "2023-11-29T19:34:09.238Z"
   },
   {
    "duration": 17,
    "start_time": "2023-11-29T19:35:13.141Z"
   },
   {
    "duration": 1023,
    "start_time": "2023-11-29T19:35:24.425Z"
   },
   {
    "duration": 73,
    "start_time": "2023-11-29T19:35:25.450Z"
   },
   {
    "duration": 9,
    "start_time": "2023-11-29T19:35:25.524Z"
   },
   {
    "duration": 15,
    "start_time": "2023-11-29T19:35:25.535Z"
   },
   {
    "duration": 16,
    "start_time": "2023-11-29T19:35:25.551Z"
   },
   {
    "duration": 16,
    "start_time": "2023-11-29T19:35:25.568Z"
   },
   {
    "duration": 43,
    "start_time": "2023-11-29T19:35:25.585Z"
   },
   {
    "duration": 18,
    "start_time": "2023-11-29T19:35:25.630Z"
   },
   {
    "duration": 8,
    "start_time": "2023-11-29T19:35:25.649Z"
   },
   {
    "duration": 17,
    "start_time": "2023-11-29T19:35:25.659Z"
   },
   {
    "duration": 2,
    "start_time": "2023-11-29T19:35:25.677Z"
   },
   {
    "duration": 53,
    "start_time": "2023-11-29T19:35:25.681Z"
   },
   {
    "duration": 16,
    "start_time": "2023-11-29T19:35:25.736Z"
   },
   {
    "duration": 180,
    "start_time": "2023-11-29T19:35:25.754Z"
   },
   {
    "duration": 271,
    "start_time": "2023-11-29T19:35:25.935Z"
   },
   {
    "duration": 23,
    "start_time": "2023-11-29T19:35:26.208Z"
   },
   {
    "duration": 8,
    "start_time": "2023-11-29T19:35:26.233Z"
   },
   {
    "duration": 650,
    "start_time": "2023-11-29T19:35:26.242Z"
   },
   {
    "duration": 196,
    "start_time": "2023-11-29T19:35:26.893Z"
   },
   {
    "duration": 0,
    "start_time": "2023-11-29T19:35:27.090Z"
   },
   {
    "duration": 0,
    "start_time": "2023-11-29T19:35:27.092Z"
   },
   {
    "duration": 0,
    "start_time": "2023-11-29T19:35:27.093Z"
   },
   {
    "duration": 0,
    "start_time": "2023-11-29T19:35:27.094Z"
   },
   {
    "duration": 0,
    "start_time": "2023-11-29T19:35:27.095Z"
   },
   {
    "duration": 0,
    "start_time": "2023-11-29T19:35:27.097Z"
   },
   {
    "duration": 1,
    "start_time": "2023-11-29T19:35:27.115Z"
   },
   {
    "duration": 0,
    "start_time": "2023-11-29T19:35:27.117Z"
   },
   {
    "duration": 0,
    "start_time": "2023-11-29T19:35:27.118Z"
   },
   {
    "duration": 0,
    "start_time": "2023-11-29T19:35:27.119Z"
   },
   {
    "duration": 0,
    "start_time": "2023-11-29T19:35:27.120Z"
   },
   {
    "duration": 0,
    "start_time": "2023-11-29T19:35:27.121Z"
   },
   {
    "duration": 0,
    "start_time": "2023-11-29T19:35:27.122Z"
   },
   {
    "duration": 0,
    "start_time": "2023-11-29T19:35:27.123Z"
   },
   {
    "duration": 0,
    "start_time": "2023-11-29T19:35:27.125Z"
   },
   {
    "duration": 0,
    "start_time": "2023-11-29T19:35:27.125Z"
   },
   {
    "duration": 0,
    "start_time": "2023-11-29T19:35:27.126Z"
   },
   {
    "duration": 24,
    "start_time": "2023-11-29T19:37:37.142Z"
   },
   {
    "duration": 15,
    "start_time": "2023-11-29T19:45:08.733Z"
   },
   {
    "duration": 10,
    "start_time": "2023-11-29T19:48:32.955Z"
   },
   {
    "duration": 114,
    "start_time": "2023-11-29T19:48:52.666Z"
   },
   {
    "duration": 189,
    "start_time": "2023-11-29T19:51:22.641Z"
   },
   {
    "duration": 115,
    "start_time": "2023-11-29T19:51:52.518Z"
   },
   {
    "duration": 147,
    "start_time": "2023-11-29T19:52:04.246Z"
   },
   {
    "duration": 147,
    "start_time": "2023-11-29T19:53:03.188Z"
   },
   {
    "duration": 161,
    "start_time": "2023-11-29T19:53:24.916Z"
   },
   {
    "duration": 16,
    "start_time": "2023-11-29T19:56:15.658Z"
   },
   {
    "duration": 1359,
    "start_time": "2023-11-29T19:56:42.072Z"
   },
   {
    "duration": 1301,
    "start_time": "2023-11-29T19:57:25.351Z"
   },
   {
    "duration": 284,
    "start_time": "2023-11-29T19:58:51.455Z"
   },
   {
    "duration": 79,
    "start_time": "2023-11-29T19:59:03.934Z"
   },
   {
    "duration": 274,
    "start_time": "2023-11-29T19:59:18.181Z"
   },
   {
    "duration": 288,
    "start_time": "2023-11-29T20:00:18.084Z"
   },
   {
    "duration": 346,
    "start_time": "2023-11-29T20:01:05.187Z"
   },
   {
    "duration": 292,
    "start_time": "2023-11-29T20:02:20.012Z"
   },
   {
    "duration": 253,
    "start_time": "2023-11-29T20:05:57.990Z"
   },
   {
    "duration": 265,
    "start_time": "2023-11-29T20:06:34.516Z"
   },
   {
    "duration": 413,
    "start_time": "2023-11-29T20:09:53.856Z"
   },
   {
    "duration": 464,
    "start_time": "2023-11-29T20:11:24.295Z"
   },
   {
    "duration": 312,
    "start_time": "2023-11-29T20:12:04.430Z"
   },
   {
    "duration": 278,
    "start_time": "2023-11-29T20:13:07.012Z"
   },
   {
    "duration": 8,
    "start_time": "2023-11-29T20:22:31.688Z"
   },
   {
    "duration": 20,
    "start_time": "2023-11-29T20:22:39.679Z"
   },
   {
    "duration": 20,
    "start_time": "2023-11-29T20:22:52.223Z"
   },
   {
    "duration": 21,
    "start_time": "2023-11-29T20:23:01.319Z"
   },
   {
    "duration": 25,
    "start_time": "2023-11-29T20:23:14.263Z"
   },
   {
    "duration": 14,
    "start_time": "2023-11-29T20:25:23.723Z"
   },
   {
    "duration": 14,
    "start_time": "2023-11-29T20:30:54.725Z"
   },
   {
    "duration": 13,
    "start_time": "2023-11-29T20:31:19.140Z"
   },
   {
    "duration": 68,
    "start_time": "2023-11-29T20:32:00.211Z"
   },
   {
    "duration": 102,
    "start_time": "2023-11-29T20:32:39.258Z"
   },
   {
    "duration": 228,
    "start_time": "2023-11-29T20:33:41.385Z"
   },
   {
    "duration": 218,
    "start_time": "2023-11-29T20:34:05.184Z"
   },
   {
    "duration": 226,
    "start_time": "2023-11-29T20:36:22.589Z"
   },
   {
    "duration": 122,
    "start_time": "2023-11-29T20:36:52.548Z"
   },
   {
    "duration": 143,
    "start_time": "2023-11-29T20:37:14.828Z"
   },
   {
    "duration": 25,
    "start_time": "2023-11-29T20:39:47.201Z"
   },
   {
    "duration": 100,
    "start_time": "2023-11-29T20:39:51.530Z"
   },
   {
    "duration": 636,
    "start_time": "2023-11-30T05:42:14.398Z"
   },
   {
    "duration": 20545,
    "start_time": "2023-11-30T05:42:47.551Z"
   },
   {
    "duration": 960,
    "start_time": "2023-11-30T05:43:27.552Z"
   },
   {
    "duration": 72,
    "start_time": "2023-11-30T05:43:28.516Z"
   },
   {
    "duration": 9,
    "start_time": "2023-11-30T05:43:28.589Z"
   },
   {
    "duration": 26,
    "start_time": "2023-11-30T05:43:28.600Z"
   },
   {
    "duration": 19,
    "start_time": "2023-11-30T05:43:28.627Z"
   },
   {
    "duration": 17,
    "start_time": "2023-11-30T05:43:28.647Z"
   },
   {
    "duration": 23,
    "start_time": "2023-11-30T05:43:28.665Z"
   },
   {
    "duration": 18,
    "start_time": "2023-11-30T05:43:28.689Z"
   },
   {
    "duration": 7,
    "start_time": "2023-11-30T05:43:28.708Z"
   },
   {
    "duration": 12,
    "start_time": "2023-11-30T05:43:28.716Z"
   },
   {
    "duration": 2,
    "start_time": "2023-11-30T05:43:28.729Z"
   },
   {
    "duration": 23,
    "start_time": "2023-11-30T05:43:28.732Z"
   },
   {
    "duration": 16,
    "start_time": "2023-11-30T05:43:28.756Z"
   },
   {
    "duration": 12,
    "start_time": "2023-11-30T05:43:28.774Z"
   },
   {
    "duration": 327,
    "start_time": "2023-11-30T05:43:28.787Z"
   },
   {
    "duration": 255,
    "start_time": "2023-11-30T05:43:29.115Z"
   },
   {
    "duration": 13,
    "start_time": "2023-11-30T05:43:29.371Z"
   },
   {
    "duration": 141,
    "start_time": "2023-11-30T05:43:29.385Z"
   },
   {
    "duration": 20500,
    "start_time": "2023-11-30T05:43:29.527Z"
   },
   {
    "duration": 189,
    "start_time": "2023-11-30T05:43:50.028Z"
   },
   {
    "duration": 0,
    "start_time": "2023-11-30T05:43:50.219Z"
   },
   {
    "duration": 0,
    "start_time": "2023-11-30T05:43:50.220Z"
   },
   {
    "duration": 0,
    "start_time": "2023-11-30T05:43:50.221Z"
   },
   {
    "duration": 0,
    "start_time": "2023-11-30T05:43:50.222Z"
   },
   {
    "duration": 0,
    "start_time": "2023-11-30T05:43:50.222Z"
   },
   {
    "duration": 0,
    "start_time": "2023-11-30T05:43:50.223Z"
   },
   {
    "duration": 0,
    "start_time": "2023-11-30T05:43:50.224Z"
   },
   {
    "duration": 0,
    "start_time": "2023-11-30T05:43:50.225Z"
   },
   {
    "duration": 0,
    "start_time": "2023-11-30T05:43:50.226Z"
   },
   {
    "duration": 0,
    "start_time": "2023-11-30T05:43:50.227Z"
   },
   {
    "duration": 0,
    "start_time": "2023-11-30T05:43:50.227Z"
   },
   {
    "duration": 0,
    "start_time": "2023-11-30T05:43:50.228Z"
   },
   {
    "duration": 0,
    "start_time": "2023-11-30T05:43:50.229Z"
   },
   {
    "duration": 0,
    "start_time": "2023-11-30T05:43:50.230Z"
   },
   {
    "duration": 0,
    "start_time": "2023-11-30T05:43:50.231Z"
   },
   {
    "duration": 0,
    "start_time": "2023-11-30T05:43:50.232Z"
   },
   {
    "duration": 0,
    "start_time": "2023-11-30T05:43:50.232Z"
   },
   {
    "duration": 562,
    "start_time": "2023-11-30T05:44:38.993Z"
   },
   {
    "duration": 20448,
    "start_time": "2023-11-30T05:46:44.631Z"
   },
   {
    "duration": 0,
    "start_time": "2023-11-30T05:47:42.042Z"
   },
   {
    "duration": 540,
    "start_time": "2023-11-30T05:48:02.648Z"
   },
   {
    "duration": 13,
    "start_time": "2023-11-30T05:52:03.526Z"
   },
   {
    "duration": 136,
    "start_time": "2023-11-30T05:52:11.254Z"
   },
   {
    "duration": 151,
    "start_time": "2023-11-30T05:52:28.699Z"
   },
   {
    "duration": 9,
    "start_time": "2023-11-30T05:53:02.791Z"
   },
   {
    "duration": 617,
    "start_time": "2023-11-30T05:53:33.684Z"
   },
   {
    "duration": 13,
    "start_time": "2023-11-30T05:54:55.303Z"
   },
   {
    "duration": 149,
    "start_time": "2023-11-30T05:54:59.802Z"
   },
   {
    "duration": 14,
    "start_time": "2023-11-30T05:56:33.399Z"
   },
   {
    "duration": 149,
    "start_time": "2023-11-30T05:56:36.833Z"
   },
   {
    "duration": 642,
    "start_time": "2023-11-30T06:03:40.867Z"
   },
   {
    "duration": 99,
    "start_time": "2023-11-30T06:04:53.644Z"
   },
   {
    "duration": 990,
    "start_time": "2023-11-30T08:18:13.055Z"
   },
   {
    "duration": 75,
    "start_time": "2023-11-30T08:18:14.047Z"
   },
   {
    "duration": 11,
    "start_time": "2023-11-30T08:18:14.123Z"
   },
   {
    "duration": 3,
    "start_time": "2023-11-30T08:18:14.135Z"
   },
   {
    "duration": 17,
    "start_time": "2023-11-30T08:18:14.139Z"
   },
   {
    "duration": 11,
    "start_time": "2023-11-30T08:18:14.157Z"
   },
   {
    "duration": 19,
    "start_time": "2023-11-30T08:18:14.169Z"
   },
   {
    "duration": 37,
    "start_time": "2023-11-30T08:18:14.190Z"
   },
   {
    "duration": 8,
    "start_time": "2023-11-30T08:18:14.228Z"
   },
   {
    "duration": 14,
    "start_time": "2023-11-30T08:18:14.238Z"
   },
   {
    "duration": 5,
    "start_time": "2023-11-30T08:18:14.253Z"
   },
   {
    "duration": 27,
    "start_time": "2023-11-30T08:18:14.259Z"
   },
   {
    "duration": 36,
    "start_time": "2023-11-30T08:18:14.287Z"
   },
   {
    "duration": 15,
    "start_time": "2023-11-30T08:18:14.324Z"
   },
   {
    "duration": 320,
    "start_time": "2023-11-30T08:18:14.340Z"
   },
   {
    "duration": 283,
    "start_time": "2023-11-30T08:18:14.662Z"
   },
   {
    "duration": 12,
    "start_time": "2023-11-30T08:18:14.947Z"
   },
   {
    "duration": 163,
    "start_time": "2023-11-30T08:18:14.961Z"
   },
   {
    "duration": 669,
    "start_time": "2023-11-30T08:18:15.125Z"
   },
   {
    "duration": 195,
    "start_time": "2023-11-30T08:18:15.795Z"
   },
   {
    "duration": 0,
    "start_time": "2023-11-30T08:18:15.991Z"
   },
   {
    "duration": 0,
    "start_time": "2023-11-30T08:18:15.992Z"
   },
   {
    "duration": 0,
    "start_time": "2023-11-30T08:18:15.993Z"
   },
   {
    "duration": 0,
    "start_time": "2023-11-30T08:18:15.994Z"
   },
   {
    "duration": 0,
    "start_time": "2023-11-30T08:18:15.995Z"
   },
   {
    "duration": 0,
    "start_time": "2023-11-30T08:18:15.996Z"
   },
   {
    "duration": 0,
    "start_time": "2023-11-30T08:18:16.015Z"
   },
   {
    "duration": 0,
    "start_time": "2023-11-30T08:18:16.016Z"
   },
   {
    "duration": 0,
    "start_time": "2023-11-30T08:18:16.016Z"
   },
   {
    "duration": 0,
    "start_time": "2023-11-30T08:18:16.017Z"
   },
   {
    "duration": 0,
    "start_time": "2023-11-30T08:18:16.018Z"
   },
   {
    "duration": 0,
    "start_time": "2023-11-30T08:18:16.019Z"
   },
   {
    "duration": 0,
    "start_time": "2023-11-30T08:18:16.020Z"
   },
   {
    "duration": 0,
    "start_time": "2023-11-30T08:18:16.021Z"
   },
   {
    "duration": 0,
    "start_time": "2023-11-30T08:18:16.021Z"
   },
   {
    "duration": 0,
    "start_time": "2023-11-30T08:18:16.022Z"
   },
   {
    "duration": 0,
    "start_time": "2023-11-30T08:18:16.023Z"
   },
   {
    "duration": 16,
    "start_time": "2023-11-30T08:20:19.112Z"
   },
   {
    "duration": 9,
    "start_time": "2023-11-30T08:20:26.822Z"
   },
   {
    "duration": 9,
    "start_time": "2023-11-30T08:23:16.538Z"
   },
   {
    "duration": 15,
    "start_time": "2023-11-30T08:25:05.880Z"
   },
   {
    "duration": 14,
    "start_time": "2023-11-30T08:27:41.100Z"
   },
   {
    "duration": 182,
    "start_time": "2023-11-30T08:27:50.264Z"
   },
   {
    "duration": 109,
    "start_time": "2023-11-30T08:27:56.406Z"
   },
   {
    "duration": 116,
    "start_time": "2023-11-30T08:27:58.967Z"
   },
   {
    "duration": 6,
    "start_time": "2023-11-30T08:28:28.166Z"
   },
   {
    "duration": 5,
    "start_time": "2023-11-30T08:28:31.247Z"
   },
   {
    "duration": 6,
    "start_time": "2023-11-30T08:28:35.665Z"
   },
   {
    "duration": 9,
    "start_time": "2023-11-30T08:28:47.195Z"
   },
   {
    "duration": 25,
    "start_time": "2023-11-30T08:29:19.762Z"
   },
   {
    "duration": 21,
    "start_time": "2023-11-30T08:29:31.662Z"
   },
   {
    "duration": 23,
    "start_time": "2023-11-30T08:29:39.503Z"
   },
   {
    "duration": 15,
    "start_time": "2023-11-30T08:30:56.066Z"
   },
   {
    "duration": 7,
    "start_time": "2023-11-30T08:31:45.373Z"
   },
   {
    "duration": 13,
    "start_time": "2023-11-30T08:31:51.716Z"
   },
   {
    "duration": 1021,
    "start_time": "2023-11-30T08:32:02.603Z"
   },
   {
    "duration": 73,
    "start_time": "2023-11-30T08:32:03.625Z"
   },
   {
    "duration": 2,
    "start_time": "2023-11-30T08:32:03.699Z"
   },
   {
    "duration": 25,
    "start_time": "2023-11-30T08:32:03.703Z"
   },
   {
    "duration": 9,
    "start_time": "2023-11-30T08:32:03.730Z"
   },
   {
    "duration": 19,
    "start_time": "2023-11-30T08:32:03.740Z"
   },
   {
    "duration": 16,
    "start_time": "2023-11-30T08:32:03.760Z"
   },
   {
    "duration": 5,
    "start_time": "2023-11-30T08:32:03.778Z"
   },
   {
    "duration": 29,
    "start_time": "2023-11-30T08:32:03.784Z"
   },
   {
    "duration": 2,
    "start_time": "2023-11-30T08:32:03.814Z"
   },
   {
    "duration": 21,
    "start_time": "2023-11-30T08:32:03.817Z"
   },
   {
    "duration": 16,
    "start_time": "2023-11-30T08:32:03.840Z"
   },
   {
    "duration": 23,
    "start_time": "2023-11-30T08:32:03.857Z"
   },
   {
    "duration": 305,
    "start_time": "2023-11-30T08:32:03.883Z"
   },
   {
    "duration": 254,
    "start_time": "2023-11-30T08:32:04.190Z"
   },
   {
    "duration": 12,
    "start_time": "2023-11-30T08:32:04.446Z"
   },
   {
    "duration": 159,
    "start_time": "2023-11-30T08:32:04.460Z"
   },
   {
    "duration": 633,
    "start_time": "2023-11-30T08:32:04.620Z"
   },
   {
    "duration": 220,
    "start_time": "2023-11-30T08:32:05.254Z"
   },
   {
    "duration": 9,
    "start_time": "2023-11-30T08:32:05.476Z"
   },
   {
    "duration": 14,
    "start_time": "2023-11-30T08:32:05.486Z"
   },
   {
    "duration": 26,
    "start_time": "2023-11-30T08:32:05.501Z"
   },
   {
    "duration": 167,
    "start_time": "2023-11-30T08:32:05.528Z"
   },
   {
    "duration": 122,
    "start_time": "2023-11-30T08:32:05.697Z"
   },
   {
    "duration": 126,
    "start_time": "2023-11-30T08:32:05.820Z"
   },
   {
    "duration": 5,
    "start_time": "2023-11-30T08:32:05.947Z"
   },
   {
    "duration": 37,
    "start_time": "2023-11-30T08:32:05.953Z"
   },
   {
    "duration": 16,
    "start_time": "2023-11-30T08:32:05.991Z"
   },
   {
    "duration": 12,
    "start_time": "2023-11-30T08:32:06.008Z"
   },
   {
    "duration": 21,
    "start_time": "2023-11-30T08:32:06.021Z"
   },
   {
    "duration": 20,
    "start_time": "2023-11-30T08:32:06.043Z"
   },
   {
    "duration": 20,
    "start_time": "2023-11-30T08:32:06.064Z"
   },
   {
    "duration": 113,
    "start_time": "2023-11-30T08:32:06.085Z"
   },
   {
    "duration": 0,
    "start_time": "2023-11-30T08:32:06.199Z"
   },
   {
    "duration": 0,
    "start_time": "2023-11-30T08:32:06.200Z"
   },
   {
    "duration": 0,
    "start_time": "2023-11-30T08:32:06.201Z"
   },
   {
    "duration": 17,
    "start_time": "2023-11-30T08:32:52.922Z"
   },
   {
    "duration": 998,
    "start_time": "2023-11-30T08:32:58.713Z"
   },
   {
    "duration": 72,
    "start_time": "2023-11-30T08:32:59.715Z"
   },
   {
    "duration": 2,
    "start_time": "2023-11-30T08:32:59.788Z"
   },
   {
    "duration": 18,
    "start_time": "2023-11-30T08:32:59.792Z"
   },
   {
    "duration": 10,
    "start_time": "2023-11-30T08:32:59.811Z"
   },
   {
    "duration": 20,
    "start_time": "2023-11-30T08:32:59.822Z"
   },
   {
    "duration": 18,
    "start_time": "2023-11-30T08:32:59.843Z"
   },
   {
    "duration": 7,
    "start_time": "2023-11-30T08:32:59.862Z"
   },
   {
    "duration": 27,
    "start_time": "2023-11-30T08:32:59.870Z"
   },
   {
    "duration": 2,
    "start_time": "2023-11-30T08:32:59.899Z"
   },
   {
    "duration": 33,
    "start_time": "2023-11-30T08:32:59.902Z"
   },
   {
    "duration": 15,
    "start_time": "2023-11-30T08:32:59.936Z"
   },
   {
    "duration": 22,
    "start_time": "2023-11-30T08:32:59.952Z"
   },
   {
    "duration": 311,
    "start_time": "2023-11-30T08:32:59.975Z"
   },
   {
    "duration": 300,
    "start_time": "2023-11-30T08:33:00.288Z"
   },
   {
    "duration": 17,
    "start_time": "2023-11-30T08:33:00.589Z"
   },
   {
    "duration": 192,
    "start_time": "2023-11-30T08:33:00.608Z"
   },
   {
    "duration": 626,
    "start_time": "2023-11-30T08:33:00.801Z"
   },
   {
    "duration": 219,
    "start_time": "2023-11-30T08:33:01.428Z"
   },
   {
    "duration": 9,
    "start_time": "2023-11-30T08:33:01.649Z"
   },
   {
    "duration": 32,
    "start_time": "2023-11-30T08:33:01.660Z"
   },
   {
    "duration": 39,
    "start_time": "2023-11-30T08:33:01.694Z"
   },
   {
    "duration": 154,
    "start_time": "2023-11-30T08:33:01.735Z"
   },
   {
    "duration": 126,
    "start_time": "2023-11-30T08:33:01.891Z"
   },
   {
    "duration": 127,
    "start_time": "2023-11-30T08:33:02.018Z"
   },
   {
    "duration": 6,
    "start_time": "2023-11-30T08:33:02.147Z"
   },
   {
    "duration": 11,
    "start_time": "2023-11-30T08:33:02.155Z"
   },
   {
    "duration": 22,
    "start_time": "2023-11-30T08:33:02.169Z"
   },
   {
    "duration": 44,
    "start_time": "2023-11-30T08:33:02.192Z"
   },
   {
    "duration": 30,
    "start_time": "2023-11-30T08:33:02.237Z"
   },
   {
    "duration": 24,
    "start_time": "2023-11-30T08:33:02.268Z"
   },
   {
    "duration": 20,
    "start_time": "2023-11-30T08:33:02.293Z"
   },
   {
    "duration": 93,
    "start_time": "2023-11-30T08:33:02.314Z"
   },
   {
    "duration": 0,
    "start_time": "2023-11-30T08:33:02.415Z"
   },
   {
    "duration": 0,
    "start_time": "2023-11-30T08:33:02.415Z"
   },
   {
    "duration": 0,
    "start_time": "2023-11-30T08:33:02.416Z"
   },
   {
    "duration": 14,
    "start_time": "2023-11-30T08:33:23.876Z"
   },
   {
    "duration": 14,
    "start_time": "2023-11-30T08:34:36.689Z"
   },
   {
    "duration": 165,
    "start_time": "2023-11-30T10:10:30.228Z"
   },
   {
    "duration": 151,
    "start_time": "2023-11-30T10:11:08.692Z"
   },
   {
    "duration": 151,
    "start_time": "2023-11-30T10:11:21.409Z"
   },
   {
    "duration": 18,
    "start_time": "2023-11-30T10:17:08.439Z"
   },
   {
    "duration": 181,
    "start_time": "2023-11-30T10:17:46.979Z"
   },
   {
    "duration": 185,
    "start_time": "2023-11-30T10:17:55.842Z"
   },
   {
    "duration": 328,
    "start_time": "2023-11-30T10:18:45.528Z"
   },
   {
    "duration": 192,
    "start_time": "2023-11-30T10:18:58.818Z"
   },
   {
    "duration": 11,
    "start_time": "2023-11-30T10:19:32.751Z"
   },
   {
    "duration": 203,
    "start_time": "2023-11-30T10:20:26.694Z"
   },
   {
    "duration": 209,
    "start_time": "2023-11-30T10:20:36.051Z"
   },
   {
    "duration": 20,
    "start_time": "2023-11-30T10:21:35.067Z"
   },
   {
    "duration": 218,
    "start_time": "2023-11-30T10:23:10.782Z"
   },
   {
    "duration": 279,
    "start_time": "2023-11-30T10:28:35.455Z"
   },
   {
    "duration": 208,
    "start_time": "2023-11-30T10:28:43.837Z"
   },
   {
    "duration": 96,
    "start_time": "2023-11-30T11:30:10.849Z"
   },
   {
    "duration": 1238,
    "start_time": "2023-11-30T11:30:51.629Z"
   },
   {
    "duration": 145,
    "start_time": "2023-11-30T11:31:08.695Z"
   },
   {
    "duration": 145,
    "start_time": "2023-11-30T11:31:55.484Z"
   },
   {
    "duration": 1232,
    "start_time": "2023-11-30T12:24:09.564Z"
   },
   {
    "duration": 1282,
    "start_time": "2023-11-30T12:24:39.802Z"
   },
   {
    "duration": 128,
    "start_time": "2023-11-30T12:26:21.167Z"
   },
   {
    "duration": 107,
    "start_time": "2023-11-30T12:26:51.944Z"
   },
   {
    "duration": 132,
    "start_time": "2023-11-30T12:29:59.602Z"
   },
   {
    "duration": 107,
    "start_time": "2023-11-30T12:30:40.813Z"
   },
   {
    "duration": 141,
    "start_time": "2023-11-30T12:31:00.423Z"
   },
   {
    "duration": 152,
    "start_time": "2023-11-30T12:32:25.352Z"
   },
   {
    "duration": 132,
    "start_time": "2023-11-30T12:32:36.396Z"
   },
   {
    "duration": 22,
    "start_time": "2023-11-30T12:44:43.754Z"
   },
   {
    "duration": 5,
    "start_time": "2023-11-30T12:45:23.313Z"
   },
   {
    "duration": 16,
    "start_time": "2023-11-30T12:45:28.853Z"
   },
   {
    "duration": 16,
    "start_time": "2023-11-30T12:45:43.805Z"
   },
   {
    "duration": 16,
    "start_time": "2023-11-30T12:45:56.652Z"
   },
   {
    "duration": 6,
    "start_time": "2023-11-30T12:46:27.215Z"
   },
   {
    "duration": 17,
    "start_time": "2023-11-30T12:46:31.253Z"
   },
   {
    "duration": 20,
    "start_time": "2023-11-30T12:47:54.650Z"
   },
   {
    "duration": 16,
    "start_time": "2023-11-30T12:48:04.021Z"
   },
   {
    "duration": 13,
    "start_time": "2023-11-30T12:48:35.554Z"
   },
   {
    "duration": 15,
    "start_time": "2023-11-30T12:49:39.963Z"
   },
   {
    "duration": 12,
    "start_time": "2023-11-30T12:49:48.879Z"
   },
   {
    "duration": 939,
    "start_time": "2023-11-30T12:49:58.568Z"
   },
   {
    "duration": 69,
    "start_time": "2023-11-30T12:49:59.508Z"
   },
   {
    "duration": 2,
    "start_time": "2023-11-30T12:49:59.579Z"
   },
   {
    "duration": 25,
    "start_time": "2023-11-30T12:49:59.583Z"
   },
   {
    "duration": 10,
    "start_time": "2023-11-30T12:49:59.610Z"
   },
   {
    "duration": 29,
    "start_time": "2023-11-30T12:49:59.622Z"
   },
   {
    "duration": 17,
    "start_time": "2023-11-30T12:49:59.652Z"
   },
   {
    "duration": 5,
    "start_time": "2023-11-30T12:49:59.671Z"
   },
   {
    "duration": 23,
    "start_time": "2023-11-30T12:49:59.677Z"
   },
   {
    "duration": 2,
    "start_time": "2023-11-30T12:49:59.701Z"
   },
   {
    "duration": 30,
    "start_time": "2023-11-30T12:49:59.704Z"
   },
   {
    "duration": 14,
    "start_time": "2023-11-30T12:49:59.735Z"
   },
   {
    "duration": 25,
    "start_time": "2023-11-30T12:49:59.750Z"
   },
   {
    "duration": 297,
    "start_time": "2023-11-30T12:49:59.777Z"
   },
   {
    "duration": 266,
    "start_time": "2023-11-30T12:50:00.076Z"
   },
   {
    "duration": 20,
    "start_time": "2023-11-30T12:50:00.343Z"
   },
   {
    "duration": 178,
    "start_time": "2023-11-30T12:50:00.364Z"
   },
   {
    "duration": 634,
    "start_time": "2023-11-30T12:50:00.543Z"
   },
   {
    "duration": 268,
    "start_time": "2023-11-30T12:50:01.179Z"
   },
   {
    "duration": 234,
    "start_time": "2023-11-30T12:50:01.449Z"
   },
   {
    "duration": 9,
    "start_time": "2023-11-30T12:50:01.685Z"
   },
   {
    "duration": 181,
    "start_time": "2023-11-30T12:50:01.695Z"
   },
   {
    "duration": 14,
    "start_time": "2023-11-30T12:50:01.877Z"
   },
   {
    "duration": 133,
    "start_time": "2023-11-30T12:50:01.892Z"
   },
   {
    "duration": 109,
    "start_time": "2023-11-30T12:50:02.027Z"
   },
   {
    "duration": 126,
    "start_time": "2023-11-30T12:50:02.137Z"
   },
   {
    "duration": 6,
    "start_time": "2023-11-30T12:50:02.264Z"
   },
   {
    "duration": 15,
    "start_time": "2023-11-30T12:50:02.271Z"
   },
   {
    "duration": 29,
    "start_time": "2023-11-30T12:50:02.287Z"
   },
   {
    "duration": 10,
    "start_time": "2023-11-30T12:50:02.317Z"
   },
   {
    "duration": 141,
    "start_time": "2023-11-30T12:50:02.328Z"
   },
   {
    "duration": 152,
    "start_time": "2023-11-30T12:50:02.470Z"
   },
   {
    "duration": 141,
    "start_time": "2023-11-30T12:50:02.624Z"
   },
   {
    "duration": 103,
    "start_time": "2023-11-30T12:50:02.766Z"
   },
   {
    "duration": 0,
    "start_time": "2023-11-30T12:50:02.871Z"
   },
   {
    "duration": 0,
    "start_time": "2023-11-30T12:50:02.872Z"
   },
   {
    "duration": 0,
    "start_time": "2023-11-30T12:50:02.873Z"
   },
   {
    "duration": 20,
    "start_time": "2023-11-30T12:53:21.700Z"
   },
   {
    "duration": 17,
    "start_time": "2023-11-30T12:53:33.596Z"
   },
   {
    "duration": 14,
    "start_time": "2023-11-30T12:53:42.234Z"
   },
   {
    "duration": 17,
    "start_time": "2023-11-30T12:53:59.669Z"
   },
   {
    "duration": 12,
    "start_time": "2023-11-30T12:54:13.978Z"
   },
   {
    "duration": 13,
    "start_time": "2023-11-30T12:54:23.361Z"
   },
   {
    "duration": 22,
    "start_time": "2023-11-30T12:54:44.184Z"
   },
   {
    "duration": 6,
    "start_time": "2023-11-30T12:54:50.728Z"
   },
   {
    "duration": 10,
    "start_time": "2023-11-30T12:54:57.993Z"
   },
   {
    "duration": 4,
    "start_time": "2023-11-30T12:56:03.948Z"
   },
   {
    "duration": 9,
    "start_time": "2023-11-30T12:56:33.034Z"
   },
   {
    "duration": 11,
    "start_time": "2023-11-30T12:56:45.067Z"
   },
   {
    "duration": 8,
    "start_time": "2023-11-30T12:56:56.836Z"
   },
   {
    "duration": 17,
    "start_time": "2023-11-30T12:58:24.768Z"
   },
   {
    "duration": 8,
    "start_time": "2023-11-30T12:59:04.814Z"
   },
   {
    "duration": 6,
    "start_time": "2023-11-30T12:59:25.963Z"
   },
   {
    "duration": 17,
    "start_time": "2023-11-30T13:00:21.898Z"
   },
   {
    "duration": 18,
    "start_time": "2023-11-30T13:01:08.732Z"
   },
   {
    "duration": 18,
    "start_time": "2023-11-30T13:01:12.490Z"
   },
   {
    "duration": 8,
    "start_time": "2023-11-30T15:24:39.278Z"
   },
   {
    "duration": 1473,
    "start_time": "2023-11-30T15:26:00.201Z"
   },
   {
    "duration": 6,
    "start_time": "2023-11-30T15:27:29.299Z"
   },
   {
    "duration": 7,
    "start_time": "2023-11-30T15:28:34.105Z"
   },
   {
    "duration": 4,
    "start_time": "2023-11-30T15:28:44.937Z"
   },
   {
    "duration": 7,
    "start_time": "2023-11-30T15:30:21.519Z"
   },
   {
    "duration": 231,
    "start_time": "2023-11-30T15:37:32.678Z"
   },
   {
    "duration": 4293,
    "start_time": "2023-11-30T15:38:27.108Z"
   },
   {
    "duration": 616,
    "start_time": "2023-11-30T15:39:06.754Z"
   },
   {
    "duration": 1221,
    "start_time": "2023-11-30T15:42:12.271Z"
   },
   {
    "duration": 1325,
    "start_time": "2023-11-30T15:42:34.918Z"
   },
   {
    "duration": 1252,
    "start_time": "2023-11-30T15:42:49.982Z"
   },
   {
    "duration": 18,
    "start_time": "2023-11-30T15:43:58.646Z"
   },
   {
    "duration": 983,
    "start_time": "2023-11-30T15:44:15.227Z"
   },
   {
    "duration": 73,
    "start_time": "2023-11-30T15:44:16.214Z"
   },
   {
    "duration": 2,
    "start_time": "2023-11-30T15:44:16.289Z"
   },
   {
    "duration": 18,
    "start_time": "2023-11-30T15:44:16.293Z"
   },
   {
    "duration": 13,
    "start_time": "2023-11-30T15:44:16.312Z"
   },
   {
    "duration": 19,
    "start_time": "2023-11-30T15:44:16.326Z"
   },
   {
    "duration": 19,
    "start_time": "2023-11-30T15:44:16.346Z"
   },
   {
    "duration": 5,
    "start_time": "2023-11-30T15:44:16.366Z"
   },
   {
    "duration": 15,
    "start_time": "2023-11-30T15:44:16.372Z"
   },
   {
    "duration": 2,
    "start_time": "2023-11-30T15:44:16.389Z"
   },
   {
    "duration": 20,
    "start_time": "2023-11-30T15:44:16.415Z"
   },
   {
    "duration": 15,
    "start_time": "2023-11-30T15:44:16.436Z"
   },
   {
    "duration": 14,
    "start_time": "2023-11-30T15:44:16.452Z"
   },
   {
    "duration": 322,
    "start_time": "2023-11-30T15:44:16.467Z"
   },
   {
    "duration": 252,
    "start_time": "2023-11-30T15:44:16.790Z"
   },
   {
    "duration": 19,
    "start_time": "2023-11-30T15:44:17.043Z"
   },
   {
    "duration": 167,
    "start_time": "2023-11-30T15:44:17.063Z"
   },
   {
    "duration": 1222,
    "start_time": "2023-11-30T15:44:17.232Z"
   },
   {
    "duration": 0,
    "start_time": "2023-11-30T15:44:18.456Z"
   },
   {
    "duration": 0,
    "start_time": "2023-11-30T15:44:18.457Z"
   },
   {
    "duration": 0,
    "start_time": "2023-11-30T15:44:18.458Z"
   },
   {
    "duration": 0,
    "start_time": "2023-11-30T15:44:18.458Z"
   },
   {
    "duration": 0,
    "start_time": "2023-11-30T15:44:18.459Z"
   },
   {
    "duration": 0,
    "start_time": "2023-11-30T15:44:18.459Z"
   },
   {
    "duration": 0,
    "start_time": "2023-11-30T15:44:18.460Z"
   },
   {
    "duration": 0,
    "start_time": "2023-11-30T15:44:18.461Z"
   },
   {
    "duration": 0,
    "start_time": "2023-11-30T15:44:18.462Z"
   },
   {
    "duration": 0,
    "start_time": "2023-11-30T15:44:18.462Z"
   },
   {
    "duration": 0,
    "start_time": "2023-11-30T15:44:18.463Z"
   },
   {
    "duration": 0,
    "start_time": "2023-11-30T15:44:18.464Z"
   },
   {
    "duration": 0,
    "start_time": "2023-11-30T15:44:18.465Z"
   },
   {
    "duration": 0,
    "start_time": "2023-11-30T15:44:18.465Z"
   },
   {
    "duration": 0,
    "start_time": "2023-11-30T15:44:18.466Z"
   },
   {
    "duration": 0,
    "start_time": "2023-11-30T15:44:18.467Z"
   },
   {
    "duration": 0,
    "start_time": "2023-11-30T15:44:18.468Z"
   },
   {
    "duration": 624,
    "start_time": "2023-11-30T15:51:19.670Z"
   },
   {
    "duration": 569,
    "start_time": "2023-11-30T15:53:01.611Z"
   },
   {
    "duration": 123,
    "start_time": "2023-11-30T16:23:29.058Z"
   },
   {
    "duration": 543,
    "start_time": "2023-11-30T16:24:02.146Z"
   },
   {
    "duration": 535,
    "start_time": "2023-11-30T16:24:48.661Z"
   },
   {
    "duration": 635,
    "start_time": "2023-11-30T16:25:03.447Z"
   },
   {
    "duration": 983,
    "start_time": "2023-11-30T16:25:39.006Z"
   },
   {
    "duration": 71,
    "start_time": "2023-11-30T16:25:39.990Z"
   },
   {
    "duration": 3,
    "start_time": "2023-11-30T16:25:40.063Z"
   },
   {
    "duration": 18,
    "start_time": "2023-11-30T16:25:40.068Z"
   },
   {
    "duration": 11,
    "start_time": "2023-11-30T16:25:40.088Z"
   },
   {
    "duration": 29,
    "start_time": "2023-11-30T16:25:40.100Z"
   },
   {
    "duration": 19,
    "start_time": "2023-11-30T16:25:40.130Z"
   },
   {
    "duration": 6,
    "start_time": "2023-11-30T16:25:40.150Z"
   },
   {
    "duration": 24,
    "start_time": "2023-11-30T16:25:40.157Z"
   },
   {
    "duration": 10,
    "start_time": "2023-11-30T16:25:40.183Z"
   },
   {
    "duration": 33,
    "start_time": "2023-11-30T16:25:40.194Z"
   },
   {
    "duration": 15,
    "start_time": "2023-11-30T16:25:40.229Z"
   },
   {
    "duration": 14,
    "start_time": "2023-11-30T16:25:40.245Z"
   },
   {
    "duration": 334,
    "start_time": "2023-11-30T16:25:40.260Z"
   },
   {
    "duration": 258,
    "start_time": "2023-11-30T16:25:40.595Z"
   },
   {
    "duration": 21,
    "start_time": "2023-11-30T16:25:40.855Z"
   },
   {
    "duration": 173,
    "start_time": "2023-11-30T16:25:40.878Z"
   },
   {
    "duration": 583,
    "start_time": "2023-11-30T16:25:41.053Z"
   },
   {
    "duration": 282,
    "start_time": "2023-11-30T16:25:41.638Z"
   },
   {
    "duration": 209,
    "start_time": "2023-11-30T16:25:41.921Z"
   },
   {
    "duration": 10,
    "start_time": "2023-11-30T16:25:42.131Z"
   },
   {
    "duration": 157,
    "start_time": "2023-11-30T16:25:42.143Z"
   },
   {
    "duration": 20,
    "start_time": "2023-11-30T16:25:42.302Z"
   },
   {
    "duration": 112,
    "start_time": "2023-11-30T16:25:42.323Z"
   },
   {
    "duration": 117,
    "start_time": "2023-11-30T16:25:42.436Z"
   },
   {
    "duration": 123,
    "start_time": "2023-11-30T16:25:42.554Z"
   },
   {
    "duration": 6,
    "start_time": "2023-11-30T16:25:42.678Z"
   },
   {
    "duration": 5,
    "start_time": "2023-11-30T16:25:42.686Z"
   },
   {
    "duration": 24,
    "start_time": "2023-11-30T16:25:42.693Z"
   },
   {
    "duration": 17,
    "start_time": "2023-11-30T16:25:42.718Z"
   },
   {
    "duration": 132,
    "start_time": "2023-11-30T16:25:42.736Z"
   },
   {
    "duration": 147,
    "start_time": "2023-11-30T16:25:42.869Z"
   },
   {
    "duration": 137,
    "start_time": "2023-11-30T16:25:43.018Z"
   },
   {
    "duration": 6,
    "start_time": "2023-11-30T16:25:43.156Z"
   },
   {
    "duration": 17,
    "start_time": "2023-11-30T16:25:43.163Z"
   },
   {
    "duration": 116,
    "start_time": "2023-11-30T16:37:31.374Z"
   },
   {
    "duration": 109,
    "start_time": "2023-11-30T16:37:43.287Z"
   },
   {
    "duration": 107,
    "start_time": "2023-11-30T16:37:55.166Z"
   },
   {
    "duration": 1290,
    "start_time": "2023-12-01T06:15:15.678Z"
   },
   {
    "duration": 132,
    "start_time": "2023-12-01T06:15:16.969Z"
   },
   {
    "duration": 2,
    "start_time": "2023-12-01T06:15:17.103Z"
   },
   {
    "duration": 19,
    "start_time": "2023-12-01T06:15:17.107Z"
   },
   {
    "duration": 13,
    "start_time": "2023-12-01T06:15:17.127Z"
   },
   {
    "duration": 42,
    "start_time": "2023-12-01T06:15:17.141Z"
   },
   {
    "duration": 20,
    "start_time": "2023-12-01T06:15:17.184Z"
   },
   {
    "duration": 6,
    "start_time": "2023-12-01T06:15:17.206Z"
   },
   {
    "duration": 16,
    "start_time": "2023-12-01T06:15:17.213Z"
   },
   {
    "duration": 2,
    "start_time": "2023-12-01T06:15:17.231Z"
   },
   {
    "duration": 48,
    "start_time": "2023-12-01T06:15:17.235Z"
   },
   {
    "duration": 19,
    "start_time": "2023-12-01T06:15:17.285Z"
   },
   {
    "duration": 15,
    "start_time": "2023-12-01T06:15:17.305Z"
   },
   {
    "duration": 371,
    "start_time": "2023-12-01T06:15:17.322Z"
   },
   {
    "duration": 311,
    "start_time": "2023-12-01T06:15:17.694Z"
   },
   {
    "duration": 22,
    "start_time": "2023-12-01T06:15:18.007Z"
   },
   {
    "duration": 194,
    "start_time": "2023-12-01T06:15:18.031Z"
   },
   {
    "duration": 657,
    "start_time": "2023-12-01T06:15:18.226Z"
   },
   {
    "duration": 368,
    "start_time": "2023-12-01T06:15:18.885Z"
   },
   {
    "duration": 271,
    "start_time": "2023-12-01T06:15:19.254Z"
   },
   {
    "duration": 16,
    "start_time": "2023-12-01T06:15:19.527Z"
   },
   {
    "duration": 213,
    "start_time": "2023-12-01T06:15:19.544Z"
   },
   {
    "duration": 25,
    "start_time": "2023-12-01T06:15:19.758Z"
   },
   {
    "duration": 155,
    "start_time": "2023-12-01T06:15:19.784Z"
   },
   {
    "duration": 154,
    "start_time": "2023-12-01T06:15:19.941Z"
   },
   {
    "duration": 155,
    "start_time": "2023-12-01T06:15:20.097Z"
   },
   {
    "duration": 7,
    "start_time": "2023-12-01T06:15:20.254Z"
   },
   {
    "duration": 25,
    "start_time": "2023-12-01T06:15:20.264Z"
   },
   {
    "duration": 10,
    "start_time": "2023-12-01T06:15:20.290Z"
   },
   {
    "duration": 24,
    "start_time": "2023-12-01T06:15:20.301Z"
   },
   {
    "duration": 171,
    "start_time": "2023-12-01T06:15:20.327Z"
   },
   {
    "duration": 206,
    "start_time": "2023-12-01T06:15:20.500Z"
   },
   {
    "duration": 187,
    "start_time": "2023-12-01T06:15:20.708Z"
   },
   {
    "duration": 9,
    "start_time": "2023-12-01T06:15:20.896Z"
   },
   {
    "duration": 17,
    "start_time": "2023-12-01T06:15:20.907Z"
   },
   {
    "duration": 11,
    "start_time": "2023-12-01T06:28:16.015Z"
   },
   {
    "duration": 1041,
    "start_time": "2023-12-01T06:33:31.682Z"
   },
   {
    "duration": 78,
    "start_time": "2023-12-01T06:33:32.725Z"
   },
   {
    "duration": 2,
    "start_time": "2023-12-01T06:33:32.805Z"
   },
   {
    "duration": 17,
    "start_time": "2023-12-01T06:33:32.809Z"
   },
   {
    "duration": 18,
    "start_time": "2023-12-01T06:33:32.828Z"
   },
   {
    "duration": 40,
    "start_time": "2023-12-01T06:33:32.848Z"
   },
   {
    "duration": 19,
    "start_time": "2023-12-01T06:33:32.889Z"
   },
   {
    "duration": 6,
    "start_time": "2023-12-01T06:33:32.910Z"
   },
   {
    "duration": 23,
    "start_time": "2023-12-01T06:33:32.918Z"
   },
   {
    "duration": 3,
    "start_time": "2023-12-01T06:33:32.944Z"
   },
   {
    "duration": 46,
    "start_time": "2023-12-01T06:33:32.948Z"
   },
   {
    "duration": 18,
    "start_time": "2023-12-01T06:33:32.996Z"
   },
   {
    "duration": 14,
    "start_time": "2023-12-01T06:33:33.015Z"
   },
   {
    "duration": 403,
    "start_time": "2023-12-01T06:33:33.030Z"
   },
   {
    "duration": 314,
    "start_time": "2023-12-01T06:33:33.435Z"
   },
   {
    "duration": 40,
    "start_time": "2023-12-01T06:33:33.750Z"
   },
   {
    "duration": 170,
    "start_time": "2023-12-01T06:33:33.792Z"
   },
   {
    "duration": 668,
    "start_time": "2023-12-01T06:33:33.963Z"
   },
   {
    "duration": 345,
    "start_time": "2023-12-01T06:33:34.633Z"
   },
   {
    "duration": 250,
    "start_time": "2023-12-01T06:33:34.982Z"
   },
   {
    "duration": 11,
    "start_time": "2023-12-01T06:33:35.234Z"
   },
   {
    "duration": 176,
    "start_time": "2023-12-01T06:33:35.246Z"
   },
   {
    "duration": 17,
    "start_time": "2023-12-01T06:33:35.424Z"
   },
   {
    "duration": 10,
    "start_time": "2023-12-01T06:33:35.443Z"
   },
   {
    "duration": 147,
    "start_time": "2023-12-01T06:33:35.454Z"
   },
   {
    "duration": 130,
    "start_time": "2023-12-01T06:33:35.602Z"
   },
   {
    "duration": 135,
    "start_time": "2023-12-01T06:33:35.733Z"
   },
   {
    "duration": 7,
    "start_time": "2023-12-01T06:33:35.881Z"
   },
   {
    "duration": 11,
    "start_time": "2023-12-01T06:33:35.890Z"
   },
   {
    "duration": 10,
    "start_time": "2023-12-01T06:33:35.903Z"
   },
   {
    "duration": 17,
    "start_time": "2023-12-01T06:33:35.916Z"
   },
   {
    "duration": 174,
    "start_time": "2023-12-01T06:33:35.935Z"
   },
   {
    "duration": 176,
    "start_time": "2023-12-01T06:33:36.110Z"
   },
   {
    "duration": 154,
    "start_time": "2023-12-01T06:33:36.288Z"
   },
   {
    "duration": 8,
    "start_time": "2023-12-01T06:33:36.443Z"
   },
   {
    "duration": 17,
    "start_time": "2023-12-01T06:33:36.452Z"
   },
   {
    "duration": 85,
    "start_time": "2023-12-01T07:32:41.522Z"
   },
   {
    "duration": 1027,
    "start_time": "2023-12-01T07:32:49.411Z"
   },
   {
    "duration": 72,
    "start_time": "2023-12-01T07:32:50.440Z"
   },
   {
    "duration": 2,
    "start_time": "2023-12-01T07:32:50.514Z"
   },
   {
    "duration": 42,
    "start_time": "2023-12-01T07:32:50.518Z"
   },
   {
    "duration": 18,
    "start_time": "2023-12-01T07:32:50.561Z"
   },
   {
    "duration": 27,
    "start_time": "2023-12-01T07:32:50.580Z"
   },
   {
    "duration": 18,
    "start_time": "2023-12-01T07:32:50.609Z"
   },
   {
    "duration": 19,
    "start_time": "2023-12-01T07:32:50.629Z"
   },
   {
    "duration": 31,
    "start_time": "2023-12-01T07:32:50.649Z"
   },
   {
    "duration": 7,
    "start_time": "2023-12-01T07:32:50.683Z"
   },
   {
    "duration": 32,
    "start_time": "2023-12-01T07:32:50.691Z"
   },
   {
    "duration": 16,
    "start_time": "2023-12-01T07:32:50.725Z"
   },
   {
    "duration": 16,
    "start_time": "2023-12-01T07:32:50.742Z"
   },
   {
    "duration": 296,
    "start_time": "2023-12-01T07:32:50.759Z"
   },
   {
    "duration": 259,
    "start_time": "2023-12-01T07:32:51.057Z"
   },
   {
    "duration": 19,
    "start_time": "2023-12-01T07:32:51.318Z"
   },
   {
    "duration": 167,
    "start_time": "2023-12-01T07:32:51.338Z"
   },
   {
    "duration": 564,
    "start_time": "2023-12-01T07:32:51.507Z"
   },
   {
    "duration": 291,
    "start_time": "2023-12-01T07:32:52.073Z"
   },
   {
    "duration": 209,
    "start_time": "2023-12-01T07:32:52.366Z"
   },
   {
    "duration": 93,
    "start_time": "2023-12-01T07:32:52.576Z"
   },
   {
    "duration": 0,
    "start_time": "2023-12-01T07:32:52.671Z"
   },
   {
    "duration": 0,
    "start_time": "2023-12-01T07:32:52.673Z"
   },
   {
    "duration": 0,
    "start_time": "2023-12-01T07:32:52.674Z"
   },
   {
    "duration": 0,
    "start_time": "2023-12-01T07:32:52.675Z"
   },
   {
    "duration": 0,
    "start_time": "2023-12-01T07:32:52.676Z"
   },
   {
    "duration": 0,
    "start_time": "2023-12-01T07:32:52.677Z"
   },
   {
    "duration": 0,
    "start_time": "2023-12-01T07:32:52.678Z"
   },
   {
    "duration": 0,
    "start_time": "2023-12-01T07:32:52.680Z"
   },
   {
    "duration": 0,
    "start_time": "2023-12-01T07:32:52.681Z"
   },
   {
    "duration": 0,
    "start_time": "2023-12-01T07:32:52.682Z"
   },
   {
    "duration": 0,
    "start_time": "2023-12-01T07:32:52.683Z"
   },
   {
    "duration": 0,
    "start_time": "2023-12-01T07:32:52.684Z"
   },
   {
    "duration": 0,
    "start_time": "2023-12-01T07:32:52.686Z"
   },
   {
    "duration": 0,
    "start_time": "2023-12-01T07:32:52.687Z"
   },
   {
    "duration": 0,
    "start_time": "2023-12-01T07:32:52.715Z"
   },
   {
    "duration": 12,
    "start_time": "2023-12-01T07:33:37.100Z"
   },
   {
    "duration": 12,
    "start_time": "2023-12-01T07:37:45.401Z"
   },
   {
    "duration": 272,
    "start_time": "2023-12-01T07:41:38.437Z"
   },
   {
    "duration": 257,
    "start_time": "2023-12-01T07:42:13.917Z"
   },
   {
    "duration": 74,
    "start_time": "2023-12-01T07:58:10.491Z"
   },
   {
    "duration": 208,
    "start_time": "2023-12-01T08:28:11.789Z"
   },
   {
    "duration": 219,
    "start_time": "2023-12-01T08:29:05.687Z"
   },
   {
    "duration": 216,
    "start_time": "2023-12-01T08:30:35.390Z"
   },
   {
    "duration": 235,
    "start_time": "2023-12-01T08:30:59.033Z"
   },
   {
    "duration": 8,
    "start_time": "2023-12-01T08:33:32.206Z"
   },
   {
    "duration": 15,
    "start_time": "2023-12-01T08:33:39.008Z"
   },
   {
    "duration": 9,
    "start_time": "2023-12-01T08:33:45.677Z"
   },
   {
    "duration": 107,
    "start_time": "2023-12-01T08:34:34.330Z"
   },
   {
    "duration": 131,
    "start_time": "2023-12-01T08:36:51.421Z"
   },
   {
    "duration": 10,
    "start_time": "2023-12-01T08:36:54.978Z"
   },
   {
    "duration": 158,
    "start_time": "2023-12-01T08:48:50.879Z"
   },
   {
    "duration": 105,
    "start_time": "2023-12-01T10:07:04.129Z"
   },
   {
    "duration": 168,
    "start_time": "2023-12-01T10:08:10.347Z"
   },
   {
    "duration": 89,
    "start_time": "2023-12-01T10:08:41.612Z"
   },
   {
    "duration": 126,
    "start_time": "2023-12-01T10:08:47.805Z"
   },
   {
    "duration": 108,
    "start_time": "2023-12-01T10:09:20.769Z"
   },
   {
    "duration": 93,
    "start_time": "2023-12-01T10:09:43.055Z"
   },
   {
    "duration": 1656,
    "start_time": "2023-12-01T10:12:28.381Z"
   },
   {
    "duration": 3,
    "start_time": "2023-12-01T10:20:33.097Z"
   },
   {
    "duration": 1977,
    "start_time": "2023-12-01T10:20:39.000Z"
   },
   {
    "duration": 111,
    "start_time": "2023-12-01T10:21:16.462Z"
   },
   {
    "duration": 1816,
    "start_time": "2023-12-01T10:21:35.264Z"
   },
   {
    "duration": 1888,
    "start_time": "2023-12-01T10:24:50.046Z"
   },
   {
    "duration": 2019,
    "start_time": "2023-12-01T10:25:05.173Z"
   },
   {
    "duration": 246,
    "start_time": "2023-12-01T10:31:58.324Z"
   },
   {
    "duration": 1367,
    "start_time": "2023-12-01T10:32:18.948Z"
   },
   {
    "duration": 583,
    "start_time": "2023-12-01T10:32:34.941Z"
   },
   {
    "duration": 191,
    "start_time": "2023-12-01T10:34:05.550Z"
   },
   {
    "duration": 191,
    "start_time": "2023-12-01T10:34:21.167Z"
   },
   {
    "duration": 235,
    "start_time": "2023-12-01T10:35:45.191Z"
   },
   {
    "duration": 214,
    "start_time": "2023-12-01T10:36:06.561Z"
   },
   {
    "duration": 289,
    "start_time": "2023-12-01T10:36:50.261Z"
   },
   {
    "duration": 269,
    "start_time": "2023-12-01T10:37:54.460Z"
   },
   {
    "duration": 255,
    "start_time": "2023-12-01T10:38:18.632Z"
   },
   {
    "duration": 253,
    "start_time": "2023-12-01T10:39:36.033Z"
   },
   {
    "duration": 260,
    "start_time": "2023-12-01T10:42:48.697Z"
   },
   {
    "duration": 262,
    "start_time": "2023-12-01T10:42:57.738Z"
   },
   {
    "duration": 260,
    "start_time": "2023-12-01T10:43:12.554Z"
   },
   {
    "duration": 266,
    "start_time": "2023-12-01T10:43:34.633Z"
   },
   {
    "duration": 284,
    "start_time": "2023-12-01T10:44:10.517Z"
   },
   {
    "duration": 269,
    "start_time": "2023-12-01T10:44:26.570Z"
   },
   {
    "duration": 220,
    "start_time": "2023-12-01T10:45:06.985Z"
   },
   {
    "duration": 255,
    "start_time": "2023-12-01T10:45:25.140Z"
   },
   {
    "duration": 244,
    "start_time": "2023-12-01T10:52:03.740Z"
   },
   {
    "duration": 262,
    "start_time": "2023-12-01T10:52:19.017Z"
   },
   {
    "duration": 286,
    "start_time": "2023-12-01T10:55:10.944Z"
   },
   {
    "duration": 250,
    "start_time": "2023-12-01T10:55:23.876Z"
   },
   {
    "duration": 239,
    "start_time": "2023-12-01T10:58:33.589Z"
   },
   {
    "duration": 236,
    "start_time": "2023-12-01T11:02:20.814Z"
   },
   {
    "duration": 14,
    "start_time": "2023-12-01T11:05:16.132Z"
   },
   {
    "duration": 112,
    "start_time": "2023-12-01T11:06:05.084Z"
   },
   {
    "duration": 273,
    "start_time": "2023-12-01T11:07:35.426Z"
   },
   {
    "duration": 273,
    "start_time": "2023-12-01T11:08:23.430Z"
   },
   {
    "duration": 261,
    "start_time": "2023-12-01T11:09:09.562Z"
   },
   {
    "duration": 700,
    "start_time": "2023-12-01T11:09:46.278Z"
   },
   {
    "duration": 258,
    "start_time": "2023-12-01T11:09:54.414Z"
   },
   {
    "duration": 269,
    "start_time": "2023-12-01T11:10:10.793Z"
   },
   {
    "duration": 240,
    "start_time": "2023-12-01T11:17:00.300Z"
   },
   {
    "duration": 241,
    "start_time": "2023-12-01T11:17:29.168Z"
   },
   {
    "duration": 213,
    "start_time": "2023-12-01T11:17:35.988Z"
   },
   {
    "duration": 232,
    "start_time": "2023-12-01T11:20:00.926Z"
   },
   {
    "duration": 250,
    "start_time": "2023-12-01T11:20:19.014Z"
   },
   {
    "duration": 6,
    "start_time": "2023-12-01T11:20:29.953Z"
   },
   {
    "duration": 230,
    "start_time": "2023-12-01T11:21:36.997Z"
   },
   {
    "duration": 213,
    "start_time": "2023-12-01T11:22:17.226Z"
   },
   {
    "duration": 238,
    "start_time": "2023-12-01T11:22:25.758Z"
   },
   {
    "duration": 288,
    "start_time": "2023-12-01T11:39:20.901Z"
   },
   {
    "duration": 264,
    "start_time": "2023-12-01T11:39:37.636Z"
   },
   {
    "duration": 6,
    "start_time": "2023-12-01T11:39:53.292Z"
   },
   {
    "duration": 257,
    "start_time": "2023-12-01T11:40:47.264Z"
   },
   {
    "duration": 250,
    "start_time": "2023-12-01T11:41:06.947Z"
   },
   {
    "duration": 9,
    "start_time": "2023-12-01T11:42:01.059Z"
   },
   {
    "duration": 99,
    "start_time": "2023-12-01T11:45:05.237Z"
   },
   {
    "duration": 100,
    "start_time": "2023-12-01T11:45:21.082Z"
   },
   {
    "duration": 97,
    "start_time": "2023-12-01T11:45:28.081Z"
   },
   {
    "duration": 236,
    "start_time": "2023-12-01T12:35:48.358Z"
   },
   {
    "duration": 235,
    "start_time": "2023-12-01T12:35:54.898Z"
   },
   {
    "duration": 271,
    "start_time": "2023-12-01T12:37:25.999Z"
   },
   {
    "duration": 252,
    "start_time": "2023-12-01T12:42:44.955Z"
   },
   {
    "duration": 284,
    "start_time": "2023-12-01T12:43:11.890Z"
   },
   {
    "duration": 268,
    "start_time": "2023-12-01T12:44:28.764Z"
   },
   {
    "duration": 318,
    "start_time": "2023-12-01T12:44:53.141Z"
   },
   {
    "duration": 314,
    "start_time": "2023-12-01T12:45:18.516Z"
   },
   {
    "duration": 242,
    "start_time": "2023-12-01T12:46:57.669Z"
   },
   {
    "duration": 317,
    "start_time": "2023-12-01T12:47:12.908Z"
   },
   {
    "duration": 1501,
    "start_time": "2023-12-01T12:49:16.030Z"
   },
   {
    "duration": 1497,
    "start_time": "2023-12-01T12:49:52.138Z"
   },
   {
    "duration": 336,
    "start_time": "2023-12-01T12:50:16.605Z"
   },
   {
    "duration": 314,
    "start_time": "2023-12-01T12:55:09.765Z"
   },
   {
    "duration": 119,
    "start_time": "2023-12-01T13:39:35.713Z"
   },
   {
    "duration": 241,
    "start_time": "2023-12-01T13:43:53.088Z"
   },
   {
    "duration": 796,
    "start_time": "2023-12-01T13:43:59.232Z"
   },
   {
    "duration": 291,
    "start_time": "2023-12-01T13:44:08.783Z"
   },
   {
    "duration": 306,
    "start_time": "2023-12-01T13:44:26.725Z"
   },
   {
    "duration": 269,
    "start_time": "2023-12-01T13:45:00.206Z"
   },
   {
    "duration": 307,
    "start_time": "2023-12-01T13:45:07.487Z"
   },
   {
    "duration": 298,
    "start_time": "2023-12-01T13:45:17.270Z"
   },
   {
    "duration": 298,
    "start_time": "2023-12-01T13:58:02.812Z"
   },
   {
    "duration": 279,
    "start_time": "2023-12-01T14:08:56.615Z"
   },
   {
    "duration": 301,
    "start_time": "2023-12-01T14:09:57.311Z"
   },
   {
    "duration": 327,
    "start_time": "2023-12-01T14:10:21.405Z"
   },
   {
    "duration": 328,
    "start_time": "2023-12-01T14:10:29.145Z"
   },
   {
    "duration": 321,
    "start_time": "2023-12-01T14:10:40.893Z"
   },
   {
    "duration": 305,
    "start_time": "2023-12-01T14:10:57.237Z"
   },
   {
    "duration": 322,
    "start_time": "2023-12-01T14:11:44.825Z"
   },
   {
    "duration": 308,
    "start_time": "2023-12-01T14:37:04.490Z"
   },
   {
    "duration": 298,
    "start_time": "2023-12-01T14:39:18.575Z"
   },
   {
    "duration": 238,
    "start_time": "2023-12-01T14:40:44.373Z"
   },
   {
    "duration": 313,
    "start_time": "2023-12-01T14:41:04.661Z"
   },
   {
    "duration": 1566,
    "start_time": "2023-12-01T14:44:24.103Z"
   },
   {
    "duration": 344,
    "start_time": "2023-12-01T14:45:05.839Z"
   },
   {
    "duration": 366,
    "start_time": "2023-12-01T14:45:37.302Z"
   },
   {
    "duration": 309,
    "start_time": "2023-12-01T14:45:57.261Z"
   },
   {
    "duration": 306,
    "start_time": "2023-12-01T14:46:28.382Z"
   },
   {
    "duration": 339,
    "start_time": "2023-12-01T14:48:07.074Z"
   },
   {
    "duration": 300,
    "start_time": "2023-12-01T14:48:24.002Z"
   },
   {
    "duration": 315,
    "start_time": "2023-12-01T14:52:00.950Z"
   },
   {
    "duration": 140,
    "start_time": "2023-12-01T15:10:34.476Z"
   },
   {
    "duration": 132,
    "start_time": "2023-12-01T15:10:37.844Z"
   },
   {
    "duration": 128,
    "start_time": "2023-12-01T15:12:02.107Z"
   },
   {
    "duration": 120,
    "start_time": "2023-12-01T15:12:21.354Z"
   },
   {
    "duration": 133,
    "start_time": "2023-12-01T15:12:29.714Z"
   },
   {
    "duration": 120,
    "start_time": "2023-12-01T15:12:36.362Z"
   },
   {
    "duration": 7,
    "start_time": "2023-12-01T15:15:48.998Z"
   },
   {
    "duration": 7,
    "start_time": "2023-12-01T15:21:16.190Z"
   },
   {
    "duration": 5,
    "start_time": "2023-12-01T15:34:40.838Z"
   },
   {
    "duration": 5,
    "start_time": "2023-12-01T15:34:52.845Z"
   },
   {
    "duration": 962,
    "start_time": "2023-12-01T15:35:01.767Z"
   },
   {
    "duration": 72,
    "start_time": "2023-12-01T15:35:02.731Z"
   },
   {
    "duration": 2,
    "start_time": "2023-12-01T15:35:02.804Z"
   },
   {
    "duration": 48,
    "start_time": "2023-12-01T15:35:02.808Z"
   },
   {
    "duration": 41,
    "start_time": "2023-12-01T15:35:02.858Z"
   },
   {
    "duration": 40,
    "start_time": "2023-12-01T15:35:02.900Z"
   },
   {
    "duration": 37,
    "start_time": "2023-12-01T15:35:02.941Z"
   },
   {
    "duration": 19,
    "start_time": "2023-12-01T15:35:02.980Z"
   },
   {
    "duration": 32,
    "start_time": "2023-12-01T15:35:03.000Z"
   },
   {
    "duration": 6,
    "start_time": "2023-12-01T15:35:03.034Z"
   },
   {
    "duration": 34,
    "start_time": "2023-12-01T15:35:03.041Z"
   },
   {
    "duration": 15,
    "start_time": "2023-12-01T15:35:03.076Z"
   },
   {
    "duration": 12,
    "start_time": "2023-12-01T15:35:03.093Z"
   },
   {
    "duration": 2,
    "start_time": "2023-12-01T15:35:03.106Z"
   },
   {
    "duration": 299,
    "start_time": "2023-12-01T15:35:03.109Z"
   },
   {
    "duration": 257,
    "start_time": "2023-12-01T15:35:03.409Z"
   },
   {
    "duration": 19,
    "start_time": "2023-12-01T15:35:03.667Z"
   },
   {
    "duration": 179,
    "start_time": "2023-12-01T15:35:03.687Z"
   },
   {
    "duration": 587,
    "start_time": "2023-12-01T15:35:03.868Z"
   },
   {
    "duration": 119,
    "start_time": "2023-12-01T15:35:04.456Z"
   },
   {
    "duration": 0,
    "start_time": "2023-12-01T15:35:04.577Z"
   },
   {
    "duration": 0,
    "start_time": "2023-12-01T15:35:04.578Z"
   },
   {
    "duration": 0,
    "start_time": "2023-12-01T15:35:04.579Z"
   },
   {
    "duration": 0,
    "start_time": "2023-12-01T15:35:04.580Z"
   },
   {
    "duration": 0,
    "start_time": "2023-12-01T15:35:04.582Z"
   },
   {
    "duration": 0,
    "start_time": "2023-12-01T15:35:04.583Z"
   },
   {
    "duration": 0,
    "start_time": "2023-12-01T15:35:04.585Z"
   },
   {
    "duration": 0,
    "start_time": "2023-12-01T15:35:04.586Z"
   },
   {
    "duration": 0,
    "start_time": "2023-12-01T15:35:04.587Z"
   },
   {
    "duration": 0,
    "start_time": "2023-12-01T15:35:04.589Z"
   },
   {
    "duration": 0,
    "start_time": "2023-12-01T15:35:04.589Z"
   },
   {
    "duration": 0,
    "start_time": "2023-12-01T15:35:04.590Z"
   },
   {
    "duration": 12,
    "start_time": "2023-12-01T15:35:53.864Z"
   },
   {
    "duration": 154,
    "start_time": "2023-12-01T15:36:20.174Z"
   },
   {
    "duration": 328,
    "start_time": "2023-12-01T15:37:43.014Z"
   },
   {
    "duration": 295,
    "start_time": "2023-12-01T15:37:46.079Z"
   },
   {
    "duration": 121,
    "start_time": "2023-12-01T15:37:50.742Z"
   },
   {
    "duration": 129,
    "start_time": "2023-12-01T15:37:53.686Z"
   },
   {
    "duration": 117,
    "start_time": "2023-12-01T15:37:56.751Z"
   },
   {
    "duration": 6,
    "start_time": "2023-12-01T15:38:14.766Z"
   },
   {
    "duration": 6,
    "start_time": "2023-12-01T15:38:18.694Z"
   },
   {
    "duration": 245,
    "start_time": "2023-12-01T15:38:41.021Z"
   },
   {
    "duration": 228,
    "start_time": "2023-12-01T15:38:43.797Z"
   },
   {
    "duration": 1644,
    "start_time": "2023-12-01T15:47:14.027Z"
   },
   {
    "duration": 1100,
    "start_time": "2023-12-01T15:47:55.666Z"
   },
   {
    "duration": 1175,
    "start_time": "2023-12-01T15:49:13.592Z"
   },
   {
    "duration": 0,
    "start_time": "2023-12-01T15:56:48.751Z"
   },
   {
    "duration": 128,
    "start_time": "2023-12-01T16:00:48.768Z"
   },
   {
    "duration": 115,
    "start_time": "2023-12-01T16:01:15.393Z"
   },
   {
    "duration": 14,
    "start_time": "2023-12-01T16:02:30.607Z"
   },
   {
    "duration": 13,
    "start_time": "2023-12-01T16:02:47.927Z"
   },
   {
    "duration": 14,
    "start_time": "2023-12-01T16:04:38.411Z"
   },
   {
    "duration": 14,
    "start_time": "2023-12-01T16:05:50.947Z"
   },
   {
    "duration": 91,
    "start_time": "2023-12-01T16:06:05.530Z"
   },
   {
    "duration": 77,
    "start_time": "2023-12-01T16:06:24.528Z"
   },
   {
    "duration": 99,
    "start_time": "2023-12-01T16:06:41.120Z"
   },
   {
    "duration": 6,
    "start_time": "2023-12-01T16:08:35.613Z"
   },
   {
    "duration": 65,
    "start_time": "2023-12-01T16:08:54.381Z"
   },
   {
    "duration": 82,
    "start_time": "2023-12-01T16:09:34.533Z"
   },
   {
    "duration": 99,
    "start_time": "2023-12-01T16:09:46.452Z"
   },
   {
    "duration": 12,
    "start_time": "2023-12-01T16:10:37.979Z"
   },
   {
    "duration": 14,
    "start_time": "2023-12-01T16:11:14.682Z"
   },
   {
    "duration": 1172,
    "start_time": "2023-12-01T16:13:51.648Z"
   },
   {
    "duration": 1225,
    "start_time": "2023-12-01T16:14:03.712Z"
   },
   {
    "duration": 1200,
    "start_time": "2023-12-01T16:15:15.741Z"
   },
   {
    "duration": 10,
    "start_time": "2023-12-01T16:15:28.941Z"
   },
   {
    "duration": 1208,
    "start_time": "2023-12-01T16:15:37.212Z"
   },
   {
    "duration": 589,
    "start_time": "2023-12-01T16:18:40.745Z"
   },
   {
    "duration": 567,
    "start_time": "2023-12-01T16:19:59.374Z"
   },
   {
    "duration": 553,
    "start_time": "2023-12-01T16:20:12.574Z"
   },
   {
    "duration": 531,
    "start_time": "2023-12-01T16:20:57.997Z"
   },
   {
    "duration": 552,
    "start_time": "2023-12-01T16:21:48.301Z"
   },
   {
    "duration": 490,
    "start_time": "2023-12-01T16:22:07.412Z"
   },
   {
    "duration": 616,
    "start_time": "2023-12-01T16:57:25.308Z"
   },
   {
    "duration": 7,
    "start_time": "2023-12-01T17:00:26.529Z"
   },
   {
    "duration": 10,
    "start_time": "2023-12-01T17:00:32.752Z"
   },
   {
    "duration": 14,
    "start_time": "2023-12-01T17:00:51.848Z"
   },
   {
    "duration": 15,
    "start_time": "2023-12-01T17:01:03.447Z"
   },
   {
    "duration": 7,
    "start_time": "2023-12-01T17:01:25.855Z"
   },
   {
    "duration": 7,
    "start_time": "2023-12-01T17:02:35.342Z"
   },
   {
    "duration": 7,
    "start_time": "2023-12-01T17:02:55.149Z"
   },
   {
    "duration": 10,
    "start_time": "2023-12-01T17:08:12.222Z"
   },
   {
    "duration": 15,
    "start_time": "2023-12-01T17:09:05.245Z"
   },
   {
    "duration": 4,
    "start_time": "2023-12-01T17:14:09.039Z"
   },
   {
    "duration": 12,
    "start_time": "2023-12-01T17:14:12.511Z"
   },
   {
    "duration": 994,
    "start_time": "2023-12-01T17:22:07.005Z"
   },
   {
    "duration": 74,
    "start_time": "2023-12-01T17:22:08.000Z"
   },
   {
    "duration": 3,
    "start_time": "2023-12-01T17:22:08.075Z"
   },
   {
    "duration": 17,
    "start_time": "2023-12-01T17:22:08.079Z"
   },
   {
    "duration": 10,
    "start_time": "2023-12-01T17:22:08.098Z"
   },
   {
    "duration": 20,
    "start_time": "2023-12-01T17:22:08.109Z"
   },
   {
    "duration": 17,
    "start_time": "2023-12-01T17:22:08.131Z"
   },
   {
    "duration": 12,
    "start_time": "2023-12-01T17:22:08.149Z"
   },
   {
    "duration": 13,
    "start_time": "2023-12-01T17:22:08.162Z"
   },
   {
    "duration": 5,
    "start_time": "2023-12-01T17:22:08.176Z"
   },
   {
    "duration": 33,
    "start_time": "2023-12-01T17:22:08.183Z"
   },
   {
    "duration": 14,
    "start_time": "2023-12-01T17:22:08.217Z"
   },
   {
    "duration": 13,
    "start_time": "2023-12-01T17:22:08.232Z"
   },
   {
    "duration": 14,
    "start_time": "2023-12-01T17:22:08.247Z"
   },
   {
    "duration": 12,
    "start_time": "2023-12-01T17:22:08.262Z"
   },
   {
    "duration": 295,
    "start_time": "2023-12-01T17:22:08.275Z"
   },
   {
    "duration": 255,
    "start_time": "2023-12-01T17:22:08.571Z"
   },
   {
    "duration": 18,
    "start_time": "2023-12-01T17:22:08.828Z"
   },
   {
    "duration": 111,
    "start_time": "2023-12-01T17:22:08.848Z"
   },
   {
    "duration": 5,
    "start_time": "2023-12-01T17:22:08.960Z"
   },
   {
    "duration": 492,
    "start_time": "2023-12-01T17:22:08.967Z"
   },
   {
    "duration": 281,
    "start_time": "2023-12-01T17:22:09.460Z"
   },
   {
    "duration": 225,
    "start_time": "2023-12-01T17:22:09.742Z"
   },
   {
    "duration": 11,
    "start_time": "2023-12-01T17:22:09.968Z"
   },
   {
    "duration": 161,
    "start_time": "2023-12-01T17:22:09.981Z"
   },
   {
    "duration": 324,
    "start_time": "2023-12-01T17:22:10.143Z"
   },
   {
    "duration": 296,
    "start_time": "2023-12-01T17:22:10.469Z"
   },
   {
    "duration": 129,
    "start_time": "2023-12-01T17:22:10.767Z"
   },
   {
    "duration": 139,
    "start_time": "2023-12-01T17:22:10.897Z"
   },
   {
    "duration": 126,
    "start_time": "2023-12-01T17:22:11.037Z"
   },
   {
    "duration": 7,
    "start_time": "2023-12-01T17:22:11.165Z"
   },
   {
    "duration": 12,
    "start_time": "2023-12-01T17:22:11.173Z"
   },
   {
    "duration": 297,
    "start_time": "2023-12-01T17:27:52.620Z"
   },
   {
    "duration": 230,
    "start_time": "2023-12-01T17:27:59.020Z"
   },
   {
    "duration": 245,
    "start_time": "2023-12-01T17:28:11.459Z"
   },
   {
    "duration": 100,
    "start_time": "2023-12-01T17:32:05.070Z"
   },
   {
    "duration": 20,
    "start_time": "2023-12-01T17:32:41.485Z"
   },
   {
    "duration": 249,
    "start_time": "2023-12-01T17:33:12.108Z"
   },
   {
    "duration": 246,
    "start_time": "2023-12-01T17:33:37.181Z"
   },
   {
    "duration": 300,
    "start_time": "2023-12-01T17:36:23.896Z"
   },
   {
    "duration": 256,
    "start_time": "2023-12-01T17:36:37.288Z"
   },
   {
    "duration": 241,
    "start_time": "2023-12-01T17:36:51.680Z"
   },
   {
    "duration": 234,
    "start_time": "2023-12-01T17:37:58.861Z"
   },
   {
    "duration": 11,
    "start_time": "2023-12-01T18:02:30.926Z"
   },
   {
    "duration": 1180,
    "start_time": "2023-12-02T07:53:26.999Z"
   },
   {
    "duration": 87,
    "start_time": "2023-12-02T07:53:28.181Z"
   },
   {
    "duration": 3,
    "start_time": "2023-12-02T07:53:28.269Z"
   },
   {
    "duration": 48,
    "start_time": "2023-12-02T07:53:28.274Z"
   },
   {
    "duration": 70,
    "start_time": "2023-12-02T07:53:28.323Z"
   },
   {
    "duration": 40,
    "start_time": "2023-12-02T07:53:28.395Z"
   },
   {
    "duration": 22,
    "start_time": "2023-12-02T07:53:28.436Z"
   },
   {
    "duration": 16,
    "start_time": "2023-12-02T07:53:28.460Z"
   },
   {
    "duration": 41,
    "start_time": "2023-12-02T07:53:28.477Z"
   },
   {
    "duration": 32,
    "start_time": "2023-12-02T07:53:28.521Z"
   },
   {
    "duration": 30,
    "start_time": "2023-12-02T07:53:28.554Z"
   },
   {
    "duration": 20,
    "start_time": "2023-12-02T07:53:28.586Z"
   },
   {
    "duration": 15,
    "start_time": "2023-12-02T07:53:28.608Z"
   },
   {
    "duration": 22,
    "start_time": "2023-12-02T07:53:28.625Z"
   },
   {
    "duration": 16,
    "start_time": "2023-12-02T07:53:28.649Z"
   },
   {
    "duration": 408,
    "start_time": "2023-12-02T07:53:28.666Z"
   },
   {
    "duration": 329,
    "start_time": "2023-12-02T07:53:29.075Z"
   },
   {
    "duration": 23,
    "start_time": "2023-12-02T07:53:29.407Z"
   },
   {
    "duration": 189,
    "start_time": "2023-12-02T07:53:29.431Z"
   },
   {
    "duration": 9,
    "start_time": "2023-12-02T07:53:29.622Z"
   },
   {
    "duration": 652,
    "start_time": "2023-12-02T07:53:29.632Z"
   },
   {
    "duration": 394,
    "start_time": "2023-12-02T07:53:30.286Z"
   },
   {
    "duration": 319,
    "start_time": "2023-12-02T07:53:30.682Z"
   },
   {
    "duration": 15,
    "start_time": "2023-12-02T07:53:31.006Z"
   },
   {
    "duration": 241,
    "start_time": "2023-12-02T07:53:31.023Z"
   },
   {
    "duration": 323,
    "start_time": "2023-12-02T07:53:31.266Z"
   },
   {
    "duration": 318,
    "start_time": "2023-12-02T07:53:31.591Z"
   },
   {
    "duration": 402,
    "start_time": "2023-12-02T07:53:31.912Z"
   },
   {
    "duration": 377,
    "start_time": "2023-12-02T07:53:32.315Z"
   },
   {
    "duration": 248,
    "start_time": "2023-12-02T07:53:32.693Z"
   },
   {
    "duration": 172,
    "start_time": "2023-12-02T07:53:32.942Z"
   },
   {
    "duration": 164,
    "start_time": "2023-12-02T07:53:33.116Z"
   },
   {
    "duration": 8,
    "start_time": "2023-12-02T07:53:33.282Z"
   },
   {
    "duration": 169,
    "start_time": "2023-12-02T07:53:33.292Z"
   },
   {
    "duration": 10,
    "start_time": "2023-12-02T07:58:00.863Z"
   },
   {
    "duration": 1173,
    "start_time": "2023-12-02T08:05:47.403Z"
   },
   {
    "duration": 89,
    "start_time": "2023-12-02T08:05:48.577Z"
   },
   {
    "duration": 3,
    "start_time": "2023-12-02T08:05:48.668Z"
   },
   {
    "duration": 26,
    "start_time": "2023-12-02T08:05:48.674Z"
   },
   {
    "duration": 17,
    "start_time": "2023-12-02T08:05:48.702Z"
   },
   {
    "duration": 31,
    "start_time": "2023-12-02T08:05:48.721Z"
   },
   {
    "duration": 23,
    "start_time": "2023-12-02T08:05:48.755Z"
   },
   {
    "duration": 30,
    "start_time": "2023-12-02T08:05:48.780Z"
   },
   {
    "duration": 21,
    "start_time": "2023-12-02T08:05:48.812Z"
   },
   {
    "duration": 7,
    "start_time": "2023-12-02T08:05:48.837Z"
   },
   {
    "duration": 32,
    "start_time": "2023-12-02T08:05:48.846Z"
   },
   {
    "duration": 43,
    "start_time": "2023-12-02T08:05:48.879Z"
   },
   {
    "duration": 17,
    "start_time": "2023-12-02T08:05:48.924Z"
   },
   {
    "duration": 20,
    "start_time": "2023-12-02T08:05:48.943Z"
   },
   {
    "duration": 46,
    "start_time": "2023-12-02T08:05:48.965Z"
   },
   {
    "duration": 385,
    "start_time": "2023-12-02T08:05:49.013Z"
   },
   {
    "duration": 335,
    "start_time": "2023-12-02T08:05:49.400Z"
   },
   {
    "duration": 24,
    "start_time": "2023-12-02T08:05:49.737Z"
   },
   {
    "duration": 145,
    "start_time": "2023-12-02T08:05:49.763Z"
   },
   {
    "duration": 7,
    "start_time": "2023-12-02T08:05:49.909Z"
   },
   {
    "duration": 656,
    "start_time": "2023-12-02T08:05:49.918Z"
   },
   {
    "duration": 389,
    "start_time": "2023-12-02T08:05:50.576Z"
   },
   {
    "duration": 304,
    "start_time": "2023-12-02T08:05:50.966Z"
   },
   {
    "duration": 17,
    "start_time": "2023-12-02T08:05:51.272Z"
   },
   {
    "duration": 15,
    "start_time": "2023-12-02T08:05:51.306Z"
   },
   {
    "duration": 232,
    "start_time": "2023-12-02T08:05:51.323Z"
   },
   {
    "duration": 330,
    "start_time": "2023-12-02T08:05:51.557Z"
   },
   {
    "duration": 331,
    "start_time": "2023-12-02T08:05:51.890Z"
   },
   {
    "duration": 419,
    "start_time": "2023-12-02T08:05:52.223Z"
   },
   {
    "duration": 389,
    "start_time": "2023-12-02T08:05:52.644Z"
   },
   {
    "duration": 245,
    "start_time": "2023-12-02T08:05:53.034Z"
   },
   {
    "duration": 173,
    "start_time": "2023-12-02T08:05:53.280Z"
   },
   {
    "duration": 179,
    "start_time": "2023-12-02T08:05:53.455Z"
   },
   {
    "duration": 8,
    "start_time": "2023-12-02T08:05:53.636Z"
   },
   {
    "duration": 37,
    "start_time": "2023-12-02T08:05:53.646Z"
   },
   {
    "duration": 48,
    "start_time": "2023-12-02T08:49:42.551Z"
   },
   {
    "duration": 1231,
    "start_time": "2023-12-02T08:49:54.989Z"
   },
   {
    "duration": 122,
    "start_time": "2023-12-02T08:49:56.222Z"
   },
   {
    "duration": 3,
    "start_time": "2023-12-02T08:49:56.345Z"
   },
   {
    "duration": 17,
    "start_time": "2023-12-02T08:49:56.350Z"
   },
   {
    "duration": 12,
    "start_time": "2023-12-02T08:49:56.368Z"
   },
   {
    "duration": 18,
    "start_time": "2023-12-02T08:49:56.382Z"
   },
   {
    "duration": 19,
    "start_time": "2023-12-02T08:49:56.402Z"
   },
   {
    "duration": 6,
    "start_time": "2023-12-02T08:49:56.422Z"
   },
   {
    "duration": 15,
    "start_time": "2023-12-02T08:49:56.452Z"
   },
   {
    "duration": 16,
    "start_time": "2023-12-02T08:49:56.469Z"
   },
   {
    "duration": 26,
    "start_time": "2023-12-02T08:49:56.486Z"
   },
   {
    "duration": 19,
    "start_time": "2023-12-02T08:49:56.514Z"
   },
   {
    "duration": 26,
    "start_time": "2023-12-02T08:49:56.534Z"
   },
   {
    "duration": 16,
    "start_time": "2023-12-02T08:49:56.561Z"
   },
   {
    "duration": 18,
    "start_time": "2023-12-02T08:49:56.579Z"
   },
   {
    "duration": 339,
    "start_time": "2023-12-02T08:49:56.598Z"
   },
   {
    "duration": 324,
    "start_time": "2023-12-02T08:49:56.938Z"
   },
   {
    "duration": 25,
    "start_time": "2023-12-02T08:49:57.263Z"
   },
   {
    "duration": 139,
    "start_time": "2023-12-02T08:49:57.289Z"
   },
   {
    "duration": 6,
    "start_time": "2023-12-02T08:49:57.429Z"
   },
   {
    "duration": 587,
    "start_time": "2023-12-02T08:49:57.436Z"
   },
   {
    "duration": 343,
    "start_time": "2023-12-02T08:49:58.024Z"
   },
   {
    "duration": 265,
    "start_time": "2023-12-02T08:49:58.369Z"
   },
   {
    "duration": 22,
    "start_time": "2023-12-02T08:49:58.635Z"
   },
   {
    "duration": 9,
    "start_time": "2023-12-02T08:49:58.658Z"
   },
   {
    "duration": 190,
    "start_time": "2023-12-02T08:49:58.668Z"
   },
   {
    "duration": 292,
    "start_time": "2023-12-02T08:49:58.860Z"
   },
   {
    "duration": 307,
    "start_time": "2023-12-02T08:49:59.155Z"
   },
   {
    "duration": 370,
    "start_time": "2023-12-02T08:49:59.464Z"
   },
   {
    "duration": 349,
    "start_time": "2023-12-02T08:49:59.835Z"
   },
   {
    "duration": 229,
    "start_time": "2023-12-02T08:50:00.186Z"
   },
   {
    "duration": 166,
    "start_time": "2023-12-02T08:50:00.416Z"
   },
   {
    "duration": 147,
    "start_time": "2023-12-02T08:50:00.584Z"
   },
   {
    "duration": 8,
    "start_time": "2023-12-02T08:50:00.733Z"
   },
   {
    "duration": 42,
    "start_time": "2023-12-02T08:50:00.752Z"
   },
   {
    "duration": 72,
    "start_time": "2023-12-02T09:06:27.444Z"
   },
   {
    "duration": 5,
    "start_time": "2023-12-02T09:06:37.036Z"
   },
   {
    "duration": 539,
    "start_time": "2023-12-02T09:06:43.210Z"
   },
   {
    "duration": 153,
    "start_time": "2023-12-02T09:07:17.306Z"
   },
   {
    "duration": 268,
    "start_time": "2023-12-02T09:08:05.764Z"
   },
   {
    "duration": 273,
    "start_time": "2023-12-02T09:08:23.673Z"
   },
   {
    "duration": 241,
    "start_time": "2023-12-02T09:09:35.503Z"
   },
   {
    "duration": 160,
    "start_time": "2023-12-02T09:09:46.055Z"
   },
   {
    "duration": 137,
    "start_time": "2023-12-02T09:09:50.951Z"
   },
   {
    "duration": 140,
    "start_time": "2023-12-02T09:10:03.886Z"
   },
   {
    "duration": 162,
    "start_time": "2023-12-02T09:10:59.469Z"
   },
   {
    "duration": 30,
    "start_time": "2023-12-02T09:11:58.325Z"
   },
   {
    "duration": 173,
    "start_time": "2023-12-02T09:12:12.939Z"
   },
   {
    "duration": 22,
    "start_time": "2023-12-02T09:13:31.890Z"
   },
   {
    "duration": 26,
    "start_time": "2023-12-02T09:14:35.810Z"
   },
   {
    "duration": 22,
    "start_time": "2023-12-02T09:14:46.977Z"
   },
   {
    "duration": 18,
    "start_time": "2023-12-02T09:15:50.111Z"
   },
   {
    "duration": 24,
    "start_time": "2023-12-02T09:15:58.391Z"
   },
   {
    "duration": 161,
    "start_time": "2023-12-02T09:16:20.126Z"
   },
   {
    "duration": 148,
    "start_time": "2023-12-02T09:16:30.430Z"
   },
   {
    "duration": 5151,
    "start_time": "2023-12-02T09:17:19.397Z"
   },
   {
    "duration": 1138,
    "start_time": "2023-12-02T09:23:04.271Z"
   },
   {
    "duration": 16,
    "start_time": "2023-12-02T09:23:26.669Z"
   },
   {
    "duration": 68,
    "start_time": "2023-12-02T09:24:14.195Z"
   },
   {
    "duration": 9,
    "start_time": "2023-12-02T09:24:24.797Z"
   },
   {
    "duration": 65,
    "start_time": "2023-12-02T09:24:31.058Z"
   },
   {
    "duration": 22,
    "start_time": "2023-12-02T09:24:58.021Z"
   },
   {
    "duration": 67,
    "start_time": "2023-12-02T09:25:26.546Z"
   },
   {
    "duration": 16,
    "start_time": "2023-12-02T09:25:54.956Z"
   },
   {
    "duration": 18,
    "start_time": "2023-12-02T09:26:10.121Z"
   },
   {
    "duration": 20,
    "start_time": "2023-12-02T09:27:03.945Z"
   },
   {
    "duration": 21,
    "start_time": "2023-12-02T09:27:52.871Z"
   },
   {
    "duration": 26,
    "start_time": "2023-12-02T09:28:11.975Z"
   },
   {
    "duration": 19,
    "start_time": "2023-12-02T09:28:32.166Z"
   },
   {
    "duration": 23,
    "start_time": "2023-12-02T09:28:57.485Z"
   },
   {
    "duration": 19,
    "start_time": "2023-12-02T09:29:10.230Z"
   },
   {
    "duration": 23,
    "start_time": "2023-12-02T09:31:18.499Z"
   },
   {
    "duration": 23,
    "start_time": "2023-12-02T09:31:29.762Z"
   },
   {
    "duration": 25,
    "start_time": "2023-12-02T09:31:46.516Z"
   },
   {
    "duration": 30,
    "start_time": "2023-12-02T09:34:52.087Z"
   },
   {
    "duration": 22,
    "start_time": "2023-12-02T09:36:19.893Z"
   },
   {
    "duration": 169,
    "start_time": "2023-12-02T09:38:58.921Z"
   },
   {
    "duration": 17,
    "start_time": "2023-12-02T11:05:24.361Z"
   },
   {
    "duration": 1789,
    "start_time": "2023-12-02T11:06:10.175Z"
   },
   {
    "duration": 1221,
    "start_time": "2023-12-02T11:32:06.891Z"
   },
   {
    "duration": 1555,
    "start_time": "2023-12-02T11:32:33.258Z"
   },
   {
    "duration": 245,
    "start_time": "2023-12-02T11:39:26.514Z"
   },
   {
    "duration": 258,
    "start_time": "2023-12-02T11:40:06.456Z"
   },
   {
    "duration": 255,
    "start_time": "2023-12-02T11:40:36.304Z"
   },
   {
    "duration": 287,
    "start_time": "2023-12-02T11:46:28.257Z"
   },
   {
    "duration": 71,
    "start_time": "2023-12-02T11:48:15.174Z"
   },
   {
    "duration": 70,
    "start_time": "2023-12-02T11:48:38.845Z"
   },
   {
    "duration": 71,
    "start_time": "2023-12-02T11:48:46.789Z"
   },
   {
    "duration": 83,
    "start_time": "2023-12-02T11:49:40.748Z"
   },
   {
    "duration": 14,
    "start_time": "2023-12-02T11:50:02.834Z"
   },
   {
    "duration": 11,
    "start_time": "2023-12-02T11:50:10.379Z"
   },
   {
    "duration": 12,
    "start_time": "2023-12-02T11:50:27.203Z"
   },
   {
    "duration": 11,
    "start_time": "2023-12-02T11:50:53.291Z"
   },
   {
    "duration": 13,
    "start_time": "2023-12-02T11:51:03.938Z"
   },
   {
    "duration": 23,
    "start_time": "2023-12-02T11:53:26.991Z"
   },
   {
    "duration": 10,
    "start_time": "2023-12-02T11:55:05.421Z"
   },
   {
    "duration": 10,
    "start_time": "2023-12-02T11:55:13.972Z"
   },
   {
    "duration": 17,
    "start_time": "2023-12-02T11:55:26.172Z"
   },
   {
    "duration": 12,
    "start_time": "2023-12-02T11:55:42.940Z"
   },
   {
    "duration": 9,
    "start_time": "2023-12-02T11:56:24.627Z"
   },
   {
    "duration": 7,
    "start_time": "2023-12-02T11:56:42.387Z"
   },
   {
    "duration": 277,
    "start_time": "2023-12-02T12:01:07.749Z"
   },
   {
    "duration": 23,
    "start_time": "2023-12-02T12:10:37.512Z"
   },
   {
    "duration": 25,
    "start_time": "2023-12-02T12:11:16.024Z"
   },
   {
    "duration": 22,
    "start_time": "2023-12-02T12:11:33.215Z"
   },
   {
    "duration": 23,
    "start_time": "2023-12-02T12:11:58.239Z"
   },
   {
    "duration": 1324,
    "start_time": "2023-12-02T12:25:33.830Z"
   },
   {
    "duration": 269,
    "start_time": "2023-12-02T12:26:24.061Z"
   },
   {
    "duration": 86,
    "start_time": "2023-12-02T12:26:56.492Z"
   },
   {
    "duration": 1351,
    "start_time": "2023-12-02T12:27:30.219Z"
   },
   {
    "duration": 144,
    "start_time": "2023-12-02T12:31:16.278Z"
   },
   {
    "duration": 1370,
    "start_time": "2023-12-02T12:31:51.462Z"
   },
   {
    "duration": 1333,
    "start_time": "2023-12-02T12:32:03.980Z"
   },
   {
    "duration": 1311,
    "start_time": "2023-12-02T12:33:32.724Z"
   },
   {
    "duration": 1383,
    "start_time": "2023-12-02T12:34:05.683Z"
   },
   {
    "duration": 68,
    "start_time": "2023-12-02T12:34:40.810Z"
   },
   {
    "duration": 1254,
    "start_time": "2023-12-02T12:34:44.481Z"
   },
   {
    "duration": 1407,
    "start_time": "2023-12-02T12:35:12.378Z"
   },
   {
    "duration": 1290,
    "start_time": "2023-12-02T12:35:48.504Z"
   },
   {
    "duration": 1396,
    "start_time": "2023-12-02T12:36:30.240Z"
   },
   {
    "duration": 1108,
    "start_time": "2023-12-02T14:31:24.169Z"
   },
   {
    "duration": 85,
    "start_time": "2023-12-02T14:31:25.279Z"
   },
   {
    "duration": 3,
    "start_time": "2023-12-02T14:31:25.365Z"
   },
   {
    "duration": 28,
    "start_time": "2023-12-02T14:31:25.370Z"
   },
   {
    "duration": 16,
    "start_time": "2023-12-02T14:31:25.399Z"
   },
   {
    "duration": 36,
    "start_time": "2023-12-02T14:31:25.417Z"
   },
   {
    "duration": 22,
    "start_time": "2023-12-02T14:31:25.454Z"
   },
   {
    "duration": 6,
    "start_time": "2023-12-02T14:31:25.477Z"
   },
   {
    "duration": 17,
    "start_time": "2023-12-02T14:31:25.484Z"
   },
   {
    "duration": 15,
    "start_time": "2023-12-02T14:31:25.503Z"
   },
   {
    "duration": 29,
    "start_time": "2023-12-02T14:31:25.520Z"
   },
   {
    "duration": 20,
    "start_time": "2023-12-02T14:31:25.551Z"
   },
   {
    "duration": 15,
    "start_time": "2023-12-02T14:31:25.573Z"
   },
   {
    "duration": 19,
    "start_time": "2023-12-02T14:31:25.615Z"
   },
   {
    "duration": 16,
    "start_time": "2023-12-02T14:31:25.636Z"
   },
   {
    "duration": 576,
    "start_time": "2023-12-02T14:31:25.654Z"
   },
   {
    "duration": 339,
    "start_time": "2023-12-02T14:31:26.232Z"
   },
   {
    "duration": 2986,
    "start_time": "2023-12-02T14:31:26.573Z"
   },
   {
    "duration": 25,
    "start_time": "2023-12-02T14:31:29.561Z"
   },
   {
    "duration": 399,
    "start_time": "2023-12-02T14:31:29.587Z"
   },
   {
    "duration": 7,
    "start_time": "2023-12-02T14:31:29.988Z"
   },
   {
    "duration": 1250,
    "start_time": "2023-12-02T14:31:29.997Z"
   },
   {
    "duration": 452,
    "start_time": "2023-12-02T14:31:31.249Z"
   },
   {
    "duration": 599,
    "start_time": "2023-12-02T14:31:31.703Z"
   },
   {
    "duration": 20,
    "start_time": "2023-12-02T14:31:32.304Z"
   },
   {
    "duration": 12,
    "start_time": "2023-12-02T14:31:32.326Z"
   },
   {
    "duration": 27,
    "start_time": "2023-12-02T14:31:32.339Z"
   },
   {
    "duration": 2599,
    "start_time": "2023-12-02T14:31:32.369Z"
   },
   {
    "duration": 369,
    "start_time": "2023-12-02T14:31:34.970Z"
   },
   {
    "duration": 448,
    "start_time": "2023-12-02T14:31:35.340Z"
   },
   {
    "duration": 433,
    "start_time": "2023-12-02T14:31:35.789Z"
   },
   {
    "duration": 512,
    "start_time": "2023-12-02T14:31:36.224Z"
   },
   {
    "duration": 515,
    "start_time": "2023-12-02T14:31:36.737Z"
   },
   {
    "duration": 282,
    "start_time": "2023-12-02T14:31:37.253Z"
   },
   {
    "duration": 302,
    "start_time": "2023-12-02T14:31:37.536Z"
   },
   {
    "duration": 280,
    "start_time": "2023-12-02T14:31:37.839Z"
   },
   {
    "duration": 7,
    "start_time": "2023-12-02T14:31:38.121Z"
   },
   {
    "duration": 7,
    "start_time": "2023-12-02T14:31:38.130Z"
   },
   {
    "duration": 50,
    "start_time": "2023-12-03T10:11:26.844Z"
   },
   {
    "duration": 1242,
    "start_time": "2023-12-03T10:11:55.280Z"
   },
   {
    "duration": 216,
    "start_time": "2023-12-03T10:11:56.524Z"
   },
   {
    "duration": 336,
    "start_time": "2023-12-03T10:11:56.742Z"
   },
   {
    "duration": 0,
    "start_time": "2023-12-03T10:11:57.081Z"
   },
   {
    "duration": 0,
    "start_time": "2023-12-03T10:11:57.082Z"
   },
   {
    "duration": 0,
    "start_time": "2023-12-03T10:11:57.083Z"
   },
   {
    "duration": 0,
    "start_time": "2023-12-03T10:11:57.085Z"
   },
   {
    "duration": 0,
    "start_time": "2023-12-03T10:11:57.086Z"
   },
   {
    "duration": 0,
    "start_time": "2023-12-03T10:11:57.086Z"
   },
   {
    "duration": 0,
    "start_time": "2023-12-03T10:11:57.088Z"
   },
   {
    "duration": 0,
    "start_time": "2023-12-03T10:11:57.089Z"
   },
   {
    "duration": 0,
    "start_time": "2023-12-03T10:11:57.090Z"
   },
   {
    "duration": 1,
    "start_time": "2023-12-03T10:11:57.090Z"
   },
   {
    "duration": 0,
    "start_time": "2023-12-03T10:11:57.091Z"
   },
   {
    "duration": 0,
    "start_time": "2023-12-03T10:11:57.092Z"
   },
   {
    "duration": 0,
    "start_time": "2023-12-03T10:11:57.093Z"
   },
   {
    "duration": 0,
    "start_time": "2023-12-03T10:11:57.094Z"
   },
   {
    "duration": 0,
    "start_time": "2023-12-03T10:11:57.095Z"
   },
   {
    "duration": 0,
    "start_time": "2023-12-03T10:11:57.096Z"
   },
   {
    "duration": 0,
    "start_time": "2023-12-03T10:11:57.097Z"
   },
   {
    "duration": 0,
    "start_time": "2023-12-03T10:11:57.098Z"
   },
   {
    "duration": 0,
    "start_time": "2023-12-03T10:11:57.099Z"
   },
   {
    "duration": 0,
    "start_time": "2023-12-03T10:11:57.100Z"
   },
   {
    "duration": 0,
    "start_time": "2023-12-03T10:11:57.101Z"
   },
   {
    "duration": 0,
    "start_time": "2023-12-03T10:11:57.102Z"
   },
   {
    "duration": 0,
    "start_time": "2023-12-03T10:11:57.103Z"
   },
   {
    "duration": 0,
    "start_time": "2023-12-03T10:11:57.104Z"
   },
   {
    "duration": 0,
    "start_time": "2023-12-03T10:11:57.105Z"
   },
   {
    "duration": 0,
    "start_time": "2023-12-03T10:11:57.106Z"
   },
   {
    "duration": 0,
    "start_time": "2023-12-03T10:11:57.106Z"
   },
   {
    "duration": 0,
    "start_time": "2023-12-03T10:11:57.107Z"
   },
   {
    "duration": 0,
    "start_time": "2023-12-03T10:11:57.108Z"
   },
   {
    "duration": 0,
    "start_time": "2023-12-03T10:11:57.109Z"
   },
   {
    "duration": 0,
    "start_time": "2023-12-03T10:11:57.110Z"
   },
   {
    "duration": 0,
    "start_time": "2023-12-03T10:11:57.111Z"
   },
   {
    "duration": 0,
    "start_time": "2023-12-03T10:11:57.112Z"
   },
   {
    "duration": 0,
    "start_time": "2023-12-03T10:11:57.113Z"
   },
   {
    "duration": 0,
    "start_time": "2023-12-03T10:11:57.114Z"
   },
   {
    "duration": 3,
    "start_time": "2023-12-03T10:12:46.685Z"
   },
   {
    "duration": 1074,
    "start_time": "2023-12-03T10:12:56.592Z"
   },
   {
    "duration": 81,
    "start_time": "2023-12-03T10:12:57.667Z"
   },
   {
    "duration": 3,
    "start_time": "2023-12-03T10:12:57.749Z"
   },
   {
    "duration": 16,
    "start_time": "2023-12-03T10:12:57.754Z"
   },
   {
    "duration": 13,
    "start_time": "2023-12-03T10:12:57.771Z"
   },
   {
    "duration": 19,
    "start_time": "2023-12-03T10:12:57.785Z"
   },
   {
    "duration": 21,
    "start_time": "2023-12-03T10:12:57.805Z"
   },
   {
    "duration": 6,
    "start_time": "2023-12-03T10:12:57.828Z"
   },
   {
    "duration": 16,
    "start_time": "2023-12-03T10:12:57.835Z"
   },
   {
    "duration": 7,
    "start_time": "2023-12-03T10:12:57.874Z"
   },
   {
    "duration": 29,
    "start_time": "2023-12-03T10:12:57.883Z"
   },
   {
    "duration": 20,
    "start_time": "2023-12-03T10:12:57.913Z"
   },
   {
    "duration": 15,
    "start_time": "2023-12-03T10:12:57.934Z"
   },
   {
    "duration": 39,
    "start_time": "2023-12-03T10:12:57.950Z"
   },
   {
    "duration": 15,
    "start_time": "2023-12-03T10:12:57.990Z"
   },
   {
    "duration": 353,
    "start_time": "2023-12-03T10:12:58.006Z"
   },
   {
    "duration": 183,
    "start_time": "2023-12-03T10:12:58.361Z"
   },
   {
    "duration": 1500,
    "start_time": "2023-12-03T10:12:58.545Z"
   },
   {
    "duration": 27,
    "start_time": "2023-12-03T10:13:00.047Z"
   },
   {
    "duration": 208,
    "start_time": "2023-12-03T10:13:00.075Z"
   },
   {
    "duration": 7,
    "start_time": "2023-12-03T10:13:00.284Z"
   },
   {
    "duration": 606,
    "start_time": "2023-12-03T10:13:00.293Z"
   },
   {
    "duration": 290,
    "start_time": "2023-12-03T10:13:00.901Z"
   },
   {
    "duration": 288,
    "start_time": "2023-12-03T10:13:01.192Z"
   },
   {
    "duration": 14,
    "start_time": "2023-12-03T10:13:01.482Z"
   },
   {
    "duration": 37,
    "start_time": "2023-12-03T10:13:01.497Z"
   },
   {
    "duration": 59,
    "start_time": "2023-12-03T10:13:01.535Z"
   },
   {
    "duration": 1464,
    "start_time": "2023-12-03T10:13:01.597Z"
   },
   {
    "duration": 188,
    "start_time": "2023-12-03T10:13:03.062Z"
   },
   {
    "duration": 323,
    "start_time": "2023-12-03T10:13:03.251Z"
   },
   {
    "duration": 294,
    "start_time": "2023-12-03T10:13:03.576Z"
   },
   {
    "duration": 377,
    "start_time": "2023-12-03T10:13:03.872Z"
   },
   {
    "duration": 355,
    "start_time": "2023-12-03T10:13:04.251Z"
   },
   {
    "duration": 151,
    "start_time": "2023-12-03T10:13:04.607Z"
   },
   {
    "duration": 253,
    "start_time": "2023-12-03T10:13:04.760Z"
   },
   {
    "duration": 152,
    "start_time": "2023-12-03T10:13:05.015Z"
   },
   {
    "duration": 8,
    "start_time": "2023-12-03T10:13:05.173Z"
   },
   {
    "duration": 16,
    "start_time": "2023-12-03T10:13:05.182Z"
   },
   {
    "duration": 366,
    "start_time": "2023-12-03T16:55:37.373Z"
   },
   {
    "duration": 142,
    "start_time": "2023-12-03T17:41:20.113Z"
   },
   {
    "duration": 217,
    "start_time": "2023-12-03T17:41:55.688Z"
   },
   {
    "duration": 154,
    "start_time": "2023-12-03T17:42:19.672Z"
   },
   {
    "duration": 150,
    "start_time": "2023-12-03T17:43:08.863Z"
   },
   {
    "duration": 156,
    "start_time": "2023-12-03T17:43:48.887Z"
   },
   {
    "duration": 157,
    "start_time": "2023-12-03T17:43:53.782Z"
   },
   {
    "duration": 159,
    "start_time": "2023-12-03T17:44:01.438Z"
   },
   {
    "duration": 177,
    "start_time": "2023-12-03T17:44:13.973Z"
   },
   {
    "duration": 141,
    "start_time": "2023-12-03T17:44:28.684Z"
   },
   {
    "duration": 232,
    "start_time": "2023-12-03T17:44:34.428Z"
   },
   {
    "duration": 148,
    "start_time": "2023-12-03T17:44:40.838Z"
   },
   {
    "duration": 144,
    "start_time": "2023-12-03T17:44:47.515Z"
   },
   {
    "duration": 1276,
    "start_time": "2024-05-03T14:43:44.488Z"
   },
   {
    "duration": 224,
    "start_time": "2024-05-03T14:43:45.766Z"
   },
   {
    "duration": 4,
    "start_time": "2024-05-03T14:43:45.991Z"
   },
   {
    "duration": 38,
    "start_time": "2024-05-03T14:43:45.996Z"
   },
   {
    "duration": 30,
    "start_time": "2024-05-03T14:43:46.035Z"
   },
   {
    "duration": 45,
    "start_time": "2024-05-03T14:43:46.067Z"
   },
   {
    "duration": 22,
    "start_time": "2024-05-03T14:43:46.114Z"
   },
   {
    "duration": 15,
    "start_time": "2024-05-03T14:43:46.137Z"
   },
   {
    "duration": 45,
    "start_time": "2024-05-03T14:43:46.154Z"
   },
   {
    "duration": 29,
    "start_time": "2024-05-03T14:43:46.203Z"
   },
   {
    "duration": 44,
    "start_time": "2024-05-03T14:43:46.234Z"
   },
   {
    "duration": 28,
    "start_time": "2024-05-03T14:43:46.280Z"
   },
   {
    "duration": 18,
    "start_time": "2024-05-03T14:43:46.310Z"
   },
   {
    "duration": 25,
    "start_time": "2024-05-03T14:43:46.330Z"
   },
   {
    "duration": 21,
    "start_time": "2024-05-03T14:43:46.356Z"
   },
   {
    "duration": 407,
    "start_time": "2024-05-03T14:43:46.379Z"
   },
   {
    "duration": 187,
    "start_time": "2024-05-03T14:43:46.789Z"
   },
   {
    "duration": 1599,
    "start_time": "2024-05-03T14:43:46.977Z"
   },
   {
    "duration": 32,
    "start_time": "2024-05-03T14:43:48.578Z"
   },
   {
    "duration": 229,
    "start_time": "2024-05-03T14:43:48.611Z"
   },
   {
    "duration": 7,
    "start_time": "2024-05-03T14:43:48.842Z"
   },
   {
    "duration": 707,
    "start_time": "2024-05-03T14:43:48.850Z"
   },
   {
    "duration": 307,
    "start_time": "2024-05-03T14:43:49.559Z"
   },
   {
    "duration": 289,
    "start_time": "2024-05-03T14:43:49.868Z"
   },
   {
    "duration": 14,
    "start_time": "2024-05-03T14:43:50.159Z"
   },
   {
    "duration": 41,
    "start_time": "2024-05-03T14:43:50.174Z"
   },
   {
    "duration": 1435,
    "start_time": "2024-05-03T14:43:50.216Z"
   },
   {
    "duration": 187,
    "start_time": "2024-05-03T14:43:51.655Z"
   },
   {
    "duration": 308,
    "start_time": "2024-05-03T14:43:51.843Z"
   },
   {
    "duration": 304,
    "start_time": "2024-05-03T14:43:52.152Z"
   },
   {
    "duration": 369,
    "start_time": "2024-05-03T14:43:52.457Z"
   },
   {
    "duration": 362,
    "start_time": "2024-05-03T14:43:52.828Z"
   },
   {
    "duration": 159,
    "start_time": "2024-05-03T14:43:53.192Z"
   },
   {
    "duration": 287,
    "start_time": "2024-05-03T14:43:53.352Z"
   },
   {
    "duration": 153,
    "start_time": "2024-05-03T14:43:53.641Z"
   },
   {
    "duration": 10,
    "start_time": "2024-05-03T14:43:53.795Z"
   },
   {
    "duration": 12,
    "start_time": "2024-05-03T14:43:53.807Z"
   },
   {
    "duration": 19,
    "start_time": "2024-05-03T14:47:57.268Z"
   },
   {
    "duration": 19,
    "start_time": "2024-05-03T14:48:55.732Z"
   },
   {
    "duration": 1095,
    "start_time": "2024-05-03T14:49:12.760Z"
   },
   {
    "duration": 87,
    "start_time": "2024-05-03T14:49:13.857Z"
   },
   {
    "duration": 3,
    "start_time": "2024-05-03T14:49:13.946Z"
   },
   {
    "duration": 40,
    "start_time": "2024-05-03T14:49:13.950Z"
   },
   {
    "duration": 39,
    "start_time": "2024-05-03T14:49:13.992Z"
   },
   {
    "duration": 26,
    "start_time": "2024-05-03T14:49:14.033Z"
   },
   {
    "duration": 37,
    "start_time": "2024-05-03T14:49:14.060Z"
   },
   {
    "duration": 7,
    "start_time": "2024-05-03T14:49:14.099Z"
   },
   {
    "duration": 24,
    "start_time": "2024-05-03T14:49:14.107Z"
   },
   {
    "duration": 8,
    "start_time": "2024-05-03T14:49:14.134Z"
   },
   {
    "duration": 32,
    "start_time": "2024-05-03T14:49:14.144Z"
   },
   {
    "duration": 27,
    "start_time": "2024-05-03T14:49:14.178Z"
   },
   {
    "duration": 14,
    "start_time": "2024-05-03T14:49:14.207Z"
   },
   {
    "duration": 25,
    "start_time": "2024-05-03T14:49:14.223Z"
   },
   {
    "duration": 15,
    "start_time": "2024-05-03T14:49:14.250Z"
   },
   {
    "duration": 379,
    "start_time": "2024-05-03T14:49:14.266Z"
   },
   {
    "duration": 200,
    "start_time": "2024-05-03T14:49:14.646Z"
   },
   {
    "duration": 1649,
    "start_time": "2024-05-03T14:49:14.847Z"
   },
   {
    "duration": 23,
    "start_time": "2024-05-03T14:49:16.498Z"
   },
   {
    "duration": 216,
    "start_time": "2024-05-03T14:49:16.522Z"
   },
   {
    "duration": 7,
    "start_time": "2024-05-03T14:49:16.740Z"
   },
   {
    "duration": 648,
    "start_time": "2024-05-03T14:49:16.748Z"
   },
   {
    "duration": 313,
    "start_time": "2024-05-03T14:49:17.398Z"
   },
   {
    "duration": 311,
    "start_time": "2024-05-03T14:49:17.714Z"
   },
   {
    "duration": 15,
    "start_time": "2024-05-03T14:49:18.027Z"
   },
   {
    "duration": 40,
    "start_time": "2024-05-03T14:49:18.043Z"
   },
   {
    "duration": 1414,
    "start_time": "2024-05-03T14:49:18.085Z"
   },
   {
    "duration": 184,
    "start_time": "2024-05-03T14:49:19.502Z"
   },
   {
    "duration": 288,
    "start_time": "2024-05-03T14:49:19.693Z"
   },
   {
    "duration": 311,
    "start_time": "2024-05-03T14:49:19.983Z"
   },
   {
    "duration": 387,
    "start_time": "2024-05-03T14:49:20.295Z"
   },
   {
    "duration": 361,
    "start_time": "2024-05-03T14:49:20.684Z"
   },
   {
    "duration": 153,
    "start_time": "2024-05-03T14:49:21.047Z"
   },
   {
    "duration": 272,
    "start_time": "2024-05-03T14:49:21.202Z"
   },
   {
    "duration": 150,
    "start_time": "2024-05-03T14:49:21.475Z"
   },
   {
    "duration": 7,
    "start_time": "2024-05-03T14:49:21.627Z"
   },
   {
    "duration": 39,
    "start_time": "2024-05-03T14:49:21.636Z"
   }
  ],
  "kernelspec": {
   "display_name": "Python 3 (ipykernel)",
   "language": "python",
   "name": "python3"
  },
  "language_info": {
   "codemirror_mode": {
    "name": "ipython",
    "version": 3
   },
   "file_extension": ".py",
   "mimetype": "text/x-python",
   "name": "python",
   "nbconvert_exporter": "python",
   "pygments_lexer": "ipython3",
   "version": "3.9.5"
  },
  "toc": {
   "base_numbering": 1,
   "nav_menu": {
    "height": "186px",
    "width": "466px"
   },
   "number_sections": true,
   "sideBar": true,
   "skip_h1_title": true,
   "title_cell": "Table of Contents",
   "title_sidebar": "Contents",
   "toc_cell": false,
   "toc_position": {},
   "toc_section_display": true,
   "toc_window_display": false
  }
 },
 "nbformat": 4,
 "nbformat_minor": 2
}
